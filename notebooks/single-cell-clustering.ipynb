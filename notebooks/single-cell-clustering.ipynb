{
 "cells": [
  {
   "cell_type": "code",
   "execution_count": null,
   "metadata": {},
   "outputs": [],
   "source": [
    "import numpy as np\n",
    "import anndata as ad\n",
    "import scanpy as sc\n",
    "import pandas as pd\n",
    "import matplotlib.pyplot as plt\n",
    "from pathlib import Path\n",
    "\n",
    "import os\n",
    "os.chdir('/lustre/scratch/kiviaho/prostate_spatial/')\n",
    "\n",
    "from scripts.utils import load_from_pickle, save_to_pickle\n",
    "import warnings\n",
    "warnings.filterwarnings('ignore')\n",
    "\n"
   ]
  },
  {
   "attachments": {},
   "cell_type": "markdown",
   "metadata": {},
   "source": [
    "## Annotating single-cell datasets using marker genes\n",
    "In this section we download a dictionary object with quality controlled\n",
    "and normalized single-cell datasets. We can cluster these datasets individually\n",
    "to identify cell type clusters using marker genes."
   ]
  },
  {
   "cell_type": "code",
   "execution_count": null,
   "metadata": {},
   "outputs": [],
   "source": [
    "random_seed = 745634\n",
    "figwidth = 8\n",
    "figheight = 6\n",
    "\n",
    "sc.set_figure_params(figsize=(figwidth,figheight),dpi=120)\n",
    "\n",
    "def do_processing(adata):\n",
    "    sc.pp.highly_variable_genes(adata,n_top_genes=2000)\n",
    "    sc.pp.pca(adata,n_comps=20)\n",
    "    sc.pp.neighbors(adata, random_state=random_seed)\n",
    "    sc.tl.umap(adata,random_state=random_seed)\n",
    "    sc.tl.leiden(adata, key_added=\"clusters\",resolution=0.5)\n",
    "    return(adata)\n",
    "\n",
    "def drop_missing_markers(marker_list,missing_vals):\n",
    "    for v in marker_list.values():\n",
    "        for miss in missing_vals:\n",
    "            if (miss) in v:\n",
    "                v.remove((miss))\n",
    "    return marker_list\n",
    "\n",
    "# define a custom function to combine the columns based on a condition\n",
    "def combine_phenotype_epithelial(row):\n",
    "    if row['broad_celltypes'] == 'Epithelial':\n",
    "        return row['phenotype'] + '_' + row['broad_celltypes']\n",
    "    else:\n",
    "        return row['broad_celltypes']"
   ]
  },
  {
   "attachments": {},
   "cell_type": "markdown",
   "metadata": {},
   "source": [
    "#### Marker genes"
   ]
  },
  {
   "cell_type": "code",
   "execution_count": null,
   "metadata": {},
   "outputs": [],
   "source": [
    "\"\"\" marker_genes_chen = {'Fibroblast':'ACTA2',\n",
    "                    'Endothelial':['PECAM1','VWF','ENG'],\n",
    "                    'Mast':['CMA1','MS4A2','TPSAB1','TPSB2'],\n",
    "                    'Epithelial':['AR','KRT19','KRT18','KRT8','TP63','KRT14','KRT5'],\n",
    "                    'Monocytic':['LYZ','FCGR3A','CSF1R','CD68','CD163','CD14','UCHL1','HAVCR2'],\n",
    "                    'T_cell':['PDCD1','CTLA4','CD8A','SELL','PTPRC','CD4','BTLA','IL2RA','IL7R','CCR7','CD28','CD27','SLAMF1','DPP4','CD7','CD2','CD3G','CD3E','CD3D']} \"\"\"\n",
    "\n",
    "# This is a set of marker genes that is a combination of markers from Chen et al. 2020 and Hirz et al. 2020\n",
    "# 'Fibroblast':['DCN','LUM','PTN','IGF1','APOD','COL1A2','FBLN1','MEG3','CXCL12'],\n",
    "\n",
    "# These do not make a difference\n",
    "#'mDC':['CD1C','PKIB','INSIG1','CLEC10A','C15orf48','PPA1'],\n",
    "#'pDC':['IRF7','IRF4','LILRA4','PPP1R14B','SOX4','TSPAN13','KIAA0226','PTCRA','RAB11FIP1','CXCR3''IL3RA'],\n",
    "#'Plasma_cell':['SEC11C','XBP1','PRDX4','SPCS2','SSR3','SDF2L1','C19orf10','MANF','TMEM258','DNAJB9']\n",
    "\n",
    "\n",
    "\"\"\" broad_marker_genes_epithelial_split = {'Fibroblast':['DCN','LUM','IGF1','APOD','COL1A2','FBLN1'],\n",
    "                    'Myofibroblast':['RGS5','ACTA2','MYH11','FRZB','NDUFA4L2','PPP1R14A','MYLK'],\n",
    "                    'Endothelial':['VWF','ENG','CLDN5'],\n",
    "                    'Epithelial':['ACPP','AR','KLK3','KLK4','KRT19','KRT18','KRT8'],\n",
    "                    'Basal/intermediate':['TP63','KRT14','KRT5'],\n",
    "                    'Mast':['MS4A2','TPSAB1','CPA3'],\n",
    "                    'Monocyte':['LYZ','FCGR3A','CSF1R','CD68','CD163','CD14','C1QA','C1QC','C1QB','GPR34','MS4A4A'],\n",
    "                    'T_cell':['PTPRC','CD4','IL7R','CCR7','DPP4','CD7','CD2','CD3G','CD3E','CD3D'],\n",
    "                    'B_cell':['MS4A1','CD79A','CD79B','CD19','VPREB3','BANK1']}\n",
    "\n",
    "broad_marker_genes = {'Epithelial':['ACPP','AR','KLK3','KLK4','KRT19','KRT18','KRT8','TP63','KRT14','KRT5'],\n",
    "                    'Fibroblast':['DCN','LUM','IGF1','APOD','COL1A2','FBLN1'],\n",
    "                    'Myofibroblast':['RGS5','ACTA2','MYH11','FRZB','NDUFA4L2','PPP1R14A','MYLK'],\n",
    "                    'Endothelial':['VWF','ENG','CLDN5'],\n",
    "                    'Mast':['MS4A2','TPSAB1','CPA3'],\n",
    "                    'Monocyte':['LYZ','FCGR3A','CSF1R','CD68','CD163','CD14','C1QA','C1QC','C1QB','GPR34','MS4A4A'],\n",
    "                    'T_cell':['PTPRC','CD4','IL7R','CCR7','DPP4','CD7','CD2','CD3G','CD3E','CD3D'],\n",
    "                    'B_cell':['MS4A1','CD79A','CD79B','CD19','VPREB3','BANK1']} \"\"\"\n",
    "\n",
    "\n",
    "# These have been copy-pasted from the excel table that has a combination of genes from publications\n",
    "refined_markers = {'Epithelial':['KRT5','KRT7','KRT19','MMP7','EPCAM','PRAC1','HOXB13','LRRC26','SPDEF','NKX3-1',\n",
    "                                 'KLK3','FOLH1','SCHLAP1','PLA2G2A','MSMB','CETN2','ZMYND10','EPCAM','PCA3','KLK3',\n",
    "                                 'KRT18','KRT8','ACPP','MSMB','S100P','SCGB3A1','SCGB1A1','SLC4A4','CLDN3','SAA1',\n",
    "                                 'SAA2','KRT17','S100A2','ACPP','KLK3','MSMB','KLK2','NEFH','AZGP1','RDH11','PLA2G2A',\n",
    "                                 'TMPRSS2','NKX3-1','AR','KRT19','KRT18','KRT8','TP63','KRT14','KRT5','DPP4'],\n",
    "                    'Endothelial':['ACKR1','CCL14','PECAM1','IFI27','CLEC14A','ENPP2','DEPP1','RAMP2','VWF',\n",
    "                                   'IF127','RNASE1','ACKR1','TM4SF1','VWF','SELE','IFI27','FLT1','SPARCL1',\n",
    "                                   'SDPR','PTPRB','DARC','PLVAP','A2M','PECAM1','VWF','ENG'],\n",
    "                    'Fibroblast':['LUM','DCN','IGF1','DCN','LUM','MGP','DCN','PTGDS','APOD',\n",
    "                                  'STC1','AREG','DCN','FBLN1','COL1A2','IGF1','C7','IGFBP5','CCDC80','CFD','LTBP4','SFRP1','ACTA2'],\n",
    "                    'SMC':['RGS5','ACTA2','TAGLN','BGN','RGS5','MT1M','ACTA2','ACTG2','DES','RGS5','NDUFA4L2','RERGL','MYH11','RGS5',\n",
    "                           'ACTA2','TAGLN','MYL9','MYLK','C11orf96','MCAM','CALD1','LMOD1'],\n",
    "                    'Mast':['KIT','TPSB2','TPSAB1','CPA3','TPSAB1','CPA3','CPA3','TPSAB1','KIT',\n",
    "                            'VWA5A','IL1RL1','CTSG','SLC18A2','ACSL4','MS4A2','GATA2','CMA1','MS4A2','TPSAB1','TPSB2'],\n",
    "                    'T cell':['CD3D','CD3E','CD3G','CD8A','CD8B','IL7R','CD2','CCL5','IFNG','CD8B','CD8A','SMC4','MK167',\n",
    "                              'CTLA4','IL2RA','FOXP3','CD3D','CCL5','CD69','IL7R','TRBC2','CCL5','IFNG','CD8A','CXCR4',\n",
    "                              'PTPRC','ETS1','CCL4','CD69','PDCD1','CTLA4','CD8A','SELL','PTPRC','BTLA','IL2RA','IL7R',\n",
    "                              'CCR7','CD28','CD27','SLAMF1','CD7','CD2','CD3G','CD3E','CD3D'],\n",
    "                        'B cell':['CD79A','MS4A1','MS4A1','CD79B','IGJ','MZB1','XBP1','TPSB2',\n",
    "                                  'TPSAB1','IGKC','IGHA1','IGJ','IGHA2','AC096579.7','MZB1',\n",
    "                                  'IGHG3','SLAMF7','IGHG4','IGHG1','MS4A1','IGHM','CXCR5','CD79A','CD22','BANK1','LY9','CCR7','IRF8','CD83'],\n",
    "                        'Myeloid':['CD4','C1QA','C1QB','AIF1','CD68','LYZ','IL1B','FCN1','S100A12','C1QC','C1QA','S100A9','S100A8','LYZ',\n",
    "                                   'HLA-DPB1','HLA-DRA','IL1B','HLA-DRA','HLA-DPA1','HLA-DPB1','HLA-DRB1','CD74','IL8','HLA-DQA1','IF130',\n",
    "                                   'LYZ','LYZ','FCGR3A','CSF1R','CD68','CD163','CD14','UCHL1','HAVCR2','CD4'],\n",
    "                        'Neuronal':['PLP1','MPZ','S100A8','MT1H'],\n",
    "                        'Dendritic':['IRF7','IRF4','FCER1A','CD1C']  \n",
    "                                 }\n",
    "\n",
    "# Modify the list of markers to \n",
    "# 1) be sorted according to the number of publications a marker is present in\n",
    "# 2) not contain any duplicates\n",
    "for k in refined_markers.keys():\n",
    "    refined_markers[k] = list(pd.Series(refined_markers[k]).value_counts().index)\n"
   ]
  },
  {
   "cell_type": "code",
   "execution_count": null,
   "metadata": {},
   "outputs": [],
   "source": [
    "# Loading the data\n",
    "adata_dict = load_from_pickle('normalized_sc_7_datasets.pickle')\n",
    "adata_dict.keys()\n",
    "datasets = list(adata_dict.keys())"
   ]
  },
  {
   "attachments": {},
   "cell_type": "markdown",
   "metadata": {},
   "source": [
    "### Dong et al. 2020"
   ]
  },
  {
   "cell_type": "code",
   "execution_count": null,
   "metadata": {},
   "outputs": [],
   "source": [
    "adata = adata_dict['dong_2020'].copy()\n",
    "adata = do_processing(adata)\n"
   ]
  },
  {
   "cell_type": "code",
   "execution_count": null,
   "metadata": {},
   "outputs": [],
   "source": [
    "refined_markers = drop_missing_markers(refined_markers,['AC096579.7', 'DARC', 'IF127', 'IF130', 'IGJ', 'IL8', 'MK167'])\n",
    "sc.tl.dendrogram(adata,groupby='clusters')\n",
    "sc.pl.dotplot(adata,refined_markers,groupby='clusters',layer='counts',dendrogram=True, log=True)"
   ]
  },
  {
   "cell_type": "code",
   "execution_count": null,
   "metadata": {},
   "outputs": [],
   "source": [
    "# Modify the labels according to the dotplot\n",
    "broad_celltypes = adata.obs['clusters'].copy()\n",
    "\n",
    "broad_celltypes = broad_celltypes.replace(['1','0','13','7','8','10','12'],'Epithelial')\n",
    "broad_celltypes = broad_celltypes.replace(['9'],'Endothelial')\n",
    "broad_celltypes = broad_celltypes.replace(['3'],'Fibroblast')\n",
    "broad_celltypes = broad_celltypes.replace(['5'],'SMC')\n",
    "broad_celltypes = broad_celltypes.replace(['11'],'Mast')\n",
    "broad_celltypes = broad_celltypes.replace(['2'],'T cell')\n",
    "broad_celltypes = broad_celltypes.replace(['14','16'],'B cell')\n",
    "broad_celltypes = broad_celltypes.replace(['15','6'],'Myeloid')\n",
    "broad_celltypes = broad_celltypes.replace(['4'],'Epi_Endothelial_dong2020')\n",
    "\n",
    "\n",
    "# Add the phenotype to distinguish between healthy / malignant epithelial cell populations\n",
    "df = adata.obs.copy()\n",
    "df['broad_celltypes'] = df.apply(combine_phenotype_epithelial, axis=1)\n",
    "if (df.index == adata.obs.index).all():\n",
    "    adata.obs = df\n",
    "\n",
    "\n",
    "\n",
    "adata.obs['broad_celltypes'] = broad_celltypes\n",
    "sc.set_figure_params(figsize=(figwidth,figheight),dpi=120)\n",
    "sc.pl.umap(adata,color=['broad_celltypes','sample'],size=10)\n",
    "sc.tl.dendrogram(adata,groupby='broad_celltypes')\n",
    "sc.pl.dotplot(adata,refined_markers,groupby='broad_celltypes',layer='counts',dendrogram=True, log=True)\n"
   ]
  },
  {
   "cell_type": "code",
   "execution_count": null,
   "metadata": {},
   "outputs": [],
   "source": [
    "if (adata.obs_names == adata_dict['dong_2020'].obs_names).all():\n",
    "    print('Adding broad cell type annotations...')\n",
    "    adata_dict['dong_2020'].obs = adata.obs.copy()"
   ]
  },
  {
   "attachments": {},
   "cell_type": "markdown",
   "metadata": {},
   "source": [
    "### Chen et al. 2021"
   ]
  },
  {
   "cell_type": "code",
   "execution_count": null,
   "metadata": {},
   "outputs": [],
   "source": [
    "adata = adata_dict['chen_2021'].copy()\n",
    "adata = do_processing(adata)\n",
    "\n",
    "refined_markers = drop_missing_markers(refined_markers,['DEPP1'])\n",
    "sc.tl.dendrogram(adata,groupby='clusters')\n",
    "sc.pl.dotplot(adata,refined_markers,groupby='clusters',layer='counts',dendrogram=True, log=True)"
   ]
  },
  {
   "cell_type": "code",
   "execution_count": null,
   "metadata": {},
   "outputs": [],
   "source": [
    "# Modify the labels according to the dotplot\n",
    "broad_celltypes = adata.obs['clusters'].copy()\n",
    "\n",
    "broad_celltypes = broad_celltypes.replace(['0','1','3','17','5','12','13','6','7','9','16'],'Epithelial')\n",
    "broad_celltypes = broad_celltypes.replace(['4','15'],'Endothelial')\n",
    "broad_celltypes = broad_celltypes.replace([],'Fibroblast')\n",
    "broad_celltypes = broad_celltypes.replace(['10'],'SMC')\n",
    "broad_celltypes = broad_celltypes.replace(['11'],'Mast')\n",
    "broad_celltypes = broad_celltypes.replace(['2'],'T cell')\n",
    "broad_celltypes = broad_celltypes.replace(['14'],'B cell')\n",
    "broad_celltypes = broad_celltypes.replace(['8'],'Myeloid')\n",
    "broad_celltypes = broad_celltypes.replace([],'Neuronal')\n",
    "broad_celltypes = broad_celltypes.replace([],'Dendritic')\n",
    "\n",
    "\n",
    "adata.obs['broad_celltypes'] = broad_celltypes\n",
    "\n",
    "\n",
    "# Add the phenotype to distinguish between healthy / malignant epithelial cell populations\n",
    "df = adata.obs.copy()\n",
    "df['broad_celltypes'] = df.apply(combine_phenotype_epithelial, axis=1)\n",
    "if (df.index == adata.obs.index).all():\n",
    "    adata.obs = df\n",
    "\n",
    "sc.pl.umap(adata,color=['broad_celltypes','sample'],size=10)\n",
    "sc.tl.dendrogram(adata,groupby='broad_celltypes')\n",
    "sc.pl.dotplot(adata,refined_markers,groupby='broad_celltypes',layer='counts',dendrogram=True, log=True)"
   ]
  },
  {
   "cell_type": "code",
   "execution_count": null,
   "metadata": {},
   "outputs": [],
   "source": [
    "if (adata.obs_names == adata_dict['chen_2021'].obs_names).all():\n",
    "    print('Adding broad cell type annotations...')\n",
    "    adata_dict['chen_2021'].obs = adata.obs.copy()"
   ]
  },
  {
   "attachments": {},
   "cell_type": "markdown",
   "metadata": {},
   "source": [
    "### Song et al. 2022"
   ]
  },
  {
   "cell_type": "code",
   "execution_count": null,
   "metadata": {},
   "outputs": [],
   "source": [
    "adata = adata_dict['song_2022'].copy()\n",
    "adata = do_processing(adata)\n",
    "\n",
    "refined_markers = drop_missing_markers(refined_markers,['ACKR1', 'PECAM1', 'SCHLAP1', 'TPSB2'])\n",
    "sc.tl.dendrogram(adata,groupby='clusters')\n",
    "sc.pl.dotplot(adata,refined_markers,groupby='clusters',layer='counts',dendrogram=True, log=True)\n"
   ]
  },
  {
   "cell_type": "code",
   "execution_count": null,
   "metadata": {},
   "outputs": [],
   "source": [
    "# Modify the labels according to the dotplot\n",
    "broad_celltypes = adata.obs['clusters'].copy()\n",
    "\n",
    "broad_celltypes = broad_celltypes.replace(['11','0','8','13','3','5','12','4','6'],'Epithelial')\n",
    "broad_celltypes = broad_celltypes.replace(['7'],'Endothelial')\n",
    "broad_celltypes = broad_celltypes.replace(['10'],'Fibroblast')\n",
    "broad_celltypes = broad_celltypes.replace(['9'],'SMC')\n",
    "broad_celltypes = broad_celltypes.replace(['15'],'Mast')\n",
    "broad_celltypes = broad_celltypes.replace(['1'],'T cell')\n",
    "broad_celltypes = broad_celltypes.replace(['16'],'B cell')\n",
    "broad_celltypes = broad_celltypes.replace(['2','14'],'Myeloid')\n",
    "broad_celltypes = broad_celltypes.replace([],'Neuronal')\n",
    "broad_celltypes = broad_celltypes.replace([],'Dendritic')\n",
    "\n",
    "\n",
    "adata.obs['broad_celltypes'] = broad_celltypes\n",
    "# Add the phenotype to distinguish between healthy / malignant epithelial cell populations\n",
    "df = adata.obs.copy()\n",
    "df['broad_celltypes'] = df.apply(combine_phenotype_epithelial, axis=1)\n",
    "if (df.index == adata.obs.index).all():\n",
    "    adata.obs = df\n",
    "\n",
    "sc.pl.umap(adata,color=['broad_celltypes','sample'],size=10)\n",
    "sc.tl.dendrogram(adata,groupby='broad_celltypes')\n",
    "sc.pl.dotplot(adata,refined_markers,groupby='broad_celltypes',layer='counts',dendrogram=True, log=True)"
   ]
  },
  {
   "cell_type": "code",
   "execution_count": null,
   "metadata": {},
   "outputs": [],
   "source": [
    "if (adata.obs_names == adata_dict['song_2022'].obs_names).all():\n",
    "    print('Adding broad cell type annotations...')\n",
    "    adata_dict['song_2022'].obs = adata.obs.copy()"
   ]
  },
  {
   "attachments": {},
   "cell_type": "markdown",
   "metadata": {},
   "source": [
    "## Cheng et al. 2022"
   ]
  },
  {
   "cell_type": "code",
   "execution_count": null,
   "metadata": {},
   "outputs": [],
   "source": [
    "adata = adata_dict['cheng_2022'].copy()\n",
    "adata = do_processing(adata)\n",
    "\n",
    "refined_markers = drop_missing_markers(refined_markers,['CD1C', 'CMA1', 'CTSG', 'FCER1A', 'MS4A1', 'SDPR'])\n",
    "sc.tl.dendrogram(adata,groupby='clusters')\n",
    "sc.pl.dotplot(adata,refined_markers,groupby='clusters',layer='counts',dendrogram=True, log=True)\n"
   ]
  },
  {
   "cell_type": "code",
   "execution_count": null,
   "metadata": {},
   "outputs": [],
   "source": [
    "# Modify the labels according to the dotplot\n",
    "broad_celltypes = adata.obs['clusters'].copy()\n",
    "\n",
    "broad_celltypes = broad_celltypes.replace(['4','0','5','3','10','6','9','1','2','8','11'],'Epithelial')\n",
    "broad_celltypes = broad_celltypes.replace([],'Endothelial')\n",
    "broad_celltypes = broad_celltypes.replace(['12'],'Fibroblast')\n",
    "broad_celltypes = broad_celltypes.replace([],'SMC')\n",
    "broad_celltypes = broad_celltypes.replace([],'Mast')\n",
    "broad_celltypes = broad_celltypes.replace(['15'],'T cell')\n",
    "broad_celltypes = broad_celltypes.replace([],'B cell')\n",
    "broad_celltypes = broad_celltypes.replace(['13'],'Myeloid')\n",
    "broad_celltypes = broad_celltypes.replace([],'Neuronal')\n",
    "broad_celltypes = broad_celltypes.replace([],'Dendritic')\n",
    "broad_celltypes = broad_celltypes.replace(['7','14'],'Epi_Endothelial_cheng2022')\n",
    "\n",
    "adata.obs['broad_celltypes'] = broad_celltypes\n",
    "# Add the phenotype to distinguish between healthy / malignant epithelial cell populations\n",
    "df = adata.obs.copy()\n",
    "df['broad_celltypes'] = df.apply(combine_phenotype_epithelial, axis=1)\n",
    "if (df.index == adata.obs.index).all():\n",
    "    adata.obs = df\n",
    "\n",
    "\n",
    "sc.pl.umap(adata,color=['broad_celltypes','sample'],size=10)\n",
    "sc.tl.dendrogram(adata,groupby='broad_celltypes')\n",
    "sc.pl.dotplot(adata,refined_markers,groupby='broad_celltypes',layer='counts',dendrogram=True, log=True)"
   ]
  },
  {
   "cell_type": "code",
   "execution_count": null,
   "metadata": {},
   "outputs": [],
   "source": [
    "if (adata.obs_names == adata_dict['cheng_2022'].obs_names).all():\n",
    "    print('Adding broad cell type annotations...')\n",
    "    adata_dict['cheng_2022'].obs = adata.obs.copy()"
   ]
  },
  {
   "attachments": {},
   "cell_type": "markdown",
   "metadata": {},
   "source": [
    "## Chen (Gonghong) et al. 2022"
   ]
  },
  {
   "cell_type": "code",
   "execution_count": null,
   "metadata": {},
   "outputs": [],
   "source": [
    "adata = adata_dict['chen_2022'].copy()\n",
    "adata = do_processing(adata)\n",
    "\n",
    "refined_markers = drop_missing_markers(refined_markers,['AC096579.7', 'DARC', 'IF127', 'IF130', 'IGJ', 'IL8', 'MK167', 'SDPR'])\n",
    "\n",
    "sc.tl.dendrogram(adata,groupby='clusters')\n",
    "sc.pl.dotplot(adata,refined_markers,groupby='clusters',layer='counts',dendrogram=True, log=True)\n"
   ]
  },
  {
   "cell_type": "code",
   "execution_count": null,
   "metadata": {},
   "outputs": [],
   "source": [
    "# Modify the labels according to the dotplot\n",
    "broad_celltypes = adata.obs['clusters'].copy()\n",
    "\n",
    "broad_celltypes = broad_celltypes.replace(['11','0','3','4','7'],'Epithelial')\n",
    "broad_celltypes = broad_celltypes.replace(['13','6','10'],'Endothelial')\n",
    "broad_celltypes = broad_celltypes.replace(['5','12'],'Fibroblast')\n",
    "broad_celltypes = broad_celltypes.replace(['2','8'],'SMC')\n",
    "broad_celltypes = broad_celltypes.replace(['14'],'Mast')\n",
    "broad_celltypes = broad_celltypes.replace(['1'],'T cell')\n",
    "broad_celltypes = broad_celltypes.replace(['16'],'B cell')\n",
    "broad_celltypes = broad_celltypes.replace(['15','9'],'Myeloid')\n",
    "broad_celltypes = broad_celltypes.replace([],'Neuronal')\n",
    "broad_celltypes = broad_celltypes.replace([],'Dendritic')\n",
    "\n",
    "adata.obs['broad_celltypes'] = broad_celltypes\n",
    "# Add the phenotype to distinguish between healthy / malignant epithelial cell populations\n",
    "df = adata.obs.copy()\n",
    "df['broad_celltypes'] = df.apply(combine_phenotype_epithelial, axis=1)\n",
    "if (df.index == adata.obs.index).all():\n",
    "    adata.obs = df\n",
    "\n",
    "\n",
    "sc.pl.umap(adata,color=['broad_celltypes','sample'],size=10)\n",
    "sc.tl.dendrogram(adata,groupby='broad_celltypes')\n",
    "sc.pl.dotplot(adata,refined_markers,groupby='broad_celltypes',layer='counts',dendrogram=True, log=True)"
   ]
  },
  {
   "cell_type": "code",
   "execution_count": null,
   "metadata": {},
   "outputs": [],
   "source": [
    "if (adata.obs_names == adata_dict['chen_2022'].obs_names).all():\n",
    "    print('Adding broad cell type annotations...')\n",
    "    adata_dict['chen_2022'].obs = adata.obs.copy()"
   ]
  },
  {
   "attachments": {},
   "cell_type": "markdown",
   "metadata": {},
   "source": [
    "# Wong et al. 2022"
   ]
  },
  {
   "cell_type": "code",
   "execution_count": null,
   "metadata": {},
   "outputs": [],
   "source": [
    "adata = adata_dict['wong_2022'].copy()\n",
    "adata = do_processing(adata)\n",
    "sc.tl.dendrogram(adata,groupby='clusters')\n",
    "\n",
    "refined_markers = drop_missing_markers(refined_markers,['AC096579.7', 'C11orf96', 'DARC', 'IF127', 'IF130', 'IGJ', 'IL8', 'MK167', 'SDPR'])\n",
    "sc.pl.dotplot(adata,refined_markers,groupby='clusters',layer='counts',dendrogram=True, log=True)\n"
   ]
  },
  {
   "cell_type": "code",
   "execution_count": null,
   "metadata": {},
   "outputs": [],
   "source": [
    "\n",
    "# Modify the labels according to the dotplot\n",
    "broad_celltypes = adata.obs['clusters'].copy()\n",
    "\n",
    "broad_celltypes = broad_celltypes.replace(['8','3','14','4','7'],'Epithelial')\n",
    "broad_celltypes = broad_celltypes.replace(['2'],'Endothelial')\n",
    "broad_celltypes = broad_celltypes.replace(['13'],'Fibroblast')\n",
    "broad_celltypes = broad_celltypes.replace(['10'],'SMC')\n",
    "broad_celltypes = broad_celltypes.replace(['12'],'Mast')\n",
    "broad_celltypes = broad_celltypes.replace(['0','1','9'],'T cell')\n",
    "broad_celltypes = broad_celltypes.replace(['5'],'B cell')\n",
    "broad_celltypes = broad_celltypes.replace(['6','11'],'Myeloid')\n",
    "broad_celltypes = broad_celltypes.replace([],'Neuronal')\n",
    "broad_celltypes = broad_celltypes.replace([],'Dendritic')\n",
    "\n",
    "adata.obs['broad_celltypes'] = broad_celltypes\n",
    "# Add the phenotype to distinguish between healthy / malignant epithelial cell populations\n",
    "df = adata.obs.copy()\n",
    "df['broad_celltypes'] = df.apply(combine_phenotype_epithelial, axis=1)\n",
    "if (df.index == adata.obs.index).all():\n",
    "    adata.obs = df\n",
    "\n",
    "\n",
    "sc.pl.umap(adata,color=['broad_celltypes','sample'],size=10)\n",
    "sc.tl.dendrogram(adata,groupby='broad_celltypes')\n",
    "sc.pl.dotplot(adata,refined_markers,groupby='broad_celltypes',layer='counts',dendrogram=True, log=True)"
   ]
  },
  {
   "cell_type": "code",
   "execution_count": null,
   "metadata": {},
   "outputs": [],
   "source": [
    "if (adata.obs_names == adata_dict['wong_2022'].obs_names).all():\n",
    "    print('Adding broad cell type annotations...')\n",
    "    adata_dict['wong_2022'].obs = adata.obs.copy()"
   ]
  },
  {
   "cell_type": "markdown",
   "metadata": {},
   "source": [
    "# Hirz et al. 2023"
   ]
  },
  {
   "cell_type": "code",
   "execution_count": null,
   "metadata": {},
   "outputs": [],
   "source": [
    "\"\"\" adata = adata_dict['hirz_2023'].copy()\n",
    "adata = do_processing(adata)\n",
    " \"\"\"\n",
    "sc.tl.dendrogram(adata,groupby='clusters')\n",
    "refined_markers = drop_missing_markers(refined_markers,['AC096579.7', 'ACKR1', 'DEPP1', 'IF127', 'IF130', 'IGHA1', 'IGHA2', 'IGHG1', 'IGHG3', 'IGHG4', 'IGHM', 'IGKC', 'MK167', 'PECAM1', 'SCHLAP1', 'TPSB2', 'TRBC2'])\n",
    "sc.pl.dotplot(adata,refined_markers,groupby='clusters',layer='counts',dendrogram=True, log=True)\n"
   ]
  },
  {
   "cell_type": "code",
   "execution_count": null,
   "metadata": {},
   "outputs": [],
   "source": [
    "\n",
    "# Modify the labels according to the dotplot\n",
    "broad_celltypes = adata.obs['clusters'].copy()\n",
    "\n",
    "broad_celltypes = broad_celltypes.replace(['9','11','13'],'Epithelial')\n",
    "broad_celltypes = broad_celltypes.replace(['8'],'Endothelial')\n",
    "broad_celltypes = broad_celltypes.replace([],'Fibroblast')\n",
    "broad_celltypes = broad_celltypes.replace(['6'],'SMC')\n",
    "broad_celltypes = broad_celltypes.replace(['10'],'Mast')\n",
    "broad_celltypes = broad_celltypes.replace(['4','0','14','3','16','1','2'],'T cell')\n",
    "broad_celltypes = broad_celltypes.replace(['15'],'B cell')\n",
    "broad_celltypes = broad_celltypes.replace(['5','12','7','3','16','1','2'],'Myeloid')\n",
    "broad_celltypes = broad_celltypes.replace([],'Neuronal')\n",
    "broad_celltypes = broad_celltypes.replace([],'Dendritic')\n",
    "\n",
    "adata.obs['broad_celltypes'] = broad_celltypes\n",
    "# Add the phenotype to distinguish between healthy / malignant epithelial cell populations\n",
    "df = adata.obs.copy()\n",
    "df['broad_celltypes'] = df.apply(combine_phenotype_epithelial, axis=1)\n",
    "if (df.index == adata.obs.index).all():\n",
    "    adata.obs = df\n",
    "\n",
    "sc.pl.umap(adata,color=['broad_celltypes','sample'],size=10)\n",
    "sc.tl.dendrogram(adata,groupby='broad_celltypes')\n",
    "sc.pl.dotplot(adata,refined_markers,groupby='broad_celltypes',layer='counts',dendrogram=True, log=True)"
   ]
  },
  {
   "cell_type": "code",
   "execution_count": null,
   "metadata": {},
   "outputs": [],
   "source": [
    "if (adata.obs_names == adata_dict['hirz_2023'].obs_names).all():\n",
    "    print('Adding broad cell type annotations...')\n",
    "    adata_dict['hirz_2023'].obs = adata.obs.copy()"
   ]
  },
  {
   "cell_type": "code",
   "execution_count": null,
   "metadata": {},
   "outputs": [],
   "source": [
    "adata_dict"
   ]
  },
  {
   "cell_type": "code",
   "execution_count": null,
   "metadata": {},
   "outputs": [],
   "source": [
    "save_to_pickle(adata_dict,'normalized_sc_7_datasets_with_annot.pickle')"
   ]
  },
  {
   "cell_type": "code",
   "execution_count": null,
   "metadata": {},
   "outputs": [],
   "source": []
  }
 ],
 "metadata": {
  "kernelspec": {
   "display_name": "Python 3 (ipykernel)",
   "language": "python",
   "name": "python3"
  },
  "language_info": {
   "codemirror_mode": {
    "name": "ipython",
    "version": 3
   },
   "file_extension": ".py",
   "mimetype": "text/x-python",
   "name": "python",
   "nbconvert_exporter": "python",
   "pygments_lexer": "ipython3",
   "version": "3.7.12"
  },
  "orig_nbformat": 4
 },
 "nbformat": 4,
 "nbformat_minor": 2
}
