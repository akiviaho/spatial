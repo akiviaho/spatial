{
 "cells": [
  {
   "cell_type": "code",
   "execution_count": null,
   "metadata": {},
   "outputs": [],
   "source": [
    "import os\n",
    "os.chdir('/lustre/scratch/kiviaho/prostate_spatial')\n",
    "\n",
    "import numpy as np\n",
    "import anndata as ad\n",
    "import scanpy as sc\n",
    "import pandas as pd\n",
    "import matplotlib.pyplot as plt\n",
    "from pathlib import Path\n",
    "from scripts.utils import load_from_pickle, save_to_pickle\n",
    "from scipy.stats import chi2_contingency\n",
    "import warnings\n",
    "warnings.filterwarnings('ignore')\n",
    "sc.set_figure_params(figsize=(6,6),dpi=80)\n",
    "import upsetplot as ups"
   ]
  },
  {
   "attachments": {},
   "cell_type": "markdown",
   "metadata": {},
   "source": [
    "## Scoring intagrated single cell data sets"
   ]
  },
  {
   "cell_type": "code",
   "execution_count": null,
   "metadata": {},
   "outputs": [],
   "source": [
    "refined_markers = {'Epithelial':['KRT5','KRT7','KRT19','MMP7','EPCAM','PRAC1','HOXB13','LRRC26','SPDEF','NKX3-1',\n",
    "                                 'KLK3','FOLH1','SCHLAP1','PLA2G2A','MSMB','CETN2','ZMYND10','EPCAM','PCA3','KLK3',\n",
    "                                 'KRT18','KRT8','ACPP','MSMB','S100P','SCGB3A1','SCGB1A1','SLC4A4','CLDN3','SAA1',\n",
    "                                 'SAA2','KRT17','S100A2','ACPP','KLK3','MSMB','KLK2','NEFH','AZGP1','RDH11','PLA2G2A',\n",
    "                                 'TMPRSS2','NKX3-1','AR','KRT19','KRT18','KRT8','TP63','KRT14','KRT5','DPP4'],\n",
    "                    'Endothelial':['ACKR1','CCL14','PECAM1','IFI27','CLEC14A','ENPP2','DEPP1','RAMP2','VWF',\n",
    "                                   'IF127','RNASE1','ACKR1','TM4SF1','VWF','SELE','IFI27','FLT1','SPARCL1',\n",
    "                                   'SDPR','PTPRB','DARC','PLVAP','A2M','PECAM1','VWF','ENG'],\n",
    "                    'Fibroblast':['LUM','DCN','IGF1','DCN','LUM','MGP','DCN','PTGDS','APOD',\n",
    "                                  'STC1','AREG','DCN','FBLN1','COL1A2','IGF1','C7','IGFBP5','CCDC80','CFD','LTBP4','SFRP1','ACTA2'],\n",
    "                    'SMC':['RGS5','ACTA2','TAGLN','BGN','RGS5','MT1M','ACTA2','ACTG2','DES','RGS5','NDUFA4L2','RERGL','MYH11','RGS5',\n",
    "                           'ACTA2','TAGLN','MYL9','MYLK','C11orf96','MCAM','CALD1','LMOD1'],\n",
    "                    'Mast':['KIT','TPSB2','TPSAB1','CPA3','TPSAB1','CPA3','CPA3','TPSAB1','KIT',\n",
    "                            'VWA5A','IL1RL1','CTSG','SLC18A2','ACSL4','MS4A2','GATA2','CMA1','MS4A2','TPSAB1','TPSB2'],\n",
    "                    'T cell':['CD3D','CD3E','CD3G','CD8A','CD8B','IL7R','CD2','CCL5','IFNG','CD8B','CD8A','SMC4','MK167',\n",
    "                              'CTLA4','IL2RA','FOXP3','CD3D','CCL5','CD69','IL7R','TRBC2','CCL5','IFNG','CD8A','CXCR4',\n",
    "                              'PTPRC','ETS1','CCL4','CD69','PDCD1','CTLA4','CD8A','SELL','PTPRC','BTLA','IL2RA','IL7R',\n",
    "                              'CCR7','CD28','CD27','SLAMF1','CD7','CD2','CD3G','CD3E','CD3D'],\n",
    "                        'B cell':['CD79A','MS4A1','MS4A1','CD79B','IGJ','MZB1','XBP1','TPSB2',\n",
    "                                  'TPSAB1','IGKC','IGHA1','IGJ','IGHA2','AC096579.7','MZB1',\n",
    "                                  'IGHG3','SLAMF7','IGHG4','IGHG1','MS4A1','IGHM','CXCR5','CD79A','CD22','BANK1','LY9','CCR7','IRF8','CD83'],\n",
    "                        'Myeloid':['CD4','C1QA','C1QB','AIF1','CD68','LYZ','IL1B','FCN1','S100A12','C1QC','C1QA','S100A9','S100A8','LYZ',\n",
    "                                   'HLA-DPB1','HLA-DRA','IL1B','HLA-DRA','HLA-DPA1','HLA-DPB1','HLA-DRB1','CD74','IL8','HLA-DQA1','IF130',\n",
    "                                   'LYZ','LYZ','FCGR3A','CSF1R','CD68','CD163','CD14','UCHL1','HAVCR2','CD4'],\n",
    "                        'Neuronal':['PLP1','MPZ','S100A8','MT1H'],\n",
    "                        'Dendritic':['IRF7','IRF4','FCER1A','CD1C']  \n",
    "                                 }"
   ]
  },
  {
   "cell_type": "code",
   "execution_count": null,
   "metadata": {},
   "outputs": [],
   "source": [
    "def plot_stacked_bar(data,sum_variable='phenotype',plot_variable='VI_clusters',filter_kw='',plot_legend=False):\n",
    "    # This snippet plots the scanorama leiden clusters contents by phenotype as a normalized bar plot.\n",
    "    plot_data = data.obs[[sum_variable,plot_variable]]\n",
    "\n",
    "    plot_data = plot_data.groupby(sum_variable)[plot_variable].value_counts()\n",
    "    plot_data = plot_data.unstack(sum_variable)\n",
    "    plot_data = plot_data.div(plot_data.sum(axis=1), axis=0)\n",
    "\n",
    "    # Order according to decreasing number of sample represented\n",
    "    #cat_order = (plot_data != 0).sum(axis=1).sort_values(ascending=True).index\n",
    "    cat_order = plot_data.max(axis=1).sort_values(ascending=False).index\n",
    "    plot_data = plot_data.reindex(cat_order)\n",
    "    \n",
    "\n",
    "    if filter_kw !='':\n",
    "        plot_data = plot_data.loc[[name for name in plot_data.index if filter_kw in name]]\n",
    "        plot_data.index = plot_data.index.remove_unused_categories()\n",
    "\n",
    "    if plot_legend == True:\n",
    "        plot_data.plot.barh(stacked=True,figsize=(12,8),grid=False).legend(loc='center left',bbox_to_anchor=(1.0, 0.5))\n",
    "    else:\n",
    "        plot_data.plot.barh(stacked=True,figsize=(12,8),grid=False,legend=False,sort_columns=False)\n",
    "    return plot_data\n",
    "\n",
    "def drop_missing_markers(marker_list,missing_vals):\n",
    "    for v in marker_list.values():\n",
    "        for miss in missing_vals:\n",
    "            if (miss) in v:\n",
    "                v.remove((miss))\n",
    "    return marker_list"
   ]
  },
  {
   "attachments": {},
   "cell_type": "markdown",
   "metadata": {},
   "source": [
    "## All cell types in the integration"
   ]
  },
  {
   "cell_type": "code",
   "execution_count": null,
   "metadata": {},
   "outputs": [],
   "source": [
    "adata = load_from_pickle('all-scvi-integrated-7-sc-datasets.pickle')\n",
    "adata"
   ]
  },
  {
   "cell_type": "code",
   "execution_count": null,
   "metadata": {},
   "outputs": [],
   "source": [
    "# Remove the phenotype lables from broad celltypes – we have them anyway\n",
    "adata.obs.loc[adata.obs['broad_celltypes']=='normal_Epithelial','broad_celltypes'] = 'Epithelial'\n",
    "adata.obs.loc[adata.obs['broad_celltypes']=='PCa_Epithelial','broad_celltypes'] = 'Epithelial'\n",
    "adata.obs.loc[adata.obs['broad_celltypes']=='CRPC_Epithelial','broad_celltypes'] = 'Epithelial'"
   ]
  },
  {
   "cell_type": "code",
   "execution_count": null,
   "metadata": {},
   "outputs": [],
   "source": [
    "sc.tl.dendrogram(adata,groupby='VI_clusters',use_rep='X_scVI')\n",
    "\n",
    "refined_markers = drop_missing_markers(refined_markers,['AC096579.7', 'ACKR1', 'C11orf96', 'CD1C', 'CMA1', 'CTSG', 'DARC', 'DEPP1', \n",
    "                                                        'FCER1A', 'IF127', 'IF130', 'IGHA1', 'IGHA2', 'IGHG1', 'IGHG3', 'IGHG4', \n",
    "                                                        'IGHM', 'IGJ', 'IGKC', 'IL8', 'MK167', 'MS4A1', 'PECAM1', 'SCHLAP1', 'SDPR', \n",
    "                                                        'TPSB2', 'TRBC2','ACKR1', 'IGJ', 'MS4A1', 'PECAM1', 'TPSB2','MS4A1'])\n",
    "sc.pl.dotplot(adata, refined_markers, groupby='VI_clusters', dendrogram=True, log= False,\n",
    "              swap_axes = True, vmax=4)"
   ]
  },
  {
   "cell_type": "code",
   "execution_count": null,
   "metadata": {},
   "outputs": [],
   "source": [
    "purity_scores = list()\n",
    "for clust in adata.obs['VI_clusters'].cat.categories:\n",
    "    counts = adata[adata.obs['VI_clusters'] == clust].obs['broad_celltypes'].value_counts()\n",
    "    purity = counts[0]/counts.sum() # What proportion of the cluster is represent by the top sample\n",
    "    purity_scores.append(purity)\n",
    "    #print('Cluster '+ clust +' purity for type ' + counts.index[0] + ': {0:.1%}'.format(counts[0]/counts.sum()))\n",
    "\n",
    "print('')\n",
    "print('The overall mean purity for clusters is {0:.1%}'.format(np.mean(purity_scores)))\n",
    "print('The overall median is {0:.1%}'.format(np.median(purity_scores)))\n",
    "print('The lower quantile is {0:.1%}'.format(np.quantile(purity_scores,0.25)))\n",
    "print('The upper quantile is {0:.1%}'.format(np.quantile(purity_scores,0.75)))\n"
   ]
  },
  {
   "cell_type": "code",
   "execution_count": null,
   "metadata": {},
   "outputs": [],
   "source": [
    "import seaborn as sns\n",
    "import matplotlib.pyplot as plt\n",
    "# Create a violinplot using Seaborn\n",
    "sns.violinplot(y=purity_scores)\n",
    "sns.stripplot(y=purity_scores, color='black', jitter=True, size=5)\n",
    "\n",
    "# Set plot title and axis labels\n",
    "plt.title('Violinplot Example')\n",
    "plt.xlabel('X-axis Label')\n",
    "plt.ylabel('Y-axis Label')\n",
    "\n",
    "# Show plot\n",
    "plt.show()\n"
   ]
  },
  {
   "cell_type": "code",
   "execution_count": null,
   "metadata": {},
   "outputs": [],
   "source": [
    "sc.pl.umap(adata,color='broad_celltypes',s=5)"
   ]
  },
  {
   "cell_type": "code",
   "execution_count": null,
   "metadata": {},
   "outputs": [],
   "source": [
    "sc.pl.umap(adata,color=['sample','VI_clusters'],s=5,legend_loc=None)"
   ]
  },
  {
   "cell_type": "code",
   "execution_count": null,
   "metadata": {},
   "outputs": [],
   "source": [
    "to_be_dropped_by_sample_purity = list()\n",
    "for clust in adata.obs['VI_clusters'].cat.categories:\n",
    "    counts = adata[adata.obs['VI_clusters'] == clust].obs['sample'].value_counts()\n",
    "    purity = counts[0]/counts.sum() # What proportion of the cluster is represent by the top sample\n",
    "    if purity > 0.8:\n",
    "        print('Cluster '+ clust +' purity for sample ' + counts.index[0] + ': {0:.1%}'.format(purity))\n",
    "        to_be_dropped_by_sample_purity.append(clust)\n"
   ]
  },
  {
   "cell_type": "code",
   "execution_count": null,
   "metadata": {},
   "outputs": [],
   "source": [
    "subset_adata = adata[~adata.obs['VI_clusters'].isin(to_be_dropped_by_sample_purity)]"
   ]
  },
  {
   "cell_type": "code",
   "execution_count": null,
   "metadata": {},
   "outputs": [],
   "source": [
    "sc.pl.umap(subset_adata,color=['broad_celltypes'],s=5)\n",
    "sc.pl.umap(subset_adata,color=['sample','VI_clusters'],s=5,legend_loc=None)"
   ]
  }
 ],
 "metadata": {
  "kernelspec": {
   "display_name": "Python 3 (ipykernel)",
   "language": "python",
   "name": "python3"
  },
  "language_info": {
   "codemirror_mode": {
    "name": "ipython",
    "version": 3
   },
   "file_extension": ".py",
   "mimetype": "text/x-python",
   "name": "python",
   "nbconvert_exporter": "python",
   "pygments_lexer": "ipython3",
   "version": "3.7.12"
  },
  "orig_nbformat": 4
 },
 "nbformat": 4,
 "nbformat_minor": 2
}
