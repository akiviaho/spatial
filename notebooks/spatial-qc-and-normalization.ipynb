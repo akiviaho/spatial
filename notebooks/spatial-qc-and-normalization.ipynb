{
 "cells": [
  {
   "cell_type": "code",
   "execution_count": 1,
   "metadata": {},
   "outputs": [],
   "source": [
    "# Author: Antti Kiviaho\n",
    "# Date: 20.1.2023\n",
    "# A script for running normalization and sample integration clustering.\n",
    "# Uses the scbi integration environment and pipeline:\n",
    "#\n",
    "#\n",
    "# 1. Cell and gene filtering\n",
    "# 2. scran normalization through R interface using\n",
    "# 3. batch-aware scaling with scib\n",
    "# 4. batch-aware HVGs with scib\n",
    "# 5. scanorama integration into PCA, clustering, UMAP"
   ]
  },
  {
   "cell_type": "code",
   "execution_count": 2,
   "metadata": {},
   "outputs": [],
   "source": [
    "import os\n",
    "os.chdir('/lustre/scratch/kiviaho/prostate_spatial/')\n",
    "import numpy as np\n",
    "import anndata as ad\n",
    "import scanpy as sc\n",
    "import pandas as pd\n",
    "import seaborn as sns\n",
    "import scib\n",
    "#import scanorama\n",
    "\n",
    "import matplotlib.pyplot as plt\n",
    "from scripts.utils import get_sample_ids, save_to_pickle"
   ]
  },
  {
   "cell_type": "code",
   "execution_count": 3,
   "metadata": {},
   "outputs": [
    {
     "name": "stderr",
     "output_type": "stream",
     "text": [
      "/home/ak431480/.conda/envs/scib-pipeline-R4.0/lib/python3.7/site-packages/anndata/_core/anndata.py:1830: UserWarning: Variable names are not unique. To make them unique, call `.var_names_make_unique`.\n",
      "  utils.warn_names_duplicates(\"var\")\n"
     ]
    }
   ],
   "source": [
    "# Download data from spaceranger output files in bulk\n",
    "samples = get_sample_ids()\n",
    "adata_dict = {}\n",
    "for idx,sample_id in enumerate(samples):\n",
    "    adata_sample = sc.read_visium('./results/'+sample_id+'/outs/',library_id=sample_id)\n",
    "    adata_sample.var_names_make_unique()\n",
    "    adata_dict[sample_id] = adata_sample"
   ]
  },
  {
   "cell_type": "code",
   "execution_count": 4,
   "metadata": {},
   "outputs": [
    {
     "name": "stderr",
     "output_type": "stream",
     "text": [
      "/home/ak431480/.conda/envs/scib-pipeline-R4.0/lib/python3.7/site-packages/ipykernel_launcher.py:12: UserWarning: \n",
      "\n",
      "`distplot` is a deprecated function and will be removed in seaborn v0.14.0.\n",
      "\n",
      "Please adapt your code to use either `displot` (a figure-level function with\n",
      "similar flexibility) or `histplot` (an axes-level function for histograms).\n",
      "\n",
      "For a guide to updating your code to use the new functions, please see\n",
      "https://gist.github.com/mwaskom/de44147ed2974457ad6372750bbe5751\n",
      "\n",
      "  if sys.path[0] == \"\":\n",
      "/home/ak431480/.conda/envs/scib-pipeline-R4.0/lib/python3.7/site-packages/ipykernel_launcher.py:17: UserWarning: \n",
      "\n",
      "`distplot` is a deprecated function and will be removed in seaborn v0.14.0.\n",
      "\n",
      "Please adapt your code to use either `displot` (a figure-level function with\n",
      "similar flexibility) or `histplot` (an axes-level function for histograms).\n",
      "\n",
      "For a guide to updating your code to use the new functions, please see\n",
      "https://gist.github.com/mwaskom/de44147ed2974457ad6372750bbe5751\n",
      "\n",
      "  app.launch_new_instance()\n",
      "/home/ak431480/.conda/envs/scib-pipeline-R4.0/lib/python3.7/site-packages/ipykernel_launcher.py:19: UserWarning: \n",
      "\n",
      "`distplot` is a deprecated function and will be removed in seaborn v0.14.0.\n",
      "\n",
      "Please adapt your code to use either `displot` (a figure-level function with\n",
      "similar flexibility) or `histplot` (an axes-level function for histograms).\n",
      "\n",
      "For a guide to updating your code to use the new functions, please see\n",
      "https://gist.github.com/mwaskom/de44147ed2974457ad6372750bbe5751\n",
      "\n",
      "/home/ak431480/.conda/envs/scib-pipeline-R4.0/lib/python3.7/site-packages/ipykernel_launcher.py:24: UserWarning: \n",
      "\n",
      "`distplot` is a deprecated function and will be removed in seaborn v0.14.0.\n",
      "\n",
      "Please adapt your code to use either `displot` (a figure-level function with\n",
      "similar flexibility) or `histplot` (an axes-level function for histograms).\n",
      "\n",
      "For a guide to updating your code to use the new functions, please see\n",
      "https://gist.github.com/mwaskom/de44147ed2974457ad6372750bbe5751\n",
      "\n",
      "/home/ak431480/.conda/envs/scib-pipeline-R4.0/lib/python3.7/site-packages/ipykernel_launcher.py:9: RuntimeWarning: More than 20 figures have been opened. Figures created through the pyplot interface (`matplotlib.pyplot.figure`) are retained until explicitly closed and may consume too much memory. (To control this warning, see the rcParam `figure.max_open_warning`).\n",
      "  if __name__ == \"__main__\":\n"
     ]
    },
    {
     "data": {
      "text/plain": [
       "<Figure size 4800x1200 with 0 Axes>"
      ]
     },
     "metadata": {},
     "output_type": "display_data"
    },
    {
     "data": {
      "text/plain": [
       "<Figure size 4800x1200 with 0 Axes>"
      ]
     },
     "metadata": {},
     "output_type": "display_data"
    },
    {
     "data": {
      "text/plain": [
       "<Figure size 4800x1200 with 0 Axes>"
      ]
     },
     "metadata": {},
     "output_type": "display_data"
    },
    {
     "data": {
      "text/plain": [
       "<Figure size 4800x1200 with 0 Axes>"
      ]
     },
     "metadata": {},
     "output_type": "display_data"
    },
    {
     "data": {
      "text/plain": [
       "<Figure size 4800x1200 with 0 Axes>"
      ]
     },
     "metadata": {},
     "output_type": "display_data"
    },
    {
     "data": {
      "text/plain": [
       "<Figure size 4800x1200 with 0 Axes>"
      ]
     },
     "metadata": {},
     "output_type": "display_data"
    },
    {
     "data": {
      "text/plain": [
       "<Figure size 4800x1200 with 0 Axes>"
      ]
     },
     "metadata": {},
     "output_type": "display_data"
    },
    {
     "data": {
      "text/plain": [
       "<Figure size 4800x1200 with 0 Axes>"
      ]
     },
     "metadata": {},
     "output_type": "display_data"
    },
    {
     "data": {
      "text/plain": [
       "<Figure size 4800x1200 with 0 Axes>"
      ]
     },
     "metadata": {},
     "output_type": "display_data"
    },
    {
     "data": {
      "text/plain": [
       "<Figure size 4800x1200 with 0 Axes>"
      ]
     },
     "metadata": {},
     "output_type": "display_data"
    },
    {
     "data": {
      "text/plain": [
       "<Figure size 4800x1200 with 0 Axes>"
      ]
     },
     "metadata": {},
     "output_type": "display_data"
    },
    {
     "data": {
      "text/plain": [
       "<Figure size 4800x1200 with 0 Axes>"
      ]
     },
     "metadata": {},
     "output_type": "display_data"
    },
    {
     "data": {
      "text/plain": [
       "<Figure size 4800x1200 with 0 Axes>"
      ]
     },
     "metadata": {},
     "output_type": "display_data"
    },
    {
     "data": {
      "text/plain": [
       "<Figure size 4800x1200 with 0 Axes>"
      ]
     },
     "metadata": {},
     "output_type": "display_data"
    },
    {
     "data": {
      "text/plain": [
       "<Figure size 4800x1200 with 0 Axes>"
      ]
     },
     "metadata": {},
     "output_type": "display_data"
    },
    {
     "data": {
      "text/plain": [
       "<Figure size 4800x1200 with 0 Axes>"
      ]
     },
     "metadata": {},
     "output_type": "display_data"
    },
    {
     "data": {
      "text/plain": [
       "<Figure size 4800x1200 with 0 Axes>"
      ]
     },
     "metadata": {},
     "output_type": "display_data"
    },
    {
     "data": {
      "text/plain": [
       "<Figure size 4800x1200 with 0 Axes>"
      ]
     },
     "metadata": {},
     "output_type": "display_data"
    },
    {
     "data": {
      "text/plain": [
       "<Figure size 4800x1200 with 0 Axes>"
      ]
     },
     "metadata": {},
     "output_type": "display_data"
    },
    {
     "data": {
      "text/plain": [
       "<Figure size 4800x1200 with 0 Axes>"
      ]
     },
     "metadata": {},
     "output_type": "display_data"
    },
    {
     "data": {
      "text/plain": [
       "<Figure size 4800x1200 with 0 Axes>"
      ]
     },
     "metadata": {},
     "output_type": "display_data"
    },
    {
     "data": {
      "text/plain": [
       "<Figure size 4800x1200 with 0 Axes>"
      ]
     },
     "metadata": {},
     "output_type": "display_data"
    },
    {
     "data": {
      "text/plain": [
       "<Figure size 4800x1200 with 0 Axes>"
      ]
     },
     "metadata": {},
     "output_type": "display_data"
    },
    {
     "data": {
      "text/plain": [
       "<Figure size 4800x1200 with 0 Axes>"
      ]
     },
     "metadata": {},
     "output_type": "display_data"
    },
    {
     "data": {
      "text/plain": [
       "<Figure size 4800x1200 with 0 Axes>"
      ]
     },
     "metadata": {},
     "output_type": "display_data"
    },
    {
     "data": {
      "text/plain": [
       "<Figure size 4800x1200 with 0 Axes>"
      ]
     },
     "metadata": {},
     "output_type": "display_data"
    },
    {
     "data": {
      "text/plain": [
       "<Figure size 4800x1200 with 0 Axes>"
      ]
     },
     "metadata": {},
     "output_type": "display_data"
    },
    {
     "data": {
      "text/plain": [
       "<Figure size 4800x1200 with 0 Axes>"
      ]
     },
     "metadata": {},
     "output_type": "display_data"
    },
    {
     "data": {
      "text/plain": [
       "<Figure size 4800x1200 with 0 Axes>"
      ]
     },
     "metadata": {},
     "output_type": "display_data"
    },
    {
     "data": {
      "text/plain": [
       "<Figure size 4800x1200 with 0 Axes>"
      ]
     },
     "metadata": {},
     "output_type": "display_data"
    },
    {
     "data": {
      "text/plain": [
       "<Figure size 4800x1200 with 0 Axes>"
      ]
     },
     "metadata": {},
     "output_type": "display_data"
    },
    {
     "data": {
      "text/plain": [
       "<Figure size 4800x1200 with 0 Axes>"
      ]
     },
     "metadata": {},
     "output_type": "display_data"
    },
    {
     "data": {
      "text/plain": [
       "<Figure size 4800x1200 with 0 Axes>"
      ]
     },
     "metadata": {},
     "output_type": "display_data"
    },
    {
     "data": {
      "text/plain": [
       "<Figure size 4800x1200 with 0 Axes>"
      ]
     },
     "metadata": {},
     "output_type": "display_data"
    },
    {
     "data": {
      "text/plain": [
       "<Figure size 4800x1200 with 0 Axes>"
      ]
     },
     "metadata": {},
     "output_type": "display_data"
    },
    {
     "data": {
      "text/plain": [
       "<Figure size 4800x1200 with 0 Axes>"
      ]
     },
     "metadata": {},
     "output_type": "display_data"
    },
    {
     "data": {
      "text/plain": [
       "<Figure size 4800x1200 with 0 Axes>"
      ]
     },
     "metadata": {},
     "output_type": "display_data"
    }
   ],
   "source": [
    "# Produce QC plots as done at https://scanpy-tutorials.readthedocs.io/en/latest/spatial/integration-scanorama.html\n",
    "# Save the QC plots to a path\n",
    "from pathlib import Path\n",
    "dir_path = './plots/qc-plots-for-spatial-sections'\n",
    "Path(dir_path).mkdir(parents=True, exist_ok=True)\n",
    "for name in samples:\n",
    "    adata = adata_dict[name]\n",
    "    sc.pp.calculate_qc_metrics(adata, inplace=True)\n",
    "    fig, axs = plt.subplots(1, 4, figsize=(24, 6))\n",
    "    fig.suptitle(f\"Covariates for filtering: {name}\")\n",
    "\n",
    "    sns.distplot(adata.obs[\"total_counts\"], kde=False, ax=axs[0])\n",
    "    sns.distplot(\n",
    "        adata.obs[\"total_counts\"][adata.obs[\"total_counts\"] < 20000],\n",
    "        kde=False,\n",
    "        bins=40,\n",
    "        ax=axs[1],\n",
    "    )\n",
    "    sns.distplot(adata.obs[\"n_genes_by_counts\"], kde=False, bins=60, ax=axs[2])\n",
    "    sns.distplot(\n",
    "        adata.obs[\"n_genes_by_counts\"][adata.obs[\"n_genes_by_counts\"] < 4000],\n",
    "        kde=False,\n",
    "        bins=60,\n",
    "        ax=axs[3],\n",
    "    )\n",
    "    fig.tight_layout()\n",
    "    fig.set_dpi(200)\n",
    "    plt.savefig(dir_path+'/'+name+'_qc_metrics'+'.png')\n",
    "    plt.clf()"
   ]
  },
  {
   "cell_type": "code",
   "execution_count": 5,
   "metadata": {},
   "outputs": [],
   "source": [
    "def qc_and_normalize(adata):\n",
    "    # QC and normalize\n",
    "    sc.pp.filter_genes(adata, min_cells=5)\n",
    "    sc.pp.filter_cells(adata, min_counts=500)\n",
    "    scib.preprocessing.normalize(adata,precluster=False)\n",
    "    return adata"
   ]
  },
  {
   "cell_type": "code",
   "execution_count": 6,
   "metadata": {},
   "outputs": [
    {
     "name": "stderr",
     "output_type": "stream",
     "text": [
      "/home/ak431480/.conda/envs/scib-pipeline-R4.0/lib/python3.7/site-packages/rpy2/robjects/pandas2ri.py:266: DeprecationWarning: The global conversion available with activate() is deprecated and will be removed in the next major release. Use a local converter.\n",
      "  category=DeprecationWarning)\n",
      "/home/ak431480/.conda/envs/scib-pipeline-R4.0/lib/python3.7/site-packages/rpy2/robjects/numpy2ri.py:208: DeprecationWarning: The global conversion available with activate() is deprecated and will be removed in the next major release. Use a local converter.\n",
      "  category=DeprecationWarning)\n",
      "/home/ak431480/.conda/envs/scib-pipeline-R4.0/lib/python3.7/site-packages/rpy2/robjects/vectors.py:983: UserWarning: R object inheriting from \"POSIXct\" but without attribute \"tzone\".\n",
      "  warnings.warn('R object inheriting from \"POSIXct\" but without '\n",
      "/home/ak431480/.conda/envs/scib-pipeline-R4.0/lib/python3.7/site-packages/pandas/core/arrays/datetimes.py:2192: PytzUsageWarning: The zone attribute is specific to pytz's interface; please migrate to a new time zone provider. For more details on how to do so, see https://pytz-deprecation-shim.readthedocs.io/en/latest/migration.html\n",
      "  values, tz_parsed = conversion.datetime_to_datetime64(data.ravel(\"K\"))\n"
     ]
    },
    {
     "name": "stdout",
     "output_type": "stream",
     "text": [
      "Note! Performing log1p-transformation after normalization.\n",
      "Note! Performing log1p-transformation after normalization.\n",
      "Note! Performing log1p-transformation after normalization.\n",
      "Note! Performing log1p-transformation after normalization.\n",
      "Note! Performing log1p-transformation after normalization.\n",
      "Note! Performing log1p-transformation after normalization.\n",
      "Note! Performing log1p-transformation after normalization.\n",
      "Note! Performing log1p-transformation after normalization.\n",
      "Note! Performing log1p-transformation after normalization.\n",
      "Note! Performing log1p-transformation after normalization.\n",
      "Note! Performing log1p-transformation after normalization.\n",
      "Note! Performing log1p-transformation after normalization.\n",
      "Note! Performing log1p-transformation after normalization.\n",
      "Note! Performing log1p-transformation after normalization.\n",
      "Note! Performing log1p-transformation after normalization.\n",
      "Note! Performing log1p-transformation after normalization.\n",
      "Note! Performing log1p-transformation after normalization.\n",
      "Note! Performing log1p-transformation after normalization.\n",
      "Note! Performing log1p-transformation after normalization.\n",
      "Note! Performing log1p-transformation after normalization.\n",
      "Note! Performing log1p-transformation after normalization.\n",
      "Note! Performing log1p-transformation after normalization.\n",
      "Note! Performing log1p-transformation after normalization.\n",
      "Note! Performing log1p-transformation after normalization.\n",
      "Note! Performing log1p-transformation after normalization.\n",
      "Note! Performing log1p-transformation after normalization.\n",
      "Note! Performing log1p-transformation after normalization.\n",
      "Note! Performing log1p-transformation after normalization.\n",
      "Note! Performing log1p-transformation after normalization.\n",
      "Note! Performing log1p-transformation after normalization.\n",
      "Note! Performing log1p-transformation after normalization.\n",
      "Note! Performing log1p-transformation after normalization.\n",
      "Note! Performing log1p-transformation after normalization.\n",
      "Note! Performing log1p-transformation after normalization.\n",
      "Note! Performing log1p-transformation after normalization.\n",
      "Note! Performing log1p-transformation after normalization.\n",
      "Note! Performing log1p-transformation after normalization.\n"
     ]
    }
   ],
   "source": [
    "for sample_id in samples:\n",
    "    adata = adata_dict[sample_id]\n",
    "    adata = qc_and_normalize(adata)\n",
    "\n",
    "    # add ids to the data for use after data concatenation\n",
    "    adata_dict[sample_id].obs['sample_id'] = sample_id\n",
    "    adata_dict[sample_id].obs_names = sample_id + '_' + adata_dict[sample_id].obs_names"
   ]
  },
  {
   "cell_type": "code",
   "execution_count": 7,
   "metadata": {},
   "outputs": [],
   "source": [
    "save_to_pickle(adata_dict,'./data/normalized_visium_data.pickle')"
   ]
  },
  {
   "cell_type": "code",
   "execution_count": 9,
   "metadata": {},
   "outputs": [
    {
     "data": {
      "text/plain": [
       "\" adata_concat = sc.concat(adata_dict)\\nadata_concat.obs.sample_id = adata_concat.obs.sample_id.astype('category')\\nscib.preprocessing.scale_batch(adata_concat,batch='sample_id')\\nhvg_list = scib.preprocessing.hvg_batch(adata_concat,batch_key='sample_id',target_genes=3000,flavor='seurat',adataOut=False)\\n\\nadata_scanorama = scib.integration.scanorama(adata_concat,batch='sample_id',hvg=hvg_list)\\n\\nsave_to_pickle(adata_scanorama,'./data/visium_after_scanorama.pickle') \""
      ]
     },
     "execution_count": 9,
     "metadata": {},
     "output_type": "execute_result"
    }
   ],
   "source": [
    "\"\"\" adata_concat = sc.concat(adata_dict)\n",
    "adata_concat.obs.sample_id = adata_concat.obs.sample_id.astype('category')\n",
    "scib.preprocessing.scale_batch(adata_concat,batch='sample_id')\n",
    "hvg_list = scib.preprocessing.hvg_batch(adata_concat,batch_key='sample_id',target_genes=3000,flavor='seurat',adataOut=False)\n",
    "\n",
    "adata_scanorama = scib.integration.scanorama(adata_concat,batch='sample_id',hvg=hvg_list)\n",
    "\n",
    "save_to_pickle(adata_scanorama,'./data/visium_after_scanorama.pickle') \"\"\""
   ]
  },
  {
   "cell_type": "code",
   "execution_count": null,
   "metadata": {},
   "outputs": [],
   "source": []
  }
 ],
 "metadata": {
  "kernelspec": {
   "display_name": "Python 3",
   "language": "python",
   "name": "python3"
  },
  "language_info": {
   "codemirror_mode": {
    "name": "ipython",
    "version": 3
   },
   "file_extension": ".py",
   "mimetype": "text/x-python",
   "name": "python",
   "nbconvert_exporter": "python",
   "pygments_lexer": "ipython3",
   "version": "3.7.12"
  },
  "orig_nbformat": 4
 },
 "nbformat": 4,
 "nbformat_minor": 2
}
