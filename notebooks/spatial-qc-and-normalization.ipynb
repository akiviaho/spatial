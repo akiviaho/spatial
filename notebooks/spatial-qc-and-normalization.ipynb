{
 "cells": [
  {
   "cell_type": "code",
   "execution_count": 1,
   "metadata": {},
   "outputs": [],
   "source": [
    "# Author: Antti Kiviaho\n",
    "# Date: 20.1.2023\n",
    "# A script for running normalization and sample integration clustering.\n",
    "# Uses the scbi integration environment and pipeline:\n",
    "#\n",
    "#\n",
    "# 1. Cell and gene filtering\n",
    "# 2. scran normalization through R interface using\n",
    "# 3. batch-aware scaling with scib\n",
    "# 4. batch-aware HVGs with scib"
   ]
  },
  {
   "cell_type": "code",
   "execution_count": 1,
   "metadata": {},
   "outputs": [
    {
     "name": "stderr",
     "output_type": "stream",
     "text": [
      "Matplotlib created a temporary config/cache directory at /tmp/matplotlib-zplkst6x because the default path (/run/cache/matplotlib) is not a writable directory; it is highly recommended to set the MPLCONFIGDIR environment variable to a writable directory, in particular to speed up the import of Matplotlib and to better support multiprocessing.\n"
     ]
    }
   ],
   "source": [
    "import os\n",
    "os.chdir('/lustre/scratch/kiviaho/prostate_spatial/')\n",
    "import numpy as np\n",
    "import anndata as ad\n",
    "import scanpy as sc\n",
    "import pandas as pd\n",
    "import seaborn as sns\n",
    "import scib\n",
    "#import scanorama\n",
    "\n",
    "import matplotlib.pyplot as plt\n",
    "\n",
    "# Added spot exclusion information 28.2.2024\n",
    "from scripts.utils import get_sample_ids_reorder, save_to_pickle, get_include_exclude_info"
   ]
  },
  {
   "cell_type": "code",
   "execution_count": 2,
   "metadata": {},
   "outputs": [],
   "source": [
    "def qc_and_normalize(adata):\n",
    "    # QC and normalize\n",
    "    sc.pp.filter_genes(adata, min_cells=5)\n",
    "    sc.pp.filter_cells(adata, min_counts=500)\n",
    "    scib.preprocessing.normalize(adata,precluster=False)\n",
    "    return adata"
   ]
  },
  {
   "cell_type": "code",
   "execution_count": 3,
   "metadata": {},
   "outputs": [
    {
     "name": "stderr",
     "output_type": "stream",
     "text": [
      "/home/ak431480/.conda/envs/scib-pipeline-R4.0/lib/python3.7/site-packages/anndata/_core/anndata.py:1830: UserWarning: Variable names are not unique. To make them unique, call `.var_names_make_unique`.\n",
      "  utils.warn_names_duplicates(\"var\")\n",
      "/home/ak431480/.conda/envs/scib-pipeline-R4.0/lib/python3.7/site-packages/scanpy/preprocessing/_simple.py:251: ImplicitModificationWarning: Trying to modify attribute `.var` of view, initializing view as actual.\n",
      "  adata.var['n_cells'] = number\n",
      "/home/ak431480/.conda/envs/scib-pipeline-R4.0/lib/python3.7/site-packages/rpy2/robjects/pandas2ri.py:266: DeprecationWarning: The global conversion available with activate() is deprecated and will be removed in the next major release. Use a local converter.\n",
      "  category=DeprecationWarning)\n",
      "/home/ak431480/.conda/envs/scib-pipeline-R4.0/lib/python3.7/site-packages/rpy2/robjects/numpy2ri.py:208: DeprecationWarning: The global conversion available with activate() is deprecated and will be removed in the next major release. Use a local converter.\n",
      "  category=DeprecationWarning)\n",
      "/home/ak431480/.conda/envs/scib-pipeline-R4.0/lib/python3.7/site-packages/rpy2/robjects/vectors.py:983: UserWarning: R object inheriting from \"POSIXct\" but without attribute \"tzone\".\n",
      "  warnings.warn('R object inheriting from \"POSIXct\" but without '\n",
      "/home/ak431480/.conda/envs/scib-pipeline-R4.0/lib/python3.7/site-packages/pandas/core/arrays/datetimes.py:2192: PytzUsageWarning: The zone attribute is specific to pytz's interface; please migrate to a new time zone provider. For more details on how to do so, see https://pytz-deprecation-shim.readthedocs.io/en/latest/migration.html\n",
      "  values, tz_parsed = conversion.datetime_to_datetime64(data.ravel(\"K\"))\n"
     ]
    },
    {
     "name": "stdout",
     "output_type": "stream",
     "text": [
      "Note! Performing log1p-transformation after normalization.\n",
      "BPH_665 done\n"
     ]
    }
   ],
   "source": [
    "# Revised on 28.2.2024:\n",
    "# Remove regions with exclude/include annotation (exclude_info)\n",
    "# Saved each sample separately for better memory management\n",
    "\n",
    "# Download data from spaceranger output files in bulk\n",
    "samples = get_sample_ids_reorder()\n",
    "\n",
    "# Only keep sample from the Tampere cohort\n",
    "samples = [s for s in samples if 'P320' not in s]\n",
    "\n",
    "exclude_info = get_include_exclude_info()\n"
   ]
  },
  {
   "cell_type": "code",
   "execution_count": 3,
   "metadata": {},
   "outputs": [],
   "source": [
    "## Revised on 27.4.2024\n",
    "## Process only the METs\n",
    "\n",
    "samples = ['MET_A3','MET_GP12','MET_A14','MET_A16']"
   ]
  },
  {
   "cell_type": "code",
   "execution_count": 6,
   "metadata": {},
   "outputs": [
    {
     "name": "stderr",
     "output_type": "stream",
     "text": [
      "/home/ak431480/.conda/envs/scib-pipeline-R4.0/lib/python3.7/site-packages/rpy2/robjects/pandas2ri.py:266: DeprecationWarning: The global conversion available with activate() is deprecated and will be removed in the next major release. Use a local converter.\n",
      "  category=DeprecationWarning)\n",
      "/home/ak431480/.conda/envs/scib-pipeline-R4.0/lib/python3.7/site-packages/rpy2/robjects/numpy2ri.py:208: DeprecationWarning: The global conversion available with activate() is deprecated and will be removed in the next major release. Use a local converter.\n",
      "  category=DeprecationWarning)\n",
      "/home/ak431480/.conda/envs/scib-pipeline-R4.0/lib/python3.7/site-packages/rpy2/robjects/vectors.py:983: UserWarning: R object inheriting from \"POSIXct\" but without attribute \"tzone\".\n",
      "  warnings.warn('R object inheriting from \"POSIXct\" but without '\n",
      "/home/ak431480/.conda/envs/scib-pipeline-R4.0/lib/python3.7/site-packages/pandas/core/arrays/datetimes.py:2192: PytzUsageWarning: The zone attribute is specific to pytz's interface; please migrate to a new time zone provider. For more details on how to do so, see https://pytz-deprecation-shim.readthedocs.io/en/latest/migration.html\n",
      "  values, tz_parsed = conversion.datetime_to_datetime64(data.ravel(\"K\"))\n"
     ]
    },
    {
     "name": "stdout",
     "output_type": "stream",
     "text": [
      "Note! Performing log1p-transformation after normalization.\n",
      "MET_A3 done\n"
     ]
    },
    {
     "name": "stderr",
     "output_type": "stream",
     "text": [
      "/home/ak431480/.conda/envs/scib-pipeline-R4.0/lib/python3.7/site-packages/anndata/_core/anndata.py:1830: UserWarning: Variable names are not unique. To make them unique, call `.var_names_make_unique`.\n",
      "  utils.warn_names_duplicates(\"var\")\n"
     ]
    },
    {
     "name": "stdout",
     "output_type": "stream",
     "text": [
      "Note! Performing log1p-transformation after normalization.\n",
      "MET_GP12 done\n",
      "Note! Performing log1p-transformation after normalization.\n",
      "MET_A14 done\n",
      "Note! Performing log1p-transformation after normalization.\n",
      "MET_A16 done\n"
     ]
    }
   ],
   "source": [
    "#adata_dict = {}\n",
    "for sample_id in samples:\n",
    "    \n",
    "  adata_sample = sc.read_visium('./results/'+sample_id+'/outs/',library_id=sample_id)\n",
    "  adata_sample.var_names_make_unique()\n",
    "\n",
    "  # add ids to the data for use after data concatenation\n",
    "  adata_sample.obs_names = sample_id + '_' + adata_sample.obs_names\n",
    "\n",
    "  # Only use this with Tampere cohort samples\n",
    "  # Subset spots from a single sample\n",
    "  #sample_exclude_info = exclude_info.loc[adata_sample.obs_names].copy()\n",
    "  #sample_spots_to_keep =  sample_exclude_info[~sample_exclude_info['Pathology'].isin(['Exclude','Lumen'])].index\n",
    "  # Subset the sample with spots to keep\n",
    "  #adata_sample = adata_sample[sample_spots_to_keep]\n",
    "  \n",
    "  # QC and normalize – this filters out more spots\n",
    "  adata_sample = qc_and_normalize(adata_sample)\n",
    "\n",
    "  # Save the object\n",
    "  adata_sample.write_h5ad('data/normalized_visium/'+sample_id+'_normalized.h5ad')\n",
    "  \n",
    "  print(sample_id + ' done')\n",
    "  del adata_sample\n",
    "#   adata_dict[sample_id].obs['sample_id'] = sample_id\n",
    "#   adata_dict[sample_id].obs_names = sample_id + '_' + adata_dict[sample_id].obs_names\n",
    "\n",
    "\n",
    "#save_to_pickle(adata_dict,'./data/normalized_visium_data.pickle')"
   ]
  },
  {
   "cell_type": "code",
   "execution_count": null,
   "metadata": {},
   "outputs": [],
   "source": []
  },
  {
   "cell_type": "code",
   "execution_count": 41,
   "metadata": {},
   "outputs": [],
   "source": [
    "# Load and save the ARNEO samples individually\n",
    "from scripts.utils import load_from_pickle\n",
    "# Add in the arneo data\n",
    "adata_vis_arneo = load_from_pickle('./arneo/data/normalized_arneo_visium_data.pickle')\n",
    "\n",
    "for sample_id in adata_vis_arneo:\n",
    "    adata_vis_arneo[sample_id].write_h5ad('data/normalized_visium/'+sample_id+'_normalized.h5ad')"
   ]
  },
  {
   "cell_type": "code",
   "execution_count": null,
   "metadata": {},
   "outputs": [],
   "source": []
  }
 ],
 "metadata": {
  "kernelspec": {
   "display_name": "Python 3",
   "language": "python",
   "name": "python3"
  },
  "language_info": {
   "codemirror_mode": {
    "name": "ipython",
    "version": 3
   },
   "file_extension": ".py",
   "mimetype": "text/x-python",
   "name": "python",
   "nbconvert_exporter": "python",
   "pygments_lexer": "ipython3",
   "version": "3.7.12"
  },
  "orig_nbformat": 4
 },
 "nbformat": 4,
 "nbformat_minor": 2
}
