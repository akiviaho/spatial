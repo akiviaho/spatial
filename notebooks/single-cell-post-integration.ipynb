{
 "cells": [
  {
   "cell_type": "code",
   "execution_count": null,
   "metadata": {},
   "outputs": [],
   "source": [
    "import os\n",
    "os.chdir('/lustre/scratch/kiviaho/prostate_spatial')\n",
    "\n",
    "import numpy as np\n",
    "import anndata as ad\n",
    "import scanpy as sc\n",
    "import pandas as pd\n",
    "import infercnvpy as cnv\n",
    "import matplotlib.pyplot as plt\n",
    "from pathlib import Path\n",
    "from scripts.utils import load_from_pickle, save_to_pickle\n",
    "from scipy.stats import chi2_contingency\n",
    "import warnings\n",
    "warnings.filterwarnings('ignore')\n",
    "\n",
    "from matplotlib import rcParams\n",
    "sc.set_figure_params(figsize=(6,6),dpi=80)"
   ]
  },
  {
   "cell_type": "code",
   "execution_count": null,
   "metadata": {},
   "outputs": [],
   "source": [
    "\n",
    "def add_cluster_phenotype_column(adata,cluster_col='VI_clusters',aggregate_col='phenotype',added_col='cluster_phenotype'):\n",
    "    '''\n",
    "    Chi-squared test-based annotation of clusters. Creates a cross-tabulation of phenotypes for one cluster at a time,\n",
    "    Tests for over-representation and annotates the cluster as the phenotype with the highest positive difference to expected counts\n",
    "    '''\n",
    "    meta = adata.obs.copy()\n",
    "    meta[added_col] = meta[cluster_col].copy()\n",
    "\n",
    "    for cluster in np.unique(meta[cluster_col]):\n",
    "        meta['keep_one'] = meta[cluster_col].copy()\n",
    "        meta['keep_one'] = meta['keep_one'].cat.add_categories('other')\n",
    "        meta.loc[meta['keep_one'] != cluster,'keep_one'] = 'other'\n",
    "        tbl = pd.crosstab(meta['keep_one'],meta[aggregate_col])\n",
    "        res = chi2_contingency(tbl)\n",
    "        if res.pvalue < 0.05:\n",
    "            diff = tbl-res.expected_freq\n",
    "            phtype = diff.loc[cluster].idxmax()\n",
    "\n",
    "            meta[added_col] = meta[added_col].cat.add_categories(phtype + '_' + cluster)\n",
    "            meta.loc[meta[added_col] == cluster,added_col] = phtype + '_' + cluster\n",
    "\n",
    "    meta.drop(columns='keep_one',inplace=True)\n",
    "    meta[added_col] = meta[added_col].cat.remove_unused_categories()\n",
    "\n",
    "    if (meta.index == adata.obs_names).all():\n",
    "        adata.obs = meta\n",
    "    return adata\n",
    "    \n",
    "def plot_stacked_bar(data,sum_variable='phenotype',plot_variable='VI_clusters',filter_kw='',plot_legend=False):\n",
    "    # This snippet plots the scanorama leiden clusters contents by phenotype as a normalized bar plot.\n",
    "    plot_data = data.obs[[sum_variable,plot_variable]]\n",
    "\n",
    "    plot_data = plot_data.groupby(sum_variable)[plot_variable].value_counts()\n",
    "    plot_data = plot_data.unstack(sum_variable)\n",
    "    plot_data = plot_data.div(plot_data.sum(axis=1), axis=0)\n",
    "\n",
    "    # Order according to decreasing number of sample represented\n",
    "    #cat_order = (plot_data != 0).sum(axis=1).sort_values(ascending=True).index\n",
    "    cat_order = plot_data.max(axis=1).sort_values(ascending=False).index\n",
    "    plot_data = plot_data.reindex(cat_order)\n",
    "    \n",
    "\n",
    "    if filter_kw !='':\n",
    "        plot_data = plot_data.loc[[name for name in plot_data.index if filter_kw in name]]\n",
    "        plot_data.index = plot_data.index.remove_unused_categories()\n",
    "\n",
    "    if plot_legend == True:\n",
    "        plot_data.plot.barh(stacked=True,figsize=(12,8),grid=False).legend(loc='center left',bbox_to_anchor=(1.0, 0.5))\n",
    "    else:\n",
    "        plot_data.plot.barh(stacked=True,figsize=(12,8),grid=False,legend=False,sort_columns=False)\n",
    "    return plot_data\n"
   ]
  },
  {
   "cell_type": "code",
   "execution_count": null,
   "metadata": {},
   "outputs": [],
   "source": [
    "## MARKERS\n",
    "epithelial_markers = {'Basal':['TP63','KRT14','KRT5'],\n",
    "                      'Club':['SCGB1A3','WFDC2','LCN2','MMP7','KRT4','TACSTD2','SCGB3A1'], #  'SCGB1A3',\n",
    "                      'Hillock':['KRT13','S100A16','S100A14','KRT19'],\n",
    "                      'Luminal':['KLK4','KLK3','KLK2','ACPP','AR'],\n",
    "                      'Tumor':['AMACR','CACNA1D','PCA3','ERG','FABP5','COL9A2','GCNT1','PHGR1'],\n",
    "                      \n",
    "                      'EMT':['COL5A2','ECM1','FSTL1','MMP1','MMP2','TAGLN','VIM','SERPINH1','COL1A1',\n",
    "                      'FN1','TNC','HTRA1','CD44','S100A4','MYL9','ACTG2','ACTA2','MYH11','ERG','CDH2',\n",
    "                      'HIF1A','TGFBR1','SDC1','ENOPH1','CAMK2N1','EMP3','MKI67','ITGAM','ANXA5','BMP1',\n",
    "                      'CHD11','FAP','LEF1','IGFBP4','BGN','TWIST1','MCM7','PRRX1','COL3A1','COL1A2',\n",
    "                      'POSTN','DCN','FBN1','SNAI2','PDGFRB','SPARC','INHBA','COL6A2','TNFAIP6','GREM1',\n",
    "                      'CDH11','SPOCK1','COPZ2','THY1','PCOLCE','PDGFRD']}\n",
    "\n",
    "epithelial_markers_plotting = {'Basal':['TP63','KRT14','KRT5'],\n",
    "                      'Club':['WFDC2','LCN2','MMP7','KRT4','TACSTD2','SCGB3A1'], #  'SCGB1A3',\n",
    "                      'Hillock':['KRT13','S100A16','S100A14','KRT19'],\n",
    "                      'Luminal':['KLK4','KLK3','KLK2','ACPP','AR'],\n",
    "                      'Tumor':['AMACR','CACNA1D','PCA3','ERG','FABP5','COL9A2','GCNT1','PHGR1']}\n",
    "\n",
    "broad_marker_genes = {'Epithelial':['S100A16','S100A14','TACSTD2','KLK4','KLK3','KLK2','ACPP','AR','TMPRSS2'],\n",
    "                      'Fibroblast':['DCN','LUM','PTN','IGF1','APOD','COL1A2','FBLN1','MEG3','CXCL12'],\n",
    "                      'Pericyte':['RGS5','ACTA2','MYH11','MT1M','FRZB','MT1A','NDUFA4L2','PPP1R14A','MYLK','PHLDA1'],\n",
    "                      'Endothelial':['VWF','ENG','CLDN5'],\n",
    "                      'Mast':['MS4A2','TPSAB1','CPA3'],\n",
    "                      'Monocytic':['LYZ','FCGR3A','CSF1R','CD68','CD14','CD163','C1QA','C1QB','C1QC','GPR34','MS4A4A'],\n",
    "                      'T_cell':['CD4','PTPRC','IL7R','CD7','CD2','CD3G','CD3E','CD3D'],\n",
    "                      'B_cell':['CD79A','CD79B','VPREB3','BANK1'], #'MS4A1', 'CD19','IGLL5'\n",
    "                      'Plasma_cell':['MZB1','DNAJB9'], #'IGJ', 'MGP1', 'SEC11C','XBP1','PRDX4','SPCS2','SSR3','SDF2L1','MANF','TMEM258',\n",
    "                      #'MDC':['PKIB','INSIG1','CLEC10A','C15orf48','PPA1'] # 'CD1C',\n",
    "                      } \n"
   ]
  },
  {
   "cell_type": "markdown",
   "metadata": {},
   "source": [
    "## All cell types in the integration"
   ]
  },
  {
   "cell_type": "code",
   "execution_count": null,
   "metadata": {},
   "outputs": [],
   "source": [
    "adata = load_from_pickle('all-scvi-integrated-6-sc-datasets-with-infercnv.pickle')\n",
    "adata = add_cluster_phenotype_column(adata)"
   ]
  },
  {
   "cell_type": "code",
   "execution_count": null,
   "metadata": {},
   "outputs": [],
   "source": [
    "sc.tl.dendrogram(adata,groupby='cluster_phenotype',use_rep='X_scVI')\n",
    "sc.pl.dotplot(adata, broad_marker_genes, groupby='cluster_phenotype', dendrogram=True, log= False,\n",
    "              swap_axes = True, vmax=4)"
   ]
  },
  {
   "cell_type": "code",
   "execution_count": null,
   "metadata": {},
   "outputs": [],
   "source": [
    "\n",
    "# Find marker genes for unresolved clusters\n",
    "unidentified_clusters = ['CRPC_33','CRPC_37','CRPC_41']\n",
    "\n",
    "#sc.tl.rank_genes_groups(adata, groupby='cluster_phenotype', groups= unidentified_clusters,method='t-test', n_genes=50) # \n",
    "\n",
    "for s in unidentified_clusters:\n",
    "    print(s+': ')\n",
    "    print(adata[adata.obs['cluster_phenotype'] == s].obs['sample'].value_counts())\n",
    "    \n",
    "rcParams['figure.figsize'] = 4,4\n",
    "rcParams['axes.grid'] = True\n",
    "sc.pl.rank_genes_groups(adata)"
   ]
  },
  {
   "cell_type": "code",
   "execution_count": null,
   "metadata": {},
   "outputs": [],
   "source": [
    "# Modify the labels according to the dotplot\n",
    "detailed_celltypes = adata.obs['cluster_phenotype'].copy()\n",
    "\n",
    "\n",
    "'''\n",
    "detailed_celltypes = detailed_celltypes.replace(['PCa_30','normal_8','PCa_9','PCa_55','PCa_28','PCa_54','normal_25','CRPC_34','PCa_40','PCa_19'],'Epithelial_1')\n",
    "detailed_celltypes = detailed_celltypes.replace(['CRPC_21','PCa_11','PCa_42','CRPC_47','PCa_44','PCa_49'],'Epithelial_2')\n",
    "detailed_celltypes = detailed_celltypes.replace(['PCa_61','PCa_22','PCa_62'],'Epithelial_3')\n",
    "detailed_celltypes = detailed_celltypes.replace(['CRPC_57','normal_32','CRPC_27','normal_59','PCa_18','PCa_2','CRPC_51'],'Epithelial_4')\n",
    "detailed_celltypes = detailed_celltypes.replace(['PCa_35','CRPC_50'],'Epithelial_5')\n",
    "'''\n",
    "detailed_celltypes = detailed_celltypes.replace(['PCa_30','normal_8','PCa_9','PCa_55','PCa_28','PCa_54','normal_25','CRPC_34','PCa_40','PCa_19',\n",
    "                                                'CRPC_21','PCa_11','PCa_42','CRPC_47','PCa_44','PCa_49',\n",
    "                                                'PCa_61','PCa_22','PCa_62',\n",
    "                                                'CRPC_57','normal_32','CRPC_27','normal_59','PCa_18','PCa_2','CRPC_51',\n",
    "                                                'PCa_35','CRPC_50'],'Epithelial')\n",
    "\n",
    "detailed_celltypes = detailed_celltypes.replace(['PCa_56','CRPC_12'],'Fibroblast')\n",
    "detailed_celltypes = detailed_celltypes.replace(['normal_36','PCa_4'],'Pericyte')\n",
    "detailed_celltypes = detailed_celltypes.replace(['PCa_0','PCa_60'],'Endothelial')\n",
    "detailed_celltypes = detailed_celltypes.replace(['PCa_15','CRPC_38'],'Mast')\n",
    "detailed_celltypes = detailed_celltypes.replace(['PCa_1','normal_29','CRPC_52','PCa_53'],'Monocytic')\n",
    "detailed_celltypes = detailed_celltypes.replace(['PCa_43','normal_7','normal_16','normal_23','normal_14','normal_3','normal_13','PCa_5','normal_17',\n",
    "                                                'PCa_20','normal_31','PCa_26','CRPC_6','normal_24','normal_39'],'T_cell')\n",
    "detailed_celltypes = detailed_celltypes.replace(['normal_10','PCa_46','CRPC_45'],'B_cell')\n",
    "detailed_celltypes = detailed_celltypes.replace(['normal_48','normal_58'],'Plasma')\n",
    "\n",
    "# Unclassified\n",
    "detailed_celltypes = detailed_celltypes.replace(['CRPC_33'],'Ribosomal_CRPC')\n",
    "detailed_celltypes = detailed_celltypes.replace(['CRPC_37'],'Fibroblast_MEG3')\n",
    "detailed_celltypes = detailed_celltypes.replace(['CRPC_41'],'Fibroblast_ASPSCR1')\n",
    "\n",
    "\n",
    "\n",
    "adata.obs['detailed_celltypes'] = detailed_celltypes\n",
    "\n",
    "sc.tl.dendrogram(adata,groupby='detailed_celltypes',use_rep='X_scVI')\n",
    "sc.pl.dotplot(adata, broad_marker_genes, groupby='detailed_celltypes', dendrogram=True, log= False,\n",
    "              swap_axes = True, vmax=4)"
   ]
  },
  {
   "cell_type": "code",
   "execution_count": null,
   "metadata": {},
   "outputs": [],
   "source": [
    "epithelial_subset = adata[adata.obs['detailed_celltypes'].str.contains('Epithelial')]"
   ]
  },
  {
   "cell_type": "code",
   "execution_count": null,
   "metadata": {},
   "outputs": [],
   "source": [
    "for k in epithelial_markers.keys():\n",
    "    sc.tl.score_genes(epithelial_subset,epithelial_markers[k],score_name=k+'_score')\n",
    "    "
   ]
  },
  {
   "cell_type": "code",
   "execution_count": null,
   "metadata": {},
   "outputs": [],
   "source": [
    "df_sorted = epithelial_subset.obs[['cluster_phenotype',\n",
    " 'Basal_score',\n",
    " 'Luminal_score',\n",
    " 'Club_score',\n",
    " 'Hillock_score']]\n",
    "df_sorted = df_sorted.groupby(['cluster_phenotype']).mean()\n",
    "df_sorted[df_sorted>0]"
   ]
  },
  {
   "cell_type": "code",
   "execution_count": null,
   "metadata": {},
   "outputs": [],
   "source": [
    "df_EMT_tumor = epithelial_subset.obs[['cluster_phenotype',\n",
    " 'EMT_score',\n",
    " 'Tumor_score',]]\n",
    "df_EMT_tumor = df_EMT_tumor.groupby(['cluster_phenotype']).mean()\n",
    "df_EMT_tumor[df_EMT_tumor>0]"
   ]
  },
  {
   "cell_type": "code",
   "execution_count": null,
   "metadata": {},
   "outputs": [],
   "source": [
    "annotations = {}\n",
    "for idx in range(len(df_sorted)):\n",
    "    names = []\n",
    "    vec = df_sorted.iloc[idx].sort_values(ascending=False)\n",
    "    if vec[0] > 0:\n",
    "        names.append(vec.index[0])\n",
    "    if vec[1] > 0:\n",
    "        names.append(vec.index[1])\n",
    "    annot = '_'.join(sorted([s.strip('_score')for s in names]))\n",
    "    annotations[vec.name] = annot\n",
    "\n",
    "EMT_tumor_annot = df_EMT_tumor[df_EMT_tumor>0].idxmax(axis=1)\n",
    "EMT_tumor_annot = EMT_tumor_annot.fillna('')\n",
    "EMT_tumor_annot = [a[:-6] if a.endswith('_score') else a for a in EMT_tumor_annot]\n",
    "\n",
    "# Merge with the epithelial cell type annotations\n",
    "ks = list(annotations.keys())\n",
    "for i in range(len(EMT_tumor_annot)):\n",
    "    if EMT_tumor_annot[i] != '':\n",
    "        annotations[ks[i]] = ('_').join([annotations[ks[i]],EMT_tumor_annot[i]])\n",
    "annotations"
   ]
  },
  {
   "cell_type": "code",
   "execution_count": null,
   "metadata": {},
   "outputs": [],
   "source": [
    "epithelial_subset.obs['epithelial_celltypes'] = epithelial_subset.obs['cluster_phenotype'].map(annotations)\n",
    "epithelial_subset.obs['epithelial_celltypes'] = pd.Categorical(epithelial_subset.obs['epithelial_celltypes'])\n",
    "\n",
    "sc.tl.dendrogram(epithelial_subset,groupby='epithelial_celltypes',use_rep='X_scVI')\n",
    "sc.pl.dotplot(epithelial_subset, epithelial_markers_plotting, groupby='epithelial_celltypes', dendrogram=True, log= False,\n",
    "              swap_axes = True, vmax=4)"
   ]
  },
  {
   "cell_type": "code",
   "execution_count": null,
   "metadata": {},
   "outputs": [],
   "source": [
    "#sample_order = epithelial_subset.obs[['cluster_phenotype','Luminal_score']].groupby(['cluster_phenotype']).mean().sort_values('Luminal_score', ascending=False).index\n",
    "\n",
    "sc.set_figure_params(figsize=(16,8),dpi=80)\n",
    "for k in epithelial_markers.keys():\n",
    "    sample_order = epithelial_subset.obs[['epithelial_celltypes',k+'_score']].groupby(['epithelial_celltypes']).mean().sort_values(k+'_score', ascending=False).index\n",
    "    sc.pl.violin(epithelial_subset,groupby='epithelial_celltypes',keys=k+'_score',order=sample_order,rotation=45)\n"
   ]
  },
  {
   "cell_type": "code",
   "execution_count": null,
   "metadata": {},
   "outputs": [],
   "source": [
    "#adata.obs['detailed_celltypes'] = adata.obs['detailed_celltypes'].cat.add_categories(np.unique(list(annotations.values())))\n",
    "adata.obs['detailed_celltypes'] = adata.obs['detailed_celltypes'].cat.remove_unused_categories()\n",
    "for k in list(annotations.keys()):\n",
    "    adata.obs.loc[adata.obs['cluster_phenotype']==k,'detailed_celltypes'] = annotations[k]\n",
    "\n",
    "sc.tl.dendrogram(adata,groupby='detailed_celltypes',use_rep='X_scVI')\n",
    "sc.pl.dotplot(adata, broad_marker_genes, groupby='detailed_celltypes', dendrogram=True, log= False,\n",
    "              swap_axes = True, vmax=4)"
   ]
  },
  {
   "cell_type": "code",
   "execution_count": null,
   "metadata": {},
   "outputs": [],
   "source": [
    "adata.obs['detailed_celltypes'].value_counts()"
   ]
  },
  {
   "cell_type": "code",
   "execution_count": null,
   "metadata": {},
   "outputs": [],
   "source": [
    "adata.write('./single-cell-reference-with-revised-cell-types-20230322.h5ad')"
   ]
  },
  {
   "cell_type": "code",
   "execution_count": null,
   "metadata": {},
   "outputs": [],
   "source": []
  }
 ],
 "metadata": {
  "kernelspec": {
   "display_name": "Python 3 (ipykernel)",
   "language": "python",
   "name": "python3"
  },
  "language_info": {
   "codemirror_mode": {
    "name": "ipython",
    "version": 3
   },
   "file_extension": ".py",
   "mimetype": "text/x-python",
   "name": "python",
   "nbconvert_exporter": "python",
   "pygments_lexer": "ipython3",
   "version": "3.8.15"
  },
  "orig_nbformat": 4
 },
 "nbformat": 4,
 "nbformat_minor": 2
}
