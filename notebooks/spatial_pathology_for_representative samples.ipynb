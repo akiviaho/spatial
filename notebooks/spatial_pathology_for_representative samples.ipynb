{
 "cells": [
  {
   "cell_type": "code",
   "execution_count": null,
   "metadata": {},
   "outputs": [],
   "source": [
    "import os \n",
    "os.chdir('/lustre/scratch/kiviaho/prostate_spatial/')\n",
    "\n",
    "import scanpy as sc\n",
    "import numpy as np\n",
    "import pandas as pd\n",
    "\n",
    "import matplotlib.pyplot as plt\n",
    "import matplotlib.colors as colors\n",
    "from scripts.utils import get_sample_ids_reorder, get_sample_crop_coords, get_sample_id_mask, get_treatment_info\n",
    "from datetime import datetime   \n",
    "\n",
    "import seaborn as sns\n",
    "sns.set_theme(style='white')\n",
    "\n",
    "#from statsmodels.stats.multitest import fdrcorrection\n",
    "from tqdm import tqdm\n",
    "\n",
    "from scipy.stats import zscore, spearmanr\n",
    "\n",
    "import warnings\n",
    "warnings.filterwarnings(\"ignore\")\n",
    "\n",
    "samples = get_sample_ids_reorder()\n",
    "sample_crop_coord = get_sample_crop_coords()\n",
    "sample_id_masks = get_sample_id_mask()\n",
    "\n",
    "\n",
    "color_dict = {\n",
    "    'Tumor': '#fc8d62',\n",
    " 'Luminal epithelium': '#8da0cb',\n",
    " 'Basal epithelium': '#66c2a5',\n",
    " 'Club epithelium': '#ffd92f',\n",
    " 'Immune': '#a6d854',\n",
    " 'Endothelium': '#e78ac3',\n",
    " 'Fibroblast': '#e5c494',\n",
    " 'Muscle': '#b3b3b3'\n",
    " }\n",
    "\n",
    "regions = list(color_dict.keys())\n",
    "region_colors = list(color_dict.values())\n",
    "\n",
    "samples = get_sample_ids_reorder()"
   ]
  },
  {
   "cell_type": "code",
   "execution_count": null,
   "metadata": {},
   "outputs": [],
   "source": [
    "annot_excel = pd.read_excel('./data/pathology_annotation_exclude_info/annotation_completeness_information.xlsx',index_col=0)\n",
    "\n",
    "ready_samples = annot_excel[annot_excel['file ready'] == 'full'].index.tolist()\n",
    "\n",
    "# Download and pathology annotation for samples that are ready\n",
    "ready_pathology_info_df = pd.DataFrame()\n",
    "for sample in ready_samples:\n",
    "    df = pd.read_csv('./data/pathology_annotation_exclude_info/'+sample+'.csv')\n",
    "    df['sample_id'] = sample\n",
    "    ready_pathology_info_df = pd.concat([ready_pathology_info_df,df],axis=0)\n",
    "\n",
    "ready_pathology_info_df.index = ready_pathology_info_df['sample_id'] + '_' + ready_pathology_info_df['Barcode']\n",
    "\n",
    "# Drop Spots annotated as Lumen or as 'Exclude'\n",
    "ready_pathology_info_df = ready_pathology_info_df[~(ready_pathology_info_df['Pathology'].isin(['Exclude','Lumen']))]\n",
    "\n",
    "# Drop sporadic spots that are missin annotation\n",
    "#ready_pathology_info_df = ready_pathology_info_df[~(ready_pathology_info_df['Pathology'].isna())]\n",
    "\n",
    "pathology_colors_dict = {\n",
    "\"Gleason 5\": \"#FF0000\",\n",
    " \"Gleason 4 cribriform\": \"#FF3333\",\n",
    " \"Gleason 4\": \"#FF6666\",\n",
    " \"Gleason 3\": \"#FF9999\",\n",
    " \"PIN\": \"#FC9D58\",\n",
    " \"Atrophy\": \"#FAF2AA\",\n",
    " \"Benign\": \"#6666FF\",\n",
    " \"Stroma\": \"#DDDDDD\",\n",
    " \"Inflammation\": \"#90EE90\"}\n",
    "\n",
    "pathology_categories = list(pathology_colors_dict.keys())\n",
    "# Set the annotation categories - Some new ones may come in with more sample annotations\n",
    "ready_pathology_info_df['Pathology'] = ready_pathology_info_df['Pathology'].astype('category').cat.set_categories(pathology_categories)\n",
    "\n",
    "# This is the NTNU data annotation\n",
    "\"\"\" \n",
    "pathology_colors_dict = {\n",
    "\"ISUP5\": \"#FF0000\",\n",
    " \"ISUP4\": \"#FF3333\",\n",
    " \"ISUP3\": \"#FF6666\",\n",
    " \"ISUP2\": \"#FF9999\",\n",
    " \"ISUP1\": \"#FFCCCC\",\n",
    " \"ISUPX\": \"#FC9D58\",\n",
    " \"ISUPY\": \"#FFB078\",\n",
    " \"PNI\": \"#FAF2AA\",\n",
    " \"Non-cancer glands\": \"#6666FF\",\n",
    " \"Stroma\": \"#DDDDDD\",\n",
    " \"Lymphocyte-enriched stroma\": \"#D0F5D0\",\n",
    " \"Lymphocytes\": \"#90EE90\"}\n",
    " \"\"\""
   ]
  },
  {
   "cell_type": "code",
   "execution_count": 78,
   "metadata": {},
   "outputs": [
    {
     "data": {
      "text/plain": [
       "<Figure size 5400x1800 with 0 Axes>"
      ]
     },
     "metadata": {},
     "output_type": "display_data"
    },
    {
     "data": {
      "text/plain": [
       "<Figure size 5400x1800 with 0 Axes>"
      ]
     },
     "metadata": {},
     "output_type": "display_data"
    },
    {
     "data": {
      "text/plain": [
       "<Figure size 5400x1800 with 0 Axes>"
      ]
     },
     "metadata": {},
     "output_type": "display_data"
    },
    {
     "data": {
      "text/plain": [
       "<Figure size 5400x1800 with 0 Axes>"
      ]
     },
     "metadata": {},
     "output_type": "display_data"
    },
    {
     "data": {
      "text/plain": [
       "<Figure size 5400x1800 with 0 Axes>"
      ]
     },
     "metadata": {},
     "output_type": "display_data"
    },
    {
     "data": {
      "text/plain": [
       "<Figure size 5400x1800 with 0 Axes>"
      ]
     },
     "metadata": {},
     "output_type": "display_data"
    },
    {
     "data": {
      "text/plain": [
       "<Figure size 5400x1800 with 0 Axes>"
      ]
     },
     "metadata": {},
     "output_type": "display_data"
    },
    {
     "data": {
      "text/plain": [
       "<Figure size 5400x1800 with 0 Axes>"
      ]
     },
     "metadata": {},
     "output_type": "display_data"
    },
    {
     "data": {
      "text/plain": [
       "<Figure size 5400x1800 with 0 Axes>"
      ]
     },
     "metadata": {},
     "output_type": "display_data"
    },
    {
     "data": {
      "text/plain": [
       "<Figure size 5400x1800 with 0 Axes>"
      ]
     },
     "metadata": {},
     "output_type": "display_data"
    },
    {
     "data": {
      "text/plain": [
       "<Figure size 5400x1800 with 0 Axes>"
      ]
     },
     "metadata": {},
     "output_type": "display_data"
    },
    {
     "data": {
      "text/plain": [
       "<Figure size 5400x1800 with 0 Axes>"
      ]
     },
     "metadata": {},
     "output_type": "display_data"
    },
    {
     "data": {
      "text/plain": [
       "<Figure size 5400x1800 with 0 Axes>"
      ]
     },
     "metadata": {},
     "output_type": "display_data"
    },
    {
     "data": {
      "text/plain": [
       "<Figure size 5400x1800 with 0 Axes>"
      ]
     },
     "metadata": {},
     "output_type": "display_data"
    },
    {
     "data": {
      "text/plain": [
       "<Figure size 5400x1800 with 0 Axes>"
      ]
     },
     "metadata": {},
     "output_type": "display_data"
    },
    {
     "data": {
      "text/plain": [
       "<Figure size 5400x1800 with 0 Axes>"
      ]
     },
     "metadata": {},
     "output_type": "display_data"
    }
   ],
   "source": [
    "for sample in ready_samples:\n",
    "\n",
    "    fig, axes = plt.subplots(1,3,figsize=(9,3),dpi=600)\n",
    "\n",
    "    slide = sc.read_h5ad('./data/visium_with_regions/'+sample+'_with_regions.h5ad')\n",
    "\n",
    "    # Copy the pathology annotation information onto the slide\n",
    "    slide.obs['Pathology'] = ready_pathology_info_df.loc[slide.obs_names.intersection(ready_pathology_info_df.index)]['Pathology'].cat.remove_unused_categories()\n",
    "\n",
    "    for i,key in enumerate(['none','Pathology','predicted_region']): \n",
    "\n",
    "        if key == 'Pathology':\n",
    "            # Set the palette to only those that are present in the sample\n",
    "            pal = [pathology_colors_dict[k] for k in  slide.obs[key].cat.categories.tolist()]\n",
    "\n",
    "        elif key == 'predicted_region':\n",
    "            pal = [color_dict[k] for k in  slide.obs[key].cat.categories.tolist()]\n",
    "\n",
    "        # Set the palette\n",
    "        sns.set_palette(sns.color_palette(pal))\n",
    "\n",
    "        if key == 'none':\n",
    "            sc.pl.spatial(slide,\n",
    "                        size=0, alpha_img=1.0, legend_loc=None, # Old 1.3 and 0.8\n",
    "                        crop_coord=sample_crop_coord[sample],\n",
    "                        ax=axes[i],show=False\n",
    "                        )\n",
    "            \n",
    "        else:\n",
    "            sc.pl.spatial(slide,color=key,\n",
    "                        size=1.5, alpha_img=0.0, legend_loc=None, # Old 1.3 and 0.8\n",
    "                        crop_coord=sample_crop_coord[sample],\n",
    "                        ax=axes[i],show=False\n",
    "                        )\n",
    "            \n",
    "\n",
    "\n",
    "        axes[i].spines['top'].set_visible(False)\n",
    "        axes[i].spines['right'].set_visible(False)\n",
    "        axes[i].spines['bottom'].set_visible(False)\n",
    "        axes[i].spines['left'].set_visible(False)\n",
    "\n",
    "        axes[i].set_xlabel('')\n",
    "        axes[i].set_ylabel('')\n",
    "        axes[i].set_title('')\n",
    "\n",
    "    plt.savefig('plots/spatial_plots/pathology_regions/'+sample+'_pathology_regions_side_by_side.pdf',transparent=True)\n",
    "    plt.clf()\n",
    "    #plt.show()"
   ]
  },
  {
   "cell_type": "code",
   "execution_count": 75,
   "metadata": {},
   "outputs": [
    {
     "name": "stdout",
     "output_type": "stream",
     "text": [
      "Gleason 5\n",
      "Gleason 4 cribriform\n",
      "Gleason 4\n",
      "Gleason 3\n",
      "PIN\n",
      "Atrophy\n",
      "Benign\n",
      "Stroma\n",
      "Inflammation\n"
     ]
    },
    {
     "data": {
      "image/png": "[encoded data removed]",
      "text/plain": [
       "<Figure size 648x72 with 1 Axes>"
      ]
     },
     "metadata": {},
     "output_type": "display_data"
    }
   ],
   "source": [
    "sns.palplot(sns.color_palette(pathology_colors_dict.values()))\n",
    "plt.savefig('plots/spatial_plots/pathology_regions/pathology_color_palette.png',dpi=1200)\n",
    "for k in pathology_categories:\n",
    "    print(k)"
   ]
  },
  {
   "cell_type": "code",
   "execution_count": null,
   "metadata": {},
   "outputs": [],
   "source": []
  }
 ],
 "metadata": {
  "kernelspec": {
   "display_name": "squidpy",
   "language": "python",
   "name": "python3"
  },
  "language_info": {
   "codemirror_mode": {
    "name": "ipython",
    "version": 3
   },
   "file_extension": ".py",
   "mimetype": "text/x-python",
   "name": "python",
   "nbconvert_exporter": "python",
   "pygments_lexer": "ipython3",
   "version": "3.8.15"
  }
 },
 "nbformat": 4,
 "nbformat_minor": 2
}
