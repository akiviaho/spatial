{
 "cells": [
  {
   "cell_type": "code",
   "execution_count": null,
   "metadata": {},
   "outputs": [],
   "source": [
    "# Date: 7.12.2023\n",
    "# Author: Antti Kiviaho\n",
    "#\n",
    "# Notebook for associating survival and progression with the Club-region signature"
   ]
  },
  {
   "cell_type": "code",
   "execution_count": 1,
   "metadata": {},
   "outputs": [
    {
     "name": "stderr",
     "output_type": "stream",
     "text": [
      "Matplotlib created a temporary config/cache directory at /tmp/matplotlib-e8eton4o because the default path (/run/cache/matplotlib) is not a writable directory; it is highly recommended to set the MPLCONFIGDIR environment variable to a writable directory, in particular to speed up the import of Matplotlib and to better support multiprocessing.\n"
     ]
    }
   ],
   "source": [
    "import os \n",
    "os.chdir('/lustre/scratch/kiviaho/prostate_spatial/')\n",
    "\n",
    "import numpy as np\n",
    "import pandas as pd\n",
    "import scanpy as sc\n",
    "import anndata as ad\n",
    "\n",
    "from scripts.utils import load_from_pickle, save_to_pickle\n",
    "import matplotlib.pyplot as plt\n",
    "import matplotlib as mpl\n",
    "\n",
    "from lifelines import KaplanMeierFitter\n",
    "from lifelines.plotting import add_at_risk_counts\n",
    "from lifelines.statistics import logrank_test\n",
    "\n",
    "import gseapy as gp\n",
    "#import GSVA\n",
    "\n",
    "import seaborn as sns\n",
    "sns.set_theme(style='white')\n",
    "\n",
    "\n",
    "import warnings\n",
    "warnings.filterwarnings(\"ignore\")\n",
    "\n"
   ]
  },
  {
   "cell_type": "code",
   "execution_count": 2,
   "metadata": {},
   "outputs": [],
   "source": [
    "def plot_distribution(df,score_name, thr = 0.5):\n",
    "\n",
    "    data = df[score_name]\n",
    "    # Create a figure and axes\n",
    "    fig, ax = plt.subplots(figsize=(8,5))\n",
    "\n",
    "    # Plot the histogram with blue bars for values smaller than the median and orange bars for values larger than the median\n",
    "    n, bins, patches = ax.hist(data, bins=30)\n",
    "\n",
    "    # Add a vertical line at the median\n",
    "    ax.axvline(x=data.quantile(thr), color='black', linestyle='--')\n",
    "\n",
    "    # Set labels and title\n",
    "    ax.set_xlabel('Enrichment score')\n",
    "    ax.set_ylabel('Frequency')\n",
    "    ax.set_title(score_name + ' signature score distribution')\n",
    "\n",
    "    # Show the plot\n",
    "    plt.show()\n",
    "\n",
    "\n",
    "def plot_kaplan_meier(df_original, score, measure, event, thr = 0.5, save_plot = True,show_plot=False,save_path='plots/kaplan_meier_curves/TCGA/'):\n",
    "    \n",
    "    quantile_value = df_original[score].quantile(thr)\n",
    "    # Split the dataframe into two groups based on the score\n",
    "    low_score_group = df_original[df_original[score] < quantile_value].copy()\n",
    "    high_score_group = df_original[df_original[score] >= quantile_value].copy()\n",
    "    print('High median: {:.2f}, low median: {:.2f}'.format(high_score_group[score].median(),low_score_group[score].median()))\n",
    "\n",
    "    # Plot the Kaplan-Meier curves for each group\n",
    "    fig, ax = plt.subplots(figsize=(12,8))\n",
    "\n",
    "    # Fit the survival data to the Kaplan-Meier estimator for each group\n",
    "    kmf1 = KaplanMeierFitter().fit(low_score_group[measure], event_observed=low_score_group[event], label=score + ' low')\n",
    "    kmf2 = KaplanMeierFitter().fit(high_score_group[measure], event_observed=high_score_group[event], label=score + ' high')\n",
    "\n",
    "\n",
    "    kmf1.plot(ax=ax, show_censors=True, ci_show=False,color='#1F77B4')\n",
    "    kmf2.plot(ax=ax, show_censors=True, ci_show=False, color='#FF7F0E')\n",
    "    \n",
    "    ax.set_xlim(0,120)\n",
    "\n",
    "    # Add labels and title to the plot\n",
    "    plt.xlabel('Time (months)')\n",
    "    plt.ylabel('Progression Free Interval (PFI)')\n",
    "\n",
    "\n",
    "\n",
    "    results = logrank_test(high_score_group[measure], low_score_group[measure], event_observed_A=high_score_group[event], event_observed_B=low_score_group[event])\n",
    "\n",
    "    # Print the p-value and test statistic\n",
    "    print(\"Log-Rank Test p-value: {:.4f}\".format(results.p_value))\n",
    "    print(\"Log-Rank Test statistic: {:.1f}\".format(results.test_statistic))\n",
    "    print('')\n",
    "\n",
    "    plt.title(score + ' GSVA score split by q=' + str(thr) + '\\n two-sided log-rank p-value: {:.2e}'.format(results.p_value))\n",
    "\n",
    "    # Add legend to the plot\n",
    "    plt.legend()\n",
    "\n",
    "    # Add 'at risk' counts table to the plot\n",
    "    add_at_risk_counts(kmf1, kmf2)\n",
    "\n",
    "    ax.set_ylim(-0.05,1.05)\n",
    "    plt.tight_layout()\n",
    "\n",
    "    if save_plot:\n",
    "        plt.savefig(save_path + score.replace(' ','_') + '_kaplan_meier.pdf')\n",
    "\n",
    "    if show_plot:\n",
    "        \n",
    "        # Display the plot\n",
    "        plt.show()\n",
    "    else:\n",
    "        plt.clf()\n",
    "\n",
    "\n",
    "def check_top_markers(r,p_thresh=0.05):\n",
    "    # These results rank the deg significance and specificity (low p-value = good marker)\n",
    "    deg_fishers_res_dict = load_from_pickle('./data/region_gene_markers_fishers_exact_test_240128.pkl')\n",
    "\n",
    "    fishers_test_df = deg_fishers_res_dict[r].rename(columns={'interaction':'gene','active_in':'deg in'})\n",
    "    fishers_test_df = fishers_test_df.sort_values('adj_pval').reset_index(drop=True)\n",
    "    fishers_test_df = fishers_test_df[fishers_test_df['adj_pval'] < p_thresh]\n",
    "\n",
    "    return fishers_test_df\n",
    "\n",
    "def check_gene_marker_status(gene):\n",
    "    # These results rank the deg significance and specificity (low p-value = good marker)\n",
    "    deg_fishers_res_dict = load_from_pickle('./data/region_gene_markers_fishers_exact_test_240128.pkl')\n",
    "\n",
    "    for r in deg_fishers_res_dict:\n",
    "        fishers_test_df = deg_fishers_res_dict[r].rename(columns={'interaction':'gene','active_in':'deg in'})\n",
    "        fishers_test_df = fishers_test_df.sort_values('adj_pval').reset_index(drop=True)\n",
    "        if fishers_test_df['gene'].str.contains(gene).any(): \n",
    "            print(fishers_test_df[fishers_test_df['gene']==gene])\n",
    "            print('')"
   ]
  },
  {
   "cell_type": "markdown",
   "metadata": {},
   "source": [
    "### Dowloading and formatting the gene lists"
   ]
  },
  {
   "cell_type": "code",
   "execution_count": 3,
   "metadata": {},
   "outputs": [],
   "source": [
    "gene_set_df = pd.read_excel('custom_gene_lists.xlsx',header=None).drop(columns=0).set_index(1).T\n",
    "\n",
    "gene_sets_of_interest = gene_set_df.columns.tolist()\n",
    "\n",
    "gene_sets = gene_set_df[gene_sets_of_interest].to_dict('list')\n",
    "\n",
    "for key, value in gene_sets.items():\n",
    "    # Remove NaN values from the list\n",
    "    gene_sets[key] = [x for x in value if pd.notnull(x)]"
   ]
  },
  {
   "cell_type": "code",
   "execution_count": 4,
   "metadata": {},
   "outputs": [],
   "source": [
    "n_top = 100\n",
    "\n",
    "gene_modules_dict = {\n",
    "    'Tumor region': check_top_markers('Tumor')['gene'].tolist(),\n",
    "    'Luminal region': check_top_markers('Luminal epithelium')['gene'].tolist(),\n",
    "    'Basal region': check_top_markers('Basal epithelium')['gene'].tolist(),\n",
    "    'Club region': check_top_markers('Club epithelium')['gene'].tolist(),\n",
    "    'Immune region': check_top_markers('Immune')['gene'].tolist()\n",
    "                    }\n",
    "\n",
    "\"\"\" \n",
    "for k in gene_modules_dict.keys():\n",
    "    if len(gene_modules_dict[k]) > n_top:\n",
    "        gene_modules_dict[k] = gene_modules_dict[k][:n_top]\n",
    "\n",
    " \"\"\"\n",
    "gene_modules_dict = {**gene_modules_dict,**gene_sets}\n",
    "gene_modules_dict['Club_prosgenesis'] = list(np.intersect1d(gene_modules_dict['PROSGenesis'],gene_modules_dict['Club region']))\n",
    "gene_modules_dict['Club_SCL'] = list(np.intersect1d(gene_modules_dict['CRPC-SCL'],gene_modules_dict['Club region']))\n",
    "gene_modules_dict['Club_region_excl_club'] = list(set(gene_modules_dict['Club region']) - set(gene_modules_dict['Club']))\n",
    "\n",
    "df = pd.DataFrame.from_dict(gene_modules_dict,orient='index').reset_index(names='name')\n",
    "df = df.melt(id_vars='name').sort_values('name').dropna().reset_index(drop=True)\n",
    "df.columns = ['name','description','member']\n",
    "df['description'] = 'NA'\n",
    "gmt_format_df = df.copy()"
   ]
  },
  {
   "cell_type": "markdown",
   "metadata": {},
   "source": [
    "## TCGA-PRAD"
   ]
  },
  {
   "cell_type": "code",
   "execution_count": null,
   "metadata": {},
   "outputs": [],
   "source": [
    "# This is the old version of formatting the data\n",
    "\n",
    "\"\"\" \n",
    "tcga_sample_sheet = pd.read_csv('bulk_RNAseq/TCGA_PRAD/gdc_sample_sheet.2023-12-07.tsv',sep='\\t').set_index('Case ID')\n",
    "\n",
    "tcga_patient_annot = pd.read_csv('bulk_RNAseq/TCGA_PRAD/TCGA_patient_annotations.csv',index_col=0).set_index('patient_barcode')\n",
    "tcga_patient_annot = tcga_patient_annot[tcga_patient_annot['type'] == 'PRAD']\n",
    "\n",
    "tcga_metadata = pd.merge(tcga_sample_sheet,tcga_patient_annot,left_index=True,right_index=True,how='left')\n",
    "tcga_metadata['PFI'].value_counts()\n",
    "\n",
    " \"\"\"\n",
    "\n",
    "# This is downloaded from the Xena browser\n",
    "# https://xenabrowser.net/datapages/?dataset=survival%2FPRAD_survival.txt&host=https%3A%2F%2Ftcga.xenahubs.net&removeHub=https%3A%2F%2Fxena.treehouse.gi.ucsc.edu%3A443\n",
    "tcga_metadata = pd.read_csv('bulk_RNAseq/TCGA_PRAD/tcga_xenahubs_metadata.txt',sep='\\t')\n",
    "tcga_metadata['PFI'].value_counts()\n"
   ]
  },
  {
   "cell_type": "code",
   "execution_count": null,
   "metadata": {},
   "outputs": [],
   "source": [
    "\"\"\" \n",
    "# Extract TPM counts from the TCGA files\n",
    "count_type = 'tpm_unstranded'\n",
    "tcga_df_list = []\n",
    "\n",
    "for idx in np.arange(len(tcga_metadata)):\n",
    "    dir = tcga_metadata['File ID'].iloc[idx]\n",
    "    file_name = tcga_metadata['File Name'].iloc[idx]\n",
    "    sample = tcga_metadata['Sample ID'].iloc[idx]\n",
    "\n",
    "    path = 'bulk_RNAseq/TCGA_PRAD/sequencing_reads/'+dir+'/'+file_name\n",
    "\n",
    "    dat = pd.read_csv(path,sep='\\t',index_col=None,skiprows=1)\n",
    "    dat = dat.drop(index=[0,1,2,3])\n",
    "    dat = dat[dat['gene_type'] == 'protein_coding'].reset_index(drop=True)\n",
    "    dat = dat[['gene_name',count_type]].set_index('gene_name')\n",
    "    dat.columns = [sample]\n",
    "\n",
    "    tcga_df_list.append(dat)\n",
    "\n",
    "    if idx %50 ==0:\n",
    "        print(str(idx)+'/'+str(len(tcga_metadata)))\n",
    "\n",
    "tcga_counts_dat = pd.concat(tcga_df_list,axis=1)\n",
    "\n",
    "# Save the counts into a csv file\n",
    "tcga_counts_dat.to_csv('data/tcga_tpm_counts.csv')\n",
    "\n",
    " \"\"\"\n",
    "\n",
    "# This is an expression dataframe downloaded formatted with the above code\n",
    "#tcga_counts_dat = pd.read_csv('data/tcga_tpm_counts.csv')\n",
    "\n",
    "# This is downloaded from the xena browser\n",
    "\n",
    "\n",
    "tcga_counts_dat = pd.read_csv('bulk_RNAseq/TCGA_PRAD/TCGA_PRAD_xenabrowser_counts_2FHiSeqV2.txt',sep='\\t')\n",
    "tcga_counts_dat = tcga_counts_dat.rename(columns={'sample':'gene_name'})"
   ]
  },
  {
   "cell_type": "code",
   "execution_count": null,
   "metadata": {},
   "outputs": [],
   "source": [
    "#  Run enrichment using the gseapy gsva method\n",
    "\n",
    "tcga_enrich_res = gp.gsva(data=tcga_counts_dat,gene_sets=gene_modules_dict,outdir=None, min_size=0, max_size=2000)\n",
    "tcga_enrich_df = tcga_enrich_res.res2d.pivot(index='Name', columns='Term', values='ES').reset_index(names='Sample Identifier')\n",
    "\n",
    "\n",
    "final_tcga_data = pd.merge(tcga_enrich_df,tcga_metadata,left_on='Sample Identifier',right_on='sample').set_index('Sample Identifier')\n",
    "\n",
    "# Transform days to months \n",
    "for col in final_tcga_data.columns:\n",
    "    if '.time' in col:\n",
    "        final_tcga_data[col] = final_tcga_data[col] / 30        \n",
    "\n"
   ]
  },
  {
   "cell_type": "code",
   "execution_count": null,
   "metadata": {},
   "outputs": [],
   "source": [
    "q = 0.5\n",
    "score_name = 'NLR associated'\n",
    "plot_kaplan_meier(final_tcga_data, score_name, 'PFI.time', 'PFI',thr=q,save_plot=False,show_plot=True)"
   ]
  },
  {
   "cell_type": "code",
   "execution_count": null,
   "metadata": {},
   "outputs": [],
   "source": [
    "q = 0.5\n",
    "#score_name = 'Club region'\n",
    "\n",
    "for score_name in gene_modules_dict.keys():\n",
    "    if score_name in final_tcga_data.columns:\n",
    "        print(score_name)\n",
    "        #plot_distribution(final_tcga_data,score_name,thr=q)\n",
    "        plot_kaplan_meier(final_tcga_data, score_name, 'PFI.time', 'PFI',thr=q)"
   ]
  },
  {
   "cell_type": "markdown",
   "metadata": {},
   "source": [
    "## SU2C Metastatic Prostate Adenocarcinoma (SU2C/PCF Dream Team, PNAS 2019)"
   ]
  },
  {
   "cell_type": "code",
   "execution_count": 5,
   "metadata": {},
   "outputs": [],
   "source": [
    "\n",
    "def plot_kaplan_meier_SU2C(df_original, score, measure, event, thr = 0.5, save_plot = True,show_plot=False,save_path='plots/kaplan_meier_curves/SU2C/'):\n",
    "      \n",
    "    \n",
    "    quantile_value = df_original[score].quantile(thr)\n",
    "    # Split the dataframe into two groups based on the score\n",
    "    low_score_group = df_original[df_original[score] < quantile_value].copy()\n",
    "    high_score_group = df_original[df_original[score] >= quantile_value].copy()\n",
    "    print('High median: {:.2f}, low median: {:.2f}'.format(high_score_group[score].median(),low_score_group[score].median()))\n",
    "\n",
    "    # Plot the Kaplan-Meier curves for each group\n",
    "    fig, ax = plt.subplots(figsize=(12,8))\n",
    "\n",
    "    # Fit the survival data to the Kaplan-Meier estimator for each group\n",
    "    kmf1 = KaplanMeierFitter().fit(low_score_group[measure], event_observed=low_score_group[event], label=score + ' low')\n",
    "    kmf2 = KaplanMeierFitter().fit(high_score_group[measure], event_observed=high_score_group[event], label=score + ' high')\n",
    "\n",
    "\n",
    "    kmf1.plot(ax=ax, show_censors=True, ci_show=False,color='#1F77B4')\n",
    "    kmf2.plot(ax=ax, show_censors=True, ci_show=False, color='#FF7F0E')\n",
    "\n",
    "    # Add labels and title to the plot\n",
    "    plt.xlabel('Time (months)')\n",
    "    plt.ylabel('Overall survival')\n",
    "\n",
    "\n",
    "\n",
    "    results = logrank_test(high_score_group[measure], low_score_group[measure], event_observed_A=high_score_group[event], event_observed_B=low_score_group[event])\n",
    "\n",
    "    # Print the p-value and test statistic\n",
    "    print(\"Log-Rank Test p-value: {:.4f}\".format(results.p_value))\n",
    "    print(\"Log-Rank Test statistic: {:.1f}\".format(results.test_statistic))\n",
    "    print('')\n",
    "\n",
    "    plt.title(score + ' GSVA score split by q=' + str(thr) + '\\n two-sided log-rank p-value: {:.2e}'.format(results.p_value))\n",
    "\n",
    "    # Add legend to the plot\n",
    "    plt.legend()\n",
    "\n",
    "    # Add 'at risk' counts table to the plot\n",
    "    add_at_risk_counts(kmf1, kmf2)\n",
    "\n",
    "    ax.set_ylim(-0.05,1.05)\n",
    "    plt.tight_layout()\n",
    "\n",
    "    if save_plot:\n",
    "        plt.savefig(save_path + score.replace(' ','_') + '_kaplan_meier.pdf')\n",
    "\n",
    "    if show_plot:\n",
    "        \n",
    "        # Display the plot\n",
    "        plt.show()\n",
    "    else:\n",
    "        plt.clf()\n"
   ]
  },
  {
   "cell_type": "code",
   "execution_count": 56,
   "metadata": {},
   "outputs": [
    {
     "data": {
      "text/plain": [
       "1:DECEASED    84\n",
       "0:LIVING      52\n",
       "Name: Overall Survival Status, dtype: int64"
      ]
     },
     "execution_count": 56,
     "metadata": {},
     "output_type": "execute_result"
    }
   ],
   "source": [
    "# Download both subsets\n",
    "dat_polya = pd.read_csv('bulk_RNAseq/prad_su2c_2019/data_mrna_seq_fpkm_polya_zscores_ref_all_samples.txt',sep='\\t',index_col=0)\n",
    "dat_capture = pd.read_csv('bulk_RNAseq/prad_su2c_2019/data_mrna_seq_fpkm_capture_zscores_ref_all_samples.txt',sep='\\t',index_col=0)\n",
    "\n",
    "su2c_clinical_data = pd.read_csv('bulk_RNAseq/prad_su2c_2019/prad_su2c_2019_clinical_data.tsv',sep='\\t')\n",
    "#su2c_clinical_data = su2c_clinical_data[(su2c_clinical_data['Abiraterone (ABI) and Enzalutamide (ENZA) Exposure Status']=='Naive') & ~(su2c_clinical_data['Overall Survival Status'].isna())].reset_index(drop=True)\n",
    "\n",
    "# Drop those the entries that don't have survival status information\n",
    "su2c_clinical_data = su2c_clinical_data[~(su2c_clinical_data['Overall Survival Status'].isna())].reset_index(drop=True)\n",
    "\n",
    "# Format OS into float for the Kaplan Meier plotting\n",
    "su2c_clinical_data['OS'] = pd.Series([s[0] for s in su2c_clinical_data['Overall Survival Status'].str.split(':')],dtype=float)\n",
    "\n",
    "su2c_clinical_data['Overall Survival Status'].value_counts()"
   ]
  },
  {
   "cell_type": "code",
   "execution_count": 84,
   "metadata": {},
   "outputs": [
    {
     "data": {
      "text/plain": [
       "0      DFCI.11-104.02-Tumor\n",
       "1      DFCI.11-104.13-Tumor\n",
       "2             MO_1084-Tumor\n",
       "3             MO_1094-Tumor\n",
       "4             MO_1124-Tumor\n",
       "               ...         \n",
       "131               WCM243_X1\n",
       "132               WCM335_X1\n",
       "133               WCM430_X1\n",
       "134               WCM491_Z4\n",
       "135               WCM663_Z1\n",
       "Name: Sample ID, Length: 136, dtype: object"
      ]
     },
     "execution_count": 84,
     "metadata": {},
     "output_type": "execute_result"
    }
   ],
   "source": [
    "su2c_clinical_data['Sample ID']"
   ]
  },
  {
   "cell_type": "code",
   "execution_count": 57,
   "metadata": {},
   "outputs": [
    {
     "data": {
      "text/html": [
       "<div>\n",
       "<style scoped>\n",
       "    .dataframe tbody tr th:only-of-type {\n",
       "        vertical-align: middle;\n",
       "    }\n",
       "\n",
       "    .dataframe tbody tr th {\n",
       "        vertical-align: top;\n",
       "    }\n",
       "\n",
       "    .dataframe thead th {\n",
       "        text-align: right;\n",
       "    }\n",
       "</style>\n",
       "<table border=\"1\" class=\"dataframe\">\n",
       "  <thead>\n",
       "    <tr style=\"text-align: right;\">\n",
       "      <th></th>\n",
       "      <th>Study ID</th>\n",
       "      <th>Patient ID</th>\n",
       "      <th>Sample ID</th>\n",
       "      <th>Abiraterone (ABI) and Enzalutamide (ENZA) Exposure Status</th>\n",
       "      <th>Age at Diagnosis</th>\n",
       "      <th>Age At Procurement</th>\n",
       "      <th>AR Score (Capture)</th>\n",
       "      <th>AR Score (PolyA)</th>\n",
       "      <th>AR Score</th>\n",
       "      <th>Cancer Type</th>\n",
       "      <th>...</th>\n",
       "      <th>RAF1/BRAF Status</th>\n",
       "      <th>Number of Samples Per Patient</th>\n",
       "      <th>Sex</th>\n",
       "      <th>Somatic Status</th>\n",
       "      <th>Taxane Exposure Status</th>\n",
       "      <th>Tissue Site</th>\n",
       "      <th>Tissue Source Site</th>\n",
       "      <th>TMB (nonsynonymous)</th>\n",
       "      <th>Unique Paper Samples</th>\n",
       "      <th>OS</th>\n",
       "    </tr>\n",
       "  </thead>\n",
       "  <tbody>\n",
       "    <tr>\n",
       "      <th>1</th>\n",
       "      <td>prad_su2c_2019</td>\n",
       "      <td>1115020</td>\n",
       "      <td>DFCI.11-104.13-Tumor</td>\n",
       "      <td>On treatment</td>\n",
       "      <td>53.7</td>\n",
       "      <td>59.0</td>\n",
       "      <td>NaN</td>\n",
       "      <td>0.519534</td>\n",
       "      <td>0.519534</td>\n",
       "      <td>Prostate Cancer</td>\n",
       "      <td>...</td>\n",
       "      <td>NaN</td>\n",
       "      <td>1</td>\n",
       "      <td>Male</td>\n",
       "      <td>Matched</td>\n",
       "      <td>Naive</td>\n",
       "      <td>LN</td>\n",
       "      <td>DFCI</td>\n",
       "      <td>1.633333</td>\n",
       "      <td>YES</td>\n",
       "      <td>1.0</td>\n",
       "    </tr>\n",
       "    <tr>\n",
       "      <th>2</th>\n",
       "      <td>prad_su2c_2019</td>\n",
       "      <td>5115030</td>\n",
       "      <td>MO_1084-Tumor</td>\n",
       "      <td>Naive</td>\n",
       "      <td>63.1</td>\n",
       "      <td>77.0</td>\n",
       "      <td>0.590949</td>\n",
       "      <td>0.478249</td>\n",
       "      <td>0.478249</td>\n",
       "      <td>Prostate Cancer</td>\n",
       "      <td>...</td>\n",
       "      <td>NaN</td>\n",
       "      <td>1</td>\n",
       "      <td>Male</td>\n",
       "      <td>Matched</td>\n",
       "      <td>Naive</td>\n",
       "      <td>LN</td>\n",
       "      <td>Michigan</td>\n",
       "      <td>1.833333</td>\n",
       "      <td>YES</td>\n",
       "      <td>0.0</td>\n",
       "    </tr>\n",
       "    <tr>\n",
       "      <th>3</th>\n",
       "      <td>prad_su2c_2019</td>\n",
       "      <td>5115031</td>\n",
       "      <td>MO_1094-Tumor</td>\n",
       "      <td>Naive</td>\n",
       "      <td>66.2</td>\n",
       "      <td>67.0</td>\n",
       "      <td>-0.077035</td>\n",
       "      <td>-0.082116</td>\n",
       "      <td>-0.082116</td>\n",
       "      <td>Prostate Cancer</td>\n",
       "      <td>...</td>\n",
       "      <td>KIAA1549-BRAF</td>\n",
       "      <td>1</td>\n",
       "      <td>Male</td>\n",
       "      <td>Matched</td>\n",
       "      <td>Naive</td>\n",
       "      <td>Bone</td>\n",
       "      <td>Michigan</td>\n",
       "      <td>1.433333</td>\n",
       "      <td>YES</td>\n",
       "      <td>0.0</td>\n",
       "    </tr>\n",
       "    <tr>\n",
       "      <th>4</th>\n",
       "      <td>prad_su2c_2019</td>\n",
       "      <td>5115058</td>\n",
       "      <td>MO_1124-Tumor</td>\n",
       "      <td>Naive</td>\n",
       "      <td>42.3</td>\n",
       "      <td>66.0</td>\n",
       "      <td>0.420828</td>\n",
       "      <td>0.451808</td>\n",
       "      <td>0.451808</td>\n",
       "      <td>Prostate Cancer</td>\n",
       "      <td>...</td>\n",
       "      <td>NaN</td>\n",
       "      <td>1</td>\n",
       "      <td>Male</td>\n",
       "      <td>Matched</td>\n",
       "      <td>Naive</td>\n",
       "      <td>Other Soft tissue</td>\n",
       "      <td>Michigan</td>\n",
       "      <td>2.766667</td>\n",
       "      <td>YES</td>\n",
       "      <td>1.0</td>\n",
       "    </tr>\n",
       "    <tr>\n",
       "      <th>5</th>\n",
       "      <td>prad_su2c_2019</td>\n",
       "      <td>5115075</td>\n",
       "      <td>MO_1128-Tumor</td>\n",
       "      <td>Naive</td>\n",
       "      <td>59.7</td>\n",
       "      <td>71.0</td>\n",
       "      <td>NaN</td>\n",
       "      <td>0.403902</td>\n",
       "      <td>0.403902</td>\n",
       "      <td>Prostate Cancer</td>\n",
       "      <td>...</td>\n",
       "      <td>NaN</td>\n",
       "      <td>1</td>\n",
       "      <td>Male</td>\n",
       "      <td>Matched</td>\n",
       "      <td>Naive</td>\n",
       "      <td>LN</td>\n",
       "      <td>Michigan</td>\n",
       "      <td>1.766667</td>\n",
       "      <td>YES</td>\n",
       "      <td>1.0</td>\n",
       "    </tr>\n",
       "    <tr>\n",
       "      <th>...</th>\n",
       "      <td>...</td>\n",
       "      <td>...</td>\n",
       "      <td>...</td>\n",
       "      <td>...</td>\n",
       "      <td>...</td>\n",
       "      <td>...</td>\n",
       "      <td>...</td>\n",
       "      <td>...</td>\n",
       "      <td>...</td>\n",
       "      <td>...</td>\n",
       "      <td>...</td>\n",
       "      <td>...</td>\n",
       "      <td>...</td>\n",
       "      <td>...</td>\n",
       "      <td>...</td>\n",
       "      <td>...</td>\n",
       "      <td>...</td>\n",
       "      <td>...</td>\n",
       "      <td>...</td>\n",
       "      <td>...</td>\n",
       "      <td>...</td>\n",
       "    </tr>\n",
       "    <tr>\n",
       "      <th>126</th>\n",
       "      <td>prad_su2c_2019</td>\n",
       "      <td>5115405</td>\n",
       "      <td>TP_2069_Tumor</td>\n",
       "      <td>Naive</td>\n",
       "      <td>63.4</td>\n",
       "      <td>65.8</td>\n",
       "      <td>0.518703</td>\n",
       "      <td>0.435773</td>\n",
       "      <td>0.435773</td>\n",
       "      <td>Prostate Cancer</td>\n",
       "      <td>...</td>\n",
       "      <td>NaN</td>\n",
       "      <td>1</td>\n",
       "      <td>Male</td>\n",
       "      <td>Matched</td>\n",
       "      <td>Naive</td>\n",
       "      <td>LN</td>\n",
       "      <td>Michigan</td>\n",
       "      <td>6.300000</td>\n",
       "      <td>YES</td>\n",
       "      <td>0.0</td>\n",
       "    </tr>\n",
       "    <tr>\n",
       "      <th>127</th>\n",
       "      <td>prad_su2c_2019</td>\n",
       "      <td>5115409</td>\n",
       "      <td>TP_2077_Tumor</td>\n",
       "      <td>Naive</td>\n",
       "      <td>NaN</td>\n",
       "      <td>66.2</td>\n",
       "      <td>0.632124</td>\n",
       "      <td>0.622175</td>\n",
       "      <td>0.622175</td>\n",
       "      <td>Prostate Cancer</td>\n",
       "      <td>...</td>\n",
       "      <td>NaN</td>\n",
       "      <td>1</td>\n",
       "      <td>Male</td>\n",
       "      <td>Matched</td>\n",
       "      <td>Naive</td>\n",
       "      <td>LN</td>\n",
       "      <td>Michigan</td>\n",
       "      <td>2.566667</td>\n",
       "      <td>YES</td>\n",
       "      <td>0.0</td>\n",
       "    </tr>\n",
       "    <tr>\n",
       "      <th>128</th>\n",
       "      <td>prad_su2c_2019</td>\n",
       "      <td>5115410</td>\n",
       "      <td>TP_2078_Tumor</td>\n",
       "      <td>Naive</td>\n",
       "      <td>NaN</td>\n",
       "      <td>85.0</td>\n",
       "      <td>0.609205</td>\n",
       "      <td>0.595321</td>\n",
       "      <td>0.595321</td>\n",
       "      <td>Prostate Cancer</td>\n",
       "      <td>...</td>\n",
       "      <td>NaN</td>\n",
       "      <td>1</td>\n",
       "      <td>Male</td>\n",
       "      <td>Matched</td>\n",
       "      <td>Naive</td>\n",
       "      <td>LN</td>\n",
       "      <td>Michigan</td>\n",
       "      <td>4.066667</td>\n",
       "      <td>YES</td>\n",
       "      <td>0.0</td>\n",
       "    </tr>\n",
       "    <tr>\n",
       "      <th>129</th>\n",
       "      <td>prad_su2c_2019</td>\n",
       "      <td>5115412</td>\n",
       "      <td>TP_2081_T</td>\n",
       "      <td>Naive</td>\n",
       "      <td>58.2</td>\n",
       "      <td>59.4</td>\n",
       "      <td>0.559341</td>\n",
       "      <td>0.489384</td>\n",
       "      <td>0.489384</td>\n",
       "      <td>Prostate Cancer</td>\n",
       "      <td>...</td>\n",
       "      <td>NaN</td>\n",
       "      <td>1</td>\n",
       "      <td>Male</td>\n",
       "      <td>Matched</td>\n",
       "      <td>Naive</td>\n",
       "      <td>Bone</td>\n",
       "      <td>Michigan</td>\n",
       "      <td>2.500000</td>\n",
       "      <td>YES</td>\n",
       "      <td>0.0</td>\n",
       "    </tr>\n",
       "    <tr>\n",
       "      <th>132</th>\n",
       "      <td>prad_su2c_2019</td>\n",
       "      <td>96115473</td>\n",
       "      <td>WCM335_X1</td>\n",
       "      <td>Naive</td>\n",
       "      <td>58.1</td>\n",
       "      <td>53.0</td>\n",
       "      <td>NaN</td>\n",
       "      <td>0.370352</td>\n",
       "      <td>0.370352</td>\n",
       "      <td>Prostate Cancer</td>\n",
       "      <td>...</td>\n",
       "      <td>NaN</td>\n",
       "      <td>1</td>\n",
       "      <td>Male</td>\n",
       "      <td>Matched</td>\n",
       "      <td>Naive</td>\n",
       "      <td>Bone</td>\n",
       "      <td>Cornell</td>\n",
       "      <td>1.266667</td>\n",
       "      <td>YES</td>\n",
       "      <td>0.0</td>\n",
       "    </tr>\n",
       "  </tbody>\n",
       "</table>\n",
       "<p>81 rows × 41 columns</p>\n",
       "</div>"
      ],
      "text/plain": [
       "           Study ID  Patient ID             Sample ID  \\\n",
       "1    prad_su2c_2019     1115020  DFCI.11-104.13-Tumor   \n",
       "2    prad_su2c_2019     5115030         MO_1084-Tumor   \n",
       "3    prad_su2c_2019     5115031         MO_1094-Tumor   \n",
       "4    prad_su2c_2019     5115058         MO_1124-Tumor   \n",
       "5    prad_su2c_2019     5115075         MO_1128-Tumor   \n",
       "..              ...         ...                   ...   \n",
       "126  prad_su2c_2019     5115405         TP_2069_Tumor   \n",
       "127  prad_su2c_2019     5115409         TP_2077_Tumor   \n",
       "128  prad_su2c_2019     5115410         TP_2078_Tumor   \n",
       "129  prad_su2c_2019     5115412             TP_2081_T   \n",
       "132  prad_su2c_2019    96115473             WCM335_X1   \n",
       "\n",
       "    Abiraterone (ABI) and Enzalutamide (ENZA) Exposure Status  \\\n",
       "1                                         On treatment          \n",
       "2                                                Naive          \n",
       "3                                                Naive          \n",
       "4                                                Naive          \n",
       "5                                                Naive          \n",
       "..                                                 ...          \n",
       "126                                              Naive          \n",
       "127                                              Naive          \n",
       "128                                              Naive          \n",
       "129                                              Naive          \n",
       "132                                              Naive          \n",
       "\n",
       "     Age at Diagnosis  Age At Procurement  AR Score (Capture)  \\\n",
       "1                53.7                59.0                 NaN   \n",
       "2                63.1                77.0            0.590949   \n",
       "3                66.2                67.0           -0.077035   \n",
       "4                42.3                66.0            0.420828   \n",
       "5                59.7                71.0                 NaN   \n",
       "..                ...                 ...                 ...   \n",
       "126              63.4                65.8            0.518703   \n",
       "127               NaN                66.2            0.632124   \n",
       "128               NaN                85.0            0.609205   \n",
       "129              58.2                59.4            0.559341   \n",
       "132              58.1                53.0                 NaN   \n",
       "\n",
       "     AR Score (PolyA)  AR Score      Cancer Type  ... RAF1/BRAF Status  \\\n",
       "1            0.519534  0.519534  Prostate Cancer  ...              NaN   \n",
       "2            0.478249  0.478249  Prostate Cancer  ...              NaN   \n",
       "3           -0.082116 -0.082116  Prostate Cancer  ...    KIAA1549-BRAF   \n",
       "4            0.451808  0.451808  Prostate Cancer  ...              NaN   \n",
       "5            0.403902  0.403902  Prostate Cancer  ...              NaN   \n",
       "..                ...       ...              ...  ...              ...   \n",
       "126          0.435773  0.435773  Prostate Cancer  ...              NaN   \n",
       "127          0.622175  0.622175  Prostate Cancer  ...              NaN   \n",
       "128          0.595321  0.595321  Prostate Cancer  ...              NaN   \n",
       "129          0.489384  0.489384  Prostate Cancer  ...              NaN   \n",
       "132          0.370352  0.370352  Prostate Cancer  ...              NaN   \n",
       "\n",
       "     Number of Samples Per Patient   Sex Somatic Status  \\\n",
       "1                                1  Male        Matched   \n",
       "2                                1  Male        Matched   \n",
       "3                                1  Male        Matched   \n",
       "4                                1  Male        Matched   \n",
       "5                                1  Male        Matched   \n",
       "..                             ...   ...            ...   \n",
       "126                              1  Male        Matched   \n",
       "127                              1  Male        Matched   \n",
       "128                              1  Male        Matched   \n",
       "129                              1  Male        Matched   \n",
       "132                              1  Male        Matched   \n",
       "\n",
       "    Taxane Exposure Status        Tissue Site Tissue Source Site  \\\n",
       "1                    Naive                 LN               DFCI   \n",
       "2                    Naive                 LN           Michigan   \n",
       "3                    Naive               Bone           Michigan   \n",
       "4                    Naive  Other Soft tissue           Michigan   \n",
       "5                    Naive                 LN           Michigan   \n",
       "..                     ...                ...                ...   \n",
       "126                  Naive                 LN           Michigan   \n",
       "127                  Naive                 LN           Michigan   \n",
       "128                  Naive                 LN           Michigan   \n",
       "129                  Naive               Bone           Michigan   \n",
       "132                  Naive               Bone            Cornell   \n",
       "\n",
       "     TMB (nonsynonymous)  Unique Paper Samples   OS  \n",
       "1               1.633333                   YES  1.0  \n",
       "2               1.833333                   YES  0.0  \n",
       "3               1.433333                   YES  0.0  \n",
       "4               2.766667                   YES  1.0  \n",
       "5               1.766667                   YES  1.0  \n",
       "..                   ...                   ...  ...  \n",
       "126             6.300000                   YES  0.0  \n",
       "127             2.566667                   YES  0.0  \n",
       "128             4.066667                   YES  0.0  \n",
       "129             2.500000                   YES  0.0  \n",
       "132             1.266667                   YES  0.0  \n",
       "\n",
       "[81 rows x 41 columns]"
      ]
     },
     "execution_count": 57,
     "metadata": {},
     "output_type": "execute_result"
    }
   ],
   "source": [
    "su2c_clinical_data[su2c_clinical_data['Sample ID'].isin(dat_polya.columns)]"
   ]
  },
  {
   "cell_type": "code",
   "execution_count": 58,
   "metadata": {},
   "outputs": [
    {
     "data": {
      "text/html": [
       "<div>\n",
       "<style scoped>\n",
       "    .dataframe tbody tr th:only-of-type {\n",
       "        vertical-align: middle;\n",
       "    }\n",
       "\n",
       "    .dataframe tbody tr th {\n",
       "        vertical-align: top;\n",
       "    }\n",
       "\n",
       "    .dataframe thead th {\n",
       "        text-align: right;\n",
       "    }\n",
       "</style>\n",
       "<table border=\"1\" class=\"dataframe\">\n",
       "  <thead>\n",
       "    <tr style=\"text-align: right;\">\n",
       "      <th></th>\n",
       "      <th>Study ID</th>\n",
       "      <th>Patient ID</th>\n",
       "      <th>Sample ID</th>\n",
       "      <th>Abiraterone (ABI) and Enzalutamide (ENZA) Exposure Status</th>\n",
       "      <th>Age at Diagnosis</th>\n",
       "      <th>Age At Procurement</th>\n",
       "      <th>AR Score (Capture)</th>\n",
       "      <th>AR Score (PolyA)</th>\n",
       "      <th>AR Score</th>\n",
       "      <th>Cancer Type</th>\n",
       "      <th>...</th>\n",
       "      <th>RAF1/BRAF Status</th>\n",
       "      <th>Number of Samples Per Patient</th>\n",
       "      <th>Sex</th>\n",
       "      <th>Somatic Status</th>\n",
       "      <th>Taxane Exposure Status</th>\n",
       "      <th>Tissue Site</th>\n",
       "      <th>Tissue Source Site</th>\n",
       "      <th>TMB (nonsynonymous)</th>\n",
       "      <th>Unique Paper Samples</th>\n",
       "      <th>OS</th>\n",
       "    </tr>\n",
       "  </thead>\n",
       "  <tbody>\n",
       "    <tr>\n",
       "      <th>2</th>\n",
       "      <td>prad_su2c_2019</td>\n",
       "      <td>5115030</td>\n",
       "      <td>MO_1084-Tumor</td>\n",
       "      <td>Naive</td>\n",
       "      <td>63.1</td>\n",
       "      <td>77.0</td>\n",
       "      <td>0.590949</td>\n",
       "      <td>0.478249</td>\n",
       "      <td>0.478249</td>\n",
       "      <td>Prostate Cancer</td>\n",
       "      <td>...</td>\n",
       "      <td>NaN</td>\n",
       "      <td>1</td>\n",
       "      <td>Male</td>\n",
       "      <td>Matched</td>\n",
       "      <td>Naive</td>\n",
       "      <td>LN</td>\n",
       "      <td>Michigan</td>\n",
       "      <td>1.833333</td>\n",
       "      <td>YES</td>\n",
       "      <td>0.0</td>\n",
       "    </tr>\n",
       "    <tr>\n",
       "      <th>3</th>\n",
       "      <td>prad_su2c_2019</td>\n",
       "      <td>5115031</td>\n",
       "      <td>MO_1094-Tumor</td>\n",
       "      <td>Naive</td>\n",
       "      <td>66.2</td>\n",
       "      <td>67.0</td>\n",
       "      <td>-0.077035</td>\n",
       "      <td>-0.082116</td>\n",
       "      <td>-0.082116</td>\n",
       "      <td>Prostate Cancer</td>\n",
       "      <td>...</td>\n",
       "      <td>KIAA1549-BRAF</td>\n",
       "      <td>1</td>\n",
       "      <td>Male</td>\n",
       "      <td>Matched</td>\n",
       "      <td>Naive</td>\n",
       "      <td>Bone</td>\n",
       "      <td>Michigan</td>\n",
       "      <td>1.433333</td>\n",
       "      <td>YES</td>\n",
       "      <td>0.0</td>\n",
       "    </tr>\n",
       "    <tr>\n",
       "      <th>4</th>\n",
       "      <td>prad_su2c_2019</td>\n",
       "      <td>5115058</td>\n",
       "      <td>MO_1124-Tumor</td>\n",
       "      <td>Naive</td>\n",
       "      <td>42.3</td>\n",
       "      <td>66.0</td>\n",
       "      <td>0.420828</td>\n",
       "      <td>0.451808</td>\n",
       "      <td>0.451808</td>\n",
       "      <td>Prostate Cancer</td>\n",
       "      <td>...</td>\n",
       "      <td>NaN</td>\n",
       "      <td>1</td>\n",
       "      <td>Male</td>\n",
       "      <td>Matched</td>\n",
       "      <td>Naive</td>\n",
       "      <td>Other Soft tissue</td>\n",
       "      <td>Michigan</td>\n",
       "      <td>2.766667</td>\n",
       "      <td>YES</td>\n",
       "      <td>1.0</td>\n",
       "    </tr>\n",
       "    <tr>\n",
       "      <th>6</th>\n",
       "      <td>prad_su2c_2019</td>\n",
       "      <td>5115186</td>\n",
       "      <td>MO_1176-Tumor</td>\n",
       "      <td>Naive</td>\n",
       "      <td>55.2</td>\n",
       "      <td>55.3</td>\n",
       "      <td>0.563266</td>\n",
       "      <td>0.521441</td>\n",
       "      <td>0.521441</td>\n",
       "      <td>Prostate Cancer</td>\n",
       "      <td>...</td>\n",
       "      <td>NaN</td>\n",
       "      <td>1</td>\n",
       "      <td>Male</td>\n",
       "      <td>Matched</td>\n",
       "      <td>Naive</td>\n",
       "      <td>LN</td>\n",
       "      <td>Michigan</td>\n",
       "      <td>2.800000</td>\n",
       "      <td>YES</td>\n",
       "      <td>0.0</td>\n",
       "    </tr>\n",
       "    <tr>\n",
       "      <th>7</th>\n",
       "      <td>prad_su2c_2019</td>\n",
       "      <td>5115129</td>\n",
       "      <td>MO_1179-Tumor</td>\n",
       "      <td>Naive</td>\n",
       "      <td>70.0</td>\n",
       "      <td>75.0</td>\n",
       "      <td>0.381326</td>\n",
       "      <td>0.359682</td>\n",
       "      <td>0.359682</td>\n",
       "      <td>Prostate Cancer</td>\n",
       "      <td>...</td>\n",
       "      <td>NaN</td>\n",
       "      <td>1</td>\n",
       "      <td>Male</td>\n",
       "      <td>Matched</td>\n",
       "      <td>Naive</td>\n",
       "      <td>Bone</td>\n",
       "      <td>Michigan</td>\n",
       "      <td>2.200000</td>\n",
       "      <td>YES</td>\n",
       "      <td>1.0</td>\n",
       "    </tr>\n",
       "    <tr>\n",
       "      <th>...</th>\n",
       "      <td>...</td>\n",
       "      <td>...</td>\n",
       "      <td>...</td>\n",
       "      <td>...</td>\n",
       "      <td>...</td>\n",
       "      <td>...</td>\n",
       "      <td>...</td>\n",
       "      <td>...</td>\n",
       "      <td>...</td>\n",
       "      <td>...</td>\n",
       "      <td>...</td>\n",
       "      <td>...</td>\n",
       "      <td>...</td>\n",
       "      <td>...</td>\n",
       "      <td>...</td>\n",
       "      <td>...</td>\n",
       "      <td>...</td>\n",
       "      <td>...</td>\n",
       "      <td>...</td>\n",
       "      <td>...</td>\n",
       "      <td>...</td>\n",
       "    </tr>\n",
       "    <tr>\n",
       "      <th>125</th>\n",
       "      <td>prad_su2c_2019</td>\n",
       "      <td>5115327</td>\n",
       "      <td>TP_2064-TM</td>\n",
       "      <td>Naive</td>\n",
       "      <td>62.5</td>\n",
       "      <td>71.0</td>\n",
       "      <td>0.648067</td>\n",
       "      <td>0.655058</td>\n",
       "      <td>0.655058</td>\n",
       "      <td>Prostate Cancer</td>\n",
       "      <td>...</td>\n",
       "      <td>NaN</td>\n",
       "      <td>1</td>\n",
       "      <td>Male</td>\n",
       "      <td>Matched</td>\n",
       "      <td>Naive</td>\n",
       "      <td>LN</td>\n",
       "      <td>Michigan</td>\n",
       "      <td>3.466667</td>\n",
       "      <td>YES</td>\n",
       "      <td>0.0</td>\n",
       "    </tr>\n",
       "    <tr>\n",
       "      <th>126</th>\n",
       "      <td>prad_su2c_2019</td>\n",
       "      <td>5115405</td>\n",
       "      <td>TP_2069_Tumor</td>\n",
       "      <td>Naive</td>\n",
       "      <td>63.4</td>\n",
       "      <td>65.8</td>\n",
       "      <td>0.518703</td>\n",
       "      <td>0.435773</td>\n",
       "      <td>0.435773</td>\n",
       "      <td>Prostate Cancer</td>\n",
       "      <td>...</td>\n",
       "      <td>NaN</td>\n",
       "      <td>1</td>\n",
       "      <td>Male</td>\n",
       "      <td>Matched</td>\n",
       "      <td>Naive</td>\n",
       "      <td>LN</td>\n",
       "      <td>Michigan</td>\n",
       "      <td>6.300000</td>\n",
       "      <td>YES</td>\n",
       "      <td>0.0</td>\n",
       "    </tr>\n",
       "    <tr>\n",
       "      <th>127</th>\n",
       "      <td>prad_su2c_2019</td>\n",
       "      <td>5115409</td>\n",
       "      <td>TP_2077_Tumor</td>\n",
       "      <td>Naive</td>\n",
       "      <td>NaN</td>\n",
       "      <td>66.2</td>\n",
       "      <td>0.632124</td>\n",
       "      <td>0.622175</td>\n",
       "      <td>0.622175</td>\n",
       "      <td>Prostate Cancer</td>\n",
       "      <td>...</td>\n",
       "      <td>NaN</td>\n",
       "      <td>1</td>\n",
       "      <td>Male</td>\n",
       "      <td>Matched</td>\n",
       "      <td>Naive</td>\n",
       "      <td>LN</td>\n",
       "      <td>Michigan</td>\n",
       "      <td>2.566667</td>\n",
       "      <td>YES</td>\n",
       "      <td>0.0</td>\n",
       "    </tr>\n",
       "    <tr>\n",
       "      <th>128</th>\n",
       "      <td>prad_su2c_2019</td>\n",
       "      <td>5115410</td>\n",
       "      <td>TP_2078_Tumor</td>\n",
       "      <td>Naive</td>\n",
       "      <td>NaN</td>\n",
       "      <td>85.0</td>\n",
       "      <td>0.609205</td>\n",
       "      <td>0.595321</td>\n",
       "      <td>0.595321</td>\n",
       "      <td>Prostate Cancer</td>\n",
       "      <td>...</td>\n",
       "      <td>NaN</td>\n",
       "      <td>1</td>\n",
       "      <td>Male</td>\n",
       "      <td>Matched</td>\n",
       "      <td>Naive</td>\n",
       "      <td>LN</td>\n",
       "      <td>Michigan</td>\n",
       "      <td>4.066667</td>\n",
       "      <td>YES</td>\n",
       "      <td>0.0</td>\n",
       "    </tr>\n",
       "    <tr>\n",
       "      <th>129</th>\n",
       "      <td>prad_su2c_2019</td>\n",
       "      <td>5115412</td>\n",
       "      <td>TP_2081_T</td>\n",
       "      <td>Naive</td>\n",
       "      <td>58.2</td>\n",
       "      <td>59.4</td>\n",
       "      <td>0.559341</td>\n",
       "      <td>0.489384</td>\n",
       "      <td>0.489384</td>\n",
       "      <td>Prostate Cancer</td>\n",
       "      <td>...</td>\n",
       "      <td>NaN</td>\n",
       "      <td>1</td>\n",
       "      <td>Male</td>\n",
       "      <td>Matched</td>\n",
       "      <td>Naive</td>\n",
       "      <td>Bone</td>\n",
       "      <td>Michigan</td>\n",
       "      <td>2.500000</td>\n",
       "      <td>YES</td>\n",
       "      <td>0.0</td>\n",
       "    </tr>\n",
       "  </tbody>\n",
       "</table>\n",
       "<p>71 rows × 41 columns</p>\n",
       "</div>"
      ],
      "text/plain": [
       "           Study ID  Patient ID      Sample ID  \\\n",
       "2    prad_su2c_2019     5115030  MO_1084-Tumor   \n",
       "3    prad_su2c_2019     5115031  MO_1094-Tumor   \n",
       "4    prad_su2c_2019     5115058  MO_1124-Tumor   \n",
       "6    prad_su2c_2019     5115186  MO_1176-Tumor   \n",
       "7    prad_su2c_2019     5115129  MO_1179-Tumor   \n",
       "..              ...         ...            ...   \n",
       "125  prad_su2c_2019     5115327     TP_2064-TM   \n",
       "126  prad_su2c_2019     5115405  TP_2069_Tumor   \n",
       "127  prad_su2c_2019     5115409  TP_2077_Tumor   \n",
       "128  prad_su2c_2019     5115410  TP_2078_Tumor   \n",
       "129  prad_su2c_2019     5115412      TP_2081_T   \n",
       "\n",
       "    Abiraterone (ABI) and Enzalutamide (ENZA) Exposure Status  \\\n",
       "2                                                Naive          \n",
       "3                                                Naive          \n",
       "4                                                Naive          \n",
       "6                                                Naive          \n",
       "7                                                Naive          \n",
       "..                                                 ...          \n",
       "125                                              Naive          \n",
       "126                                              Naive          \n",
       "127                                              Naive          \n",
       "128                                              Naive          \n",
       "129                                              Naive          \n",
       "\n",
       "     Age at Diagnosis  Age At Procurement  AR Score (Capture)  \\\n",
       "2                63.1                77.0            0.590949   \n",
       "3                66.2                67.0           -0.077035   \n",
       "4                42.3                66.0            0.420828   \n",
       "6                55.2                55.3            0.563266   \n",
       "7                70.0                75.0            0.381326   \n",
       "..                ...                 ...                 ...   \n",
       "125              62.5                71.0            0.648067   \n",
       "126              63.4                65.8            0.518703   \n",
       "127               NaN                66.2            0.632124   \n",
       "128               NaN                85.0            0.609205   \n",
       "129              58.2                59.4            0.559341   \n",
       "\n",
       "     AR Score (PolyA)  AR Score      Cancer Type  ... RAF1/BRAF Status  \\\n",
       "2            0.478249  0.478249  Prostate Cancer  ...              NaN   \n",
       "3           -0.082116 -0.082116  Prostate Cancer  ...    KIAA1549-BRAF   \n",
       "4            0.451808  0.451808  Prostate Cancer  ...              NaN   \n",
       "6            0.521441  0.521441  Prostate Cancer  ...              NaN   \n",
       "7            0.359682  0.359682  Prostate Cancer  ...              NaN   \n",
       "..                ...       ...              ...  ...              ...   \n",
       "125          0.655058  0.655058  Prostate Cancer  ...              NaN   \n",
       "126          0.435773  0.435773  Prostate Cancer  ...              NaN   \n",
       "127          0.622175  0.622175  Prostate Cancer  ...              NaN   \n",
       "128          0.595321  0.595321  Prostate Cancer  ...              NaN   \n",
       "129          0.489384  0.489384  Prostate Cancer  ...              NaN   \n",
       "\n",
       "     Number of Samples Per Patient   Sex Somatic Status  \\\n",
       "2                                1  Male        Matched   \n",
       "3                                1  Male        Matched   \n",
       "4                                1  Male        Matched   \n",
       "6                                1  Male        Matched   \n",
       "7                                1  Male        Matched   \n",
       "..                             ...   ...            ...   \n",
       "125                              1  Male        Matched   \n",
       "126                              1  Male        Matched   \n",
       "127                              1  Male        Matched   \n",
       "128                              1  Male        Matched   \n",
       "129                              1  Male        Matched   \n",
       "\n",
       "    Taxane Exposure Status        Tissue Site Tissue Source Site  \\\n",
       "2                    Naive                 LN           Michigan   \n",
       "3                    Naive               Bone           Michigan   \n",
       "4                    Naive  Other Soft tissue           Michigan   \n",
       "6                    Naive                 LN           Michigan   \n",
       "7                    Naive               Bone           Michigan   \n",
       "..                     ...                ...                ...   \n",
       "125                  Naive                 LN           Michigan   \n",
       "126                  Naive                 LN           Michigan   \n",
       "127                  Naive                 LN           Michigan   \n",
       "128                  Naive                 LN           Michigan   \n",
       "129                  Naive               Bone           Michigan   \n",
       "\n",
       "     TMB (nonsynonymous)  Unique Paper Samples   OS  \n",
       "2               1.833333                   YES  0.0  \n",
       "3               1.433333                   YES  0.0  \n",
       "4               2.766667                   YES  1.0  \n",
       "6               2.800000                   YES  0.0  \n",
       "7               2.200000                   YES  1.0  \n",
       "..                   ...                   ...  ...  \n",
       "125             3.466667                   YES  0.0  \n",
       "126             6.300000                   YES  0.0  \n",
       "127             2.566667                   YES  0.0  \n",
       "128             4.066667                   YES  0.0  \n",
       "129             2.500000                   YES  0.0  \n",
       "\n",
       "[71 rows x 41 columns]"
      ]
     },
     "execution_count": 58,
     "metadata": {},
     "output_type": "execute_result"
    }
   ],
   "source": [
    "su2c_clinical_data[su2c_clinical_data['Sample ID'].isin(dat_capture.columns)]"
   ]
  },
  {
   "cell_type": "code",
   "execution_count": 59,
   "metadata": {},
   "outputs": [
    {
     "data": {
      "text/plain": [
       "1.0    84\n",
       "0.0    52\n",
       "dtype: int64"
      ]
     },
     "execution_count": 59,
     "metadata": {},
     "output_type": "execute_result"
    }
   ],
   "source": [
    "pd.Series([s[0] for s in su2c_clinical_data['Overall Survival Status'].str.split(':')],dtype=float).value_counts()"
   ]
  },
  {
   "cell_type": "markdown",
   "metadata": {},
   "source": [
    "### Run scoring"
   ]
  },
  {
   "cell_type": "code",
   "execution_count": 60,
   "metadata": {},
   "outputs": [
    {
     "name": "stderr",
     "output_type": "stream",
     "text": [
      "2024-02-13 09:24:30,373 [WARNING] Input data contains NA, filled NA with 0\n",
      "2024-02-13 09:24:30,406 [WARNING] Found duplicated gene names, values averaged by gene names!\n",
      "2024-02-13 09:24:52,934 [WARNING] Input data contains NA, filled NA with 0\n",
      "2024-02-13 09:24:52,961 [WARNING] Found duplicated gene names, values averaged by gene names!\n"
     ]
    }
   ],
   "source": [
    "# Run enrichment of both the the polyA and the capture sets\n",
    "\n",
    "polya_enrichment_res = gp.gsva(data=dat_polya,gene_sets=gene_modules_dict,outdir=None, min_size=0, max_size=2000)\n",
    "polya_enrichment_df = polya_enrichment_res.res2d.pivot(index='Name', columns='Term', values='ES').reset_index(names='Sample Identifier')\n",
    "\n",
    "capture_enrichment_res = gp.gsva(data=dat_capture,gene_sets=gene_modules_dict,outdir=None, min_size=0, max_size=2000)\n",
    "capture_enrichment_df = capture_enrichment_res.res2d.pivot(index='Name', columns='Term', values='ES').reset_index(names='Sample Identifier')"
   ]
  },
  {
   "cell_type": "code",
   "execution_count": 71,
   "metadata": {},
   "outputs": [],
   "source": [
    "# Merge enrichment results with the metadata\n",
    "polya_enrichment_res = pd.merge(su2c_clinical_data,polya_enrichment_df,left_on='Sample ID',right_on='Sample Identifier')\n",
    "capture_enrichment_res = pd.merge(su2c_clinical_data,capture_enrichment_df,left_on='Sample ID',right_on='Sample Identifier')\n"
   ]
  },
  {
   "cell_type": "markdown",
   "metadata": {},
   "source": [
    "### Scoring just the polyA"
   ]
  },
  {
   "cell_type": "code",
   "execution_count": 77,
   "metadata": {},
   "outputs": [
    {
     "data": {
      "text/plain": [
       "1.0    47\n",
       "0.0    34\n",
       "Name: OS, dtype: int64"
      ]
     },
     "execution_count": 77,
     "metadata": {},
     "output_type": "execute_result"
    }
   ],
   "source": [
    "polya_enrichment_res['OS'].value_counts()"
   ]
  },
  {
   "cell_type": "code",
   "execution_count": 80,
   "metadata": {},
   "outputs": [
    {
     "name": "stdout",
     "output_type": "stream",
     "text": [
      "Persist\n",
      "High median: 0.43, low median: -0.47\n",
      "Log-Rank Test p-value: 0.0015\n",
      "Log-Rank Test statistic: 10.1\n",
      "\n"
     ]
    },
    {
     "data": {
      "image/png": "[encoded data removed]",
      "text/plain": [
       "<Figure size 864x576 with 2 Axes>"
      ]
     },
     "metadata": {
      "needs_background": "light"
     },
     "output_type": "display_data"
    }
   ],
   "source": [
    "q = 0.5\n",
    "\n",
    "score_name = 'Persist'\n",
    "\n",
    "if score_name in polya_enrichment_res.columns:\n",
    "    print(score_name)\n",
    "    #plot_distribution(final_tcga_data,score_name,thr=q)\n",
    "    plot_kaplan_meier_SU2C(polya_enrichment_res, score_name,measure = 'Overall Survival (Months)',event = 'OS',thr=q,save_plot=False,show_plot=True)"
   ]
  },
  {
   "cell_type": "code",
   "execution_count": 86,
   "metadata": {},
   "outputs": [
    {
     "name": "stdout",
     "output_type": "stream",
     "text": [
      "Tumor region\n",
      "High median: 0.28, low median: -0.19\n",
      "Log-Rank Test p-value: 0.1868\n",
      "Log-Rank Test statistic: 1.7\n",
      "\n",
      "Luminal region\n",
      "High median: 0.22, low median: -0.13\n",
      "Log-Rank Test p-value: 0.2065\n",
      "Log-Rank Test statistic: 1.6\n",
      "\n",
      "Basal region\n",
      "High median: 0.13, low median: -0.33\n",
      "Log-Rank Test p-value: 0.8823\n",
      "Log-Rank Test statistic: 0.0\n",
      "\n",
      "Club region\n",
      "High median: 0.12, low median: -0.25\n",
      "Log-Rank Test p-value: 0.9632\n",
      "Log-Rank Test statistic: 0.0\n",
      "\n",
      "Immune region\n",
      "High median: 0.32, low median: -0.48\n",
      "Log-Rank Test p-value: 0.3857\n",
      "Log-Rank Test statistic: 0.8\n",
      "\n",
      "CRPCsig51\n",
      "High median: 0.39, low median: -0.55\n",
      "Log-Rank Test p-value: 0.0010\n",
      "Log-Rank Test statistic: 10.9\n",
      "\n",
      "Hillock\n",
      "High median: 0.19, low median: -0.24\n",
      "Log-Rank Test p-value: 0.1959\n",
      "Log-Rank Test statistic: 1.7\n",
      "\n",
      "Club\n",
      "High median: 0.15, low median: -0.24\n",
      "Log-Rank Test p-value: 0.9217\n",
      "Log-Rank Test statistic: 0.0\n",
      "\n",
      "Basal\n",
      "High median: 0.30, low median: -0.31\n",
      "Log-Rank Test p-value: 0.6723\n",
      "Log-Rank Test statistic: 0.2\n",
      "\n",
      "Luminal\n",
      "High median: 0.29, low median: -0.13\n",
      "Log-Rank Test p-value: 0.6107\n",
      "Log-Rank Test statistic: 0.3\n",
      "\n",
      "Persist\n",
      "High median: 0.43, low median: -0.47\n",
      "Log-Rank Test p-value: 0.0015\n",
      "Log-Rank Test statistic: 10.1\n",
      "\n",
      "PROSGenesis\n",
      "High median: 0.13, low median: -0.14\n",
      "Log-Rank Test p-value: 0.5499\n",
      "Log-Rank Test statistic: 0.4\n",
      "\n",
      "AR signaling\n",
      "High median: 0.35, low median: -0.28\n",
      "Log-Rank Test p-value: 0.5403\n",
      "Log-Rank Test statistic: 0.4\n",
      "\n",
      "NEPC\n",
      "High median: 0.14, low median: -0.31\n",
      "Log-Rank Test p-value: 0.6344\n",
      "Log-Rank Test statistic: 0.2\n",
      "\n",
      "PAM50 LumA down\n",
      "High median: 0.47, low median: -0.56\n",
      "Log-Rank Test p-value: 0.0031\n",
      "Log-Rank Test statistic: 8.7\n",
      "\n",
      "PAM50 LumB down\n",
      "High median: 0.21, low median: -0.17\n",
      "Log-Rank Test p-value: 0.2548\n",
      "Log-Rank Test statistic: 1.3\n",
      "\n",
      "PAM50 Basal down\n",
      "High median: 0.27, low median: -0.28\n",
      "Log-Rank Test p-value: 0.8892\n",
      "Log-Rank Test statistic: 0.0\n",
      "\n",
      "AR-A\n",
      "High median: 0.43, low median: -0.31\n",
      "Log-Rank Test p-value: 0.3916\n",
      "Log-Rank Test statistic: 0.7\n",
      "\n",
      "PORTOS\n",
      "High median: 0.24, low median: -0.33\n",
      "Log-Rank Test p-value: 0.0922\n",
      "Log-Rank Test statistic: 2.8\n",
      "\n",
      "Decipher\n",
      "High median: 0.13, low median: -0.20\n",
      "Log-Rank Test p-value: 0.6473\n",
      "Log-Rank Test statistic: 0.2\n",
      "\n",
      "Intermediate EMT-OWN\n",
      "High median: 0.12, low median: -0.31\n",
      "Log-Rank Test p-value: 0.5540\n",
      "Log-Rank Test statistic: 0.4\n",
      "\n",
      "Cycle-OWN\n",
      "High median: 0.47, low median: -0.61\n",
      "Log-Rank Test p-value: 0.0000\n",
      "Log-Rank Test statistic: 17.8\n",
      "\n",
      "Stress-OWN\n",
      "High median: 0.12, low median: -0.26\n",
      "Log-Rank Test p-value: 0.9525\n",
      "Log-Rank Test statistic: 0.0\n",
      "\n",
      "Intermediate CRPC-OWN\n",
      "High median: 0.23, low median: -0.25\n",
      "Log-Rank Test p-value: 0.8958\n",
      "Log-Rank Test statistic: 0.0\n",
      "\n",
      "CRPC-AR\n",
      "High median: 0.34, low median: -0.19\n",
      "Log-Rank Test p-value: 0.4541\n",
      "Log-Rank Test statistic: 0.6\n",
      "\n",
      "CRPC-WNT\n",
      "High median: 0.08, low median: -0.13\n",
      "Log-Rank Test p-value: 0.0472\n",
      "Log-Rank Test statistic: 3.9\n",
      "\n",
      "CRPC-NE\n",
      "High median: 0.09, low median: -0.28\n",
      "Log-Rank Test p-value: 0.1636\n",
      "Log-Rank Test statistic: 1.9\n",
      "\n",
      "CRPC-SCL\n",
      "High median: 0.24, low median: -0.29\n",
      "Log-Rank Test p-value: 0.0372\n",
      "Log-Rank Test statistic: 4.3\n",
      "\n",
      "Luminal progenitor\n",
      "High median: 0.26, low median: -0.29\n",
      "Log-Rank Test p-value: 0.9494\n",
      "Log-Rank Test statistic: 0.0\n",
      "\n",
      "Necrosis\n",
      "High median: 0.20, low median: -0.24\n",
      "Log-Rank Test p-value: 0.2962\n",
      "Log-Rank Test statistic: 1.1\n",
      "\n",
      "Angiogenesis\n",
      "High median: 0.29, low median: -0.27\n",
      "Log-Rank Test p-value: 0.9555\n",
      "Log-Rank Test statistic: 0.0\n",
      "\n",
      "B cells\n",
      "High median: 0.44, low median: -0.47\n",
      "Log-Rank Test p-value: 0.5537\n",
      "Log-Rank Test statistic: 0.4\n",
      "\n",
      "Mast cells\n",
      "High median: 0.35, low median: -0.28\n",
      "Log-Rank Test p-value: 0.6809\n",
      "Log-Rank Test statistic: 0.2\n",
      "\n",
      "Monocytes\n",
      "High median: 0.34, low median: -0.33\n",
      "Log-Rank Test p-value: 0.4381\n",
      "Log-Rank Test statistic: 0.6\n",
      "\n",
      "Th17 cells\n",
      "High median: 0.28, low median: -0.32\n",
      "Log-Rank Test p-value: 0.7212\n",
      "Log-Rank Test statistic: 0.1\n",
      "\n",
      "Treg cells\n",
      "High median: 0.34, low median: -0.32\n",
      "Log-Rank Test p-value: 0.9860\n",
      "Log-Rank Test statistic: 0.0\n",
      "\n",
      "M1 macrophages\n",
      "High median: 0.41, low median: -0.46\n",
      "Log-Rank Test p-value: 0.1625\n",
      "Log-Rank Test statistic: 2.0\n",
      "\n",
      "M2 macrophages\n",
      "High median: 0.36, low median: -0.38\n",
      "Log-Rank Test p-value: 0.3886\n",
      "Log-Rank Test statistic: 0.7\n",
      "\n",
      "T-cell exhaustion\n",
      "High median: 0.15, low median: -0.31\n",
      "Log-Rank Test p-value: 0.4399\n",
      "Log-Rank Test statistic: 0.6\n",
      "\n",
      "MDSC Hirz 2023\n",
      "High median: 0.36, low median: -0.39\n",
      "Log-Rank Test p-value: 0.5086\n",
      "Log-Rank Test statistic: 0.4\n",
      "\n",
      "T-regulatory activity\n",
      "High median: 0.32, low median: -0.32\n",
      "Log-Rank Test p-value: 0.4227\n",
      "Log-Rank Test statistic: 0.6\n",
      "\n",
      "CD300LD downstream\n",
      "High median: 0.22, low median: -0.24\n",
      "Log-Rank Test p-value: 0.4023\n",
      "Log-Rank Test statistic: 0.7\n",
      "\n",
      "CD47 associated genes\n",
      "High median: 0.21, low median: -0.24\n",
      "Log-Rank Test p-value: 0.8997\n",
      "Log-Rank Test statistic: 0.0\n",
      "\n",
      "MDSC Alshetaiwi 2020\n",
      "High median: 0.20, low median: -0.28\n",
      "Log-Rank Test p-value: 0.9490\n",
      "Log-Rank Test statistic: 0.0\n",
      "\n",
      "MDSC Calcinotto 2018\n",
      "High median: 0.29, low median: -0.30\n",
      "Log-Rank Test p-value: 0.1993\n",
      "Log-Rank Test statistic: 1.6\n",
      "\n",
      "NLR associated\n",
      "High median: 0.30, low median: -0.53\n",
      "Log-Rank Test p-value: 0.8015\n",
      "Log-Rank Test statistic: 0.1\n",
      "\n",
      "MP1  Cell Cycle - G2_M\n",
      "High median: 0.43, low median: -0.63\n",
      "Log-Rank Test p-value: 0.0011\n",
      "Log-Rank Test statistic: 10.6\n",
      "\n",
      "MP2  Cell Cycle - G1_S\n",
      "High median: 0.45, low median: -0.53\n",
      "Log-Rank Test p-value: 0.0000\n",
      "Log-Rank Test statistic: 18.3\n",
      "\n",
      "MP3  Cell Cylce HMG-rich\n",
      "High median: 0.36, low median: -0.42\n",
      "Log-Rank Test p-value: 0.0001\n",
      "Log-Rank Test statistic: 15.0\n",
      "\n",
      "MP4  Chromatin \n",
      "High median: 0.30, low median: -0.40\n",
      "Log-Rank Test p-value: 0.0435\n",
      "Log-Rank Test statistic: 4.1\n",
      "\n",
      "MP5 Stress \n",
      "High median: 0.14, low median: -0.32\n",
      "Log-Rank Test p-value: 0.5028\n",
      "Log-Rank Test statistic: 0.4\n",
      "\n",
      "MP6 Hypoxia\n",
      "High median: 0.13, low median: -0.34\n",
      "Log-Rank Test p-value: 0.1718\n",
      "Log-Rank Test statistic: 1.9\n",
      "\n",
      "MP7 Stress (in vitro)\n",
      "High median: 0.12, low median: -0.28\n",
      "Log-Rank Test p-value: 0.1478\n",
      "Log-Rank Test statistic: 2.1\n",
      "\n",
      "MP8 Proteasomal degradation\n",
      "High median: 0.35, low median: -0.39\n",
      "Log-Rank Test p-value: 0.0807\n",
      "Log-Rank Test statistic: 3.1\n",
      "\n",
      "MP9 Unfolded protein response\n",
      "High median: 0.36, low median: -0.29\n",
      "Log-Rank Test p-value: 0.3702\n",
      "Log-Rank Test statistic: 0.8\n",
      "\n",
      "MP10 Protein maturation\n",
      "High median: 0.29, low median: -0.37\n",
      "Log-Rank Test p-value: 0.9354\n",
      "Log-Rank Test statistic: 0.0\n",
      "\n",
      "MP11 Translation initiation\n",
      "High median: 0.40, low median: -0.35\n",
      "Log-Rank Test p-value: 0.0149\n",
      "Log-Rank Test statistic: 5.9\n",
      "\n",
      "MP12 EMT-I\n",
      "High median: 0.50, low median: -0.40\n",
      "Log-Rank Test p-value: 0.2705\n",
      "Log-Rank Test statistic: 1.2\n",
      "\n",
      "MP13 EMT-II\n",
      "High median: 0.34, low median: -0.37\n",
      "Log-Rank Test p-value: 0.2631\n",
      "Log-Rank Test statistic: 1.3\n",
      "\n",
      "MP14 EMT-III \n",
      "High median: 0.22, low median: -0.39\n",
      "Log-Rank Test p-value: 0.0475\n",
      "Log-Rank Test statistic: 3.9\n",
      "\n",
      "MP15 EMT IV\n",
      "High median: 0.30, low median: -0.29\n",
      "Log-Rank Test p-value: 0.8043\n",
      "Log-Rank Test statistic: 0.1\n",
      "\n",
      "MP16 MES (glioma)\n",
      "High median: 0.24, low median: -0.29\n",
      "Log-Rank Test p-value: 0.9616\n",
      "Log-Rank Test statistic: 0.0\n",
      "\n",
      "MP17 Interferon_MHC-II (I)\n",
      "High median: 0.40, low median: -0.48\n",
      "Log-Rank Test p-value: 0.2072\n",
      "Log-Rank Test statistic: 1.6\n",
      "\n",
      "MP18 Interferon_MHC-II (II)\n",
      "High median: 0.32, low median: -0.38\n",
      "Log-Rank Test p-value: 0.4278\n",
      "Log-Rank Test statistic: 0.6\n",
      "\n",
      "MP19 Epithelial Senescence\n",
      "High median: 0.23, low median: -0.25\n",
      "Log-Rank Test p-value: 0.9893\n",
      "Log-Rank Test statistic: 0.0\n",
      "\n",
      "MP20 MYC\n",
      "High median: 0.36, low median: -0.38\n",
      "Log-Rank Test p-value: 0.2072\n",
      "Log-Rank Test statistic: 1.6\n",
      "\n",
      "MP21 Respiration\n",
      "High median: 0.50, low median: -0.45\n",
      "Log-Rank Test p-value: 0.2347\n",
      "Log-Rank Test statistic: 1.4\n",
      "\n",
      "MP22 Secreted I\n",
      "High median: 0.14, low median: -0.30\n",
      "Log-Rank Test p-value: 0.2020\n",
      "Log-Rank Test statistic: 1.6\n",
      "\n",
      "MP23 Secreted II\n",
      "High median: 0.22, low median: -0.29\n",
      "Log-Rank Test p-value: 0.9318\n",
      "Log-Rank Test statistic: 0.0\n",
      "\n",
      "MP24 Cilia\n",
      "High median: 0.17, low median: -0.30\n",
      "Log-Rank Test p-value: 0.2304\n",
      "Log-Rank Test statistic: 1.4\n",
      "\n",
      "MP25 Astrocytes\n",
      "High median: 0.29, low median: -0.23\n",
      "Log-Rank Test p-value: 0.4766\n",
      "Log-Rank Test statistic: 0.5\n",
      "\n",
      "MP26 NPC Glioma\n",
      "High median: 0.12, low median: -0.22\n",
      "Log-Rank Test p-value: 0.2768\n",
      "Log-Rank Test statistic: 1.2\n",
      "\n",
      "MP27 Oligo Progenitor\n",
      "High median: 0.16, low median: -0.15\n",
      "Log-Rank Test p-value: 0.9459\n",
      "Log-Rank Test statistic: 0.0\n",
      "\n",
      "MP28 Oligo normal\n",
      "High median: 0.15, low median: -0.14\n",
      "Log-Rank Test p-value: 0.1636\n",
      "Log-Rank Test statistic: 1.9\n",
      "\n",
      "MP29 NPC_OPC\n",
      "High median: 0.11, low median: -0.17\n",
      "Log-Rank Test p-value: 0.0006\n",
      "Log-Rank Test statistic: 11.8\n",
      "\n",
      "MP30 PDAC-classical\n",
      "High median: 0.24, low median: -0.29\n",
      "Log-Rank Test p-value: 0.5138\n",
      "Log-Rank Test statistic: 0.4\n",
      "\n",
      "MP31 Alveolar\n",
      "High median: 0.18, low median: -0.19\n",
      "Log-Rank Test p-value: 0.7058\n",
      "Log-Rank Test statistic: 0.1\n",
      "\n",
      "MP32 Skin-pigmentation\n",
      "High median: 0.16, low median: -0.21\n",
      "Log-Rank Test p-value: 0.2884\n",
      "Log-Rank Test statistic: 1.1\n",
      "\n",
      "MP33 RBCs\n",
      "High median: 0.14, low median: -0.27\n",
      "Log-Rank Test p-value: 0.0307\n",
      "Log-Rank Test statistic: 4.7\n",
      "\n",
      "MP34 Platelet-activation\n",
      "High median: 0.20, low median: -0.29\n",
      "Log-Rank Test p-value: 0.7200\n",
      "Log-Rank Test statistic: 0.1\n",
      "\n",
      "MP35 Hemato-related-I\n",
      "High median: 0.26, low median: -0.31\n",
      "Log-Rank Test p-value: 0.4549\n",
      "Log-Rank Test statistic: 0.6\n",
      "\n",
      "MP36 IG\n",
      "High median: 0.26, low median: -0.33\n",
      "Log-Rank Test p-value: 0.4638\n",
      "Log-Rank Test statistic: 0.5\n",
      "\n",
      "MP37 Hemato-related-II\n",
      "High median: 0.10, low median: -0.23\n",
      "Log-Rank Test p-value: 0.7014\n",
      "Log-Rank Test statistic: 0.1\n",
      "\n",
      "MP38 Glutathione\n",
      "High median: 0.09, low median: -0.21\n",
      "Log-Rank Test p-value: 0.4421\n",
      "Log-Rank Test statistic: 0.6\n",
      "\n",
      "MP39 Metal-response\n",
      "High median: 0.24, low median: -0.34\n",
      "Log-Rank Test p-value: 0.1021\n",
      "Log-Rank Test statistic: 2.7\n",
      "\n",
      "MP40 PDAC-related\n",
      "High median: 0.18, low median: -0.28\n",
      "Log-Rank Test p-value: 0.2133\n",
      "Log-Rank Test statistic: 1.5\n",
      "\n",
      "MP41 Unassigned\n",
      "High median: 0.27, low median: -0.31\n",
      "Log-Rank Test p-value: 0.1138\n",
      "Log-Rank Test statistic: 2.5\n",
      "\n",
      "Cycle\n",
      "High median: 0.41, low median: -0.51\n",
      "Log-Rank Test p-value: 0.0011\n",
      "Log-Rank Test statistic: 10.7\n",
      "\n",
      "Stress\n",
      "High median: 0.05, low median: -0.19\n",
      "Log-Rank Test p-value: 0.8518\n",
      "Log-Rank Test statistic: 0.0\n",
      "\n",
      "Interferon\n",
      "High median: 0.34, low median: -0.40\n",
      "Log-Rank Test p-value: 0.3862\n",
      "Log-Rank Test statistic: 0.8\n",
      "\n",
      "Hypoxia\n",
      "High median: 0.17, low median: -0.32\n",
      "Log-Rank Test p-value: 0.2299\n",
      "Log-Rank Test statistic: 1.4\n",
      "\n",
      "Oxphos\n",
      "High median: 0.53, low median: -0.48\n",
      "Log-Rank Test p-value: 0.1067\n",
      "Log-Rank Test statistic: 2.6\n",
      "\n",
      "Metal\n",
      "High median: 0.31, low median: -0.34\n",
      "Log-Rank Test p-value: 0.2731\n",
      "Log-Rank Test statistic: 1.2\n",
      "\n",
      "Mesenchymal\n",
      "High median: 0.56, low median: -0.38\n",
      "Log-Rank Test p-value: 0.1842\n",
      "Log-Rank Test statistic: 1.8\n",
      "\n",
      "pEMT\n",
      "High median: 0.25, low median: -0.35\n",
      "Log-Rank Test p-value: 0.2366\n",
      "Log-Rank Test statistic: 1.4\n",
      "\n",
      "Alveolar\n",
      "High median: 0.30, low median: -0.31\n",
      "Log-Rank Test p-value: 0.6354\n",
      "Log-Rank Test statistic: 0.2\n",
      "\n",
      "Basal_pancancer\n",
      "High median: 0.21, low median: -0.24\n",
      "Log-Rank Test p-value: 0.5494\n",
      "Log-Rank Test statistic: 0.4\n",
      "\n",
      "Squamous\n",
      "High median: 0.21, low median: -0.18\n",
      "Log-Rank Test p-value: 0.4869\n",
      "Log-Rank Test statistic: 0.5\n",
      "\n",
      "Glandular\n",
      "High median: 0.20, low median: -0.30\n",
      "Log-Rank Test p-value: 0.6868\n",
      "Log-Rank Test statistic: 0.2\n",
      "\n",
      "Ciliated\n",
      "High median: 0.16, low median: -0.37\n",
      "Log-Rank Test p-value: 0.7196\n",
      "Log-Rank Test statistic: 0.1\n",
      "\n",
      "AC\n",
      "High median: 0.28, low median: -0.21\n",
      "Log-Rank Test p-value: 0.9875\n",
      "Log-Rank Test statistic: 0.0\n",
      "\n",
      "OPC\n",
      "High median: 0.26, low median: -0.16\n",
      "Log-Rank Test p-value: 0.0656\n",
      "Log-Rank Test statistic: 3.4\n",
      "\n",
      "NPC\n",
      "High median: 0.14, low median: -0.20\n",
      "Log-Rank Test p-value: 0.0222\n",
      "Log-Rank Test statistic: 5.2\n",
      "\n",
      "Stemness\n",
      "High median: 0.48, low median: -0.68\n",
      "Log-Rank Test p-value: 0.0017\n",
      "Log-Rank Test statistic: 9.8\n",
      "\n",
      "HALLMARK_ADIPOGENESIS\n",
      "High median: 0.12, low median: -0.13\n",
      "Log-Rank Test p-value: 0.0266\n",
      "Log-Rank Test statistic: 4.9\n",
      "\n",
      "HALLMARK_ALLOGRAFT_REJECTION\n",
      "High median: 0.29, low median: -0.31\n",
      "Log-Rank Test p-value: 0.7540\n",
      "Log-Rank Test statistic: 0.1\n",
      "\n",
      "HALLMARK_ANDROGEN_RESPONSE\n",
      "High median: 0.24, low median: -0.22\n",
      "Log-Rank Test p-value: 0.5405\n",
      "Log-Rank Test statistic: 0.4\n",
      "\n",
      "HALLMARK_ANGIOGENESIS\n",
      "High median: 0.25, low median: -0.27\n",
      "Log-Rank Test p-value: 0.4168\n",
      "Log-Rank Test statistic: 0.7\n",
      "\n",
      "HALLMARK_APICAL_JUNCTION\n",
      "High median: 0.23, low median: -0.17\n",
      "Log-Rank Test p-value: 0.6725\n",
      "Log-Rank Test statistic: 0.2\n",
      "\n",
      "HALLMARK_APICAL_SURFACE\n",
      "High median: 0.16, low median: -0.17\n",
      "Log-Rank Test p-value: 0.0322\n",
      "Log-Rank Test statistic: 4.6\n",
      "\n",
      "HALLMARK_APOPTOSIS\n",
      "High median: 0.11, low median: -0.20\n",
      "Log-Rank Test p-value: 0.3746\n",
      "Log-Rank Test statistic: 0.8\n",
      "\n",
      "HALLMARK_BILE_ACID_METABOLISM\n",
      "High median: 0.08, low median: -0.17\n",
      "Log-Rank Test p-value: 0.2617\n",
      "Log-Rank Test statistic: 1.3\n",
      "\n",
      "HALLMARK_CHOLESTEROL_HOMEOSTASIS\n",
      "High median: 0.16, low median: -0.18\n",
      "Log-Rank Test p-value: 0.0195\n",
      "Log-Rank Test statistic: 5.5\n",
      "\n",
      "HALLMARK_COAGULATION\n",
      "High median: 0.21, low median: -0.29\n",
      "Log-Rank Test p-value: 0.2050\n",
      "Log-Rank Test statistic: 1.6\n",
      "\n",
      "HALLMARK_COMPLEMENT\n",
      "High median: 0.19, low median: -0.28\n",
      "Log-Rank Test p-value: 0.7369\n",
      "Log-Rank Test statistic: 0.1\n",
      "\n",
      "HALLMARK_DNA_REPAIR\n",
      "High median: 0.18, low median: -0.23\n",
      "Log-Rank Test p-value: 0.0061\n",
      "Log-Rank Test statistic: 7.5\n",
      "\n",
      "HALLMARK_E2F_TARGETS\n",
      "High median: 0.35, low median: -0.46\n",
      "Log-Rank Test p-value: 0.0001\n",
      "Log-Rank Test statistic: 15.1\n",
      "\n",
      "HALLMARK_EPITHELIAL_MESENCHYMAL_TRANSITION\n",
      "High median: 0.32, low median: -0.35\n",
      "Log-Rank Test p-value: 0.2547\n",
      "Log-Rank Test statistic: 1.3\n",
      "\n",
      "HALLMARK_ESTROGEN_RESPONSE_EARLY\n",
      "High median: 0.08, low median: -0.18\n",
      "Log-Rank Test p-value: 0.9929\n",
      "Log-Rank Test statistic: 0.0\n",
      "\n",
      "HALLMARK_ESTROGEN_RESPONSE_LATE\n",
      "High median: 0.08, low median: -0.15\n",
      "Log-Rank Test p-value: 0.1793\n",
      "Log-Rank Test statistic: 1.8\n",
      "\n",
      "HALLMARK_FATTY_ACID_METABOLISM\n",
      "High median: 0.14, low median: -0.17\n",
      "Log-Rank Test p-value: 0.0785\n",
      "Log-Rank Test statistic: 3.1\n",
      "\n",
      "HALLMARK_G2M_CHECKPOINT\n",
      "High median: 0.27, low median: -0.39\n",
      "Log-Rank Test p-value: 0.0013\n",
      "Log-Rank Test statistic: 10.4\n",
      "\n",
      "HALLMARK_GLYCOLYSIS\n",
      "High median: 0.08, low median: -0.20\n",
      "Log-Rank Test p-value: 0.0525\n",
      "Log-Rank Test statistic: 3.8\n",
      "\n",
      "HALLMARK_HEDGEHOG_SIGNALING\n",
      "High median: 0.23, low median: -0.26\n",
      "Log-Rank Test p-value: 0.1085\n",
      "Log-Rank Test statistic: 2.6\n",
      "\n",
      "HALLMARK_HEME_METABOLISM\n",
      "High median: 0.02, low median: -0.22\n",
      "Log-Rank Test p-value: 0.9689\n",
      "Log-Rank Test statistic: 0.0\n",
      "\n",
      "HALLMARK_HYPOXIA\n",
      "High median: 0.07, low median: -0.21\n",
      "Log-Rank Test p-value: 0.1081\n",
      "Log-Rank Test statistic: 2.6\n",
      "\n",
      "HALLMARK_IL2_STAT5_SIGNALING\n",
      "High median: 0.12, low median: -0.20\n",
      "Log-Rank Test p-value: 0.2971\n",
      "Log-Rank Test statistic: 1.1\n",
      "\n",
      "HALLMARK_IL6_JAK_STAT3_SIGNALING\n",
      "High median: 0.30, low median: -0.31\n",
      "Log-Rank Test p-value: 0.6820\n",
      "Log-Rank Test statistic: 0.2\n",
      "\n",
      "HALLMARK_INFLAMMATORY_RESPONSE\n",
      "High median: 0.27, low median: -0.27\n",
      "Log-Rank Test p-value: 0.6789\n",
      "Log-Rank Test statistic: 0.2\n",
      "\n",
      "HALLMARK_INTERFERON_ALPHA_RESPONSE\n",
      "High median: 0.32, low median: -0.35\n",
      "Log-Rank Test p-value: 0.4876\n",
      "Log-Rank Test statistic: 0.5\n",
      "\n",
      "HALLMARK_INTERFERON_GAMMA_RESPONSE\n",
      "High median: 0.31, low median: -0.31\n",
      "Log-Rank Test p-value: 0.7625\n",
      "Log-Rank Test statistic: 0.1\n",
      "\n",
      "HALLMARK_KRAS_SIGNALING_DN\n",
      "High median: 0.10, low median: -0.11\n",
      "Log-Rank Test p-value: 0.8750\n",
      "Log-Rank Test statistic: 0.0\n",
      "\n",
      "HALLMARK_KRAS_SIGNALING_UP\n",
      "High median: 0.18, low median: -0.23\n",
      "Log-Rank Test p-value: 0.1588\n",
      "Log-Rank Test statistic: 2.0\n",
      "\n",
      "HALLMARK_MITOTIC_SPINDLE\n",
      "High median: 0.21, low median: -0.30\n",
      "Log-Rank Test p-value: 0.2870\n",
      "Log-Rank Test statistic: 1.1\n",
      "\n",
      "HALLMARK_MTORC1_SIGNALING\n",
      "High median: 0.16, low median: -0.26\n",
      "Log-Rank Test p-value: 0.0590\n",
      "Log-Rank Test statistic: 3.6\n",
      "\n",
      "HALLMARK_MYC_TARGETS_V1\n",
      "High median: 0.36, low median: -0.36\n",
      "Log-Rank Test p-value: 0.2527\n",
      "Log-Rank Test statistic: 1.3\n",
      "\n",
      "HALLMARK_MYC_TARGETS_V2\n",
      "High median: 0.31, low median: -0.34\n",
      "Log-Rank Test p-value: 0.0089\n",
      "Log-Rank Test statistic: 6.8\n",
      "\n",
      "HALLMARK_MYOGENESIS\n",
      "High median: 0.20, low median: -0.25\n",
      "Log-Rank Test p-value: 0.4957\n",
      "Log-Rank Test statistic: 0.5\n",
      "\n",
      "HALLMARK_NOTCH_SIGNALING\n",
      "High median: 0.19, low median: -0.17\n",
      "Log-Rank Test p-value: 0.8981\n",
      "Log-Rank Test statistic: 0.0\n",
      "\n",
      "HALLMARK_OXIDATIVE_PHOSPHORYLATION\n",
      "High median: 0.28, low median: -0.32\n",
      "Log-Rank Test p-value: 0.0050\n",
      "Log-Rank Test statistic: 7.9\n",
      "\n",
      "HALLMARK_P53_PATHWAY\n",
      "High median: 0.09, low median: -0.15\n",
      "Log-Rank Test p-value: 0.3627\n",
      "Log-Rank Test statistic: 0.8\n",
      "\n",
      "HALLMARK_PANCREAS_BETA_CELLS\n",
      "High median: 0.17, low median: -0.11\n",
      "Log-Rank Test p-value: 0.5633\n",
      "Log-Rank Test statistic: 0.3\n",
      "\n",
      "HALLMARK_PEROXISOME\n",
      "High median: 0.09, low median: -0.16\n",
      "Log-Rank Test p-value: 0.0436\n",
      "Log-Rank Test statistic: 4.1\n",
      "\n",
      "HALLMARK_PI3K_AKT_MTOR_SIGNALING\n",
      "High median: 0.10, low median: -0.16\n",
      "Log-Rank Test p-value: 0.7831\n",
      "Log-Rank Test statistic: 0.1\n",
      "\n",
      "HALLMARK_PROTEIN_SECRETION\n",
      "High median: 0.23, low median: -0.28\n",
      "Log-Rank Test p-value: 0.5254\n",
      "Log-Rank Test statistic: 0.4\n",
      "\n",
      "HALLMARK_REACTIVE_OXYGEN_SPECIES_PATHWAY\n",
      "High median: 0.17, low median: -0.23\n",
      "Log-Rank Test p-value: 0.3009\n",
      "Log-Rank Test statistic: 1.1\n",
      "\n",
      "HALLMARK_SPERMATOGENESIS\n",
      "High median: 0.10, low median: -0.14\n",
      "Log-Rank Test p-value: 0.0945\n",
      "Log-Rank Test statistic: 2.8\n",
      "\n",
      "HALLMARK_TGF_BETA_SIGNALING\n",
      "High median: 0.17, low median: -0.19\n",
      "Log-Rank Test p-value: 0.8256\n",
      "Log-Rank Test statistic: 0.0\n",
      "\n",
      "HALLMARK_TNFA_SIGNALING_VIA_NFKB\n",
      "High median: 0.14, low median: -0.29\n",
      "Log-Rank Test p-value: 0.3866\n",
      "Log-Rank Test statistic: 0.7\n",
      "\n",
      "HALLMARK_UNFOLDED_PROTEIN_RESPONSE\n",
      "High median: 0.17, low median: -0.16\n",
      "Log-Rank Test p-value: 0.0338\n",
      "Log-Rank Test statistic: 4.5\n",
      "\n",
      "HALLMARK_UV_RESPONSE_DN\n",
      "High median: 0.14, low median: -0.18\n",
      "Log-Rank Test p-value: 0.0864\n",
      "Log-Rank Test statistic: 2.9\n",
      "\n",
      "HALLMARK_UV_RESPONSE_UP\n",
      "High median: 0.06, low median: -0.16\n",
      "Log-Rank Test p-value: 0.0447\n",
      "Log-Rank Test statistic: 4.0\n",
      "\n",
      "HALLMARK_WNT_BETA_CATENIN_SIGNALING\n",
      "High median: 0.21, low median: -0.17\n",
      "Log-Rank Test p-value: 0.6341\n",
      "Log-Rank Test statistic: 0.2\n",
      "\n",
      "HALLMARK_XENOBIOTIC_METABOLISM\n",
      "High median: 0.13, low median: -0.17\n",
      "Log-Rank Test p-value: 0.0720\n",
      "Log-Rank Test statistic: 3.2\n",
      "\n",
      "Club_prosgenesis\n",
      "High median: 0.21, low median: -0.29\n",
      "Log-Rank Test p-value: 0.6945\n",
      "Log-Rank Test statistic: 0.2\n",
      "\n",
      "Club_SCL\n",
      "High median: 0.24, low median: -0.36\n",
      "Log-Rank Test p-value: 0.3237\n",
      "Log-Rank Test statistic: 1.0\n",
      "\n",
      "Club_region_excl_club\n",
      "High median: 0.14, low median: -0.24\n",
      "Log-Rank Test p-value: 0.7073\n",
      "Log-Rank Test statistic: 0.1\n",
      "\n"
     ]
    },
    {
     "data": {
      "text/plain": [
       "<Figure size 864x576 with 0 Axes>"
      ]
     },
     "metadata": {},
     "output_type": "display_data"
    },
    {
     "data": {
      "text/plain": [
       "<Figure size 864x576 with 0 Axes>"
      ]
     },
     "metadata": {},
     "output_type": "display_data"
    },
    {
     "data": {
      "text/plain": [
       "<Figure size 864x576 with 0 Axes>"
      ]
     },
     "metadata": {},
     "output_type": "display_data"
    },
    {
     "data": {
      "text/plain": [
       "<Figure size 864x576 with 0 Axes>"
      ]
     },
     "metadata": {},
     "output_type": "display_data"
    },
    {
     "data": {
      "text/plain": [
       "<Figure size 864x576 with 0 Axes>"
      ]
     },
     "metadata": {},
     "output_type": "display_data"
    },
    {
     "data": {
      "text/plain": [
       "<Figure size 864x576 with 0 Axes>"
      ]
     },
     "metadata": {},
     "output_type": "display_data"
    },
    {
     "data": {
      "text/plain": [
       "<Figure size 864x576 with 0 Axes>"
      ]
     },
     "metadata": {},
     "output_type": "display_data"
    },
    {
     "data": {
      "text/plain": [
       "<Figure size 864x576 with 0 Axes>"
      ]
     },
     "metadata": {},
     "output_type": "display_data"
    },
    {
     "data": {
      "text/plain": [
       "<Figure size 864x576 with 0 Axes>"
      ]
     },
     "metadata": {},
     "output_type": "display_data"
    },
    {
     "data": {
      "text/plain": [
       "<Figure size 864x576 with 0 Axes>"
      ]
     },
     "metadata": {},
     "output_type": "display_data"
    },
    {
     "data": {
      "text/plain": [
       "<Figure size 864x576 with 0 Axes>"
      ]
     },
     "metadata": {},
     "output_type": "display_data"
    },
    {
     "data": {
      "text/plain": [
       "<Figure size 864x576 with 0 Axes>"
      ]
     },
     "metadata": {},
     "output_type": "display_data"
    },
    {
     "data": {
      "text/plain": [
       "<Figure size 864x576 with 0 Axes>"
      ]
     },
     "metadata": {},
     "output_type": "display_data"
    },
    {
     "data": {
      "text/plain": [
       "<Figure size 864x576 with 0 Axes>"
      ]
     },
     "metadata": {},
     "output_type": "display_data"
    },
    {
     "data": {
      "text/plain": [
       "<Figure size 864x576 with 0 Axes>"
      ]
     },
     "metadata": {},
     "output_type": "display_data"
    },
    {
     "data": {
      "text/plain": [
       "<Figure size 864x576 with 0 Axes>"
      ]
     },
     "metadata": {},
     "output_type": "display_data"
    },
    {
     "data": {
      "text/plain": [
       "<Figure size 864x576 with 0 Axes>"
      ]
     },
     "metadata": {},
     "output_type": "display_data"
    },
    {
     "data": {
      "text/plain": [
       "<Figure size 864x576 with 0 Axes>"
      ]
     },
     "metadata": {},
     "output_type": "display_data"
    },
    {
     "data": {
      "text/plain": [
       "<Figure size 864x576 with 0 Axes>"
      ]
     },
     "metadata": {},
     "output_type": "display_data"
    },
    {
     "data": {
      "text/plain": [
       "<Figure size 864x576 with 0 Axes>"
      ]
     },
     "metadata": {},
     "output_type": "display_data"
    },
    {
     "data": {
      "text/plain": [
       "<Figure size 864x576 with 0 Axes>"
      ]
     },
     "metadata": {},
     "output_type": "display_data"
    },
    {
     "data": {
      "text/plain": [
       "<Figure size 864x576 with 0 Axes>"
      ]
     },
     "metadata": {},
     "output_type": "display_data"
    },
    {
     "data": {
      "text/plain": [
       "<Figure size 864x576 with 0 Axes>"
      ]
     },
     "metadata": {},
     "output_type": "display_data"
    },
    {
     "data": {
      "text/plain": [
       "<Figure size 864x576 with 0 Axes>"
      ]
     },
     "metadata": {},
     "output_type": "display_data"
    },
    {
     "data": {
      "text/plain": [
       "<Figure size 864x576 with 0 Axes>"
      ]
     },
     "metadata": {},
     "output_type": "display_data"
    },
    {
     "data": {
      "text/plain": [
       "<Figure size 864x576 with 0 Axes>"
      ]
     },
     "metadata": {},
     "output_type": "display_data"
    },
    {
     "data": {
      "text/plain": [
       "<Figure size 864x576 with 0 Axes>"
      ]
     },
     "metadata": {},
     "output_type": "display_data"
    },
    {
     "data": {
      "text/plain": [
       "<Figure size 864x576 with 0 Axes>"
      ]
     },
     "metadata": {},
     "output_type": "display_data"
    },
    {
     "data": {
      "text/plain": [
       "<Figure size 864x576 with 0 Axes>"
      ]
     },
     "metadata": {},
     "output_type": "display_data"
    },
    {
     "data": {
      "text/plain": [
       "<Figure size 864x576 with 0 Axes>"
      ]
     },
     "metadata": {},
     "output_type": "display_data"
    },
    {
     "data": {
      "text/plain": [
       "<Figure size 864x576 with 0 Axes>"
      ]
     },
     "metadata": {},
     "output_type": "display_data"
    },
    {
     "data": {
      "text/plain": [
       "<Figure size 864x576 with 0 Axes>"
      ]
     },
     "metadata": {},
     "output_type": "display_data"
    },
    {
     "data": {
      "text/plain": [
       "<Figure size 864x576 with 0 Axes>"
      ]
     },
     "metadata": {},
     "output_type": "display_data"
    },
    {
     "data": {
      "text/plain": [
       "<Figure size 864x576 with 0 Axes>"
      ]
     },
     "metadata": {},
     "output_type": "display_data"
    },
    {
     "data": {
      "text/plain": [
       "<Figure size 864x576 with 0 Axes>"
      ]
     },
     "metadata": {},
     "output_type": "display_data"
    },
    {
     "data": {
      "text/plain": [
       "<Figure size 864x576 with 0 Axes>"
      ]
     },
     "metadata": {},
     "output_type": "display_data"
    },
    {
     "data": {
      "text/plain": [
       "<Figure size 864x576 with 0 Axes>"
      ]
     },
     "metadata": {},
     "output_type": "display_data"
    },
    {
     "data": {
      "text/plain": [
       "<Figure size 864x576 with 0 Axes>"
      ]
     },
     "metadata": {},
     "output_type": "display_data"
    },
    {
     "data": {
      "text/plain": [
       "<Figure size 864x576 with 0 Axes>"
      ]
     },
     "metadata": {},
     "output_type": "display_data"
    },
    {
     "data": {
      "text/plain": [
       "<Figure size 864x576 with 0 Axes>"
      ]
     },
     "metadata": {},
     "output_type": "display_data"
    },
    {
     "data": {
      "text/plain": [
       "<Figure size 864x576 with 0 Axes>"
      ]
     },
     "metadata": {},
     "output_type": "display_data"
    },
    {
     "data": {
      "text/plain": [
       "<Figure size 864x576 with 0 Axes>"
      ]
     },
     "metadata": {},
     "output_type": "display_data"
    },
    {
     "data": {
      "text/plain": [
       "<Figure size 864x576 with 0 Axes>"
      ]
     },
     "metadata": {},
     "output_type": "display_data"
    },
    {
     "data": {
      "text/plain": [
       "<Figure size 864x576 with 0 Axes>"
      ]
     },
     "metadata": {},
     "output_type": "display_data"
    },
    {
     "data": {
      "text/plain": [
       "<Figure size 864x576 with 0 Axes>"
      ]
     },
     "metadata": {},
     "output_type": "display_data"
    },
    {
     "data": {
      "text/plain": [
       "<Figure size 864x576 with 0 Axes>"
      ]
     },
     "metadata": {},
     "output_type": "display_data"
    },
    {
     "data": {
      "text/plain": [
       "<Figure size 864x576 with 0 Axes>"
      ]
     },
     "metadata": {},
     "output_type": "display_data"
    },
    {
     "data": {
      "text/plain": [
       "<Figure size 864x576 with 0 Axes>"
      ]
     },
     "metadata": {},
     "output_type": "display_data"
    },
    {
     "data": {
      "text/plain": [
       "<Figure size 864x576 with 0 Axes>"
      ]
     },
     "metadata": {},
     "output_type": "display_data"
    },
    {
     "data": {
      "text/plain": [
       "<Figure size 864x576 with 0 Axes>"
      ]
     },
     "metadata": {},
     "output_type": "display_data"
    },
    {
     "data": {
      "text/plain": [
       "<Figure size 864x576 with 0 Axes>"
      ]
     },
     "metadata": {},
     "output_type": "display_data"
    },
    {
     "data": {
      "text/plain": [
       "<Figure size 864x576 with 0 Axes>"
      ]
     },
     "metadata": {},
     "output_type": "display_data"
    },
    {
     "data": {
      "text/plain": [
       "<Figure size 864x576 with 0 Axes>"
      ]
     },
     "metadata": {},
     "output_type": "display_data"
    },
    {
     "data": {
      "text/plain": [
       "<Figure size 864x576 with 0 Axes>"
      ]
     },
     "metadata": {},
     "output_type": "display_data"
    },
    {
     "data": {
      "text/plain": [
       "<Figure size 864x576 with 0 Axes>"
      ]
     },
     "metadata": {},
     "output_type": "display_data"
    },
    {
     "data": {
      "text/plain": [
       "<Figure size 864x576 with 0 Axes>"
      ]
     },
     "metadata": {},
     "output_type": "display_data"
    },
    {
     "data": {
      "text/plain": [
       "<Figure size 864x576 with 0 Axes>"
      ]
     },
     "metadata": {},
     "output_type": "display_data"
    },
    {
     "data": {
      "text/plain": [
       "<Figure size 864x576 with 0 Axes>"
      ]
     },
     "metadata": {},
     "output_type": "display_data"
    },
    {
     "data": {
      "text/plain": [
       "<Figure size 864x576 with 0 Axes>"
      ]
     },
     "metadata": {},
     "output_type": "display_data"
    },
    {
     "data": {
      "text/plain": [
       "<Figure size 864x576 with 0 Axes>"
      ]
     },
     "metadata": {},
     "output_type": "display_data"
    },
    {
     "data": {
      "text/plain": [
       "<Figure size 864x576 with 0 Axes>"
      ]
     },
     "metadata": {},
     "output_type": "display_data"
    },
    {
     "data": {
      "text/plain": [
       "<Figure size 864x576 with 0 Axes>"
      ]
     },
     "metadata": {},
     "output_type": "display_data"
    },
    {
     "data": {
      "text/plain": [
       "<Figure size 864x576 with 0 Axes>"
      ]
     },
     "metadata": {},
     "output_type": "display_data"
    },
    {
     "data": {
      "text/plain": [
       "<Figure size 864x576 with 0 Axes>"
      ]
     },
     "metadata": {},
     "output_type": "display_data"
    },
    {
     "data": {
      "text/plain": [
       "<Figure size 864x576 with 0 Axes>"
      ]
     },
     "metadata": {},
     "output_type": "display_data"
    },
    {
     "data": {
      "text/plain": [
       "<Figure size 864x576 with 0 Axes>"
      ]
     },
     "metadata": {},
     "output_type": "display_data"
    },
    {
     "data": {
      "text/plain": [
       "<Figure size 864x576 with 0 Axes>"
      ]
     },
     "metadata": {},
     "output_type": "display_data"
    },
    {
     "data": {
      "text/plain": [
       "<Figure size 864x576 with 0 Axes>"
      ]
     },
     "metadata": {},
     "output_type": "display_data"
    },
    {
     "data": {
      "text/plain": [
       "<Figure size 864x576 with 0 Axes>"
      ]
     },
     "metadata": {},
     "output_type": "display_data"
    },
    {
     "data": {
      "text/plain": [
       "<Figure size 864x576 with 0 Axes>"
      ]
     },
     "metadata": {},
     "output_type": "display_data"
    },
    {
     "data": {
      "text/plain": [
       "<Figure size 864x576 with 0 Axes>"
      ]
     },
     "metadata": {},
     "output_type": "display_data"
    },
    {
     "data": {
      "text/plain": [
       "<Figure size 864x576 with 0 Axes>"
      ]
     },
     "metadata": {},
     "output_type": "display_data"
    },
    {
     "data": {
      "text/plain": [
       "<Figure size 864x576 with 0 Axes>"
      ]
     },
     "metadata": {},
     "output_type": "display_data"
    },
    {
     "data": {
      "text/plain": [
       "<Figure size 864x576 with 0 Axes>"
      ]
     },
     "metadata": {},
     "output_type": "display_data"
    },
    {
     "data": {
      "text/plain": [
       "<Figure size 864x576 with 0 Axes>"
      ]
     },
     "metadata": {},
     "output_type": "display_data"
    },
    {
     "data": {
      "text/plain": [
       "<Figure size 864x576 with 0 Axes>"
      ]
     },
     "metadata": {},
     "output_type": "display_data"
    },
    {
     "data": {
      "text/plain": [
       "<Figure size 864x576 with 0 Axes>"
      ]
     },
     "metadata": {},
     "output_type": "display_data"
    },
    {
     "data": {
      "text/plain": [
       "<Figure size 864x576 with 0 Axes>"
      ]
     },
     "metadata": {},
     "output_type": "display_data"
    },
    {
     "data": {
      "text/plain": [
       "<Figure size 864x576 with 0 Axes>"
      ]
     },
     "metadata": {},
     "output_type": "display_data"
    },
    {
     "data": {
      "text/plain": [
       "<Figure size 864x576 with 0 Axes>"
      ]
     },
     "metadata": {},
     "output_type": "display_data"
    },
    {
     "data": {
      "text/plain": [
       "<Figure size 864x576 with 0 Axes>"
      ]
     },
     "metadata": {},
     "output_type": "display_data"
    },
    {
     "data": {
      "text/plain": [
       "<Figure size 864x576 with 0 Axes>"
      ]
     },
     "metadata": {},
     "output_type": "display_data"
    },
    {
     "data": {
      "text/plain": [
       "<Figure size 864x576 with 0 Axes>"
      ]
     },
     "metadata": {},
     "output_type": "display_data"
    },
    {
     "data": {
      "text/plain": [
       "<Figure size 864x576 with 0 Axes>"
      ]
     },
     "metadata": {},
     "output_type": "display_data"
    },
    {
     "data": {
      "text/plain": [
       "<Figure size 864x576 with 0 Axes>"
      ]
     },
     "metadata": {},
     "output_type": "display_data"
    },
    {
     "data": {
      "text/plain": [
       "<Figure size 864x576 with 0 Axes>"
      ]
     },
     "metadata": {},
     "output_type": "display_data"
    },
    {
     "data": {
      "text/plain": [
       "<Figure size 864x576 with 0 Axes>"
      ]
     },
     "metadata": {},
     "output_type": "display_data"
    },
    {
     "data": {
      "text/plain": [
       "<Figure size 864x576 with 0 Axes>"
      ]
     },
     "metadata": {},
     "output_type": "display_data"
    },
    {
     "data": {
      "text/plain": [
       "<Figure size 864x576 with 0 Axes>"
      ]
     },
     "metadata": {},
     "output_type": "display_data"
    },
    {
     "data": {
      "text/plain": [
       "<Figure size 864x576 with 0 Axes>"
      ]
     },
     "metadata": {},
     "output_type": "display_data"
    },
    {
     "data": {
      "text/plain": [
       "<Figure size 864x576 with 0 Axes>"
      ]
     },
     "metadata": {},
     "output_type": "display_data"
    },
    {
     "data": {
      "text/plain": [
       "<Figure size 864x576 with 0 Axes>"
      ]
     },
     "metadata": {},
     "output_type": "display_data"
    },
    {
     "data": {
      "text/plain": [
       "<Figure size 864x576 with 0 Axes>"
      ]
     },
     "metadata": {},
     "output_type": "display_data"
    },
    {
     "data": {
      "text/plain": [
       "<Figure size 864x576 with 0 Axes>"
      ]
     },
     "metadata": {},
     "output_type": "display_data"
    },
    {
     "data": {
      "text/plain": [
       "<Figure size 864x576 with 0 Axes>"
      ]
     },
     "metadata": {},
     "output_type": "display_data"
    },
    {
     "data": {
      "text/plain": [
       "<Figure size 864x576 with 0 Axes>"
      ]
     },
     "metadata": {},
     "output_type": "display_data"
    },
    {
     "data": {
      "text/plain": [
       "<Figure size 864x576 with 0 Axes>"
      ]
     },
     "metadata": {},
     "output_type": "display_data"
    },
    {
     "data": {
      "text/plain": [
       "<Figure size 864x576 with 0 Axes>"
      ]
     },
     "metadata": {},
     "output_type": "display_data"
    },
    {
     "data": {
      "text/plain": [
       "<Figure size 864x576 with 0 Axes>"
      ]
     },
     "metadata": {},
     "output_type": "display_data"
    },
    {
     "data": {
      "text/plain": [
       "<Figure size 864x576 with 0 Axes>"
      ]
     },
     "metadata": {},
     "output_type": "display_data"
    },
    {
     "data": {
      "text/plain": [
       "<Figure size 864x576 with 0 Axes>"
      ]
     },
     "metadata": {},
     "output_type": "display_data"
    },
    {
     "data": {
      "text/plain": [
       "<Figure size 864x576 with 0 Axes>"
      ]
     },
     "metadata": {},
     "output_type": "display_data"
    },
    {
     "data": {
      "text/plain": [
       "<Figure size 864x576 with 0 Axes>"
      ]
     },
     "metadata": {},
     "output_type": "display_data"
    },
    {
     "data": {
      "text/plain": [
       "<Figure size 864x576 with 0 Axes>"
      ]
     },
     "metadata": {},
     "output_type": "display_data"
    },
    {
     "data": {
      "text/plain": [
       "<Figure size 864x576 with 0 Axes>"
      ]
     },
     "metadata": {},
     "output_type": "display_data"
    },
    {
     "data": {
      "text/plain": [
       "<Figure size 864x576 with 0 Axes>"
      ]
     },
     "metadata": {},
     "output_type": "display_data"
    },
    {
     "data": {
      "text/plain": [
       "<Figure size 864x576 with 0 Axes>"
      ]
     },
     "metadata": {},
     "output_type": "display_data"
    },
    {
     "data": {
      "text/plain": [
       "<Figure size 864x576 with 0 Axes>"
      ]
     },
     "metadata": {},
     "output_type": "display_data"
    },
    {
     "data": {
      "text/plain": [
       "<Figure size 864x576 with 0 Axes>"
      ]
     },
     "metadata": {},
     "output_type": "display_data"
    },
    {
     "data": {
      "text/plain": [
       "<Figure size 864x576 with 0 Axes>"
      ]
     },
     "metadata": {},
     "output_type": "display_data"
    },
    {
     "data": {
      "text/plain": [
       "<Figure size 864x576 with 0 Axes>"
      ]
     },
     "metadata": {},
     "output_type": "display_data"
    },
    {
     "data": {
      "text/plain": [
       "<Figure size 864x576 with 0 Axes>"
      ]
     },
     "metadata": {},
     "output_type": "display_data"
    },
    {
     "data": {
      "text/plain": [
       "<Figure size 864x576 with 0 Axes>"
      ]
     },
     "metadata": {},
     "output_type": "display_data"
    },
    {
     "data": {
      "text/plain": [
       "<Figure size 864x576 with 0 Axes>"
      ]
     },
     "metadata": {},
     "output_type": "display_data"
    },
    {
     "data": {
      "text/plain": [
       "<Figure size 864x576 with 0 Axes>"
      ]
     },
     "metadata": {},
     "output_type": "display_data"
    },
    {
     "data": {
      "text/plain": [
       "<Figure size 864x576 with 0 Axes>"
      ]
     },
     "metadata": {},
     "output_type": "display_data"
    },
    {
     "data": {
      "text/plain": [
       "<Figure size 864x576 with 0 Axes>"
      ]
     },
     "metadata": {},
     "output_type": "display_data"
    },
    {
     "data": {
      "text/plain": [
       "<Figure size 864x576 with 0 Axes>"
      ]
     },
     "metadata": {},
     "output_type": "display_data"
    },
    {
     "data": {
      "text/plain": [
       "<Figure size 864x576 with 0 Axes>"
      ]
     },
     "metadata": {},
     "output_type": "display_data"
    },
    {
     "data": {
      "text/plain": [
       "<Figure size 864x576 with 0 Axes>"
      ]
     },
     "metadata": {},
     "output_type": "display_data"
    },
    {
     "data": {
      "text/plain": [
       "<Figure size 864x576 with 0 Axes>"
      ]
     },
     "metadata": {},
     "output_type": "display_data"
    },
    {
     "data": {
      "text/plain": [
       "<Figure size 864x576 with 0 Axes>"
      ]
     },
     "metadata": {},
     "output_type": "display_data"
    },
    {
     "data": {
      "text/plain": [
       "<Figure size 864x576 with 0 Axes>"
      ]
     },
     "metadata": {},
     "output_type": "display_data"
    },
    {
     "data": {
      "text/plain": [
       "<Figure size 864x576 with 0 Axes>"
      ]
     },
     "metadata": {},
     "output_type": "display_data"
    },
    {
     "data": {
      "text/plain": [
       "<Figure size 864x576 with 0 Axes>"
      ]
     },
     "metadata": {},
     "output_type": "display_data"
    },
    {
     "data": {
      "text/plain": [
       "<Figure size 864x576 with 0 Axes>"
      ]
     },
     "metadata": {},
     "output_type": "display_data"
    },
    {
     "data": {
      "text/plain": [
       "<Figure size 864x576 with 0 Axes>"
      ]
     },
     "metadata": {},
     "output_type": "display_data"
    },
    {
     "data": {
      "text/plain": [
       "<Figure size 864x576 with 0 Axes>"
      ]
     },
     "metadata": {},
     "output_type": "display_data"
    },
    {
     "data": {
      "text/plain": [
       "<Figure size 864x576 with 0 Axes>"
      ]
     },
     "metadata": {},
     "output_type": "display_data"
    },
    {
     "data": {
      "text/plain": [
       "<Figure size 864x576 with 0 Axes>"
      ]
     },
     "metadata": {},
     "output_type": "display_data"
    },
    {
     "data": {
      "text/plain": [
       "<Figure size 864x576 with 0 Axes>"
      ]
     },
     "metadata": {},
     "output_type": "display_data"
    },
    {
     "data": {
      "text/plain": [
       "<Figure size 864x576 with 0 Axes>"
      ]
     },
     "metadata": {},
     "output_type": "display_data"
    },
    {
     "data": {
      "text/plain": [
       "<Figure size 864x576 with 0 Axes>"
      ]
     },
     "metadata": {},
     "output_type": "display_data"
    },
    {
     "data": {
      "text/plain": [
       "<Figure size 864x576 with 0 Axes>"
      ]
     },
     "metadata": {},
     "output_type": "display_data"
    },
    {
     "data": {
      "text/plain": [
       "<Figure size 864x576 with 0 Axes>"
      ]
     },
     "metadata": {},
     "output_type": "display_data"
    },
    {
     "data": {
      "text/plain": [
       "<Figure size 864x576 with 0 Axes>"
      ]
     },
     "metadata": {},
     "output_type": "display_data"
    },
    {
     "data": {
      "text/plain": [
       "<Figure size 864x576 with 0 Axes>"
      ]
     },
     "metadata": {},
     "output_type": "display_data"
    },
    {
     "data": {
      "text/plain": [
       "<Figure size 864x576 with 0 Axes>"
      ]
     },
     "metadata": {},
     "output_type": "display_data"
    },
    {
     "data": {
      "text/plain": [
       "<Figure size 864x576 with 0 Axes>"
      ]
     },
     "metadata": {},
     "output_type": "display_data"
    },
    {
     "data": {
      "text/plain": [
       "<Figure size 864x576 with 0 Axes>"
      ]
     },
     "metadata": {},
     "output_type": "display_data"
    },
    {
     "data": {
      "text/plain": [
       "<Figure size 864x576 with 0 Axes>"
      ]
     },
     "metadata": {},
     "output_type": "display_data"
    },
    {
     "data": {
      "text/plain": [
       "<Figure size 864x576 with 0 Axes>"
      ]
     },
     "metadata": {},
     "output_type": "display_data"
    },
    {
     "data": {
      "text/plain": [
       "<Figure size 864x576 with 0 Axes>"
      ]
     },
     "metadata": {},
     "output_type": "display_data"
    },
    {
     "data": {
      "text/plain": [
       "<Figure size 864x576 with 0 Axes>"
      ]
     },
     "metadata": {},
     "output_type": "display_data"
    },
    {
     "data": {
      "text/plain": [
       "<Figure size 864x576 with 0 Axes>"
      ]
     },
     "metadata": {},
     "output_type": "display_data"
    },
    {
     "data": {
      "text/plain": [
       "<Figure size 864x576 with 0 Axes>"
      ]
     },
     "metadata": {},
     "output_type": "display_data"
    },
    {
     "data": {
      "text/plain": [
       "<Figure size 864x576 with 0 Axes>"
      ]
     },
     "metadata": {},
     "output_type": "display_data"
    },
    {
     "data": {
      "text/plain": [
       "<Figure size 864x576 with 0 Axes>"
      ]
     },
     "metadata": {},
     "output_type": "display_data"
    },
    {
     "data": {
      "text/plain": [
       "<Figure size 864x576 with 0 Axes>"
      ]
     },
     "metadata": {},
     "output_type": "display_data"
    },
    {
     "data": {
      "text/plain": [
       "<Figure size 864x576 with 0 Axes>"
      ]
     },
     "metadata": {},
     "output_type": "display_data"
    },
    {
     "data": {
      "text/plain": [
       "<Figure size 864x576 with 0 Axes>"
      ]
     },
     "metadata": {},
     "output_type": "display_data"
    },
    {
     "data": {
      "text/plain": [
       "<Figure size 864x576 with 0 Axes>"
      ]
     },
     "metadata": {},
     "output_type": "display_data"
    },
    {
     "data": {
      "text/plain": [
       "<Figure size 864x576 with 0 Axes>"
      ]
     },
     "metadata": {},
     "output_type": "display_data"
    },
    {
     "data": {
      "text/plain": [
       "<Figure size 864x576 with 0 Axes>"
      ]
     },
     "metadata": {},
     "output_type": "display_data"
    },
    {
     "data": {
      "text/plain": [
       "<Figure size 864x576 with 0 Axes>"
      ]
     },
     "metadata": {},
     "output_type": "display_data"
    },
    {
     "data": {
      "text/plain": [
       "<Figure size 864x576 with 0 Axes>"
      ]
     },
     "metadata": {},
     "output_type": "display_data"
    },
    {
     "data": {
      "text/plain": [
       "<Figure size 864x576 with 0 Axes>"
      ]
     },
     "metadata": {},
     "output_type": "display_data"
    }
   ],
   "source": [
    "q = 0.5\n",
    "\n",
    "for score_name in gene_modules_dict.keys():\n",
    "    if score_name in polya_enrichment_res.columns:\n",
    "        print(score_name)\n",
    "        #plot_distribution(final_tcga_data,score_name,thr=q)\n",
    "        plot_kaplan_meier_SU2C(polya_enrichment_res, score_name,measure = 'Overall Survival (Months)',event = 'OS',thr=q,save_plot=True,show_plot=False)"
   ]
  },
  {
   "cell_type": "markdown",
   "metadata": {},
   "source": [
    "### Both datasets"
   ]
  },
  {
   "cell_type": "code",
   "execution_count": 61,
   "metadata": {},
   "outputs": [],
   "source": [
    "\n",
    "# Include only samples that don't have polya from the capture set\n",
    "capture_enrichment_res_non_ovelap = capture_enrichment_res[~(capture_enrichment_res['Sample Identifier'].isin(polya_enrichment_res['Sample Identifier']))]\n",
    "\n",
    "final_enrichment_dataset = pd.concat([polya_enrichment_res,capture_enrichment_res_non_ovelap],axis=0,ignore_index=True)\n",
    "\n",
    "#final_enrichment_dataset = pd.concat([polya_enrichment_res,capture_enrichment_res],axis=0,ignore_index=True)\n",
    "\n",
    "final_enrichment_dataset['OS'].value_counts()"
   ]
  },
  {
   "cell_type": "markdown",
   "metadata": {},
   "source": [
    "### Plot Kaplan Meiers"
   ]
  },
  {
   "cell_type": "code",
   "execution_count": 65,
   "metadata": {},
   "outputs": [
    {
     "name": "stdout",
     "output_type": "stream",
     "text": [
      "Persist\n",
      "High median: 0.39, low median: -0.53\n",
      "Log-Rank Test p-value: 0.0012\n",
      "Log-Rank Test statistic: 10.5\n",
      "\n"
     ]
    },
    {
     "data": {
      "image/png": "[encoded data removed]",
      "text/plain": [
       "<Figure size 864x576 with 2 Axes>"
      ]
     },
     "metadata": {
      "needs_background": "light"
     },
     "output_type": "display_data"
    }
   ],
   "source": [
    "q = 0.5\n",
    "\n",
    "score_name = 'Persist'\n",
    "\n",
    "if score_name in final_enrichment_dataset.columns:\n",
    "    print(score_name)\n",
    "    #plot_distribution(final_tcga_data,score_name,thr=q)\n",
    "    plot_kaplan_meier_SU2C(final_enrichment_dataset, score_name,measure = 'Overall Survival (Months)',event = 'OS',thr=q,save_plot=False,show_plot=True)"
   ]
  },
  {
   "cell_type": "code",
   "execution_count": 66,
   "metadata": {},
   "outputs": [
    {
     "name": "stdout",
     "output_type": "stream",
     "text": [
      "Tumor region\n",
      "High median: 0.28, low median: -0.21\n",
      "Log-Rank Test p-value: 0.5031\n",
      "Log-Rank Test statistic: 0.4\n",
      "\n",
      "Luminal region\n",
      "High median: 0.22, low median: -0.17\n",
      "Log-Rank Test p-value: 0.2667\n",
      "Log-Rank Test statistic: 1.2\n",
      "\n",
      "Basal region\n",
      "High median: 0.13, low median: -0.32\n",
      "Log-Rank Test p-value: 0.6676\n",
      "Log-Rank Test statistic: 0.2\n",
      "\n",
      "Club region\n",
      "High median: 0.11, low median: -0.26\n",
      "Log-Rank Test p-value: 0.9862\n",
      "Log-Rank Test statistic: 0.0\n",
      "\n",
      "Immune region\n",
      "High median: 0.37, low median: -0.48\n",
      "Log-Rank Test p-value: 0.6274\n",
      "Log-Rank Test statistic: 0.2\n",
      "\n",
      "CRPCsig51\n",
      "High median: 0.29, low median: -0.56\n",
      "Log-Rank Test p-value: 0.0004\n",
      "Log-Rank Test statistic: 12.5\n",
      "\n",
      "Hillock\n",
      "High median: 0.17, low median: -0.22\n",
      "Log-Rank Test p-value: 0.5335\n",
      "Log-Rank Test statistic: 0.4\n",
      "\n",
      "Club\n",
      "High median: 0.13, low median: -0.23\n",
      "Log-Rank Test p-value: 0.8548\n",
      "Log-Rank Test statistic: 0.0\n",
      "\n",
      "Basal\n",
      "High median: 0.28, low median: -0.30\n",
      "Log-Rank Test p-value: 0.6675\n",
      "Log-Rank Test statistic: 0.2\n",
      "\n",
      "Luminal\n",
      "High median: 0.28, low median: -0.18\n",
      "Log-Rank Test p-value: 0.4961\n",
      "Log-Rank Test statistic: 0.5\n",
      "\n",
      "Persist\n",
      "High median: 0.39, low median: -0.53\n",
      "Log-Rank Test p-value: 0.0012\n",
      "Log-Rank Test statistic: 10.5\n",
      "\n",
      "PROSGenesis\n",
      "High median: 0.11, low median: -0.19\n",
      "Log-Rank Test p-value: 0.8979\n",
      "Log-Rank Test statistic: 0.0\n",
      "\n",
      "AR signaling\n",
      "High median: 0.35, low median: -0.24\n",
      "Log-Rank Test p-value: 0.6998\n",
      "Log-Rank Test statistic: 0.1\n",
      "\n",
      "NEPC\n",
      "High median: 0.14, low median: -0.33\n",
      "Log-Rank Test p-value: 0.4577\n",
      "Log-Rank Test statistic: 0.6\n",
      "\n",
      "PAM50 LumA down\n",
      "High median: 0.39, low median: -0.59\n",
      "Log-Rank Test p-value: 0.0540\n",
      "Log-Rank Test statistic: 3.7\n",
      "\n",
      "PAM50 LumB down\n",
      "High median: 0.19, low median: -0.19\n",
      "Log-Rank Test p-value: 0.5612\n",
      "Log-Rank Test statistic: 0.3\n",
      "\n",
      "PAM50 Basal down\n",
      "High median: 0.27, low median: -0.27\n",
      "Log-Rank Test p-value: 0.8668\n",
      "Log-Rank Test statistic: 0.0\n",
      "\n",
      "AR-A\n",
      "High median: 0.42, low median: -0.41\n",
      "Log-Rank Test p-value: 0.5759\n",
      "Log-Rank Test statistic: 0.3\n",
      "\n",
      "PORTOS\n",
      "High median: 0.23, low median: -0.32\n",
      "Log-Rank Test p-value: 0.3542\n",
      "Log-Rank Test statistic: 0.9\n",
      "\n",
      "Decipher\n",
      "High median: 0.12, low median: -0.23\n",
      "Log-Rank Test p-value: 0.4638\n",
      "Log-Rank Test statistic: 0.5\n",
      "\n",
      "Intermediate EMT-OWN\n",
      "High median: 0.10, low median: -0.29\n",
      "Log-Rank Test p-value: 0.8111\n",
      "Log-Rank Test statistic: 0.1\n",
      "\n",
      "Cycle-OWN\n",
      "High median: 0.40, low median: -0.61\n",
      "Log-Rank Test p-value: 0.0024\n",
      "Log-Rank Test statistic: 9.2\n",
      "\n",
      "Stress-OWN\n",
      "High median: 0.12, low median: -0.30\n",
      "Log-Rank Test p-value: 0.6652\n",
      "Log-Rank Test statistic: 0.2\n",
      "\n",
      "Intermediate CRPC-OWN\n",
      "High median: 0.22, low median: -0.23\n",
      "Log-Rank Test p-value: 0.7908\n",
      "Log-Rank Test statistic: 0.1\n",
      "\n",
      "CRPC-AR\n",
      "High median: 0.34, low median: -0.20\n",
      "Log-Rank Test p-value: 0.7210\n",
      "Log-Rank Test statistic: 0.1\n",
      "\n",
      "CRPC-WNT\n",
      "High median: 0.12, low median: -0.13\n",
      "Log-Rank Test p-value: 0.0111\n",
      "Log-Rank Test statistic: 6.4\n",
      "\n",
      "CRPC-NE\n",
      "High median: 0.05, low median: -0.30\n",
      "Log-Rank Test p-value: 0.0327\n",
      "Log-Rank Test statistic: 4.6\n",
      "\n",
      "CRPC-SCL\n",
      "High median: 0.21, low median: -0.31\n",
      "Log-Rank Test p-value: 0.0872\n",
      "Log-Rank Test statistic: 2.9\n",
      "\n",
      "Luminal progenitor\n",
      "High median: 0.18, low median: -0.24\n",
      "Log-Rank Test p-value: 0.4697\n",
      "Log-Rank Test statistic: 0.5\n",
      "\n",
      "Necrosis\n",
      "High median: 0.20, low median: -0.22\n",
      "Log-Rank Test p-value: 0.1920\n",
      "Log-Rank Test statistic: 1.7\n",
      "\n",
      "Angiogenesis\n",
      "High median: 0.28, low median: -0.28\n",
      "Log-Rank Test p-value: 0.9769\n",
      "Log-Rank Test statistic: 0.0\n",
      "\n",
      "B cells\n",
      "High median: 0.41, low median: -0.44\n",
      "Log-Rank Test p-value: 0.5900\n",
      "Log-Rank Test statistic: 0.3\n",
      "\n",
      "Mast cells\n",
      "High median: 0.35, low median: -0.26\n",
      "Log-Rank Test p-value: 0.8869\n",
      "Log-Rank Test statistic: 0.0\n",
      "\n",
      "Monocytes\n",
      "High median: 0.43, low median: -0.30\n",
      "Log-Rank Test p-value: 0.6350\n",
      "Log-Rank Test statistic: 0.2\n",
      "\n",
      "Th17 cells\n",
      "High median: 0.25, low median: -0.26\n",
      "Log-Rank Test p-value: 0.4577\n",
      "Log-Rank Test statistic: 0.6\n",
      "\n",
      "Treg cells\n",
      "High median: 0.19, low median: -0.33\n",
      "Log-Rank Test p-value: 0.7412\n",
      "Log-Rank Test statistic: 0.1\n",
      "\n",
      "M1 macrophages\n",
      "High median: 0.38, low median: -0.45\n",
      "Log-Rank Test p-value: 0.0331\n",
      "Log-Rank Test statistic: 4.5\n",
      "\n",
      "M2 macrophages\n",
      "High median: 0.34, low median: -0.33\n",
      "Log-Rank Test p-value: 0.7991\n",
      "Log-Rank Test statistic: 0.1\n",
      "\n",
      "T-cell exhaustion\n",
      "High median: 0.15, low median: -0.32\n",
      "Log-Rank Test p-value: 0.1914\n",
      "Log-Rank Test statistic: 1.7\n",
      "\n",
      "MDSC Hirz 2023\n",
      "High median: 0.37, low median: -0.39\n",
      "Log-Rank Test p-value: 0.4180\n",
      "Log-Rank Test statistic: 0.7\n",
      "\n",
      "T-regulatory activity\n",
      "High median: 0.32, low median: -0.32\n",
      "Log-Rank Test p-value: 0.3617\n",
      "Log-Rank Test statistic: 0.8\n",
      "\n",
      "CD300LD downstream\n",
      "High median: 0.26, low median: -0.24\n",
      "Log-Rank Test p-value: 0.5590\n",
      "Log-Rank Test statistic: 0.3\n",
      "\n",
      "CD47 associated genes\n",
      "High median: 0.19, low median: -0.24\n",
      "Log-Rank Test p-value: 0.7414\n",
      "Log-Rank Test statistic: 0.1\n",
      "\n",
      "MDSC Alshetaiwi 2020\n",
      "High median: 0.23, low median: -0.28\n",
      "Log-Rank Test p-value: 0.9114\n",
      "Log-Rank Test statistic: 0.0\n",
      "\n",
      "MDSC Calcinotto 2018\n",
      "High median: 0.32, low median: -0.30\n",
      "Log-Rank Test p-value: 0.2357\n",
      "Log-Rank Test statistic: 1.4\n",
      "\n",
      "NLR associated\n",
      "High median: 0.24, low median: -0.52\n",
      "Log-Rank Test p-value: 0.4541\n",
      "Log-Rank Test statistic: 0.6\n",
      "\n",
      "MP1  Cell Cycle - G2_M\n",
      "High median: 0.43, low median: -0.63\n",
      "Log-Rank Test p-value: 0.0001\n",
      "Log-Rank Test statistic: 14.6\n",
      "\n",
      "MP2  Cell Cycle - G1_S\n",
      "High median: 0.33, low median: -0.55\n",
      "Log-Rank Test p-value: 0.0000\n",
      "Log-Rank Test statistic: 16.5\n",
      "\n",
      "MP3  Cell Cylce HMG-rich\n",
      "High median: 0.35, low median: -0.44\n",
      "Log-Rank Test p-value: 0.0017\n",
      "Log-Rank Test statistic: 9.9\n",
      "\n",
      "MP4  Chromatin \n",
      "High median: 0.29, low median: -0.39\n",
      "Log-Rank Test p-value: 0.2147\n",
      "Log-Rank Test statistic: 1.5\n",
      "\n",
      "MP5 Stress \n",
      "High median: 0.14, low median: -0.36\n",
      "Log-Rank Test p-value: 0.2097\n",
      "Log-Rank Test statistic: 1.6\n",
      "\n",
      "MP6 Hypoxia\n",
      "High median: 0.10, low median: -0.34\n",
      "Log-Rank Test p-value: 0.2375\n",
      "Log-Rank Test statistic: 1.4\n",
      "\n",
      "MP7 Stress (in vitro)\n",
      "High median: 0.13, low median: -0.29\n",
      "Log-Rank Test p-value: 0.1218\n",
      "Log-Rank Test statistic: 2.4\n",
      "\n",
      "MP8 Proteasomal degradation\n",
      "High median: 0.35, low median: -0.42\n",
      "Log-Rank Test p-value: 0.2618\n",
      "Log-Rank Test statistic: 1.3\n",
      "\n",
      "MP9 Unfolded protein response\n",
      "High median: 0.33, low median: -0.35\n",
      "Log-Rank Test p-value: 0.2512\n",
      "Log-Rank Test statistic: 1.3\n",
      "\n",
      "MP10 Protein maturation\n",
      "High median: 0.29, low median: -0.39\n",
      "Log-Rank Test p-value: 0.9258\n",
      "Log-Rank Test statistic: 0.0\n",
      "\n",
      "MP11 Translation initiation\n",
      "High median: 0.41, low median: -0.34\n",
      "Log-Rank Test p-value: 0.0255\n",
      "Log-Rank Test statistic: 5.0\n",
      "\n",
      "MP12 EMT-I\n",
      "High median: 0.47, low median: -0.39\n",
      "Log-Rank Test p-value: 0.0973\n",
      "Log-Rank Test statistic: 2.7\n",
      "\n",
      "MP13 EMT-II\n",
      "High median: 0.27, low median: -0.34\n",
      "Log-Rank Test p-value: 0.3703\n",
      "Log-Rank Test statistic: 0.8\n",
      "\n",
      "MP14 EMT-III \n",
      "High median: 0.20, low median: -0.38\n",
      "Log-Rank Test p-value: 0.1341\n",
      "Log-Rank Test statistic: 2.2\n",
      "\n",
      "MP15 EMT IV\n",
      "High median: 0.29, low median: -0.26\n",
      "Log-Rank Test p-value: 0.9730\n",
      "Log-Rank Test statistic: 0.0\n",
      "\n",
      "MP16 MES (glioma)\n",
      "High median: 0.24, low median: -0.29\n",
      "Log-Rank Test p-value: 0.6219\n",
      "Log-Rank Test statistic: 0.2\n",
      "\n",
      "MP17 Interferon_MHC-II (I)\n",
      "High median: 0.35, low median: -0.48\n",
      "Log-Rank Test p-value: 0.4110\n",
      "Log-Rank Test statistic: 0.7\n",
      "\n",
      "MP18 Interferon_MHC-II (II)\n",
      "High median: 0.31, low median: -0.37\n",
      "Log-Rank Test p-value: 0.6215\n",
      "Log-Rank Test statistic: 0.2\n",
      "\n",
      "MP19 Epithelial Senescence\n",
      "High median: 0.16, low median: -0.23\n",
      "Log-Rank Test p-value: 0.4708\n",
      "Log-Rank Test statistic: 0.5\n",
      "\n",
      "MP20 MYC\n",
      "High median: 0.35, low median: -0.42\n",
      "Log-Rank Test p-value: 0.2655\n",
      "Log-Rank Test statistic: 1.2\n",
      "\n",
      "MP21 Respiration\n",
      "High median: 0.48, low median: -0.47\n",
      "Log-Rank Test p-value: 0.8686\n",
      "Log-Rank Test statistic: 0.0\n",
      "\n",
      "MP22 Secreted I\n",
      "High median: 0.14, low median: -0.31\n",
      "Log-Rank Test p-value: 0.2616\n",
      "Log-Rank Test statistic: 1.3\n",
      "\n",
      "MP23 Secreted II\n",
      "High median: 0.18, low median: -0.29\n",
      "Log-Rank Test p-value: 0.6564\n",
      "Log-Rank Test statistic: 0.2\n",
      "\n",
      "MP24 Cilia\n",
      "High median: 0.15, low median: -0.28\n",
      "Log-Rank Test p-value: 0.3714\n",
      "Log-Rank Test statistic: 0.8\n",
      "\n",
      "MP25 Astrocytes\n",
      "High median: 0.28, low median: -0.24\n",
      "Log-Rank Test p-value: 0.3105\n",
      "Log-Rank Test statistic: 1.0\n",
      "\n",
      "MP26 NPC Glioma\n",
      "High median: 0.12, low median: -0.24\n",
      "Log-Rank Test p-value: 0.3598\n",
      "Log-Rank Test statistic: 0.8\n",
      "\n",
      "MP27 Oligo Progenitor\n",
      "High median: 0.10, low median: -0.17\n",
      "Log-Rank Test p-value: 0.7914\n",
      "Log-Rank Test statistic: 0.1\n",
      "\n",
      "MP28 Oligo normal\n",
      "High median: 0.14, low median: -0.19\n",
      "Log-Rank Test p-value: 0.0531\n",
      "Log-Rank Test statistic: 3.7\n",
      "\n",
      "MP29 NPC_OPC\n",
      "High median: 0.13, low median: -0.16\n",
      "Log-Rank Test p-value: 0.0356\n",
      "Log-Rank Test statistic: 4.4\n",
      "\n",
      "MP30 PDAC-classical\n",
      "High median: 0.23, low median: -0.24\n",
      "Log-Rank Test p-value: 0.6910\n",
      "Log-Rank Test statistic: 0.2\n",
      "\n",
      "MP31 Alveolar\n",
      "High median: 0.18, low median: -0.19\n",
      "Log-Rank Test p-value: 0.2604\n",
      "Log-Rank Test statistic: 1.3\n",
      "\n",
      "MP32 Skin-pigmentation\n",
      "High median: 0.17, low median: -0.20\n",
      "Log-Rank Test p-value: 0.4851\n",
      "Log-Rank Test statistic: 0.5\n",
      "\n",
      "MP33 RBCs\n",
      "High median: 0.20, low median: -0.25\n",
      "Log-Rank Test p-value: 0.0240\n",
      "Log-Rank Test statistic: 5.1\n",
      "\n",
      "MP34 Platelet-activation\n",
      "High median: 0.26, low median: -0.29\n",
      "Log-Rank Test p-value: 0.5443\n",
      "Log-Rank Test statistic: 0.4\n",
      "\n",
      "MP35 Hemato-related-I\n",
      "High median: 0.34, low median: -0.31\n",
      "Log-Rank Test p-value: 0.7778\n",
      "Log-Rank Test statistic: 0.1\n",
      "\n",
      "MP36 IG\n",
      "High median: 0.27, low median: -0.31\n",
      "Log-Rank Test p-value: 0.6832\n",
      "Log-Rank Test statistic: 0.2\n",
      "\n",
      "MP37 Hemato-related-II\n",
      "High median: 0.14, low median: -0.22\n",
      "Log-Rank Test p-value: 0.8171\n",
      "Log-Rank Test statistic: 0.1\n",
      "\n",
      "MP38 Glutathione\n",
      "High median: 0.13, low median: -0.20\n",
      "Log-Rank Test p-value: 0.1568\n",
      "Log-Rank Test statistic: 2.0\n",
      "\n",
      "MP39 Metal-response\n",
      "High median: 0.22, low median: -0.33\n",
      "Log-Rank Test p-value: 0.0436\n",
      "Log-Rank Test statistic: 4.1\n",
      "\n",
      "MP40 PDAC-related\n",
      "High median: 0.18, low median: -0.29\n",
      "Log-Rank Test p-value: 0.0891\n",
      "Log-Rank Test statistic: 2.9\n",
      "\n",
      "MP41 Unassigned\n",
      "High median: 0.26, low median: -0.31\n",
      "Log-Rank Test p-value: 0.2738\n",
      "Log-Rank Test statistic: 1.2\n",
      "\n",
      "Cycle\n",
      "High median: 0.33, low median: -0.52\n",
      "Log-Rank Test p-value: 0.0002\n",
      "Log-Rank Test statistic: 14.3\n",
      "\n",
      "Stress\n",
      "High median: 0.05, low median: -0.25\n",
      "Log-Rank Test p-value: 0.8267\n",
      "Log-Rank Test statistic: 0.0\n",
      "\n",
      "Interferon\n",
      "High median: 0.32, low median: -0.41\n",
      "Log-Rank Test p-value: 0.5378\n",
      "Log-Rank Test statistic: 0.4\n",
      "\n",
      "Hypoxia\n",
      "High median: 0.11, low median: -0.33\n",
      "Log-Rank Test p-value: 0.3218\n",
      "Log-Rank Test statistic: 1.0\n",
      "\n",
      "Oxphos\n",
      "High median: 0.53, low median: -0.47\n",
      "Log-Rank Test p-value: 0.1265\n",
      "Log-Rank Test statistic: 2.3\n",
      "\n",
      "Metal\n",
      "High median: 0.31, low median: -0.33\n",
      "Log-Rank Test p-value: 0.4998\n",
      "Log-Rank Test statistic: 0.5\n",
      "\n",
      "Mesenchymal\n",
      "High median: 0.56, low median: -0.36\n",
      "Log-Rank Test p-value: 0.1655\n",
      "Log-Rank Test statistic: 1.9\n",
      "\n",
      "pEMT\n",
      "High median: 0.20, low median: -0.34\n",
      "Log-Rank Test p-value: 0.2033\n",
      "Log-Rank Test statistic: 1.6\n",
      "\n",
      "Alveolar\n",
      "High median: 0.30, low median: -0.30\n",
      "Log-Rank Test p-value: 0.8234\n",
      "Log-Rank Test statistic: 0.0\n",
      "\n",
      "Basal_pancancer\n",
      "High median: 0.21, low median: -0.24\n",
      "Log-Rank Test p-value: 0.8843\n",
      "Log-Rank Test statistic: 0.0\n",
      "\n",
      "Squamous\n",
      "High median: 0.18, low median: -0.18\n",
      "Log-Rank Test p-value: 0.7877\n",
      "Log-Rank Test statistic: 0.1\n",
      "\n",
      "Glandular\n",
      "High median: 0.19, low median: -0.25\n",
      "Log-Rank Test p-value: 0.9898\n",
      "Log-Rank Test statistic: 0.0\n",
      "\n",
      "Ciliated\n",
      "High median: 0.14, low median: -0.35\n",
      "Log-Rank Test p-value: 0.4459\n",
      "Log-Rank Test statistic: 0.6\n",
      "\n",
      "AC\n",
      "High median: 0.24, low median: -0.22\n",
      "Log-Rank Test p-value: 0.9740\n",
      "Log-Rank Test statistic: 0.0\n",
      "\n",
      "OPC\n",
      "High median: 0.28, low median: -0.18\n",
      "Log-Rank Test p-value: 0.0185\n",
      "Log-Rank Test statistic: 5.5\n",
      "\n",
      "NPC\n",
      "High median: 0.14, low median: -0.21\n",
      "Log-Rank Test p-value: 0.0285\n",
      "Log-Rank Test statistic: 4.8\n",
      "\n",
      "Stemness\n",
      "High median: 0.46, low median: -0.68\n",
      "Log-Rank Test p-value: 0.0021\n",
      "Log-Rank Test statistic: 9.5\n",
      "\n",
      "HALLMARK_ADIPOGENESIS\n",
      "High median: 0.14, low median: -0.16\n",
      "Log-Rank Test p-value: 0.1087\n",
      "Log-Rank Test statistic: 2.6\n",
      "\n",
      "HALLMARK_ALLOGRAFT_REJECTION\n",
      "High median: 0.30, low median: -0.32\n",
      "Log-Rank Test p-value: 0.6605\n",
      "Log-Rank Test statistic: 0.2\n",
      "\n",
      "HALLMARK_ANDROGEN_RESPONSE\n",
      "High median: 0.24, low median: -0.22\n",
      "Log-Rank Test p-value: 0.5024\n",
      "Log-Rank Test statistic: 0.4\n",
      "\n",
      "HALLMARK_ANGIOGENESIS\n",
      "High median: 0.26, low median: -0.26\n",
      "Log-Rank Test p-value: 0.3441\n",
      "Log-Rank Test statistic: 0.9\n",
      "\n",
      "HALLMARK_APICAL_JUNCTION\n",
      "High median: 0.21, low median: -0.20\n",
      "Log-Rank Test p-value: 0.7143\n",
      "Log-Rank Test statistic: 0.1\n",
      "\n",
      "HALLMARK_APICAL_SURFACE\n",
      "High median: 0.14, low median: -0.17\n",
      "Log-Rank Test p-value: 0.0256\n",
      "Log-Rank Test statistic: 5.0\n",
      "\n",
      "HALLMARK_APOPTOSIS\n",
      "High median: 0.11, low median: -0.22\n",
      "Log-Rank Test p-value: 0.2884\n",
      "Log-Rank Test statistic: 1.1\n",
      "\n",
      "HALLMARK_BILE_ACID_METABOLISM\n",
      "High median: 0.08, low median: -0.17\n",
      "Log-Rank Test p-value: 0.2163\n",
      "Log-Rank Test statistic: 1.5\n",
      "\n",
      "HALLMARK_CHOLESTEROL_HOMEOSTASIS\n",
      "High median: 0.15, low median: -0.20\n",
      "Log-Rank Test p-value: 0.0766\n",
      "Log-Rank Test statistic: 3.1\n",
      "\n",
      "HALLMARK_COAGULATION\n",
      "High median: 0.20, low median: -0.26\n",
      "Log-Rank Test p-value: 0.2977\n",
      "Log-Rank Test statistic: 1.1\n",
      "\n",
      "HALLMARK_COMPLEMENT\n",
      "High median: 0.22, low median: -0.27\n",
      "Log-Rank Test p-value: 0.5172\n",
      "Log-Rank Test statistic: 0.4\n",
      "\n",
      "HALLMARK_DNA_REPAIR\n",
      "High median: 0.18, low median: -0.28\n",
      "Log-Rank Test p-value: 0.0378\n",
      "Log-Rank Test statistic: 4.3\n",
      "\n",
      "HALLMARK_E2F_TARGETS\n",
      "High median: 0.30, low median: -0.47\n",
      "Log-Rank Test p-value: 0.0000\n",
      "Log-Rank Test statistic: 17.7\n",
      "\n",
      "HALLMARK_EPITHELIAL_MESENCHYMAL_TRANSITION\n",
      "High median: 0.31, low median: -0.34\n",
      "Log-Rank Test p-value: 0.0955\n",
      "Log-Rank Test statistic: 2.8\n",
      "\n",
      "HALLMARK_ESTROGEN_RESPONSE_EARLY\n",
      "High median: 0.06, low median: -0.20\n",
      "Log-Rank Test p-value: 0.8060\n",
      "Log-Rank Test statistic: 0.1\n",
      "\n",
      "HALLMARK_ESTROGEN_RESPONSE_LATE\n",
      "High median: 0.06, low median: -0.16\n",
      "Log-Rank Test p-value: 0.2010\n",
      "Log-Rank Test statistic: 1.6\n",
      "\n",
      "HALLMARK_FATTY_ACID_METABOLISM\n",
      "High median: 0.14, low median: -0.20\n",
      "Log-Rank Test p-value: 0.1663\n",
      "Log-Rank Test statistic: 1.9\n",
      "\n",
      "HALLMARK_G2M_CHECKPOINT\n",
      "High median: 0.25, low median: -0.43\n",
      "Log-Rank Test p-value: 0.0004\n",
      "Log-Rank Test statistic: 12.7\n",
      "\n",
      "HALLMARK_GLYCOLYSIS\n",
      "High median: 0.06, low median: -0.22\n",
      "Log-Rank Test p-value: 0.0745\n",
      "Log-Rank Test statistic: 3.2\n",
      "\n",
      "HALLMARK_HEDGEHOG_SIGNALING\n",
      "High median: 0.23, low median: -0.26\n",
      "Log-Rank Test p-value: 0.3694\n",
      "Log-Rank Test statistic: 0.8\n",
      "\n",
      "HALLMARK_HEME_METABOLISM\n",
      "High median: 0.05, low median: -0.20\n",
      "Log-Rank Test p-value: 0.7616\n",
      "Log-Rank Test statistic: 0.1\n",
      "\n",
      "HALLMARK_HYPOXIA\n",
      "High median: 0.04, low median: -0.22\n",
      "Log-Rank Test p-value: 0.0817\n",
      "Log-Rank Test statistic: 3.0\n",
      "\n",
      "HALLMARK_IL2_STAT5_SIGNALING\n",
      "High median: 0.12, low median: -0.21\n",
      "Log-Rank Test p-value: 0.2922\n",
      "Log-Rank Test statistic: 1.1\n",
      "\n",
      "HALLMARK_IL6_JAK_STAT3_SIGNALING\n",
      "High median: 0.29, low median: -0.31\n",
      "Log-Rank Test p-value: 0.4732\n",
      "Log-Rank Test statistic: 0.5\n",
      "\n",
      "HALLMARK_INFLAMMATORY_RESPONSE\n",
      "High median: 0.27, low median: -0.27\n",
      "Log-Rank Test p-value: 0.3383\n",
      "Log-Rank Test statistic: 0.9\n",
      "\n",
      "HALLMARK_INTERFERON_ALPHA_RESPONSE\n",
      "High median: 0.31, low median: -0.35\n",
      "Log-Rank Test p-value: 0.2846\n",
      "Log-Rank Test statistic: 1.1\n",
      "\n",
      "HALLMARK_INTERFERON_GAMMA_RESPONSE\n",
      "High median: 0.26, low median: -0.33\n",
      "Log-Rank Test p-value: 0.5378\n",
      "Log-Rank Test statistic: 0.4\n",
      "\n",
      "HALLMARK_KRAS_SIGNALING_DN\n",
      "High median: 0.10, low median: -0.13\n",
      "Log-Rank Test p-value: 0.7199\n",
      "Log-Rank Test statistic: 0.1\n",
      "\n",
      "HALLMARK_KRAS_SIGNALING_UP\n",
      "High median: 0.18, low median: -0.22\n",
      "Log-Rank Test p-value: 0.1589\n",
      "Log-Rank Test statistic: 2.0\n",
      "\n",
      "HALLMARK_MITOTIC_SPINDLE\n",
      "High median: 0.17, low median: -0.31\n",
      "Log-Rank Test p-value: 0.2270\n",
      "Log-Rank Test statistic: 1.5\n",
      "\n",
      "HALLMARK_MTORC1_SIGNALING\n",
      "High median: 0.15, low median: -0.28\n",
      "Log-Rank Test p-value: 0.0960\n",
      "Log-Rank Test statistic: 2.8\n",
      "\n",
      "HALLMARK_MYC_TARGETS_V1\n",
      "High median: 0.34, low median: -0.40\n",
      "Log-Rank Test p-value: 0.2693\n",
      "Log-Rank Test statistic: 1.2\n",
      "\n",
      "HALLMARK_MYC_TARGETS_V2\n",
      "High median: 0.29, low median: -0.38\n",
      "Log-Rank Test p-value: 0.0068\n",
      "Log-Rank Test statistic: 7.3\n",
      "\n",
      "HALLMARK_MYOGENESIS\n",
      "High median: 0.19, low median: -0.22\n",
      "Log-Rank Test p-value: 0.8992\n",
      "Log-Rank Test statistic: 0.0\n",
      "\n",
      "HALLMARK_NOTCH_SIGNALING\n",
      "High median: 0.15, low median: -0.19\n",
      "Log-Rank Test p-value: 0.9609\n",
      "Log-Rank Test statistic: 0.0\n",
      "\n",
      "HALLMARK_OXIDATIVE_PHOSPHORYLATION\n",
      "High median: 0.28, low median: -0.33\n",
      "Log-Rank Test p-value: 0.0114\n",
      "Log-Rank Test statistic: 6.4\n",
      "\n",
      "HALLMARK_P53_PATHWAY\n",
      "High median: 0.08, low median: -0.16\n",
      "Log-Rank Test p-value: 0.2828\n",
      "Log-Rank Test statistic: 1.2\n",
      "\n",
      "HALLMARK_PANCREAS_BETA_CELLS\n",
      "High median: 0.18, low median: -0.11\n",
      "Log-Rank Test p-value: 0.4791\n",
      "Log-Rank Test statistic: 0.5\n",
      "\n",
      "HALLMARK_PEROXISOME\n",
      "High median: 0.09, low median: -0.18\n",
      "Log-Rank Test p-value: 0.0471\n",
      "Log-Rank Test statistic: 3.9\n",
      "\n",
      "HALLMARK_PI3K_AKT_MTOR_SIGNALING\n",
      "High median: 0.10, low median: -0.19\n",
      "Log-Rank Test p-value: 0.5354\n",
      "Log-Rank Test statistic: 0.4\n",
      "\n",
      "HALLMARK_PROTEIN_SECRETION\n",
      "High median: 0.26, low median: -0.30\n",
      "Log-Rank Test p-value: 0.6216\n",
      "Log-Rank Test statistic: 0.2\n",
      "\n",
      "HALLMARK_REACTIVE_OXYGEN_SPECIES_PATHWAY\n",
      "High median: 0.16, low median: -0.26\n",
      "Log-Rank Test p-value: 0.4255\n",
      "Log-Rank Test statistic: 0.6\n",
      "\n",
      "HALLMARK_SPERMATOGENESIS\n",
      "High median: 0.09, low median: -0.15\n",
      "Log-Rank Test p-value: 0.1178\n",
      "Log-Rank Test statistic: 2.4\n",
      "\n",
      "HALLMARK_TGF_BETA_SIGNALING\n",
      "High median: 0.17, low median: -0.20\n",
      "Log-Rank Test p-value: 0.8392\n",
      "Log-Rank Test statistic: 0.0\n",
      "\n",
      "HALLMARK_TNFA_SIGNALING_VIA_NFKB\n",
      "High median: 0.15, low median: -0.30\n",
      "Log-Rank Test p-value: 0.2868\n",
      "Log-Rank Test statistic: 1.1\n",
      "\n",
      "HALLMARK_UNFOLDED_PROTEIN_RESPONSE\n",
      "High median: 0.17, low median: -0.24\n",
      "Log-Rank Test p-value: 0.1787\n",
      "Log-Rank Test statistic: 1.8\n",
      "\n",
      "HALLMARK_UV_RESPONSE_DN\n",
      "High median: 0.13, low median: -0.18\n",
      "Log-Rank Test p-value: 0.3665\n",
      "Log-Rank Test statistic: 0.8\n",
      "\n",
      "HALLMARK_UV_RESPONSE_UP\n",
      "High median: 0.05, low median: -0.17\n",
      "Log-Rank Test p-value: 0.1939\n",
      "Log-Rank Test statistic: 1.7\n",
      "\n",
      "HALLMARK_WNT_BETA_CATENIN_SIGNALING\n",
      "High median: 0.19, low median: -0.20\n",
      "Log-Rank Test p-value: 0.4077\n",
      "Log-Rank Test statistic: 0.7\n",
      "\n",
      "HALLMARK_XENOBIOTIC_METABOLISM\n",
      "High median: 0.13, low median: -0.18\n",
      "Log-Rank Test p-value: 0.1329\n",
      "Log-Rank Test statistic: 2.3\n",
      "\n",
      "Club_prosgenesis\n",
      "High median: 0.12, low median: -0.32\n",
      "Log-Rank Test p-value: 0.9210\n",
      "Log-Rank Test statistic: 0.0\n",
      "\n",
      "Club_SCL\n",
      "High median: 0.22, low median: -0.35\n",
      "Log-Rank Test p-value: 0.4707\n",
      "Log-Rank Test statistic: 0.5\n",
      "\n",
      "Club_region_excl_club\n",
      "High median: 0.11, low median: -0.26\n",
      "Log-Rank Test p-value: 0.9862\n",
      "Log-Rank Test statistic: 0.0\n",
      "\n"
     ]
    },
    {
     "data": {
      "text/plain": [
       "<Figure size 864x576 with 0 Axes>"
      ]
     },
     "metadata": {},
     "output_type": "display_data"
    },
    {
     "data": {
      "text/plain": [
       "<Figure size 864x576 with 0 Axes>"
      ]
     },
     "metadata": {},
     "output_type": "display_data"
    },
    {
     "data": {
      "text/plain": [
       "<Figure size 864x576 with 0 Axes>"
      ]
     },
     "metadata": {},
     "output_type": "display_data"
    },
    {
     "data": {
      "text/plain": [
       "<Figure size 864x576 with 0 Axes>"
      ]
     },
     "metadata": {},
     "output_type": "display_data"
    },
    {
     "data": {
      "text/plain": [
       "<Figure size 864x576 with 0 Axes>"
      ]
     },
     "metadata": {},
     "output_type": "display_data"
    },
    {
     "data": {
      "text/plain": [
       "<Figure size 864x576 with 0 Axes>"
      ]
     },
     "metadata": {},
     "output_type": "display_data"
    },
    {
     "data": {
      "text/plain": [
       "<Figure size 864x576 with 0 Axes>"
      ]
     },
     "metadata": {},
     "output_type": "display_data"
    },
    {
     "data": {
      "text/plain": [
       "<Figure size 864x576 with 0 Axes>"
      ]
     },
     "metadata": {},
     "output_type": "display_data"
    },
    {
     "data": {
      "text/plain": [
       "<Figure size 864x576 with 0 Axes>"
      ]
     },
     "metadata": {},
     "output_type": "display_data"
    },
    {
     "data": {
      "text/plain": [
       "<Figure size 864x576 with 0 Axes>"
      ]
     },
     "metadata": {},
     "output_type": "display_data"
    },
    {
     "data": {
      "text/plain": [
       "<Figure size 864x576 with 0 Axes>"
      ]
     },
     "metadata": {},
     "output_type": "display_data"
    },
    {
     "data": {
      "text/plain": [
       "<Figure size 864x576 with 0 Axes>"
      ]
     },
     "metadata": {},
     "output_type": "display_data"
    },
    {
     "data": {
      "text/plain": [
       "<Figure size 864x576 with 0 Axes>"
      ]
     },
     "metadata": {},
     "output_type": "display_data"
    },
    {
     "data": {
      "text/plain": [
       "<Figure size 864x576 with 0 Axes>"
      ]
     },
     "metadata": {},
     "output_type": "display_data"
    },
    {
     "data": {
      "text/plain": [
       "<Figure size 864x576 with 0 Axes>"
      ]
     },
     "metadata": {},
     "output_type": "display_data"
    },
    {
     "data": {
      "text/plain": [
       "<Figure size 864x576 with 0 Axes>"
      ]
     },
     "metadata": {},
     "output_type": "display_data"
    },
    {
     "data": {
      "text/plain": [
       "<Figure size 864x576 with 0 Axes>"
      ]
     },
     "metadata": {},
     "output_type": "display_data"
    },
    {
     "data": {
      "text/plain": [
       "<Figure size 864x576 with 0 Axes>"
      ]
     },
     "metadata": {},
     "output_type": "display_data"
    },
    {
     "data": {
      "text/plain": [
       "<Figure size 864x576 with 0 Axes>"
      ]
     },
     "metadata": {},
     "output_type": "display_data"
    },
    {
     "data": {
      "text/plain": [
       "<Figure size 864x576 with 0 Axes>"
      ]
     },
     "metadata": {},
     "output_type": "display_data"
    },
    {
     "data": {
      "text/plain": [
       "<Figure size 864x576 with 0 Axes>"
      ]
     },
     "metadata": {},
     "output_type": "display_data"
    },
    {
     "data": {
      "text/plain": [
       "<Figure size 864x576 with 0 Axes>"
      ]
     },
     "metadata": {},
     "output_type": "display_data"
    },
    {
     "data": {
      "text/plain": [
       "<Figure size 864x576 with 0 Axes>"
      ]
     },
     "metadata": {},
     "output_type": "display_data"
    },
    {
     "data": {
      "text/plain": [
       "<Figure size 864x576 with 0 Axes>"
      ]
     },
     "metadata": {},
     "output_type": "display_data"
    },
    {
     "data": {
      "text/plain": [
       "<Figure size 864x576 with 0 Axes>"
      ]
     },
     "metadata": {},
     "output_type": "display_data"
    },
    {
     "data": {
      "text/plain": [
       "<Figure size 864x576 with 0 Axes>"
      ]
     },
     "metadata": {},
     "output_type": "display_data"
    },
    {
     "data": {
      "text/plain": [
       "<Figure size 864x576 with 0 Axes>"
      ]
     },
     "metadata": {},
     "output_type": "display_data"
    },
    {
     "data": {
      "text/plain": [
       "<Figure size 864x576 with 0 Axes>"
      ]
     },
     "metadata": {},
     "output_type": "display_data"
    },
    {
     "data": {
      "text/plain": [
       "<Figure size 864x576 with 0 Axes>"
      ]
     },
     "metadata": {},
     "output_type": "display_data"
    },
    {
     "data": {
      "text/plain": [
       "<Figure size 864x576 with 0 Axes>"
      ]
     },
     "metadata": {},
     "output_type": "display_data"
    },
    {
     "data": {
      "text/plain": [
       "<Figure size 864x576 with 0 Axes>"
      ]
     },
     "metadata": {},
     "output_type": "display_data"
    },
    {
     "data": {
      "text/plain": [
       "<Figure size 864x576 with 0 Axes>"
      ]
     },
     "metadata": {},
     "output_type": "display_data"
    },
    {
     "data": {
      "text/plain": [
       "<Figure size 864x576 with 0 Axes>"
      ]
     },
     "metadata": {},
     "output_type": "display_data"
    },
    {
     "data": {
      "text/plain": [
       "<Figure size 864x576 with 0 Axes>"
      ]
     },
     "metadata": {},
     "output_type": "display_data"
    },
    {
     "data": {
      "text/plain": [
       "<Figure size 864x576 with 0 Axes>"
      ]
     },
     "metadata": {},
     "output_type": "display_data"
    },
    {
     "data": {
      "text/plain": [
       "<Figure size 864x576 with 0 Axes>"
      ]
     },
     "metadata": {},
     "output_type": "display_data"
    },
    {
     "data": {
      "text/plain": [
       "<Figure size 864x576 with 0 Axes>"
      ]
     },
     "metadata": {},
     "output_type": "display_data"
    },
    {
     "data": {
      "text/plain": [
       "<Figure size 864x576 with 0 Axes>"
      ]
     },
     "metadata": {},
     "output_type": "display_data"
    },
    {
     "data": {
      "text/plain": [
       "<Figure size 864x576 with 0 Axes>"
      ]
     },
     "metadata": {},
     "output_type": "display_data"
    },
    {
     "data": {
      "text/plain": [
       "<Figure size 864x576 with 0 Axes>"
      ]
     },
     "metadata": {},
     "output_type": "display_data"
    },
    {
     "data": {
      "text/plain": [
       "<Figure size 864x576 with 0 Axes>"
      ]
     },
     "metadata": {},
     "output_type": "display_data"
    },
    {
     "data": {
      "text/plain": [
       "<Figure size 864x576 with 0 Axes>"
      ]
     },
     "metadata": {},
     "output_type": "display_data"
    },
    {
     "data": {
      "text/plain": [
       "<Figure size 864x576 with 0 Axes>"
      ]
     },
     "metadata": {},
     "output_type": "display_data"
    },
    {
     "data": {
      "text/plain": [
       "<Figure size 864x576 with 0 Axes>"
      ]
     },
     "metadata": {},
     "output_type": "display_data"
    },
    {
     "data": {
      "text/plain": [
       "<Figure size 864x576 with 0 Axes>"
      ]
     },
     "metadata": {},
     "output_type": "display_data"
    },
    {
     "data": {
      "text/plain": [
       "<Figure size 864x576 with 0 Axes>"
      ]
     },
     "metadata": {},
     "output_type": "display_data"
    },
    {
     "data": {
      "text/plain": [
       "<Figure size 864x576 with 0 Axes>"
      ]
     },
     "metadata": {},
     "output_type": "display_data"
    },
    {
     "data": {
      "text/plain": [
       "<Figure size 864x576 with 0 Axes>"
      ]
     },
     "metadata": {},
     "output_type": "display_data"
    },
    {
     "data": {
      "text/plain": [
       "<Figure size 864x576 with 0 Axes>"
      ]
     },
     "metadata": {},
     "output_type": "display_data"
    },
    {
     "data": {
      "text/plain": [
       "<Figure size 864x576 with 0 Axes>"
      ]
     },
     "metadata": {},
     "output_type": "display_data"
    },
    {
     "data": {
      "text/plain": [
       "<Figure size 864x576 with 0 Axes>"
      ]
     },
     "metadata": {},
     "output_type": "display_data"
    },
    {
     "data": {
      "text/plain": [
       "<Figure size 864x576 with 0 Axes>"
      ]
     },
     "metadata": {},
     "output_type": "display_data"
    },
    {
     "data": {
      "text/plain": [
       "<Figure size 864x576 with 0 Axes>"
      ]
     },
     "metadata": {},
     "output_type": "display_data"
    },
    {
     "data": {
      "text/plain": [
       "<Figure size 864x576 with 0 Axes>"
      ]
     },
     "metadata": {},
     "output_type": "display_data"
    },
    {
     "data": {
      "text/plain": [
       "<Figure size 864x576 with 0 Axes>"
      ]
     },
     "metadata": {},
     "output_type": "display_data"
    },
    {
     "data": {
      "text/plain": [
       "<Figure size 864x576 with 0 Axes>"
      ]
     },
     "metadata": {},
     "output_type": "display_data"
    },
    {
     "data": {
      "text/plain": [
       "<Figure size 864x576 with 0 Axes>"
      ]
     },
     "metadata": {},
     "output_type": "display_data"
    },
    {
     "data": {
      "text/plain": [
       "<Figure size 864x576 with 0 Axes>"
      ]
     },
     "metadata": {},
     "output_type": "display_data"
    },
    {
     "data": {
      "text/plain": [
       "<Figure size 864x576 with 0 Axes>"
      ]
     },
     "metadata": {},
     "output_type": "display_data"
    },
    {
     "data": {
      "text/plain": [
       "<Figure size 864x576 with 0 Axes>"
      ]
     },
     "metadata": {},
     "output_type": "display_data"
    },
    {
     "data": {
      "text/plain": [
       "<Figure size 864x576 with 0 Axes>"
      ]
     },
     "metadata": {},
     "output_type": "display_data"
    },
    {
     "data": {
      "text/plain": [
       "<Figure size 864x576 with 0 Axes>"
      ]
     },
     "metadata": {},
     "output_type": "display_data"
    },
    {
     "data": {
      "text/plain": [
       "<Figure size 864x576 with 0 Axes>"
      ]
     },
     "metadata": {},
     "output_type": "display_data"
    },
    {
     "data": {
      "text/plain": [
       "<Figure size 864x576 with 0 Axes>"
      ]
     },
     "metadata": {},
     "output_type": "display_data"
    },
    {
     "data": {
      "text/plain": [
       "<Figure size 864x576 with 0 Axes>"
      ]
     },
     "metadata": {},
     "output_type": "display_data"
    },
    {
     "data": {
      "text/plain": [
       "<Figure size 864x576 with 0 Axes>"
      ]
     },
     "metadata": {},
     "output_type": "display_data"
    },
    {
     "data": {
      "text/plain": [
       "<Figure size 864x576 with 0 Axes>"
      ]
     },
     "metadata": {},
     "output_type": "display_data"
    },
    {
     "data": {
      "text/plain": [
       "<Figure size 864x576 with 0 Axes>"
      ]
     },
     "metadata": {},
     "output_type": "display_data"
    },
    {
     "data": {
      "text/plain": [
       "<Figure size 864x576 with 0 Axes>"
      ]
     },
     "metadata": {},
     "output_type": "display_data"
    },
    {
     "data": {
      "text/plain": [
       "<Figure size 864x576 with 0 Axes>"
      ]
     },
     "metadata": {},
     "output_type": "display_data"
    },
    {
     "data": {
      "text/plain": [
       "<Figure size 864x576 with 0 Axes>"
      ]
     },
     "metadata": {},
     "output_type": "display_data"
    },
    {
     "data": {
      "text/plain": [
       "<Figure size 864x576 with 0 Axes>"
      ]
     },
     "metadata": {},
     "output_type": "display_data"
    },
    {
     "data": {
      "text/plain": [
       "<Figure size 864x576 with 0 Axes>"
      ]
     },
     "metadata": {},
     "output_type": "display_data"
    },
    {
     "data": {
      "text/plain": [
       "<Figure size 864x576 with 0 Axes>"
      ]
     },
     "metadata": {},
     "output_type": "display_data"
    },
    {
     "data": {
      "text/plain": [
       "<Figure size 864x576 with 0 Axes>"
      ]
     },
     "metadata": {},
     "output_type": "display_data"
    },
    {
     "data": {
      "text/plain": [
       "<Figure size 864x576 with 0 Axes>"
      ]
     },
     "metadata": {},
     "output_type": "display_data"
    },
    {
     "data": {
      "text/plain": [
       "<Figure size 864x576 with 0 Axes>"
      ]
     },
     "metadata": {},
     "output_type": "display_data"
    },
    {
     "data": {
      "text/plain": [
       "<Figure size 864x576 with 0 Axes>"
      ]
     },
     "metadata": {},
     "output_type": "display_data"
    },
    {
     "data": {
      "text/plain": [
       "<Figure size 864x576 with 0 Axes>"
      ]
     },
     "metadata": {},
     "output_type": "display_data"
    },
    {
     "data": {
      "text/plain": [
       "<Figure size 864x576 with 0 Axes>"
      ]
     },
     "metadata": {},
     "output_type": "display_data"
    },
    {
     "data": {
      "text/plain": [
       "<Figure size 864x576 with 0 Axes>"
      ]
     },
     "metadata": {},
     "output_type": "display_data"
    },
    {
     "data": {
      "text/plain": [
       "<Figure size 864x576 with 0 Axes>"
      ]
     },
     "metadata": {},
     "output_type": "display_data"
    },
    {
     "data": {
      "text/plain": [
       "<Figure size 864x576 with 0 Axes>"
      ]
     },
     "metadata": {},
     "output_type": "display_data"
    },
    {
     "data": {
      "text/plain": [
       "<Figure size 864x576 with 0 Axes>"
      ]
     },
     "metadata": {},
     "output_type": "display_data"
    },
    {
     "data": {
      "text/plain": [
       "<Figure size 864x576 with 0 Axes>"
      ]
     },
     "metadata": {},
     "output_type": "display_data"
    },
    {
     "data": {
      "text/plain": [
       "<Figure size 864x576 with 0 Axes>"
      ]
     },
     "metadata": {},
     "output_type": "display_data"
    },
    {
     "data": {
      "text/plain": [
       "<Figure size 864x576 with 0 Axes>"
      ]
     },
     "metadata": {},
     "output_type": "display_data"
    },
    {
     "data": {
      "text/plain": [
       "<Figure size 864x576 with 0 Axes>"
      ]
     },
     "metadata": {},
     "output_type": "display_data"
    },
    {
     "data": {
      "text/plain": [
       "<Figure size 864x576 with 0 Axes>"
      ]
     },
     "metadata": {},
     "output_type": "display_data"
    },
    {
     "data": {
      "text/plain": [
       "<Figure size 864x576 with 0 Axes>"
      ]
     },
     "metadata": {},
     "output_type": "display_data"
    },
    {
     "data": {
      "text/plain": [
       "<Figure size 864x576 with 0 Axes>"
      ]
     },
     "metadata": {},
     "output_type": "display_data"
    },
    {
     "data": {
      "text/plain": [
       "<Figure size 864x576 with 0 Axes>"
      ]
     },
     "metadata": {},
     "output_type": "display_data"
    },
    {
     "data": {
      "text/plain": [
       "<Figure size 864x576 with 0 Axes>"
      ]
     },
     "metadata": {},
     "output_type": "display_data"
    },
    {
     "data": {
      "text/plain": [
       "<Figure size 864x576 with 0 Axes>"
      ]
     },
     "metadata": {},
     "output_type": "display_data"
    },
    {
     "data": {
      "text/plain": [
       "<Figure size 864x576 with 0 Axes>"
      ]
     },
     "metadata": {},
     "output_type": "display_data"
    },
    {
     "data": {
      "text/plain": [
       "<Figure size 864x576 with 0 Axes>"
      ]
     },
     "metadata": {},
     "output_type": "display_data"
    },
    {
     "data": {
      "text/plain": [
       "<Figure size 864x576 with 0 Axes>"
      ]
     },
     "metadata": {},
     "output_type": "display_data"
    },
    {
     "data": {
      "text/plain": [
       "<Figure size 864x576 with 0 Axes>"
      ]
     },
     "metadata": {},
     "output_type": "display_data"
    },
    {
     "data": {
      "text/plain": [
       "<Figure size 864x576 with 0 Axes>"
      ]
     },
     "metadata": {},
     "output_type": "display_data"
    },
    {
     "data": {
      "text/plain": [
       "<Figure size 864x576 with 0 Axes>"
      ]
     },
     "metadata": {},
     "output_type": "display_data"
    },
    {
     "data": {
      "text/plain": [
       "<Figure size 864x576 with 0 Axes>"
      ]
     },
     "metadata": {},
     "output_type": "display_data"
    },
    {
     "data": {
      "text/plain": [
       "<Figure size 864x576 with 0 Axes>"
      ]
     },
     "metadata": {},
     "output_type": "display_data"
    },
    {
     "data": {
      "text/plain": [
       "<Figure size 864x576 with 0 Axes>"
      ]
     },
     "metadata": {},
     "output_type": "display_data"
    },
    {
     "data": {
      "text/plain": [
       "<Figure size 864x576 with 0 Axes>"
      ]
     },
     "metadata": {},
     "output_type": "display_data"
    },
    {
     "data": {
      "text/plain": [
       "<Figure size 864x576 with 0 Axes>"
      ]
     },
     "metadata": {},
     "output_type": "display_data"
    },
    {
     "data": {
      "text/plain": [
       "<Figure size 864x576 with 0 Axes>"
      ]
     },
     "metadata": {},
     "output_type": "display_data"
    },
    {
     "data": {
      "text/plain": [
       "<Figure size 864x576 with 0 Axes>"
      ]
     },
     "metadata": {},
     "output_type": "display_data"
    },
    {
     "data": {
      "text/plain": [
       "<Figure size 864x576 with 0 Axes>"
      ]
     },
     "metadata": {},
     "output_type": "display_data"
    },
    {
     "data": {
      "text/plain": [
       "<Figure size 864x576 with 0 Axes>"
      ]
     },
     "metadata": {},
     "output_type": "display_data"
    },
    {
     "data": {
      "text/plain": [
       "<Figure size 864x576 with 0 Axes>"
      ]
     },
     "metadata": {},
     "output_type": "display_data"
    },
    {
     "data": {
      "text/plain": [
       "<Figure size 864x576 with 0 Axes>"
      ]
     },
     "metadata": {},
     "output_type": "display_data"
    },
    {
     "data": {
      "text/plain": [
       "<Figure size 864x576 with 0 Axes>"
      ]
     },
     "metadata": {},
     "output_type": "display_data"
    },
    {
     "data": {
      "text/plain": [
       "<Figure size 864x576 with 0 Axes>"
      ]
     },
     "metadata": {},
     "output_type": "display_data"
    },
    {
     "data": {
      "text/plain": [
       "<Figure size 864x576 with 0 Axes>"
      ]
     },
     "metadata": {},
     "output_type": "display_data"
    },
    {
     "data": {
      "text/plain": [
       "<Figure size 864x576 with 0 Axes>"
      ]
     },
     "metadata": {},
     "output_type": "display_data"
    },
    {
     "data": {
      "text/plain": [
       "<Figure size 864x576 with 0 Axes>"
      ]
     },
     "metadata": {},
     "output_type": "display_data"
    },
    {
     "data": {
      "text/plain": [
       "<Figure size 864x576 with 0 Axes>"
      ]
     },
     "metadata": {},
     "output_type": "display_data"
    },
    {
     "data": {
      "text/plain": [
       "<Figure size 864x576 with 0 Axes>"
      ]
     },
     "metadata": {},
     "output_type": "display_data"
    },
    {
     "data": {
      "text/plain": [
       "<Figure size 864x576 with 0 Axes>"
      ]
     },
     "metadata": {},
     "output_type": "display_data"
    },
    {
     "data": {
      "text/plain": [
       "<Figure size 864x576 with 0 Axes>"
      ]
     },
     "metadata": {},
     "output_type": "display_data"
    },
    {
     "data": {
      "text/plain": [
       "<Figure size 864x576 with 0 Axes>"
      ]
     },
     "metadata": {},
     "output_type": "display_data"
    },
    {
     "data": {
      "text/plain": [
       "<Figure size 864x576 with 0 Axes>"
      ]
     },
     "metadata": {},
     "output_type": "display_data"
    },
    {
     "data": {
      "text/plain": [
       "<Figure size 864x576 with 0 Axes>"
      ]
     },
     "metadata": {},
     "output_type": "display_data"
    },
    {
     "data": {
      "text/plain": [
       "<Figure size 864x576 with 0 Axes>"
      ]
     },
     "metadata": {},
     "output_type": "display_data"
    },
    {
     "data": {
      "text/plain": [
       "<Figure size 864x576 with 0 Axes>"
      ]
     },
     "metadata": {},
     "output_type": "display_data"
    },
    {
     "data": {
      "text/plain": [
       "<Figure size 864x576 with 0 Axes>"
      ]
     },
     "metadata": {},
     "output_type": "display_data"
    },
    {
     "data": {
      "text/plain": [
       "<Figure size 864x576 with 0 Axes>"
      ]
     },
     "metadata": {},
     "output_type": "display_data"
    },
    {
     "data": {
      "text/plain": [
       "<Figure size 864x576 with 0 Axes>"
      ]
     },
     "metadata": {},
     "output_type": "display_data"
    },
    {
     "data": {
      "text/plain": [
       "<Figure size 864x576 with 0 Axes>"
      ]
     },
     "metadata": {},
     "output_type": "display_data"
    },
    {
     "data": {
      "text/plain": [
       "<Figure size 864x576 with 0 Axes>"
      ]
     },
     "metadata": {},
     "output_type": "display_data"
    },
    {
     "data": {
      "text/plain": [
       "<Figure size 864x576 with 0 Axes>"
      ]
     },
     "metadata": {},
     "output_type": "display_data"
    },
    {
     "data": {
      "text/plain": [
       "<Figure size 864x576 with 0 Axes>"
      ]
     },
     "metadata": {},
     "output_type": "display_data"
    },
    {
     "data": {
      "text/plain": [
       "<Figure size 864x576 with 0 Axes>"
      ]
     },
     "metadata": {},
     "output_type": "display_data"
    },
    {
     "data": {
      "text/plain": [
       "<Figure size 864x576 with 0 Axes>"
      ]
     },
     "metadata": {},
     "output_type": "display_data"
    },
    {
     "data": {
      "text/plain": [
       "<Figure size 864x576 with 0 Axes>"
      ]
     },
     "metadata": {},
     "output_type": "display_data"
    },
    {
     "data": {
      "text/plain": [
       "<Figure size 864x576 with 0 Axes>"
      ]
     },
     "metadata": {},
     "output_type": "display_data"
    },
    {
     "data": {
      "text/plain": [
       "<Figure size 864x576 with 0 Axes>"
      ]
     },
     "metadata": {},
     "output_type": "display_data"
    },
    {
     "data": {
      "text/plain": [
       "<Figure size 864x576 with 0 Axes>"
      ]
     },
     "metadata": {},
     "output_type": "display_data"
    },
    {
     "data": {
      "text/plain": [
       "<Figure size 864x576 with 0 Axes>"
      ]
     },
     "metadata": {},
     "output_type": "display_data"
    },
    {
     "data": {
      "text/plain": [
       "<Figure size 864x576 with 0 Axes>"
      ]
     },
     "metadata": {},
     "output_type": "display_data"
    },
    {
     "data": {
      "text/plain": [
       "<Figure size 864x576 with 0 Axes>"
      ]
     },
     "metadata": {},
     "output_type": "display_data"
    },
    {
     "data": {
      "text/plain": [
       "<Figure size 864x576 with 0 Axes>"
      ]
     },
     "metadata": {},
     "output_type": "display_data"
    },
    {
     "data": {
      "text/plain": [
       "<Figure size 864x576 with 0 Axes>"
      ]
     },
     "metadata": {},
     "output_type": "display_data"
    },
    {
     "data": {
      "text/plain": [
       "<Figure size 864x576 with 0 Axes>"
      ]
     },
     "metadata": {},
     "output_type": "display_data"
    },
    {
     "data": {
      "text/plain": [
       "<Figure size 864x576 with 0 Axes>"
      ]
     },
     "metadata": {},
     "output_type": "display_data"
    },
    {
     "data": {
      "text/plain": [
       "<Figure size 864x576 with 0 Axes>"
      ]
     },
     "metadata": {},
     "output_type": "display_data"
    },
    {
     "data": {
      "text/plain": [
       "<Figure size 864x576 with 0 Axes>"
      ]
     },
     "metadata": {},
     "output_type": "display_data"
    },
    {
     "data": {
      "text/plain": [
       "<Figure size 864x576 with 0 Axes>"
      ]
     },
     "metadata": {},
     "output_type": "display_data"
    },
    {
     "data": {
      "text/plain": [
       "<Figure size 864x576 with 0 Axes>"
      ]
     },
     "metadata": {},
     "output_type": "display_data"
    },
    {
     "data": {
      "text/plain": [
       "<Figure size 864x576 with 0 Axes>"
      ]
     },
     "metadata": {},
     "output_type": "display_data"
    },
    {
     "data": {
      "text/plain": [
       "<Figure size 864x576 with 0 Axes>"
      ]
     },
     "metadata": {},
     "output_type": "display_data"
    },
    {
     "data": {
      "text/plain": [
       "<Figure size 864x576 with 0 Axes>"
      ]
     },
     "metadata": {},
     "output_type": "display_data"
    },
    {
     "data": {
      "text/plain": [
       "<Figure size 864x576 with 0 Axes>"
      ]
     },
     "metadata": {},
     "output_type": "display_data"
    },
    {
     "data": {
      "text/plain": [
       "<Figure size 864x576 with 0 Axes>"
      ]
     },
     "metadata": {},
     "output_type": "display_data"
    },
    {
     "data": {
      "text/plain": [
       "<Figure size 864x576 with 0 Axes>"
      ]
     },
     "metadata": {},
     "output_type": "display_data"
    },
    {
     "data": {
      "text/plain": [
       "<Figure size 864x576 with 0 Axes>"
      ]
     },
     "metadata": {},
     "output_type": "display_data"
    },
    {
     "data": {
      "text/plain": [
       "<Figure size 864x576 with 0 Axes>"
      ]
     },
     "metadata": {},
     "output_type": "display_data"
    }
   ],
   "source": [
    "q = 0.5\n",
    "\n",
    "for score_name in gene_modules_dict.keys():\n",
    "    if score_name in final_enrichment_dataset.columns:\n",
    "        print(score_name)\n",
    "        #plot_distribution(final_tcga_data,score_name,thr=q)\n",
    "        plot_kaplan_meier_SU2C(final_enrichment_dataset, score_name,measure = 'Overall Survival (Months)',event = 'OS',thr=q,save_plot=True,show_plot=False)"
   ]
  },
  {
   "cell_type": "code",
   "execution_count": null,
   "metadata": {},
   "outputs": [],
   "source": []
  },
  {
   "cell_type": "code",
   "execution_count": null,
   "metadata": {},
   "outputs": [],
   "source": [
    "# Download clinical data (patient based)\n",
    "\n",
    "# Format the dataframe\n",
    "meta_patient = pd.read_csv('bulk_RNAseq/prad_su2c_2019/data_clinical_patient.txt',sep='\\t')\n",
    "meta_patient = meta_patient.drop(index=[0,1,2,3,4]).reset_index(drop=True)\n",
    "meta_patient.columns = [s.strip('#') for s in meta_patient.columns]\n",
    "\n",
    "# Discard patient for whom there is no OS data\n",
    "meta_patient = meta_patient[~(meta_patient['Overall Survival Status'].isna())]\n",
    "meta_patient['Overall Survival Status'].value_counts()"
   ]
  },
  {
   "cell_type": "code",
   "execution_count": null,
   "metadata": {},
   "outputs": [],
   "source": [
    "# Download sample metadata\n",
    "\n",
    "# Format the dataframe\n",
    "meta_sample = pd.read_csv('bulk_RNAseq/prad_su2c_2019/data_clinical_sample.txt',sep='\\t')\n",
    "meta_sample = meta_sample.drop(index=[0,1,2,3,4]).reset_index(drop=True)\n",
    "meta_sample.columns = [s.strip('#') for s in meta_sample.columns]\n",
    "\n",
    "# Merge patient clinical and sample metadata\n",
    "metadata = pd.merge(meta_sample[['Sample Identifier','Patient Identifier']],meta_patient,left_on='Patient Identifier',right_on='Patient Identifier',how='left')\n",
    "metadata = metadata[~(metadata['Overall Survival Status'].isna())]"
   ]
  }
 ],
 "metadata": {
  "kernelspec": {
   "display_name": "squidpy",
   "language": "python",
   "name": "python3"
  },
  "language_info": {
   "codemirror_mode": {
    "name": "ipython",
    "version": 3
   },
   "file_extension": ".py",
   "mimetype": "text/x-python",
   "name": "python",
   "nbconvert_exporter": "python",
   "pygments_lexer": "ipython3",
   "version": "3.8.15"
  }
 },
 "nbformat": 4,
 "nbformat_minor": 2
}
