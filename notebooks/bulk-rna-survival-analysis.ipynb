{
 "cells": [
  {
   "cell_type": "code",
   "execution_count": null,
   "metadata": {},
   "outputs": [],
   "source": [
    "# Date: 7.12.2023\n",
    "# Author: Antti Kiviaho\n",
    "#\n",
    "# Notebook for associating survival and progression with the Club-region signature"
   ]
  },
  {
   "cell_type": "code",
   "execution_count": 44,
   "metadata": {},
   "outputs": [],
   "source": [
    "import os \n",
    "os.chdir('/lustre/scratch/kiviaho/prostate_spatial/')\n",
    "\n",
    "import numpy as np\n",
    "import pandas as pd\n",
    "import scanpy as sc\n",
    "import anndata as ad\n",
    "\n",
    "from scripts.utils import load_from_pickle, save_to_pickle\n",
    "import matplotlib.pyplot as plt\n",
    "import matplotlib as mpl\n",
    "\n",
    "from lifelines import KaplanMeierFitter\n",
    "from lifelines.plotting import add_at_risk_counts\n",
    "from lifelines.statistics import logrank_test\n",
    "\n",
    "import gseapy as gp\n",
    "import GSVA\n",
    "\n",
    "import seaborn as sns\n",
    "sns.set_theme(style='white')\n",
    "\n",
    "\n",
    "import warnings\n",
    "warnings.filterwarnings(\"ignore\")\n",
    "\n"
   ]
  },
  {
   "cell_type": "code",
   "execution_count": 39,
   "metadata": {},
   "outputs": [],
   "source": [
    "def plot_distribution(df,score_name, thr = 0.5):\n",
    "\n",
    "    data = df[score_name]\n",
    "    # Create a figure and axes\n",
    "    fig, ax = plt.subplots(figsize=(8,5))\n",
    "\n",
    "    # Plot the histogram with blue bars for values smaller than the median and orange bars for values larger than the median\n",
    "    n, bins, patches = ax.hist(data, bins=30)\n",
    "\n",
    "    # Add a vertical line at the median\n",
    "    ax.axvline(x=data.quantile(thr), color='black', linestyle='--')\n",
    "\n",
    "    # Set labels and title\n",
    "    ax.set_xlabel('Enrichment score')\n",
    "    ax.set_ylabel('Frequency')\n",
    "    ax.set_title(score_name + ' signature score distribution')\n",
    "\n",
    "    # Show the plot\n",
    "    plt.show()\n",
    "\n",
    "\n",
    "def plot_kaplan_meier(df, score, measure, event, thr = 0.5):\n",
    "    \n",
    "    # Split the dataframe into two groups based on the 'Club region' score\n",
    "    group1 = df[df[score] <= df[score].quantile(thr)]\n",
    "    group2 = df[df[score] > df[score].quantile(thr)]\n",
    "\n",
    "    # Create a KaplanMeierFitter object for each group\n",
    "    kmf1 = KaplanMeierFitter()\n",
    "    kmf2 = KaplanMeierFitter()\n",
    "\n",
    "    # Fit the survival data to the Kaplan-Meier estimator for each group\n",
    "    kmf1.fit(group1[measure], event_observed=group1[event], label=score + ' low')\n",
    "    kmf2.fit(group2[measure], event_observed=group2[event], label=score + ' high')\n",
    "\n",
    "    # Plot the Kaplan-Meier curves for each group\n",
    "    fig, ax = plt.subplots(figsize=(12,8))\n",
    "    ax.set_xlim(0,120)\n",
    "    kmf1.plot(ax=ax, show_censors=True, ci_show=False)\n",
    "    kmf2.plot(ax=ax, show_censors=True, ci_show=False)\n",
    "\n",
    "    # Add labels and title to the plot\n",
    "    plt.xlabel('Time (months)')\n",
    "    plt.ylabel('Progression Free Interval (PFI)')\n",
    "\n",
    "\n",
    "\n",
    "    results = logrank_test(group1[measure], group2[measure], event_observed_A=group1[event], event_observed_B=group2[event])\n",
    "\n",
    "    # Print the p-value and test statistic\n",
    "    print(\"Log-Rank Test p-value: {:.4f}\".format(results.p_value))\n",
    "    print(\"Log-Rank Test statistic: {:.1f}\".format(results.test_statistic))\n",
    "\n",
    "    plt.title(score + ' GSVA score split by q=' + str(thr) + '\\n two-sided log-rank p-value: {:.2e}'.format(results.p_value))\n",
    "\n",
    "    # Add legend to the plot\n",
    "    plt.legend()\n",
    "\n",
    "    # Add 'at risk' counts table to the plot\n",
    "    add_at_risk_counts(kmf1, kmf2)\n",
    "\n",
    "    # Display the plot\n",
    "    plt.show()\n",
    "\n",
    "\n",
    "def check_top_markers(r,n=20):\n",
    "    # These results rank the deg significance and specificity (low p-value = good marker)\n",
    "    deg_fishers_res_dict = load_from_pickle('./data/region_gene_markers_fishers_exact_test_231107.pkl')\n",
    "\n",
    "    fishers_test_df = deg_fishers_res_dict[r].rename(columns={'interaction':'gene','active_in':'deg in'})\n",
    "    fishers_test_df = fishers_test_df.sort_values('adj_pval').reset_index(drop=True)\n",
    "\n",
    "    return fishers_test_df[:n]\n",
    "\n",
    "def check_gene_marker_status(gene):\n",
    "    # These results rank the deg significance and specificity (low p-value = good marker)\n",
    "    deg_fishers_res_dict = load_from_pickle('./data/region_gene_markers_fishers_exact_test_231107.pkl')\n",
    "\n",
    "    for r in deg_fishers_res_dict:\n",
    "        fishers_test_df = deg_fishers_res_dict[r].rename(columns={'interaction':'gene','active_in':'deg in'})\n",
    "        fishers_test_df = fishers_test_df.sort_values('adj_pval').reset_index(drop=True)\n",
    "        if fishers_test_df['gene'].str.contains(gene).any(): \n",
    "            print(fishers_test_df[fishers_test_df['gene']==gene])\n",
    "            print('')"
   ]
  },
  {
   "cell_type": "code",
   "execution_count": 68,
   "metadata": {},
   "outputs": [],
   "source": [
    "\n",
    "\n",
    "\n",
    "gene_set_df = pd.read_csv('custom_gene_lists_encode_fixed.gmt',sep='\\t',header=None, index_col=0).T\n",
    "\n",
    "gene_sets_of_interest = gene_set_df.columns.tolist()\n",
    "\n",
    "gene_sets = gene_set_df[gene_sets_of_interest].to_dict('list')\n",
    "\n",
    "for key, value in gene_sets.items():\n",
    "    # Remove NaN values from the list\n",
    "    gene_sets[key] = [x for x in value if pd.notnull(x)]"
   ]
  },
  {
   "cell_type": "code",
   "execution_count": 74,
   "metadata": {},
   "outputs": [],
   "source": [
    "gene_modules_dict = {\n",
    "    'Tumor region': check_top_markers('Tumor',100)['gene'].tolist(),\n",
    "    'Luminal region': check_top_markers('Luminal epithelium',100)['gene'].tolist(),\n",
    "    'Basal region': check_top_markers('Basal epithelium',100)['gene'].tolist(),\n",
    "    'Club region': check_top_markers('Intermediate epithelium',100)['gene'].tolist(),\n",
    "                    }\n",
    "\n",
    "gene_modules_dict = {**gene_modules_dict,**gene_sets}\n",
    "\n",
    "\n",
    "df = pd.DataFrame.from_dict(gene_modules_dict,orient='index').reset_index(names='name')\n",
    "df = df.melt(id_vars='name').sort_values('name').dropna().reset_index(drop=True)\n",
    "df.columns = ['name','description','member']\n",
    "df['description'] = 'NA'\n",
    "gmt_format_df = df.copy()"
   ]
  },
  {
   "cell_type": "markdown",
   "metadata": {},
   "source": [
    "## TCGA-PRAD"
   ]
  },
  {
   "cell_type": "code",
   "execution_count": 6,
   "metadata": {},
   "outputs": [],
   "source": [
    "# There is something going wrong here. Either in the scoring or data annotation & plotting. Cannot replicate Sinja's \n",
    "# results from the Nature comms paper. "
   ]
  },
  {
   "cell_type": "code",
   "execution_count": 70,
   "metadata": {},
   "outputs": [
    {
     "data": {
      "text/plain": [
       "0.0    451\n",
       "1.0     92\n",
       "Name: PFI, dtype: int64"
      ]
     },
     "execution_count": 70,
     "metadata": {},
     "output_type": "execute_result"
    }
   ],
   "source": [
    "tcga_sample_sheet = pd.read_csv('bulk_RNAseq/TCGA_PRAD/gdc_sample_sheet.2023-12-07.tsv',sep='\\t').set_index('Case ID')\n",
    "\n",
    "tcga_patient_annot = pd.read_csv('bulk_RNAseq/TCGA_PRAD/TCGA_patient_annotations.csv',index_col=0).set_index('patient_barcode')\n",
    "tcga_patient_annot = tcga_patient_annot[tcga_patient_annot['type'] == 'PRAD']\n",
    "\n",
    "tcga_metadata = pd.merge(tcga_sample_sheet,tcga_patient_annot,left_index=True,right_index=True,how='left')\n",
    "tcga_metadata['PFI'].value_counts()"
   ]
  },
  {
   "cell_type": "code",
   "execution_count": 71,
   "metadata": {},
   "outputs": [
    {
     "name": "stdout",
     "output_type": "stream",
     "text": [
      "0/543\n",
      "50/543\n",
      "100/543\n",
      "150/543\n",
      "200/543\n",
      "250/543\n",
      "300/543\n",
      "350/543\n",
      "400/543\n",
      "450/543\n",
      "500/543\n"
     ]
    }
   ],
   "source": [
    "count_type = 'tpm_unstranded'\n",
    "tcga_df_list = []\n",
    "\n",
    "for idx in np.arange(len(tcga_metadata)):\n",
    "    dir = tcga_metadata['File ID'].iloc[idx]\n",
    "    file_name = tcga_metadata['File Name'].iloc[idx]\n",
    "    sample = tcga_metadata['Sample ID'].iloc[idx]\n",
    "\n",
    "    path = 'bulk_RNAseq/TCGA_PRAD/sequencing_reads/'+dir+'/'+file_name\n",
    "\n",
    "    dat = pd.read_csv(path,sep='\\t',index_col=None,skiprows=1)\n",
    "    dat = dat.drop(index=[0,1,2,3])\n",
    "    dat = dat[dat['gene_type'] == 'protein_coding'].reset_index(drop=True)\n",
    "    dat = dat[['gene_name',count_type]].set_index('gene_name')\n",
    "    dat.columns = [sample]\n",
    "\n",
    "    tcga_df_list.append(dat)\n",
    "\n",
    "    if idx %50 ==0:\n",
    "        print(str(idx)+'/'+str(len(tcga_metadata)))\n",
    "\n",
    "tcga_counts_dat = pd.concat(tcga_df_list,axis=1)"
   ]
  },
  {
   "cell_type": "code",
   "execution_count": 89,
   "metadata": {},
   "outputs": [
    {
     "name": "stderr",
     "output_type": "stream",
     "text": [
      "2023-12-08 15:06:02,731 [WARNING] Found duplicated gene names, values averaged by gene names!\n"
     ]
    }
   ],
   "source": [
    "#  Run enrichment using the gseapy gsva method\n",
    "\n",
    "tcga_enrich_res = gp.gsva(data=tcga_counts_dat,gene_sets=gene_modules_dict,outdir=None)\n",
    "tcga_enrich_df = tcga_enrich_res.res2d.pivot(index='Name', columns='Term', values='ES').reset_index(names='Sample Identifier')\n",
    "\n",
    "for col in tcga_enrich_df.columns:\n",
    "    if (col != 'Term') & (col != 'Sample Identifier'):\n",
    "        \n",
    "        # Inverse the scores since there is something wrong with replication otherwise\n",
    "        tcga_enrich_df[col] = tcga_enrich_df[col].astype(float)\n",
    "\n",
    "final_tcga_data = pd.merge(tcga_enrich_df,tcga_metadata,left_on='Sample Identifier',right_on='Sample ID').set_index('Sample Identifier')\n",
    "\n",
    "\n",
    "# Transform days to months \n",
    "for col in final_tcga_data.columns:\n",
    "    if '.time' in col:\n",
    "        final_tcga_data[col] = final_tcga_data[col] / 30        "
   ]
  },
  {
   "cell_type": "code",
   "execution_count": 92,
   "metadata": {},
   "outputs": [
    {
     "data": {
      "image/png": "[encoded data removed]",
      "text/plain": [
       "<Figure size 576x360 with 1 Axes>"
      ]
     },
     "metadata": {
      "needs_background": "light"
     },
     "output_type": "display_data"
    },
    {
     "name": "stdout",
     "output_type": "stream",
     "text": [
      "Log-Rank Test p-value: 0.0019\n",
      "Log-Rank Test statistic: 9.6\n"
     ]
    },
    {
     "data": {
      "image/png": "[encoded data removed]",
      "text/plain": [
       "<Figure size 864x576 with 2 Axes>"
      ]
     },
     "metadata": {
      "needs_background": "light"
     },
     "output_type": "display_data"
    }
   ],
   "source": [
    "score_n = 'Persist'\n",
    "q = 0.5\n",
    "\n",
    "plot_distribution(final_tcga_data,score_n,thr=q)\n",
    "plot_kaplan_meier(final_tcga_data, score_n, 'PFI.time', 'PFI',thr=q)"
   ]
  },
  {
   "cell_type": "code",
   "execution_count": null,
   "metadata": {},
   "outputs": [],
   "source": []
  },
  {
   "cell_type": "code",
   "execution_count": null,
   "metadata": {},
   "outputs": [],
   "source": []
  },
  {
   "cell_type": "code",
   "execution_count": null,
   "metadata": {},
   "outputs": [],
   "source": [
    "score = 'Club region'\n",
    "\n",
    "df = final_tcga_data[final_tcga_data['treatment_outcome_first_course'].isin([\n",
    "    'Complete Remission/Response','Partial Remission/Response','Stable Disease','Progressive Disease'])]\n",
    "\n",
    "df['treatment_outcome_first_course'] = df['treatment_outcome_first_course'].astype('category').cat.set_categories(['Complete Remission/Response','Partial Remission/Response','Stable Disease','Progressive Disease'])\n",
    "\n",
    "ax = sns.boxplot(df,y=score,x='treatment_outcome_first_course')\n",
    "ax.set_xticklabels(ax.get_xticklabels(),rotation=25)\n",
    "plt.show()"
   ]
  },
  {
   "cell_type": "markdown",
   "metadata": {},
   "source": [
    "## SU2C Metastatic Prostate Adenocarcinoma (SU2C/PCF Dream Team, PNAS 2019)"
   ]
  },
  {
   "cell_type": "code",
   "execution_count": null,
   "metadata": {},
   "outputs": [],
   "source": [
    "# Download both subsets\n",
    "dat_polya = pd.read_csv('bulk_RNAseq/prad_su2c_2019/data_mrna_seq_fpkm_polya.txt',sep='\\t',index_col=0)\n",
    "dat_capture = pd.read_csv('bulk_RNAseq/prad_su2c_2019/data_mrna_seq_fpkm_capture.txt',sep='\\t',index_col=0)"
   ]
  },
  {
   "cell_type": "code",
   "execution_count": null,
   "metadata": {},
   "outputs": [],
   "source": [
    "# Download clinical data (patient based)\n",
    "\n",
    "# Format the dataframe\n",
    "meta_patient = pd.read_csv('bulk_RNAseq/prad_su2c_2019/data_clinical_patient.txt',sep='\\t')\n",
    "meta_patient = meta_patient.drop(index=[0,1,2,3,4]).reset_index(drop=True)\n",
    "meta_patient.columns = [s.strip('#') for s in meta_patient.columns]\n",
    "\n",
    "# Discard patient for whom there is no OS data\n",
    "meta_patient = meta_patient[~(meta_patient['Overall Survival Status'].isna())]\n",
    "meta_patient['Overall Survival Status'].value_counts()"
   ]
  },
  {
   "cell_type": "code",
   "execution_count": null,
   "metadata": {},
   "outputs": [],
   "source": [
    "# Download sample metadata\n",
    "\n",
    "# Format the dataframe\n",
    "meta_sample = pd.read_csv('bulk_RNAseq/prad_su2c_2019/data_clinical_sample.txt',sep='\\t')\n",
    "meta_sample = meta_sample.drop(index=[0,1,2,3,4]).reset_index(drop=True)\n",
    "meta_sample.columns = [s.strip('#') for s in meta_sample.columns]"
   ]
  },
  {
   "cell_type": "code",
   "execution_count": null,
   "metadata": {},
   "outputs": [],
   "source": [
    "# Merge patient clinical and sample metadata\n",
    "metadata = pd.merge(meta_sample[['Sample Identifier','Patient Identifier']],meta_patient,left_on='Patient Identifier',right_on='Patient Identifier',how='left')\n",
    "metadata = metadata[~(metadata['Overall Survival Status'].isna())]"
   ]
  },
  {
   "cell_type": "markdown",
   "metadata": {},
   "source": [
    "### Run scoring"
   ]
  },
  {
   "cell_type": "code",
   "execution_count": null,
   "metadata": {},
   "outputs": [],
   "source": [
    "# Run enrichment of both the the polyA and the \n",
    "\n",
    "polya_ssgsea_res = gp.ssgsea(data=dat_polya,gene_sets=gene_modules_dict,sample_norm_method='rank')\n",
    "polya_ssgsea_df = polya_ssgsea_res.res2d.pivot(index='Term', columns='Name', values='NES').T.reset_index(names='Sample Identifier')\n",
    "\n",
    "capture_ssgsea_res = gp.ssgsea(data=dat_capture,gene_sets=gene_modules_dict,sample_norm_method='rank')\n",
    "capture_ssgsea_df = capture_ssgsea_res.res2d.pivot(index='Term', columns='Name', values='NES').T.reset_index(names='Sample Identifier')"
   ]
  },
  {
   "cell_type": "code",
   "execution_count": null,
   "metadata": {},
   "outputs": [],
   "source": [
    "# Merge enrichment results with the metadata\n",
    "polya_enrichment_res = pd.merge(metadata,polya_ssgsea_df,left_on='Sample Identifier',right_on='Sample Identifier')\n",
    "capture_enrichment_res = pd.merge(metadata,capture_ssgsea_df,left_on='Sample Identifier',right_on='Sample Identifier')\n",
    "\n",
    "# Include only samples that don't have polya from the capture set\n",
    "capture_enrichment_res_non_ovelap = capture_enrichment_res[~(capture_enrichment_res['Sample Identifier'\n",
    "    ].isin(polya_enrichment_res['Sample Identifier']))]\n",
    "\n",
    "final_enrichment_dataset = pd.concat([polya_enrichment_res,capture_enrichment_res_non_ovelap],axis=0,ignore_index=True)"
   ]
  },
  {
   "cell_type": "markdown",
   "metadata": {},
   "source": [
    "### Plot Kaplan Meiers"
   ]
  },
  {
   "cell_type": "code",
   "execution_count": null,
   "metadata": {},
   "outputs": [],
   "source": [
    "score = 'Club region'\n",
    "\n",
    "sns.set_theme(style='white')\n",
    "\n",
    "df = final_enrichment_dataset.copy()\n",
    "df['Overall Survival (Months)'] = df['Overall Survival (Months)'].astype(float)\n",
    "df['Overall Survival Status'] = pd.Series([s.split(':')[0] for s in df['Overall Survival Status']]).astype('float')\n",
    "\n",
    "# Assuming your dataframe has the following columns: 'Overall Survival (Months)' for survival time,\n",
    "# 'Overall Survival Status' for event status, and 'Club region' for the score\n",
    "\n",
    "# Split the dataframe into two groups based on the 'Club region' score\n",
    "group1 = df[df[score] <= df[score].quantile(0.5)]\n",
    "group2 = df[df[score] > df[score].quantile(0.5)]\n",
    "\n",
    "# Create a KaplanMeierFitter object for each group\n",
    "kmf1 = KaplanMeierFitter()\n",
    "kmf2 = KaplanMeierFitter()\n",
    "\n",
    "# Fit the survival data to the Kaplan-Meier estimator for each group\n",
    "kmf1.fit(group1['Overall Survival (Months)'], event_observed=group1['Overall Survival Status'], label='Low expression')\n",
    "kmf2.fit(group2['Overall Survival (Months)'], event_observed=group2['Overall Survival Status'], label='High expression')\n",
    "\n",
    "# Plot the Kaplan-Meier curves for each group\n",
    "fig, ax = plt.subplots(figsize=(12,8))\n",
    "ax = kmf1.plot()\n",
    "kmf2.plot(ax=ax)\n",
    "\n",
    "# Add labels and title to the plot\n",
    "plt.xlabel('Time (months)')\n",
    "plt.ylabel('Overall survival (OS) probability')\n",
    "plt.title('Kaplan-Meier split by ' + score + ' ssGSEA score')\n",
    "\n",
    "# Add legend to the plot\n",
    "plt.legend()\n",
    "\n",
    "# Add 'at risk' counts table to the plot\n",
    "add_at_risk_counts(kmf1, kmf2)\n",
    "\n",
    "# Display the plot\n",
    "plt.show()\n"
   ]
  },
  {
   "cell_type": "markdown",
   "metadata": {},
   "source": [
    "### Redundant"
   ]
  },
  {
   "cell_type": "code",
   "execution_count": null,
   "metadata": {},
   "outputs": [
    {
     "name": "stdout",
     "output_type": "stream",
     "text": [
      "WARNING: genes are not in var_names and ignored: ['SNHG8', 'SNHG19', 'AL445524.1', 'PCAT14', 'HIST3H2A', 'SNHG7', 'TRGC1', 'PCA3', 'LINC01358', 'VPS9D1-AS1', 'ZFAS1', 'LINC00665', 'C19orf48', 'LINC02170', 'FOXP4-AS1', 'AL451127.1', 'AC104667.2', 'AC004982.2', 'PCAT18', 'PVT1', 'MARC1', 'AC083798.2', 'ST8SIA6-AS1', 'LINC00992', 'PITPNA-AS1']\n",
      "WARNING: genes are not in var_names and ignored: ['ACPP', 'HIST1H2AC', 'AP000527.1', 'LINC01297', 'H1F0', 'HIST2H2BE', 'HIST1H2BD', 'H2AFJ', 'OLMALINC']\n",
      "WARNING: genes are not in var_names and ignored: ['LINC02562', 'PIK3CD-AS2', 'AL390719.2', 'COLCA1', 'TMEM246']\n",
      "WARNING: genes are not in var_names and ignored: ['RARRES3']\n",
      "WARNING: genes are not in var_names and ignored: ['C1QTNG9B-AS1', 'CAMD1', 'KIAA0101', 'LINC00869', 'LINC01358', 'UBEC2C']\n",
      "WARNING: genes are not in var_names and ignored: ['LINC01207', 'NEAT1']\n",
      "WARNING: genes are not in var_names and ignored: ['CYR61', 'MEG3']\n",
      "WARNING: genes are not in var_names and ignored: ['ACPP', 'NEAT1', 'PART1', 'LINC00844', 'FLJ20021', 'H2AFJ']\n",
      "WARNING: genes are not in var_names and ignored: ['C1ORF116', 'NKX3Ð1']\n",
      "WARNING: genes are not in var_names and ignored: ['MIAT']\n",
      "WARNING: genes are not in var_names and ignored: ['EX01', 'CDCA1', 'ORC6L', 'KNTC2', 'MK167']\n",
      "WARNING: genes are not in var_names and ignored: ['PPAP2A']\n",
      "WARNING: genes are not in var_names and ignored: ['MUM1']\n",
      "WARNING: genes are not in var_names and ignored: ['GLYATL1P4']\n",
      "WARNING: genes are not in var_names and ignored: ['H2AFZ']\n",
      "WARNING: genes are not in var_names and ignored: ['CYR61', 'MIR22HG', 'SNHG12']\n",
      "WARNING: genes are not in var_names and ignored: ['KIAA1244', 'ACPP', 'PPAPDC1B', 'MARC1', 'PPAP2A']\n",
      "WARNING: genes are not in var_names and ignored: ['C11orf31', 'ORAOV1', 'FAM69A']\n",
      "WARNING: genes are not in var_names and ignored: ['H3F3A']\n",
      "WARNING: genes are not in var_names and ignored: ['FAM84B', 'PVRL1']\n",
      "WARNING: genes are not in var_names and ignored: ['FCGR1BP', 'FCGR1CP']\n",
      "WARNING: genes are not in var_names and ignored: ['FCGR2C', 'Il1R2', 'WNT7b']\n",
      "WARNING: genes are not in var_names and ignored: ['WARS']\n",
      "WARNING: genes are not in var_names and ignored: ['IL8']\n",
      "WARNING: genes are not in var_names and ignored: ['FCGR2C']\n",
      "WARNING: genes are not in var_names and ignored: ['HIST1H4C']\n",
      "WARNING: genes are not in var_names and ignored: ['HIST1H4C', 'KIAA0101']\n",
      "WARNING: genes are not in var_names and ignored: ['H2AFZ', 'KIAA0101', 'H2AFV', 'ATP5G3', 'HIST1H4C', 'ATP5G1']\n",
      "WARNING: genes are not in var_names and ignored: ['KCNQ1OT1', 'HIST1H1E', 'HIST1H1C', 'HIST2H2AC', 'NRD1', 'FAM208B', 'HIST1H1B']\n",
      "WARNING: genes are not in var_names and ignored: ['CYR61']\n",
      "WARNING: genes are not in var_names and ignored: ['C4ORF3', 'EPB41L4A-AS1']\n",
      "WARNING: genes are not in var_names and ignored: ['EPB41L4A-AS1', 'SNHG12', 'GARS', 'SARS', 'SNHG8', 'ZFAS1', 'CARS', 'YARS', 'SNHG15', 'SNHG7', 'WARS', 'C6ORF48']\n",
      "WARNING: genes are not in var_names and ignored: ['HSP90B2P', 'AC012181.2']\n",
      "WARNING: genes are not in var_names and ignored: ['NEAT1', 'EPRS', 'MALAT1']\n",
      "WARNING: genes are not in var_names and ignored: ['EPB41L4A-AS1', 'SNHG7', 'SNHG8', 'C19ORF48', 'HIST3H2A', 'SNHG19', 'C11ORF1', 'C6ORF48', 'QARS', 'ZFAS1']\n",
      "WARNING: genes are not in var_names and ignored: ['CTGF', 'CYR61']\n",
      "WARNING: genes are not in var_names and ignored: ['PRKCDBP', 'C15ORF48']\n",
      "WARNING: genes are not in var_names and ignored: ['C19ORF33']\n",
      "WARNING: genes are not in var_names and ignored: ['C12ORF75', 'SEPP1', 'C6ORF48']\n",
      "WARNING: genes are not in var_names and ignored: ['MIR4435-2HG', 'LINC00152', 'ADAMTS9-AS2']\n",
      "WARNING: genes are not in var_names and ignored: ['RARRES3', 'WARS']\n",
      "WARNING: genes are not in var_names and ignored: ['SEPP1', 'C10ORF10']\n",
      "WARNING: genes are not in var_names and ignored: ['C15ORF48']\n",
      "WARNING: genes are not in var_names and ignored: ['ATP5G1']\n",
      "WARNING: genes are not in var_names and ignored: ['ATP5I', 'ATP5G1', 'USMG5', 'H3F3A', 'ATP5E', 'ATP5J2', 'MYEOV2', 'SHFM1', 'MIR4461']\n",
      "WARNING: genes are not in var_names and ignored: ['CYR61', 'LUCAT1']\n",
      "WARNING: genes are not in var_names and ignored: ['C9ORF116', 'C9ORF24', 'C11ORF88', 'C5ORF49', 'C1ORF194', 'C20ORF85', 'C12ORF75', 'RP11-295M3.4']\n",
      "WARNING: genes are not in var_names and ignored: ['C1ORF61', 'GRAMD3']\n",
      "WARNING: genes are not in var_names and ignored: ['MIAT', 'HMP19', 'HN1', 'DLX6-AS1', 'MEG3', 'TMEM161B-AS1']\n",
      "WARNING: genes are not in var_names and ignored: ['TMEM206', 'LPPR1']\n",
      "WARNING: genes are not in var_names and ignored: ['PLA2G16', 'SEPP1', ' SEPT4', ' SEPT8']\n",
      "WARNING: genes are not in var_names and ignored: ['KCNQ1OT1']\n",
      "WARNING: genes are not in var_names and ignored: ['DPCR1', 'LINC01133']\n",
      "WARNING: genes are not in var_names and ignored: ['C16ORF89', 'SFTA1P']\n",
      "WARNING: genes are not in var_names and ignored: ['LINC00518', 'NOV']\n",
      "WARNING: genes are not in var_names and ignored: ['FAM45A']\n",
      "WARNING: genes are not in var_names and ignored: ['C6ORF25', 'RP11-354E11.2', 'SDPR', 'C2ORF88', 'FYB', 'GUCY1B3']\n",
      "WARNING: genes are not in var_names and ignored: ['C1ORF228', 'C19ORF77', 'KIAA0125']\n",
      "WARNING: genes are not in var_names and ignored: ['IGLC2', 'IGLC3', 'IGHA2', 'IGHA1', 'IGHG4', 'IGKC', 'IGHG1', 'IGHG3', 'IGHG2', 'IGHGP', 'IGLJ2', 'IGLC1', 'IGHM', 'IGLC7', 'IGLV3-1', 'IGLV3-7', 'IGLV6-57', 'IGKV1-12', 'IGLJ1', 'AC134669.2', 'IGKV4-1', 'IGLC5', 'IGLC6', 'IGLJ3', 'IGLV3-21', 'MIR4539']\n",
      "WARNING: genes are not in var_names and ignored: ['RP11-354E11.2', 'KCNQ1OT1', 'LINC00152', 'FAM19A2']\n",
      "WARNING: genes are not in var_names and ignored: ['C11ORF54', 'TMEM27', 'HRSP12']\n",
      "WARNING: genes are not in var_names and ignored: ['C5ORF46', 'EPB41L4A-AS1', 'C10ORF10', 'SNHG7']\n",
      "WARNING: genes are not in var_names and ignored: ['C15ORF48']\n",
      "WARNING: genes are not in var_names and ignored: ['MALAT1', 'MIR6515', 'MIR3648-1', 'HSP90B2P', 'EPRS', 'HSP90B3P', 'NEAT1', 'SNORD18B', 'AC010343.1', 'SNORD55', 'SNORD68', 'XIST']\n",
      "WARNING: genes are not in var_names and ignored: ['APITD1', 'C19orf48', 'CASC5', 'CRNDE', 'FAM64A', 'H1F0', 'H2AFV', 'H2AFX', 'H2AFZ', 'HIST1H1D', 'HIST1H1E', 'HIST1H2BJ', 'HIST1H4C', 'HIST2H2AC', 'HN1', 'KIAA0101', 'KIAA1524', 'MLF1IP', 'SGOL1', 'SGOL2', 'STRA13', 'WDR34']\n",
      "WARNING: genes are not in var_names and ignored: ['AC016629.8', 'C10orf10', 'C16orf98', 'C1orf63', 'C5orf45', 'C8orf4', 'CYR61', 'FAM46A', 'HNRNPU-AS1', 'IL8', 'KCNQ1OT1', 'KIAA1683', 'LINC00910', 'LINC00936', 'MALAT1', 'MIR222HG', 'MIR24-2', 'MIR3064', 'NEAT1', 'RP1-313I6.12', 'RP11-182L21.6', 'RP5-821D11.7', 'RP6-99M1.2', 'SNHG12']\n",
      "WARNING: genes are not in var_names and ignored: ['C19orf66', 'C5orf56', 'RARRES3', 'SQRDL', 'TAP2.1', 'WARS']\n",
      "WARNING: genes are not in var_names and ignored: ['ERO1L', 'LINC01133']\n",
      "WARNING: genes are not in var_names and ignored: ['ATP5H', 'C14orf2', 'MYEOV2', 'SEPW1', 'USMG5']\n",
      "WARNING: genes are not in var_names and ignored: ['CTGF', 'LINC00152', 'PLA2G16', 'PRKCDBP', 'PTRF']\n",
      "WARNING: genes are not in var_names and ignored: ['PVRL4']\n",
      "WARNING: genes are not in var_names and ignored: ['KIAA1324']\n",
      "WARNING: genes are not in var_names and ignored: ['GATSL3', 'GRAMD3']\n",
      "WARNING: genes are not in var_names and ignored: ['DLX6-AS1', 'MIAT']\n",
      "WARNING: genes are not in var_names and ignored: ['RIGI']\n",
      "WARNING: genes are not in var_names and ignored: ['TARP']\n",
      "WARNING: genes are not in var_names and ignored: ['NHERF4', 'PALS1']\n",
      "WARNING: genes are not in var_names and ignored: ['EEIG1', 'NHERF1']\n",
      "WARNING: genes are not in var_names and ignored: ['EEIG1', 'NHERF1']\n",
      "WARNING: genes are not in var_names and ignored: ['MIX23', 'XIST']\n",
      "WARNING: genes are not in var_names and ignored: ['PTTG3P']\n",
      "WARNING: genes are not in var_names and ignored: ['CROCCP2', 'HBBP1']\n",
      "WARNING: genes are not in var_names and ignored: ['HYCC2']\n",
      "WARNING: genes are not in var_names and ignored: ['RIGI']\n",
      "WARNING: genes are not in var_names and ignored: ['NHERF1']\n",
      "WARNING: genes are not in var_names and ignored: ['PHB1']\n",
      "WARNING: genes are not in var_names and ignored: ['PHB1']\n",
      "WARNING: genes are not in var_names and ignored: ['MYL11']\n",
      "WARNING: genes are not in var_names and ignored: ['H2AC25', 'PVT1']\n",
      "WARNING: genes are not in var_names and ignored: ['RIGI']\n",
      "WARNING: genes are not in var_names and ignored: ['SKIC3']\n",
      "WARNING: genes are not in var_names and ignored: ['G6PC1', 'GSTT2']\n"
     ]
    }
   ],
   "source": [
    "#  Run enrichment using seurat method\n",
    "\n",
    "tcga_counts_ad = ad.AnnData(tcga_counts_dat.T)\n",
    "tcga_counts_ad.var_names_make_unique()\n",
    "\n",
    "for mod in gene_modules_dict:\n",
    "    sc.tl.score_genes(tcga_counts_ad,gene_list= gene_modules_dict[mod],score_name=mod)\n",
    "\n",
    "tcga_enrich_df = tcga_counts_ad.obs.copy()\n",
    "tcga_enrich_df['Sample Identifier'] = tcga_counts_ad.obs_names\n",
    "\n",
    "final_tcga_data = pd.merge(tcga_enrich_df,tcga_metadata,left_on='Sample Identifier',right_on='Sample ID').set_index('Sample Identifier')\n",
    "\n",
    "\n",
    "# Transform days to months \n",
    "for col in final_tcga_data.columns:\n",
    "    if '.time' in col:\n",
    "        final_tcga_data[col] = final_tcga_data[col] / 30      "
   ]
  }
 ],
 "metadata": {
  "kernelspec": {
   "display_name": "squidpy",
   "language": "python",
   "name": "python3"
  },
  "language_info": {
   "codemirror_mode": {
    "name": "ipython",
    "version": 3
   },
   "file_extension": ".py",
   "mimetype": "text/x-python",
   "name": "python",
   "nbconvert_exporter": "python",
   "pygments_lexer": "ipython3",
   "version": "3.8.15"
  }
 },
 "nbformat": 4,
 "nbformat_minor": 2
}
