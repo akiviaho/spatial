{
 "cells": [
  {
   "cell_type": "code",
   "execution_count": null,
   "metadata": {},
   "outputs": [],
   "source": [
    "# Date: 9.8.2023\n",
    "# Author: Antti Kiviaho\n",
    "#\n",
    "# This notebook handles clustered Visium data with the goal of\n",
    "# analyzing ligand-receptor interactions between\n",
    "# 1. Joint leiden clusters (spatial proximity + gene expression)\n",
    "# 2. A cluster of interest and it's immediate surroundings"
   ]
  },
  {
   "cell_type": "code",
   "execution_count": 1,
   "metadata": {},
   "outputs": [],
   "source": [
    "import os \n",
    "os.chdir('/lustre/scratch/kiviaho/prostate_spatial/')\n",
    "\n",
    "import scanpy as sc\n",
    "import numpy as np\n",
    "import squidpy as sq\n",
    "import pandas as pd\n",
    "import anndata as ad\n",
    "\n",
    "import matplotlib.pyplot as plt\n",
    "from scripts.utils import load_from_pickle, get_sample_ids, save_to_pickle\n",
    "import matplotlib as mpl\n",
    "\n",
    "import seaborn as sns\n",
    "sns.set_theme()\n",
    "\n",
    "sc.set_figure_params(figsize=(8,8))\n",
    "\n",
    "import warnings\n",
    "warnings.filterwarnings(\"ignore\")\n",
    "\n",
    "\n",
    "# import matplotlib library\n",
    "from matplotlib.backends.backend_pdf import PdfPages\n",
    "from scipy.stats import ttest_rel\n",
    "from statsmodels.stats.multitest import multipletests\n",
    "\n"
   ]
  },
  {
   "cell_type": "code",
   "execution_count": 2,
   "metadata": {},
   "outputs": [],
   "source": [
    "\n",
    "# Define functions\n",
    "def get_annotation_proximity_spots(dat, cluster_of_interest, interaction_cluster, added_key='proximity_analysis'):\n",
    "\n",
    "    ''' This function is used when clusters have been annotated as one of three:\n",
    "        1. tumor\n",
    "        2. normal\n",
    "        3. stroma\n",
    "    and must be saved in 'annotation' observation column\n",
    "    See above for the procedure of creating these annotations.'''\n",
    "\n",
    "    # Create an observation column for spatial segmentation\n",
    "    dat.obs[added_key] = 'background'\n",
    "    distance_mat = dat.obsp['spatial_distances'].todense()\n",
    "\n",
    "    for idx, obs_name in enumerate(dat.obs_names):\n",
    "        cl = dat.obs['annotation'][idx]\n",
    "\n",
    "        if cl == cluster_of_interest:\n",
    "\n",
    "            first_nhbor_idxs = np.where(distance_mat[:,idx]==1.0)[0] # Get first-term neighbor indices\n",
    "\n",
    "            try:\n",
    "                # If try fails, there are no matching clusters as keys in value_counts\n",
    "                n_cl_neighbors = dat[first_nhbor_idxs].obs['annotation'].value_counts()[cl] # find first-term neighbor cluster annotations POSSIBLE ERROR IF CL NOT IN DICT\n",
    "\n",
    "                # Added this clause to control that only those with 'close' interactions with the interaction cluster are included\n",
    "                all_nhbor_indices = np.where(distance_mat[:, idx] != 0)[0]\n",
    "\n",
    "                if (n_cl_neighbors >= 3) & ((dat.obs['annotation'][all_nhbor_indices] == interaction_cluster).any()):\n",
    "                    dat.obs.at[obs_name,added_key] = cl\n",
    "\n",
    "            except:\n",
    "                continue\n",
    "\n",
    "    # Make a second loop to make sure the final cluster-of-interest annotations\n",
    "    # are what's used to define proximal spots\n",
    "    for idx, obs_name in enumerate(dat.obs_names):\n",
    "        cl = dat.obs[added_key][idx]\n",
    "\n",
    "        if cl == cluster_of_interest:\n",
    "            \n",
    "            all_nhbor_indices = np.where(distance_mat[:, idx] != 0)[0] \n",
    "\n",
    "            # Get the indices where the condition dat.obs['joint_leiden_clusters'] != cl is True\n",
    "            indices = np.where((dat.obs[added_key][all_nhbor_indices] != cl) & (dat.obs['annotation'][all_nhbor_indices] == interaction_cluster))[0]\n",
    "\n",
    "            # Update the 'proximity_analysis' column for the specific indices\n",
    "            dat.obs.loc[dat.obs_names[all_nhbor_indices[indices]], added_key] = 'proximal_' + interaction_cluster\n",
    "\n",
    "    # Modify the colors to maintain the original cluster color\n",
    "    dat.obs[added_key] = dat.obs[added_key].astype('category')\n",
    "\n",
    "    return(dat)\n",
    "\n",
    "\n",
    "def tuple_array_to_dict(array):\n",
    "    result = {}\n",
    "    for key, value in array:\n",
    "        if key in result:\n",
    "            result[key].append(value)\n",
    "        else:\n",
    "            result[key] = [value]\n",
    "\n",
    "    return(result)\n",
    "\n",
    "def most_common_interactions(dct,n=20):\n",
    "    tuple_lst = []\n",
    "    for key in dct.keys():\n",
    "        [tuple_lst.append(tup) for tup in dct[key]]\n",
    "    res = pd.Series(tuple_lst).value_counts()[:n]\n",
    "    return(res)"
   ]
  },
  {
   "cell_type": "code",
   "execution_count": 3,
   "metadata": {},
   "outputs": [],
   "source": [
    "adata_slides = load_from_pickle('./data/clustered_visium_data.pickle')\n",
    "samples = get_sample_ids()"
   ]
  },
  {
   "cell_type": "code",
   "execution_count": 4,
   "metadata": {},
   "outputs": [],
   "source": [
    "# Instead of manually selecting interactions, make a script that automatically finds the highest mean cell type\n",
    "# and if it is tumor, annotate it as such (or fibroblast, luminal, basal etc.)\n",
    "cell_mapping_dat = sc.read_h5ad('c2l_mapping_as_anndata_20230721.h5ad')\n",
    "\n",
    "\n",
    "# Normalize inferred cell counts to cell-type proportions\n",
    "\n",
    "arr = cell_mapping_dat.X.copy()\n",
    "# Calculate the row sum\n",
    "row_sum = np.sum(arr, axis=1)\n",
    "\n",
    "# Calculate the scaling factor for each row\n",
    "scaling_factor = 100 / row_sum\n",
    "\n",
    "# Multiply each row with its respective scaling factor\n",
    "scaled_arr = np.multiply(arr.T, scaling_factor).T\n",
    "\n",
    "cell_mapping_dat.X = scaled_arr.copy()\n"
   ]
  },
  {
   "cell_type": "code",
   "execution_count": 5,
   "metadata": {},
   "outputs": [],
   "source": [
    "representative_celltypes = {}\n",
    "n_max_cell_comb= 2\n",
    "\n",
    "# Initialize the dict in case top number of celltypes does not satisfy the p-value threshold\n",
    "for c in cell_mapping_dat.obs['joint_leiden_clusters'].cat.categories:\n",
    "    representative_celltypes[c] = [None,np.nan]\n",
    "\n",
    "for cluster in cell_mapping_dat.obs['joint_leiden_clusters'].cat.categories:\n",
    "    subset = cell_mapping_dat[cell_mapping_dat.obs['joint_leiden_clusters'] == cluster].copy()\n",
    "\n",
    "    for split_idx in (np.arange(n_max_cell_comb)+1)[::-1]:\n",
    "        idxs = np.argsort(np.round(np.mean(subset.X,axis=0)))[::-1].tolist()\n",
    "        top_5 = list(subset.var_names[idxs])[:5]\n",
    "        top_ctypes = list(subset.var_names[idxs])[:split_idx]\n",
    "        rest_ctypes = list(subset.var_names[idxs])[split_idx:]\n",
    "\n",
    "        #sc.pl.violin(subset,keys=top_5,jitter=False,rotation=30,inner='box',palette='Set2')\n",
    "\n",
    "        pval = ttest_rel(\n",
    "            np.sum(subset[:,top_ctypes].X.copy(),axis=1).ravel(),\n",
    "            np.sum(subset[:,rest_ctypes].X.copy(),axis=1).ravel(),alternative='greater')[1]\n",
    "\n",
    "        if pval < 0.05:\n",
    "            if split_idx > 1:\n",
    "                representative_celltypes[cluster] = ['_'.join(top_ctypes),pval]\n",
    "            else:\n",
    "                representative_celltypes[cluster] = [top_ctypes[0],pval]\n",
    "\n",
    "\n",
    "res_df = pd.DataFrame(representative_celltypes,index=['cell-type combination','p-value']).T\n",
    "\n",
    "\n",
    "# Get the p-values from res_df in a separate variable\n",
    "p_values = res_df['p-value']\n",
    "\n",
    "# Perform the Benjamini-Hochberg correction\n",
    "corrected_values = multipletests(p_values, method='fdr_bh')\n",
    "\n",
    "# Update the 'p-value' column in res_df with the corrected values\n",
    "res_df['corr_p-value'] = corrected_values[1]\n",
    "\n",
    "res_df = res_df[res_df['corr_p-value']<0.05]"
   ]
  },
  {
   "cell_type": "code",
   "execution_count": 6,
   "metadata": {},
   "outputs": [
    {
     "data": {
      "text/plain": [
       "stroma    63\n",
       "tumor     62\n",
       "normal    39\n",
       "Name: cell-type combination, dtype: int64"
      ]
     },
     "execution_count": 6,
     "metadata": {},
     "output_type": "execute_result"
    }
   ],
   "source": [
    "# Annotate clusters to an uniform format\n",
    "res_df[(res_df == 'myofibroblasts_inflammatory fibroblasts') | (res_df == 'inflammatory fibroblasts_myofibroblasts') | (res_df == 'myofibroblasts') | (res_df== 'inflammatory fibroblasts') ] = 'stroma'\n",
    "res_df[(res_df == 'ERG tumor epithelium') | (res_df == 'luminal epithelium_ERG tumor epithelium') | (res_df == 'ERG tumor epithelium_luminal epithelium') | (res_df == 'ERG tumor epithelium_inflammatory fibroblasts') | (res_df == 'ERG tumor epithelium_myofibroblasts')] = 'tumor'\n",
    "res_df[(res_df == 'luminal epithelium') | (res_df == 'luminal epithelium_inflammatory fibroblasts') | (res_df == 'luminal epithelium_normal basal epithelium') | (res_df == 'luminal epithelium_myofibroblasts')] = 'normal'\n",
    "\n",
    "# Drop rows with uniqe cell type combinations\n",
    "res_df = res_df[~res_df['cell-type combination'].isin(list(res_df['cell-type combination'].value_counts().index[res_df['cell-type combination'].value_counts() <2]))]\n",
    "\n",
    "res_df['cell-type combination'].value_counts()"
   ]
  },
  {
   "cell_type": "code",
   "execution_count": 7,
   "metadata": {},
   "outputs": [],
   "source": [
    "# Copy the annotation column into each member of the adata_slides object\n",
    "cluster_annotation_dict = res_df['cell-type combination'].to_dict()\n",
    "\n",
    "for sample in samples:\n",
    "    dat = adata_slides[sample].obs.copy()\n",
    "    dat['sample_cluster'] = dat['sample_id'].astype(str) + '_' + dat['joint_leiden_clusters'].astype(str)\n",
    "    adata_slides[sample].obs['annotation'] = dat['sample_cluster'].map(cluster_annotation_dict)\n"
   ]
  },
  {
   "cell_type": "code",
   "execution_count": 8,
   "metadata": {},
   "outputs": [],
   "source": [
    "colors_dict = {\n",
    "    'tumor_normal':['#919191','#74b572','#db1616'],\n",
    "    'tumor_stroma':['#919191','#f7f774','#db1616'],\n",
    "    'normal_tumor':['#919191','#74b572','#db1616'],\n",
    "    'normal_stroma':['#919191','#74b572','#f7f774'],\n",
    "    'stroma_normal':['#919191','#74b572','#f7f774'],\n",
    "    'stroma_tumor':['#919191','#db1616','#f7f774']\n",
    "}"
   ]
  },
  {
   "cell_type": "code",
   "execution_count": 9,
   "metadata": {},
   "outputs": [],
   "source": [
    "source = 'tumor'\n",
    "target = 'normal'\n",
    "cols = colors_dict['tumor_normal']\n",
    "interaction_dict = {}\n",
    "\n",
    "for sample in samples:\n",
    "\n",
    "    slide = adata_slides[sample].copy()\n",
    "\n",
    "    if (slide.obs['annotation'].str.contains(source).any()) & (slide.obs['annotation'].str.contains(target).any()):\n",
    "        # Using three rings you get 6 immediate neigbors, 12 second neigbors and 18 third neighbors\n",
    "        sq.gr.spatial_neighbors(slide,n_neighs=6,n_rings=6)\n",
    "\n",
    "        slide = get_annotation_proximity_spots(slide, source, target)\n",
    "\n",
    "        sq.gr.ligrec(\n",
    "            slide,\n",
    "            n_perms=100,\n",
    "            cluster_key=\"proximity_analysis\",\n",
    "            show_progress_bar = False\n",
    "        )\n",
    "\n",
    "        proximal_spots = 'proximal_' + target\n",
    "\n",
    "        pvals = slide.uns['proximity_analysis_ligrec']['pvalues'][source][proximal_spots]\n",
    "        means = slide.uns['proximity_analysis_ligrec']['means'][source][proximal_spots]\n",
    "        tuple_array = pd.DataFrame(means[pvals<0.001][means>1]).index.values\n",
    "\n",
    "        interaction_dict[sample] = tuple_array\n",
    "\n",
    "        ## Plotting ##\n",
    "        slide.uns['proximity_analysis_colors'] = cols\n",
    "\n",
    "        # set figure axis size and dpi\n",
    "        fig, ax = plt.subplots(figsize=(5, 5), dpi=120)\n",
    "\n",
    "        # create spatial plot\n",
    "        sc.pl.spatial(slide,color='proximity_analysis',size=1.3,alpha=0.8, ax = ax, show= False, title= sample)\n",
    "        plt.tight_layout()\n",
    "\n",
    "        # create filename with sample name\n",
    "        filename = 'plots/receptor_ligand_interaction_analysis/' + sample + '_'+ source +'_to_'+ target +'_clusters_communication.pdf'\n",
    "\n",
    "        # create output folder if it doesn't exist\n",
    "        if not os.path.exists(os.path.dirname(filename)):\n",
    "            os.makedirs(os.path.dirname(filename))\n",
    "\n",
    "        # save plot to pdf with filename\n",
    "        with PdfPages(filename) as pdf:\n",
    "            pdf.savefig(fig)\n",
    "            plt.clf()\n",
    "\n",
    "save_to_pickle(interaction_dict,'./data/'+source+'_to_'+target+'_ligand_receptor_proximity_interactions.pickle')"
   ]
  },
  {
   "cell_type": "code",
   "execution_count": 225,
   "metadata": {},
   "outputs": [
    {
     "name": "stdout",
     "output_type": "stream",
     "text": [
      "(CMTM3, KLK3)     7\n",
      "(CALR, P4HB)      7\n",
      "(CALR, AR)        6\n",
      "(PPIA, MAPK3)     6\n",
      "(CALR, PDIA3)     6\n",
      "(MDK, TSPAN1)     5\n",
      "(TGFB1, P4HB)     5\n",
      "(GDF15, ERBB3)    5\n",
      "(AZGP1, ITGAV)    5\n",
      "(GDF15, EGFR)     5\n",
      "dtype: int64\n"
     ]
    }
   ],
   "source": [
    "print(most_common_interactions(load_from_pickle('data/tumor_to_normal_ligand_receptor_proximity_interactions.pickle'),10))"
   ]
  },
  {
   "cell_type": "code",
   "execution_count": 228,
   "metadata": {},
   "outputs": [
    {
     "name": "stdout",
     "output_type": "stream",
     "text": [
      "(CALR, LRP1)        10\n",
      "(PPIA, CXCR4)        9\n",
      "(CD99, CD81)         9\n",
      "(PPIA, MAPK3)        9\n",
      "(AZGP1, ITGAV)       8\n",
      "(MIF, CD74)          8\n",
      "(HLA-C, CD81)        8\n",
      "(CALR, ITGAV)        7\n",
      "(PLA2G2A, ITGB1)     7\n",
      "(MDK, ITGB1)         7\n",
      "dtype: int64\n"
     ]
    }
   ],
   "source": [
    "print(most_common_interactions(load_from_pickle('data/tumor_to_stroma_ligand_receptor_proximity_interactions.pickle'),10))"
   ]
  },
  {
   "cell_type": "markdown",
   "metadata": {},
   "source": [
    "## Running the analysis with specified cluster interactions"
   ]
  },
  {
   "cell_type": "code",
   "execution_count": null,
   "metadata": {},
   "outputs": [],
   "source": [
    "# Define functions\n",
    "def get_cluster_proximity_spots(dat, cluster_of_interest, interaction_clusters=None,added_key='proximity_analysis'):\n",
    "\n",
    "    if interaction_clusters is None:\n",
    "        interaction_clusters = []\n",
    "\n",
    "    # Create an observation column for spatial segmentation\n",
    "    dat.obs[added_key] = 'background'\n",
    "    distance_mat = dat.obsp['spatial_distances'].todense()\n",
    "\n",
    "    for idx, obs_name in enumerate(dat.obs_names):\n",
    "        cl = dat.obs['joint_leiden_clusters'][idx]\n",
    "\n",
    "        if cl == cluster_of_interest:\n",
    "\n",
    "            first_nhbor_idxs = np.where(distance_mat[:,idx]==1.0)[0] # Get first-term neighbor indices\n",
    "\n",
    "            try:\n",
    "                # If try fails, there are no matching clusters as keys in value_counts\n",
    "                n_cl_neighbors = dat[first_nhbor_idxs].obs['joint_leiden_clusters'].value_counts()[cl] # find first-term neighbor cluster annotations POSSIBLE ERROR IF CL NOT IN DICT\n",
    "\n",
    "                if n_cl_neighbors >= 3:\n",
    "                    dat.obs.at[obs_name,added_key] = cl\n",
    "\n",
    "            except:\n",
    "                continue\n",
    "\n",
    "    # Make a second loop to make sure the final cluster-of-interest annotations\n",
    "    # are what's used to define proximal spots\n",
    "    for idx, obs_name in enumerate(dat.obs_names):\n",
    "        cl = dat.obs[added_key][idx]\n",
    "\n",
    "        if cl == cluster_of_interest:\n",
    "            \n",
    "            all_nhbor_indices = np.where(distance_mat[:, idx] != 0)[0] \n",
    "\n",
    "            # Get the indices where the condition dat.obs['joint_leiden_clusters'] != cl is True\n",
    "            indices = np.where(dat.obs[added_key][all_nhbor_indices] != cl)[0]\n",
    "\n",
    "            if len(interaction_clusters) > 0 :\n",
    "\n",
    "                # Get the indices where the second condition slide.obs['interaction_clusters'] is in the interaction_clusters list\n",
    "                indices = np.intersect1d(indices, np.where(slide.obs['joint_leiden_clusters'][all_nhbor_indices].isin(interaction_clusters))[0])\n",
    "\n",
    "                # Update the 'proximity_analysis' column for the specific indices\n",
    "                dat.obs.loc[dat.obs_names[all_nhbor_indices[indices]], added_key] = 'proximal'\n",
    "            \n",
    "            else:\n",
    "\n",
    "                # Update the 'proximity_analysis' column for the specific indices\n",
    "                dat.obs.loc[dat.obs_names[all_nhbor_indices[indices]], added_key] = 'proximal'\n",
    "\n",
    "    # Modify the colors to maintain the original cluster color\n",
    "    dat.obs[added_key] = dat.obs[added_key].astype('category')\n",
    "\n",
    "    dat.uns[added_key+'_colors'] = [dat.uns['joint_leiden_clusters_colors'][int(cluster_of_interest)],'#ffffff','#595858']\n",
    "    return(dat)"
   ]
  },
  {
   "cell_type": "code",
   "execution_count": 39,
   "metadata": {},
   "outputs": [],
   "source": [
    "# Key: sample ID\n",
    "# Value: Tuple where first is the source (cancer) cluster, second is the target cluster(s)\n",
    "\n",
    "# The criteria is mean cell percentage over 50% for each, highest content cancer cluster is chosen\n",
    "cancer_luminal_interactions = {\n",
    "    'PC_06_04581_OIK_POST_0': ('3',['1','2','6']),\n",
    "    'PC_05_27153_OIK_POST_2': ('2',['0','6']),\n",
    "    'PC_05_16831_VAS_POST_1': ('2',['1']),\n",
    "    'PC_7875OIK': ('4',['2','3','5']),\n",
    "    'PC_4980': ('2',['1','4']),\n",
    "    'PC_02_05601_OIK': ('0',['1']),\n",
    "    'PC_01_14451_OIK':('6',['1','2'])\n",
    "\n",
    "\n",
    "}\n",
    "\n",
    "cancer_stroma_interactions = {\n",
    "    'PC_06_16086_VAS_POST_2': ('5',['0','1','3']),\n",
    "    'PC_06_04581_OIK_POST_0': ('3',['0','4']),\n",
    "    'PC_06_04077_OIK_ANT_2': ('3',['0','5']),\n",
    "    'PC_05_16831_VAS_POST_1': ('5',['0']),\n",
    "    'PC_7875OIK': ('4',['0','1']),\n",
    "    'PC_4980': ('2',['0','3'])\n",
    "    \n",
    "}"
   ]
  },
  {
   "cell_type": "code",
   "execution_count": 40,
   "metadata": {},
   "outputs": [
    {
     "data": {
      "text/plain": [
       "<Figure size 600x600 with 0 Axes>"
      ]
     },
     "metadata": {},
     "output_type": "display_data"
    },
    {
     "data": {
      "text/plain": [
       "<Figure size 600x600 with 0 Axes>"
      ]
     },
     "metadata": {},
     "output_type": "display_data"
    },
    {
     "data": {
      "text/plain": [
       "<Figure size 600x600 with 0 Axes>"
      ]
     },
     "metadata": {},
     "output_type": "display_data"
    },
    {
     "data": {
      "text/plain": [
       "<Figure size 600x600 with 0 Axes>"
      ]
     },
     "metadata": {},
     "output_type": "display_data"
    },
    {
     "data": {
      "text/plain": [
       "<Figure size 600x600 with 0 Axes>"
      ]
     },
     "metadata": {},
     "output_type": "display_data"
    },
    {
     "data": {
      "text/plain": [
       "<Figure size 600x600 with 0 Axes>"
      ]
     },
     "metadata": {},
     "output_type": "display_data"
    },
    {
     "data": {
      "text/plain": [
       "<Figure size 600x600 with 0 Axes>"
      ]
     },
     "metadata": {},
     "output_type": "display_data"
    }
   ],
   "source": [
    "# Option 2: running the same algorithm for cluster-level, unannotated samples\n",
    "interaction_dict = {}\n",
    "\n",
    "for sample in list(cancer_luminal_interactions.keys()):\n",
    "    slide = adata_slides[sample].copy()\n",
    "\n",
    "    # Using three rings you get 6 immediate neigbors, 12 second neigbors and 18 third neighbors\n",
    "    sq.gr.spatial_neighbors(slide,n_neighs=6,n_rings=6)\n",
    "\n",
    "    slide = get_cluster_proximity_spots(slide,cancer_luminal_interactions[sample][0],cancer_luminal_interactions[sample][1])\n",
    "\n",
    "    sq.gr.ligrec(\n",
    "        slide,\n",
    "        n_perms=100,\n",
    "        cluster_key=\"proximity_analysis\",\n",
    "        show_progress_bar = False\n",
    "    )\n",
    "\n",
    "    source = cancer_luminal_interactions[sample][0]\n",
    "    target = 'proximal'\n",
    "\n",
    "    pvals = slide.uns['proximity_analysis_ligrec']['pvalues'][source][target]\n",
    "    means = slide.uns['proximity_analysis_ligrec']['means'][source][target]\n",
    "    tuple_array = pd.DataFrame(means[pvals<0.001][means>1]).index.values\n",
    "\n",
    "    interaction_dict[sample] = tuple_array\n",
    "\n",
    "    ## Plotting ##\n",
    "\n",
    "    # set figure axis size and dpi\n",
    "    fig, ax = plt.subplots(figsize=(5, 5), dpi=120)\n",
    "\n",
    "    # create spatial plot\n",
    "    sc.pl.spatial(slide,color='proximity_analysis',size=1.3,alpha=0.8, ax = ax, show= False, title= sample)\n",
    "    plt.tight_layout()\n",
    "\n",
    "    # create filename with sample name\n",
    "    filename = 'plots/receptor_ligand_interaction_analysis/' + sample + '_cancer_to_luminal_clusters_communication.pdf'\n",
    "\n",
    "    # create output folder if it doesn't exist\n",
    "    if not os.path.exists(os.path.dirname(filename)):\n",
    "        os.makedirs(os.path.dirname(filename))\n",
    "\n",
    "    # save plot to pdf with filename\n",
    "    with PdfPages(filename) as pdf:\n",
    "        pdf.savefig(fig)\n",
    "        plt.clf()\n"
   ]
  },
  {
   "cell_type": "code",
   "execution_count": 53,
   "metadata": {},
   "outputs": [],
   "source": [
    "tuple_lst = []\n",
    "for key in interaction_dict.keys():\n",
    "    [tuple_lst.append(tup) for tup in interaction_dict[key]]\n",
    "pd.Series(tuple_lst).value_counts()[:10]"
   ]
  },
  {
   "cell_type": "code",
   "execution_count": null,
   "metadata": {},
   "outputs": [],
   "source": []
  }
 ],
 "metadata": {
  "kernelspec": {
   "display_name": "squidpy",
   "language": "python",
   "name": "python3"
  },
  "language_info": {
   "codemirror_mode": {
    "name": "ipython",
    "version": 3
   },
   "file_extension": ".py",
   "mimetype": "text/x-python",
   "name": "python",
   "nbconvert_exporter": "python",
   "pygments_lexer": "ipython3",
   "version": "3.8.15"
  },
  "orig_nbformat": 4
 },
 "nbformat": 4,
 "nbformat_minor": 2
}
