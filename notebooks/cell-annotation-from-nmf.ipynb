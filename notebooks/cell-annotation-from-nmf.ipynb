{
 "cells": [
  {
   "cell_type": "code",
   "execution_count": 19,
   "metadata": {},
   "outputs": [],
   "source": [
    "# Author: Antti Kiviaho\n",
    "# Date: 10.5.2023\n",
    "\n",
    "import os \n",
    "os.chdir('/lustre/scratch/kiviaho/prostate_spatial')\n",
    "import numpy as np\n",
    "import scanpy as sc\n",
    "import pandas as pd\n",
    "from scripts.utils import load_from_pickle"
   ]
  },
  {
   "attachments": {},
   "cell_type": "markdown",
   "metadata": {},
   "source": [
    "## Function definitions"
   ]
  },
  {
   "cell_type": "code",
   "execution_count": 20,
   "metadata": {},
   "outputs": [],
   "source": [
    "\n",
    "def calculate_matrix_orders(arr):\n",
    "    # get the indices that would sort each row of the array\n",
    "    sort_indices = np.argsort(-arr, axis=1)\n",
    "\n",
    "    # create an array to mark the sorted order\n",
    "    sorted_order = np.empty_like(sort_indices)\n",
    "    rows, cols = np.indices(arr.shape)\n",
    "    sorted_order[rows, sort_indices] = cols\n",
    "\n",
    "    # replace each entry in the original array with its index in the sorted order\n",
    "    result = sorted_order.astype(int)\n",
    "\n",
    "    return result\n",
    "\n",
    "\n",
    "\n",
    "def get_genes_by_factor(res):\n",
    "    gene_w = res['gene_weights'].T\n",
    "    genes = list(res['genes'].index)\n",
    "\n",
    "    # create ranking matrices from the NMF weights\n",
    "    mat_1 = calculate_matrix_orders(gene_w.T).T\n",
    "    mat_2 = calculate_matrix_orders(gene_w)\n",
    "\n",
    "    # Iterate through the factors (columns)\n",
    "    genes_by_factors = {}\n",
    "    for factor in range(gene_w.shape[1]):\n",
    "        valid_genes = list()\n",
    "        # Iterate through the genes, starting from the highest weighted gene of this factor\n",
    "        for i in np.argsort(mat_1[:,factor]): \n",
    "            if mat_2[i,factor] ==0: # Is this the factor the gene effects the most?\n",
    "                \n",
    "                # If yes, add it to the list of genes\n",
    "                valid_genes.append(genes[i])\n",
    "            else:\n",
    "                # if not, stop adding genes into the list, move on to the next factor\n",
    "                break \n",
    "        # Append the list of valid genes into a dictionary under the appropriate key\n",
    "        genes_by_factors['factor'+str(factor)] = valid_genes\n",
    "    \n",
    "    return genes_by_factors\n",
    "\n",
    "def score_modules(ctype, n_comps):\n",
    "    dat = sc.read_h5ad(ctype + '.h5ad')\n",
    "    dat.X = dat.layers['counts'].copy()\n",
    "\n",
    "    res = load_from_pickle('sc_modules/data/'+ctype+'_'+str(n_comps)+'_modules_nsnmf_results.pickle')\n",
    "    genes_dict = get_genes_by_factor(res)\n",
    "    for k in genes_dict.keys():\n",
    "        lst = genes_dict[k]\n",
    "\n",
    "        # Score the gene expression data.\n",
    "        sc.tl.score_genes(dat, gene_list=lst, score_name=k)\n",
    "\n",
    "    # Find the column with the highest score and add a new column for the corresponding factor.\n",
    "    score_cols = list(genes_dict.keys())\n",
    "    max_col = dat.obs[score_cols].idxmax(axis=1)\n",
    "    dat.obs['max_factor'] = max_col\n",
    "\n",
    "    obs_with_scores = dat.obs.copy()\n",
    "    del dat\n",
    "\n",
    "    return(obs_with_scores,genes_dict)\n",
    "\n",
    "def summarize_factor(df, factor, g_dict):\n",
    "    n_present = len(np.unique(df[df['max_factor']==factor]['sample']))\n",
    "    n_dsets = len(np.unique(df[df['max_factor']==factor]['dataset']))\n",
    "    n_total = len(df['sample'].cat.categories)\n",
    "    print('Phenotype distribution:')\n",
    "    print(df[df['max_factor'] == factor]['phenotype'].value_counts())\n",
    "    print('')\n",
    "    print('Present in '+str(n_present)+' out of '+str(n_total)+\n",
    "    ' samples and ' + str(n_dsets) + ' datasets.')\n",
    "    print('')\n",
    "    print('Top 20 contributing genes:')\n",
    "    for g in g_dict[factor][:20]:\n",
    "        print(g)\n",
    "    \n"
   ]
  },
  {
   "attachments": {},
   "cell_type": "markdown",
   "metadata": {},
   "source": [
    "## Loading the NMF gene lists and scoring them"
   ]
  },
  {
   "cell_type": "code",
   "execution_count": 21,
   "metadata": {},
   "outputs": [],
   "source": [
    "# The number of components used is determined as the highest \n",
    "# n that yileds at least 20 unique genes in each component.\n",
    "# Very similar to the one used in Barkley et al. Nat Genetics 2022\n",
    "\n",
    "nmf_components_by_ctype = {\n",
    "    'T_cell': 4,\n",
    "    'SMC': 7,\n",
    "    'Myeloid': 6,\n",
    "    'Mast': 2,\n",
    "    'Fibroblast': 8,\n",
    "    'Epithelial': 5,\n",
    "    'Endothelial': 7,\n",
    "    'B_cell': 4\n",
    "    }\n",
    "\n",
    "# Create a dataframe for the final annotations \n",
    "final_annotations = pd.DataFrame()"
   ]
  },
  {
   "attachments": {},
   "cell_type": "markdown",
   "metadata": {},
   "source": [
    "### Epithelial"
   ]
  },
  {
   "cell_type": "code",
   "execution_count": 22,
   "metadata": {},
   "outputs": [
    {
     "data": {
      "text/plain": [
       "factor4    32370\n",
       "factor3    21460\n",
       "factor1    13243\n",
       "factor2     9810\n",
       "factor0     5203\n",
       "Name: max_factor, dtype: int64"
      ]
     },
     "execution_count": 22,
     "metadata": {},
     "output_type": "execute_result"
    }
   ],
   "source": [
    "scores, genes_dict = score_modules('Epithelial',nmf_components_by_ctype['Epithelial'])\n",
    "scores['max_factor'].value_counts()"
   ]
  },
  {
   "cell_type": "code",
   "execution_count": 23,
   "metadata": {},
   "outputs": [
    {
     "name": "stdout",
     "output_type": "stream",
     "text": [
      "Phenotype distribution:\n",
      "PCa       3297\n",
      "normal    1676\n",
      "CRPC       230\n",
      "Name: phenotype, dtype: int64\n",
      "\n",
      "Present in 95 out of 98 samples and 7 datasets.\n",
      "\n",
      "Top 20 contributing genes:\n",
      "GPX3\n",
      "TGM2\n",
      "FLRT3\n",
      "C1R\n",
      "CYR61\n",
      "SERPINF1\n",
      "SFRP1\n",
      "DKK3\n",
      "SCUBE2\n",
      "SLC14A1\n",
      "SDC2\n",
      "C1S\n",
      "HLA-DPB1\n",
      "EGR1\n",
      "MAP1B\n",
      "IFITM3\n",
      "HLA-DRA\n",
      "CFTR\n",
      "NNMT\n",
      "C3\n"
     ]
    }
   ],
   "source": [
    "summarize_factor(scores,'factor0',genes_dict)"
   ]
  },
  {
   "cell_type": "code",
   "execution_count": 24,
   "metadata": {},
   "outputs": [
    {
     "name": "stdout",
     "output_type": "stream",
     "text": [
      "Phenotype distribution:\n",
      "PCa       7586\n",
      "CRPC      5282\n",
      "normal     375\n",
      "Name: phenotype, dtype: int64\n",
      "\n",
      "Present in 47 out of 98 samples and 7 datasets.\n",
      "\n",
      "Top 20 contributing genes:\n",
      "PPP1R14B\n",
      "S100A14\n",
      "S100A2\n",
      "S100P\n",
      "SDCBP2\n",
      "SERPINB1\n",
      "PLIN2\n",
      "TINAGL1\n",
      "FOSL1\n",
      "KRT17\n",
      "LAMC2\n",
      "CYP1B1\n",
      "PIM1\n",
      "ODC1\n",
      "CAV1\n",
      "GPX2\n",
      "PHLDA1\n",
      "TXNRD1\n",
      "EMP3\n",
      "MYC\n"
     ]
    }
   ],
   "source": [
    "summarize_factor(scores,'factor1',genes_dict)"
   ]
  },
  {
   "cell_type": "code",
   "execution_count": 25,
   "metadata": {},
   "outputs": [
    {
     "name": "stdout",
     "output_type": "stream",
     "text": [
      "Phenotype distribution:\n",
      "PCa       9142\n",
      "normal     388\n",
      "CRPC       280\n",
      "Name: phenotype, dtype: int64\n",
      "\n",
      "Present in 80 out of 98 samples and 7 datasets.\n",
      "\n",
      "Top 20 contributing genes:\n",
      "TMC5\n",
      "FNIP2\n",
      "GULP1\n",
      "MUC3A\n",
      "ERG\n",
      "TMEM238\n",
      "COL9A2\n",
      "PCA3\n",
      "VSTM2L\n",
      "AMACR\n",
      "TMEM178A\n",
      "PDLIM3\n",
      "PEX10\n",
      "PRSS23\n",
      "PTP4A3\n",
      "ASRGL1\n",
      "HPN\n",
      "GLRX\n",
      "CRLS1\n",
      "EEF1A2\n"
     ]
    }
   ],
   "source": [
    "summarize_factor(scores,'factor2',genes_dict)"
   ]
  },
  {
   "cell_type": "code",
   "execution_count": 26,
   "metadata": {},
   "outputs": [
    {
     "name": "stdout",
     "output_type": "stream",
     "text": [
      "Phenotype distribution:\n",
      "PCa       14263\n",
      "normal     4541\n",
      "CRPC       2656\n",
      "Name: phenotype, dtype: int64\n",
      "\n",
      "Present in 95 out of 98 samples and 7 datasets.\n",
      "\n",
      "Top 20 contributing genes:\n",
      "CLDN4\n",
      "CRABP2\n",
      "DDIT4\n",
      "IER2\n",
      "ASS1\n",
      "WFDC2\n",
      "RHOV\n",
      "CYP4B1\n",
      "MTRNR2L12\n",
      "ID3\n",
      "CXCL17\n",
      "MUC20\n",
      "GABRP\n",
      "HES1\n",
      "SLPI\n",
      "NFKBIA\n",
      "FOS\n",
      "ARRDC2\n",
      "MDK\n",
      "RARRES3\n"
     ]
    }
   ],
   "source": [
    "summarize_factor(scores,'factor3',genes_dict)"
   ]
  },
  {
   "cell_type": "code",
   "execution_count": 27,
   "metadata": {},
   "outputs": [
    {
     "name": "stdout",
     "output_type": "stream",
     "text": [
      "Phenotype distribution:\n",
      "PCa       19664\n",
      "normal    12102\n",
      "CRPC        604\n",
      "Name: phenotype, dtype: int64\n",
      "\n",
      "Present in 94 out of 98 samples and 7 datasets.\n",
      "\n",
      "Top 20 contributing genes:\n",
      "KLK3\n",
      "KLK2\n",
      "ACPP\n",
      "IDH1\n",
      "RAMP1\n",
      "NAAA\n",
      "DEGS1\n",
      "PAK1IP1\n",
      "DPP4\n",
      "KLK4\n",
      "LCP1\n",
      "P4HB\n",
      "NIPAL3\n",
      "ANPEP\n",
      "SCD\n",
      "ABCC4\n",
      "LIFR\n",
      "IQGAP2\n",
      "ANTXR2\n",
      "MSMB\n"
     ]
    }
   ],
   "source": [
    "summarize_factor(scores,'factor4',genes_dict)"
   ]
  },
  {
   "cell_type": "code",
   "execution_count": 28,
   "metadata": {},
   "outputs": [],
   "source": [
    "# Rename the columns accordingly\n",
    "scores['max_factor'] = scores['max_factor'].replace('factor0', 'secreting epithelial')\n",
    "scores['max_factor'] = scores['max_factor'].replace('factor1', 'advanced malignant epithelial')\n",
    "scores['max_factor'] = scores['max_factor'].replace('factor2', 'early malignant epithelial')\n",
    "scores['max_factor'] = scores['max_factor'].replace('factor3', 'lipid response epithelial')\n",
    "scores['max_factor'] = scores['max_factor'].replace('factor4', 'healthy epithelial')\n",
    "final_annotations = pd.concat([final_annotations,scores['max_factor']],axis=0)"
   ]
  },
  {
   "attachments": {},
   "cell_type": "markdown",
   "metadata": {},
   "source": [
    "### T cell"
   ]
  },
  {
   "cell_type": "code",
   "execution_count": 29,
   "metadata": {},
   "outputs": [
    {
     "data": {
      "text/plain": [
       "factor0    52596\n",
       "factor2    46625\n",
       "factor3     6596\n",
       "factor1     2380\n",
       "Name: max_factor, dtype: int64"
      ]
     },
     "execution_count": 29,
     "metadata": {},
     "output_type": "execute_result"
    }
   ],
   "source": [
    "scores, genes_dict = score_modules('T_cell',nmf_components_by_ctype['T_cell'])\n",
    "scores['max_factor'].value_counts()"
   ]
  },
  {
   "cell_type": "code",
   "execution_count": 30,
   "metadata": {},
   "outputs": [
    {
     "name": "stdout",
     "output_type": "stream",
     "text": [
      "Phenotype distribution:\n",
      "normal    31826\n",
      "PCa       20485\n",
      "CRPC        285\n",
      "Name: phenotype, dtype: int64\n",
      "\n",
      "Present in 86 out of 95 samples and 7 datasets.\n",
      "\n",
      "Top 20 contributing genes:\n",
      "CCL5\n",
      "KLRD1\n",
      "CTSW\n",
      "ID2\n",
      "GZMH\n",
      "CCL4\n",
      "GZMB\n",
      "NKG7\n",
      "KLRC1\n",
      "GZMA\n",
      "PRF1\n",
      "GNLY\n",
      "CXCR4\n",
      "CLIC3\n",
      "PLAC8\n",
      "LGALS1\n",
      "SPON2\n",
      "CD69\n",
      "GADD45B\n",
      "PFN1\n"
     ]
    }
   ],
   "source": [
    "summarize_factor(scores,'factor0',genes_dict)"
   ]
  },
  {
   "cell_type": "code",
   "execution_count": 31,
   "metadata": {},
   "outputs": [
    {
     "name": "stdout",
     "output_type": "stream",
     "text": [
      "Phenotype distribution:\n",
      "PCa       1858\n",
      "normal     327\n",
      "CRPC       195\n",
      "Name: phenotype, dtype: int64\n",
      "\n",
      "Present in 76 out of 95 samples and 7 datasets.\n",
      "\n",
      "Top 20 contributing genes:\n",
      "DOK2\n",
      "IL32\n",
      "YBX1\n",
      "HLA-DRB1\n",
      "ODC1\n",
      "GBP5\n",
      "ITM2A\n",
      "NAMPT\n",
      "JUND\n",
      "HSPA5\n",
      "ANXA1\n",
      "DUSP2\n",
      "HSPE1\n",
      "CD81\n",
      "COTL1\n",
      "CARD16\n",
      "GAPDH\n",
      "GSPT1\n",
      "PRNP\n",
      "UBE2S\n"
     ]
    }
   ],
   "source": [
    "summarize_factor(scores,'factor1',genes_dict)"
   ]
  },
  {
   "cell_type": "code",
   "execution_count": 32,
   "metadata": {},
   "outputs": [
    {
     "name": "stdout",
     "output_type": "stream",
     "text": [
      "Phenotype distribution:\n",
      "PCa       30588\n",
      "normal    14109\n",
      "CRPC       1928\n",
      "Name: phenotype, dtype: int64\n",
      "\n",
      "Present in 94 out of 95 samples and 7 datasets.\n",
      "\n",
      "Top 20 contributing genes:\n",
      "FOS\n",
      "DNAJB1\n",
      "JUN\n",
      "HSPA1B\n",
      "HSPA1A\n",
      "DUSP1\n",
      "NR4A1\n",
      "RPLP0\n",
      "NFKBIA\n",
      "ZFAND2A\n",
      "HSPA8\n",
      "PPP1R15A\n",
      "CDKN1A\n",
      "HSPA6\n",
      "DNAJA1\n",
      "UBC\n",
      "HSP90AB1\n",
      "HSPB1\n",
      "RNASEK\n",
      "SLBP\n"
     ]
    }
   ],
   "source": [
    "summarize_factor(scores,'factor2',genes_dict)"
   ]
  },
  {
   "cell_type": "code",
   "execution_count": 33,
   "metadata": {},
   "outputs": [
    {
     "name": "stdout",
     "output_type": "stream",
     "text": [
      "Phenotype distribution:\n",
      "PCa       3371\n",
      "normal    3026\n",
      "CRPC       199\n",
      "Name: phenotype, dtype: int64\n",
      "\n",
      "Present in 87 out of 95 samples and 7 datasets.\n",
      "\n",
      "Top 20 contributing genes:\n",
      "MRPL1\n",
      "ATP1B3\n",
      "TUBA1B\n",
      "HLA-DRA\n",
      "NEAT1\n",
      "ERRFI1\n",
      "IL7R\n",
      "JMY\n",
      "SMC4\n",
      "MTRNR2L1\n",
      "CREM\n",
      "CD27\n",
      "HMGB2\n",
      "MACF1\n",
      "MT2A\n",
      "CHN1\n",
      "DUSP4\n",
      "ZFAND5\n",
      "BIRC3\n",
      "AIF1\n"
     ]
    }
   ],
   "source": [
    "summarize_factor(scores,'factor3',genes_dict)"
   ]
  },
  {
   "cell_type": "code",
   "execution_count": 34,
   "metadata": {},
   "outputs": [],
   "source": [
    "# Rename the columns accordingly\n",
    "scores['max_factor'] = scores['max_factor'].replace('factor0', 'NK cells')\n",
    "scores['max_factor'] = scores['max_factor'].replace('factor1', 'cytokine signalling T cells')\n",
    "scores['max_factor'] = scores['max_factor'].replace('factor2', 'activated T cells')\n",
    "scores['max_factor'] = scores['max_factor'].replace('factor3', 'helper T cells')\n",
    "final_annotations = pd.concat([final_annotations,scores['max_factor']],axis=0)"
   ]
  },
  {
   "attachments": {},
   "cell_type": "markdown",
   "metadata": {},
   "source": [
    "### Myeloid"
   ]
  },
  {
   "cell_type": "code",
   "execution_count": 35,
   "metadata": {},
   "outputs": [
    {
     "data": {
      "text/plain": [
       "factor3    10718\n",
       "factor1     8424\n",
       "factor2     6255\n",
       "factor0     6215\n",
       "factor5     1588\n",
       "factor4      434\n",
       "Name: max_factor, dtype: int64"
      ]
     },
     "execution_count": 35,
     "metadata": {},
     "output_type": "execute_result"
    }
   ],
   "source": [
    "scores, genes_dict = score_modules('Myeloid',nmf_components_by_ctype['Myeloid'])\n",
    "scores['max_factor'].value_counts()"
   ]
  },
  {
   "cell_type": "code",
   "execution_count": 36,
   "metadata": {},
   "outputs": [
    {
     "name": "stdout",
     "output_type": "stream",
     "text": [
      "Phenotype distribution:\n",
      "normal    3846\n",
      "PCa       2257\n",
      "CRPC       112\n",
      "Name: phenotype, dtype: int64\n",
      "\n",
      "Present in 52 out of 98 samples and 6 datasets.\n",
      "\n",
      "Top 20 contributing genes:\n",
      "LTB\n",
      "CD79A\n",
      "CD69\n",
      "BCAS2\n",
      "CCL5\n",
      "CD3D\n",
      "CD3E\n",
      "HIST1H1C\n",
      "SPIB\n",
      "IL32\n",
      "CACYBP\n",
      "MYC\n",
      "CD2\n",
      "HOPX\n",
      "FKBP11\n",
      "CD7\n",
      "ID3\n",
      "CTSW\n",
      "MARCKSL1\n",
      "NKG7\n"
     ]
    }
   ],
   "source": [
    "summarize_factor(scores,'factor0',genes_dict)"
   ]
  },
  {
   "cell_type": "code",
   "execution_count": 37,
   "metadata": {},
   "outputs": [
    {
     "name": "stdout",
     "output_type": "stream",
     "text": [
      "Phenotype distribution:\n",
      "PCa       5024\n",
      "normal    2445\n",
      "CRPC       955\n",
      "Name: phenotype, dtype: int64\n",
      "\n",
      "Present in 98 out of 98 samples and 7 datasets.\n",
      "\n",
      "Top 20 contributing genes:\n",
      "C1QA\n",
      "C1QC\n",
      "C1QB\n",
      "TMEM176B\n",
      "CD14\n",
      "HLA-DRB5\n",
      "PLD3\n",
      "TMEM176A\n",
      "FOLR2\n",
      "SLC40A1\n",
      "LGMN\n",
      "CD163\n",
      "PSAP\n",
      "HLA-DRA\n",
      "LIPA\n",
      "TREM2\n",
      "HLA-DRB1\n",
      "PLTP\n",
      "CPM\n",
      "CTSB\n"
     ]
    }
   ],
   "source": [
    "summarize_factor(scores,'factor1',genes_dict)"
   ]
  },
  {
   "cell_type": "code",
   "execution_count": 38,
   "metadata": {},
   "outputs": [
    {
     "name": "stdout",
     "output_type": "stream",
     "text": [
      "Phenotype distribution:\n",
      "PCa       3374\n",
      "normal    2664\n",
      "CRPC       217\n",
      "Name: phenotype, dtype: int64\n",
      "\n",
      "Present in 89 out of 98 samples and 7 datasets.\n",
      "\n",
      "Top 20 contributing genes:\n",
      "COTL1\n",
      "BCL2A1\n",
      "RNASEK\n",
      "GABARAP\n",
      "ACTB\n",
      "NFKBIA\n",
      "IL1B\n",
      "LGALS2\n",
      "ATP6V0C\n",
      "VIM\n",
      "S100A6\n",
      "FCN1\n",
      "G0S2\n",
      "SOD2\n",
      "PPA1\n",
      "LYZ\n",
      "IFI30\n",
      "PPIF\n",
      "S100A10\n",
      "AREG\n"
     ]
    }
   ],
   "source": [
    "summarize_factor(scores,'factor2',genes_dict)"
   ]
  },
  {
   "cell_type": "code",
   "execution_count": 39,
   "metadata": {},
   "outputs": [
    {
     "name": "stdout",
     "output_type": "stream",
     "text": [
      "Phenotype distribution:\n",
      "PCa       7483\n",
      "normal    2731\n",
      "CRPC       504\n",
      "Name: phenotype, dtype: int64\n",
      "\n",
      "Present in 94 out of 98 samples and 7 datasets.\n",
      "\n",
      "Top 20 contributing genes:\n",
      "HSPA1B\n",
      "BAG3\n",
      "STMN1\n",
      "IER5\n",
      "YWHAH\n",
      "PCNA\n",
      "DNAJB1\n",
      "HSPA1A\n",
      "C3\n",
      "TUBB\n",
      "HIST1H4C\n",
      "RHOB\n",
      "EGR1\n",
      "HSPH1\n",
      "JUN\n",
      "HSP90AA1\n",
      "DNAJA4\n",
      "HSPA6\n",
      "TUBA1B\n",
      "HMGB2\n"
     ]
    }
   ],
   "source": [
    "summarize_factor(scores,'factor3',genes_dict)"
   ]
  },
  {
   "cell_type": "code",
   "execution_count": 40,
   "metadata": {},
   "outputs": [
    {
     "name": "stdout",
     "output_type": "stream",
     "text": [
      "Phenotype distribution:\n",
      "PCa       282\n",
      "CRPC       83\n",
      "normal     69\n",
      "Name: phenotype, dtype: int64\n",
      "\n",
      "Present in 54 out of 98 samples and 7 datasets.\n",
      "\n",
      "Top 20 contributing genes:\n",
      "APOC1\n",
      "ACP5\n",
      "NUPR1\n",
      "FTL\n",
      "CHCHD6\n",
      "MYL9\n",
      "CRIP2\n",
      "ELF3\n",
      "APOE\n",
      "LGALS1\n",
      "CTSD\n",
      "TPM2\n",
      "ADIRF\n",
      "KRT19\n",
      "CSTB\n",
      "CALD1\n",
      "OTOA\n",
      "IGFBP4\n",
      "IFI27\n",
      "SPARC\n"
     ]
    }
   ],
   "source": [
    "summarize_factor(scores,'factor4',genes_dict)"
   ]
  },
  {
   "cell_type": "code",
   "execution_count": 41,
   "metadata": {},
   "outputs": [
    {
     "name": "stdout",
     "output_type": "stream",
     "text": [
      "Phenotype distribution:\n",
      "normal    756\n",
      "PCa       730\n",
      "CRPC      102\n",
      "Name: phenotype, dtype: int64\n",
      "\n",
      "Present in 84 out of 98 samples and 7 datasets.\n",
      "\n",
      "Top 20 contributing genes:\n",
      "MT2A\n",
      "FTH1\n",
      "MT1X\n",
      "ANPEP\n",
      "MT1E\n",
      "SLC16A10\n",
      "CXCL3\n",
      "CXCL1\n",
      "EMP1\n",
      "IL6\n",
      "SDC2\n",
      "MGST1\n",
      "SLC7A11\n",
      "MT1G\n",
      "TMEM107\n",
      "MARCO\n",
      "CD36\n",
      "FABP5\n",
      "LINC00910\n",
      "FDX1\n"
     ]
    }
   ],
   "source": [
    "summarize_factor(scores,'factor5',genes_dict)"
   ]
  },
  {
   "cell_type": "code",
   "execution_count": 42,
   "metadata": {},
   "outputs": [],
   "source": [
    "# Rename the columns accordingly\n",
    "scores['max_factor'] = scores['max_factor'].replace('factor0', 'lymphoid-like myeloid cells')\n",
    "scores['max_factor'] = scores['max_factor'].replace('factor1', 'antigen presenting macrophages')\n",
    "scores['max_factor'] = scores['max_factor'].replace('factor2', 'inflammatory monocytes')\n",
    "scores['max_factor'] = scores['max_factor'].replace('factor3', 'tumor associated myeloid cells')\n",
    "scores['max_factor'] = scores['max_factor'].replace('factor4', 'macrophages')\n",
    "scores['max_factor'] = scores['max_factor'].replace('factor5', 'metallothionein myeloid cells')\n",
    "final_annotations = pd.concat([final_annotations,scores['max_factor']],axis=0)"
   ]
  },
  {
   "attachments": {},
   "cell_type": "markdown",
   "metadata": {},
   "source": [
    "### Fibroblasts"
   ]
  },
  {
   "cell_type": "code",
   "execution_count": 43,
   "metadata": {},
   "outputs": [
    {
     "data": {
      "text/plain": [
       "factor7    1633\n",
       "factor2    1464\n",
       "factor6    1265\n",
       "factor3     606\n",
       "factor1     451\n",
       "factor0     393\n",
       "factor4     353\n",
       "factor5     105\n",
       "Name: max_factor, dtype: int64"
      ]
     },
     "execution_count": 43,
     "metadata": {},
     "output_type": "execute_result"
    }
   ],
   "source": [
    "scores, genes_dict = score_modules('Fibroblast',nmf_components_by_ctype['Fibroblast'])\n",
    "scores['max_factor'].value_counts()"
   ]
  },
  {
   "cell_type": "code",
   "execution_count": 44,
   "metadata": {},
   "outputs": [
    {
     "name": "stdout",
     "output_type": "stream",
     "text": [
      "Phenotype distribution:\n",
      "CRPC      253\n",
      "normal    117\n",
      "PCa        23\n",
      "Name: phenotype, dtype: int64\n",
      "\n",
      "Present in 18 out of 52 samples and 4 datasets.\n",
      "\n",
      "Top 20 contributing genes:\n",
      "REL\n",
      "RGS5\n",
      "PHLDA1\n",
      "GPRC5A\n",
      "SGK1\n",
      "ZFAND2A\n",
      "ID4\n",
      "GADD45A\n",
      "INHBA\n",
      "FABP4\n",
      "PMAIP1\n",
      "TNFAIP3\n",
      "TNFAIP6\n",
      "ISG15\n",
      "CXCL2\n",
      "VCAM1\n",
      "LST1\n",
      "PKNOX1\n",
      "MLLT11\n",
      "IFIT3\n"
     ]
    }
   ],
   "source": [
    "summarize_factor(scores,'factor0',genes_dict)"
   ]
  },
  {
   "cell_type": "code",
   "execution_count": 45,
   "metadata": {},
   "outputs": [
    {
     "name": "stdout",
     "output_type": "stream",
     "text": [
      "Phenotype distribution:\n",
      "PCa       244\n",
      "normal    120\n",
      "CRPC       87\n",
      "Name: phenotype, dtype: int64\n",
      "\n",
      "Present in 19 out of 52 samples and 4 datasets.\n",
      "\n",
      "Top 20 contributing genes:\n",
      "MT2A\n",
      "SOD2\n",
      "NAMPT\n",
      "KRT18\n",
      "HMGA1\n",
      "FOSL1\n",
      "IER3\n",
      "PTGS2\n",
      "LIF\n",
      "CREM\n",
      "FXYD3\n",
      "ISG20\n",
      "GCLM\n",
      "MT1X\n",
      "ELF3\n",
      "ADAMTS4\n",
      "MT1G\n",
      "AKR1C1\n",
      "TNFRSF12A\n",
      "KRT8\n"
     ]
    }
   ],
   "source": [
    "summarize_factor(scores,'factor1',genes_dict)"
   ]
  },
  {
   "cell_type": "code",
   "execution_count": 46,
   "metadata": {},
   "outputs": [
    {
     "name": "stdout",
     "output_type": "stream",
     "text": [
      "Phenotype distribution:\n",
      "CRPC      1113\n",
      "normal     189\n",
      "PCa        162\n",
      "Name: phenotype, dtype: int64\n",
      "\n",
      "Present in 34 out of 52 samples and 5 datasets.\n",
      "\n",
      "Top 20 contributing genes:\n",
      "CTHRC1\n",
      "HTRA3\n",
      "ANKH\n",
      "PDGFRL\n",
      "MTRNR2L12\n",
      "POSTN\n",
      "TIMP1\n",
      "ASPSCR1\n",
      "THBS2\n",
      "APOD\n",
      "FN1\n",
      "F2R\n",
      "MTRNR2L8\n",
      "DCLK1\n",
      "HOPX\n",
      "FOXS1\n",
      "CST2\n",
      "PTHLH\n",
      "COL1A1\n",
      "NOTCH3\n"
     ]
    }
   ],
   "source": [
    "summarize_factor(scores,'factor2',genes_dict)"
   ]
  },
  {
   "cell_type": "code",
   "execution_count": 47,
   "metadata": {},
   "outputs": [
    {
     "name": "stdout",
     "output_type": "stream",
     "text": [
      "Phenotype distribution:\n",
      "PCa       437\n",
      "normal    168\n",
      "CRPC        1\n",
      "Name: phenotype, dtype: int64\n",
      "\n",
      "Present in 33 out of 52 samples and 4 datasets.\n",
      "\n",
      "Top 20 contributing genes:\n",
      "TCF21\n",
      "IGF1\n",
      "SPOCK3\n",
      "C7\n",
      "SFRP1\n",
      "IGFBP2\n",
      "PAGE4\n",
      "MYLK\n",
      "TGM2\n",
      "PDE5A\n",
      "RORB\n",
      "HSPB6\n",
      "PEMT\n",
      "CES1\n",
      "HSD17B4\n",
      "APCDD1\n",
      "A2M\n",
      "STEAP2\n",
      "CYP1B1\n",
      "RNASEK\n"
     ]
    }
   ],
   "source": [
    "summarize_factor(scores,'factor3',genes_dict)"
   ]
  },
  {
   "cell_type": "code",
   "execution_count": 48,
   "metadata": {},
   "outputs": [
    {
     "name": "stdout",
     "output_type": "stream",
     "text": [
      "Phenotype distribution:\n",
      "normal    180\n",
      "CRPC      140\n",
      "PCa        33\n",
      "Name: phenotype, dtype: int64\n",
      "\n",
      "Present in 24 out of 52 samples and 5 datasets.\n",
      "\n",
      "Top 20 contributing genes:\n",
      "TPM2\n",
      "TAGLN\n",
      "PPP1R14A\n",
      "ACTA2\n",
      "IGFBP3\n",
      "PCSK1N\n",
      "LAMP5\n",
      "ADRA2A\n",
      "CMSS1\n",
      "ACTG2\n",
      "LEPR\n",
      "HHIP\n",
      "SLC14A1\n",
      "HSD17B6\n",
      "DPEP1\n",
      "RRAD\n",
      "CNN1\n",
      "CXCL14\n",
      "BNIP3L\n",
      "PLN\n"
     ]
    }
   ],
   "source": [
    "summarize_factor(scores,'factor4',genes_dict)"
   ]
  },
  {
   "cell_type": "code",
   "execution_count": 49,
   "metadata": {},
   "outputs": [
    {
     "name": "stdout",
     "output_type": "stream",
     "text": [
      "Phenotype distribution:\n",
      "normal    60\n",
      "PCa       39\n",
      "CRPC       6\n",
      "Name: phenotype, dtype: int64\n",
      "\n",
      "Present in 20 out of 52 samples and 4 datasets.\n",
      "\n",
      "Top 20 contributing genes:\n",
      "CRYAB\n",
      "TSC22D4\n",
      "HSPA2\n",
      "CLU\n",
      "HLA-DRA\n",
      "SNCG\n",
      "VWA1\n",
      "TSPAN8\n",
      "SBSPON\n",
      "ARC\n",
      "CD74\n",
      "GPM6B\n",
      "LGI4\n",
      "RGCC\n",
      "HLA-DMA\n",
      "INSIG1\n",
      "PLP1\n",
      "STMN1\n",
      "LAPTM5\n",
      "HLA-DPA1\n"
     ]
    }
   ],
   "source": [
    "summarize_factor(scores,'factor5',genes_dict)"
   ]
  },
  {
   "cell_type": "code",
   "execution_count": 50,
   "metadata": {},
   "outputs": [
    {
     "name": "stdout",
     "output_type": "stream",
     "text": [
      "Phenotype distribution:\n",
      "normal    1069\n",
      "CRPC       111\n",
      "PCa         85\n",
      "Name: phenotype, dtype: int64\n",
      "\n",
      "Present in 17 out of 52 samples and 5 datasets.\n",
      "\n",
      "Top 20 contributing genes:\n",
      "MFAP5\n",
      "CD55\n",
      "CFD\n",
      "CLEC3B\n",
      "PCOLCE2\n",
      "SPRY1\n",
      "PI16\n",
      "C1QTNF3\n",
      "CILP\n",
      "CRABP2\n",
      "IFI6\n",
      "ADH1B\n",
      "ATF5\n",
      "TNXB\n",
      "MTRNR2L1\n",
      "RAMP2\n",
      "KLK1\n",
      "NBEAL1\n",
      "SFRP2\n",
      "MPC2\n"
     ]
    }
   ],
   "source": [
    "summarize_factor(scores,'factor6',genes_dict)"
   ]
  },
  {
   "cell_type": "code",
   "execution_count": 51,
   "metadata": {},
   "outputs": [
    {
     "name": "stdout",
     "output_type": "stream",
     "text": [
      "Phenotype distribution:\n",
      "PCa       685\n",
      "normal    607\n",
      "CRPC      341\n",
      "Name: phenotype, dtype: int64\n",
      "\n",
      "Present in 46 out of 52 samples and 5 datasets.\n",
      "\n",
      "Top 20 contributing genes:\n",
      "JUNB\n",
      "ZFP36\n",
      "FOS\n",
      "DUSP1\n",
      "IER2\n",
      "NR4A1\n",
      "DNAJB1\n",
      "HSPA8\n",
      "HSPA1B\n",
      "BAG3\n",
      "JUN\n",
      "EGR1\n",
      "CDKN1A\n",
      "HSPA1A\n",
      "CSRNP1\n",
      "BTG2\n",
      "KLF10\n",
      "MAFF\n",
      "HSPD1\n",
      "SLC2A3\n"
     ]
    }
   ],
   "source": [
    "summarize_factor(scores,'factor7',genes_dict)"
   ]
  },
  {
   "cell_type": "code",
   "execution_count": 52,
   "metadata": {},
   "outputs": [],
   "source": [
    "# Rename the columns accordingly\n",
    "scores['max_factor'] = scores['max_factor'].replace('factor0', 'NF-kB fibroblasts')\n",
    "scores['max_factor'] = scores['max_factor'].replace('factor1', 'inflammatory fibroblasts')\n",
    "scores['max_factor'] = scores['max_factor'].replace('factor2', 'crpc fibroblasts')\n",
    "scores['max_factor'] = scores['max_factor'].replace('factor3', 'tumor suppressor fibroblasts')\n",
    "scores['max_factor'] = scores['max_factor'].replace('factor4', 'myofibroblasts')\n",
    "scores['max_factor'] = scores['max_factor'].replace('factor5', 'antigen-presenting fibroblasts')\n",
    "scores['max_factor'] = scores['max_factor'].replace('factor6', 'normal fibroblasts')\n",
    "scores['max_factor'] = scores['max_factor'].replace('factor7', 'stressed fibroblasts')\n",
    "final_annotations = pd.concat([final_annotations,scores['max_factor']],axis=0)"
   ]
  },
  {
   "cell_type": "code",
   "execution_count": null,
   "metadata": {},
   "outputs": [],
   "source": []
  },
  {
   "attachments": {},
   "cell_type": "markdown",
   "metadata": {},
   "source": [
    "### Smooth muscle cells"
   ]
  },
  {
   "cell_type": "code",
   "execution_count": 53,
   "metadata": {},
   "outputs": [
    {
     "data": {
      "text/plain": [
       "factor1    3767\n",
       "factor4    3162\n",
       "factor0    3126\n",
       "factor2    2883\n",
       "factor3    1679\n",
       "factor5     128\n",
       "factor6      72\n",
       "Name: max_factor, dtype: int64"
      ]
     },
     "execution_count": 53,
     "metadata": {},
     "output_type": "execute_result"
    }
   ],
   "source": [
    "scores, genes_dict = score_modules('SMC',nmf_components_by_ctype['SMC'])\n",
    "scores['max_factor'].value_counts()"
   ]
  },
  {
   "cell_type": "code",
   "execution_count": 54,
   "metadata": {},
   "outputs": [
    {
     "name": "stdout",
     "output_type": "stream",
     "text": [
      "Phenotype distribution:\n",
      "PCa       1509\n",
      "normal    1081\n",
      "CRPC       536\n",
      "Name: phenotype, dtype: int64\n",
      "\n",
      "Present in 83 out of 85 samples and 6 datasets.\n",
      "\n",
      "Top 20 contributing genes:\n",
      "TAGLN\n",
      "CSRP1\n",
      "VIM\n",
      "FHL1\n",
      "CNN1\n",
      "ACTA2\n",
      "SBSPON\n",
      "ACTG2\n",
      "SORBS2\n",
      "CLU\n",
      "SOD3\n",
      "SNCG\n",
      "CCDC3\n",
      "NOV\n",
      "TNC\n",
      "TMEM176A\n",
      "SYNM\n",
      "PDLIM4\n",
      "CRIM1\n",
      "HSPG2\n"
     ]
    }
   ],
   "source": [
    "summarize_factor(scores,'factor0',genes_dict)"
   ]
  },
  {
   "cell_type": "code",
   "execution_count": 55,
   "metadata": {},
   "outputs": [
    {
     "name": "stdout",
     "output_type": "stream",
     "text": [
      "Phenotype distribution:\n",
      "PCa       2094\n",
      "normal    1271\n",
      "CRPC       402\n",
      "Name: phenotype, dtype: int64\n",
      "\n",
      "Present in 75 out of 85 samples and 6 datasets.\n",
      "\n",
      "Top 20 contributing genes:\n",
      "FOSB\n",
      "FOS\n",
      "TUBB4B\n",
      "DNAJA1\n",
      "JUN\n",
      "NR4A1\n",
      "MAFF\n",
      "RHOB\n",
      "CEBPD\n",
      "EGR1\n",
      "HSPA8\n",
      "YBX3\n",
      "CEBPB\n",
      "H2AFX\n",
      "IGFBP4\n",
      "RASL11A\n",
      "EIF4A3\n",
      "ATF3\n",
      "IER2\n",
      "RNASEK\n"
     ]
    }
   ],
   "source": [
    "summarize_factor(scores,'factor1',genes_dict)"
   ]
  },
  {
   "cell_type": "code",
   "execution_count": 56,
   "metadata": {},
   "outputs": [
    {
     "name": "stdout",
     "output_type": "stream",
     "text": [
      "Phenotype distribution:\n",
      "PCa       1626\n",
      "normal     744\n",
      "CRPC       513\n",
      "Name: phenotype, dtype: int64\n",
      "\n",
      "Present in 79 out of 85 samples and 6 datasets.\n",
      "\n",
      "Top 20 contributing genes:\n",
      "COL4A2\n",
      "COL18A1\n",
      "COL4A1\n",
      "NDUFA4L2\n",
      "THY1\n",
      "EVA1B\n",
      "UACA\n",
      "SPARC\n",
      "COL5A2\n",
      "CAMK2N1\n",
      "CD81\n",
      "CYGB\n",
      "MARCKS\n",
      "PPP1R14B\n",
      "ASPN\n",
      "CA4\n",
      "CD248\n",
      "GNAS\n",
      "RGS5\n",
      "NR2F2\n"
     ]
    }
   ],
   "source": [
    "summarize_factor(scores,'factor2',genes_dict)"
   ]
  },
  {
   "cell_type": "code",
   "execution_count": 57,
   "metadata": {},
   "outputs": [
    {
     "name": "stdout",
     "output_type": "stream",
     "text": [
      "Phenotype distribution:\n",
      "PCa       1096\n",
      "normal     583\n",
      "CRPC         0\n",
      "Name: phenotype, dtype: int64\n",
      "\n",
      "Present in 51 out of 85 samples and 5 datasets.\n",
      "\n",
      "Top 20 contributing genes:\n",
      "SERPINF1\n",
      "PTN\n",
      "DCN\n",
      "LUM\n",
      "IGF1\n",
      "LTBP4\n",
      "MMP2\n",
      "C7\n",
      "OLFML3\n",
      "MATN2\n",
      "TCF21\n",
      "MGST1\n",
      "CFD\n",
      "RGS2\n",
      "FBLN1\n",
      "CCDC80\n",
      "SAT1\n",
      "ALDH1A3\n",
      "SPOCK3\n",
      "FBLN5\n"
     ]
    }
   ],
   "source": [
    "summarize_factor(scores,'factor3',genes_dict)"
   ]
  },
  {
   "cell_type": "code",
   "execution_count": 58,
   "metadata": {},
   "outputs": [
    {
     "name": "stdout",
     "output_type": "stream",
     "text": [
      "Phenotype distribution:\n",
      "PCa       2085\n",
      "normal    1062\n",
      "CRPC        15\n",
      "Name: phenotype, dtype: int64\n",
      "\n",
      "Present in 60 out of 85 samples and 6 datasets.\n",
      "\n",
      "Top 20 contributing genes:\n",
      "PCP4\n",
      "MTRNR2L8\n",
      "NET1\n",
      "MTRNR2L12\n",
      "GADD45B\n",
      "MT1E\n",
      "PHLDA2\n",
      "MT1X\n",
      "MAP3K7CL\n",
      "SLC38A11\n",
      "MT1M\n",
      "ZNF331\n",
      "CREM\n",
      "GBP2\n",
      "MT2A\n",
      "MTRNR2L1\n",
      "NEAT1\n",
      "PDK4\n",
      "PLN\n",
      "ADAMTS9\n"
     ]
    }
   ],
   "source": [
    "summarize_factor(scores,'factor4',genes_dict)"
   ]
  },
  {
   "cell_type": "code",
   "execution_count": 59,
   "metadata": {},
   "outputs": [
    {
     "name": "stdout",
     "output_type": "stream",
     "text": [
      "Phenotype distribution:\n",
      "normal    63\n",
      "PCa       61\n",
      "CRPC       4\n",
      "Name: phenotype, dtype: int64\n",
      "\n",
      "Present in 29 out of 85 samples and 4 datasets.\n",
      "\n",
      "Top 20 contributing genes:\n",
      "CXCR4\n",
      "HLA-DRA\n",
      "CD52\n",
      "LAPTM5\n",
      "HLA-DPA1\n",
      "CD69\n",
      "HLA-DPB1\n",
      "CD3D\n",
      "CD74\n",
      "HLA-DRB1\n",
      "CORO1A\n",
      "CCL5\n",
      "HCST\n",
      "HLA-DQB1\n",
      "SRGN\n",
      "PTPRC\n",
      "CYTIP\n",
      "EGFL7\n",
      "CD48\n",
      "CD2\n"
     ]
    }
   ],
   "source": [
    "summarize_factor(scores,'factor5',genes_dict)"
   ]
  },
  {
   "cell_type": "code",
   "execution_count": 60,
   "metadata": {},
   "outputs": [
    {
     "name": "stdout",
     "output_type": "stream",
     "text": [
      "Phenotype distribution:\n",
      "normal    44\n",
      "PCa       28\n",
      "CRPC       0\n",
      "Name: phenotype, dtype: int64\n",
      "\n",
      "Present in 11 out of 85 samples and 4 datasets.\n",
      "\n",
      "Top 20 contributing genes:\n",
      "KLK2\n",
      "FXYD3\n",
      "RDH11\n",
      "SPINT2\n",
      "SORD\n",
      "NKX3-1\n",
      "TSPAN1\n",
      "NPY\n",
      "KLK4\n",
      "KLK3\n",
      "TSTD1\n",
      "CLDN3\n",
      "PRAC1\n",
      "GOLM1\n",
      "SLC45A3\n",
      "ZG16B\n",
      "KRT8\n",
      "TRPM4\n",
      "TMPRSS2\n",
      "SPDEF\n"
     ]
    }
   ],
   "source": [
    "summarize_factor(scores,'factor6',genes_dict)"
   ]
  },
  {
   "cell_type": "code",
   "execution_count": 61,
   "metadata": {},
   "outputs": [],
   "source": [
    "# Rename the columns accordingly\n",
    "scores['max_factor'] = scores['max_factor'].replace('factor0', 'pericytes')\n",
    "scores['max_factor'] = scores['max_factor'].replace('factor1', 'stressed SMCs')\n",
    "scores['max_factor'] = scores['max_factor'].replace('factor2', 'ECM secreting SMCs')\n",
    "scores['max_factor'] = scores['max_factor'].replace('factor3', 'myofibroblasts')\n",
    "scores['max_factor'] = scores['max_factor'].replace('factor4', 'neuronal SMCs')\n",
    "scores['max_factor'] = scores['max_factor'].replace('factor5', 'antigen-presenting SMCs')\n",
    "scores['max_factor'] = scores['max_factor'].replace('factor6', 'luminal-like SMCs')\n",
    "final_annotations = pd.concat([final_annotations,scores['max_factor']],axis=0)"
   ]
  },
  {
   "attachments": {},
   "cell_type": "markdown",
   "metadata": {},
   "source": [
    "### B cells"
   ]
  },
  {
   "cell_type": "code",
   "execution_count": 62,
   "metadata": {},
   "outputs": [
    {
     "data": {
      "text/plain": [
       "factor1    4498\n",
       "factor3    1843\n",
       "factor2     225\n",
       "factor0     101\n",
       "Name: max_factor, dtype: int64"
      ]
     },
     "execution_count": 62,
     "metadata": {},
     "output_type": "execute_result"
    }
   ],
   "source": [
    "scores, genes_dict = score_modules('B_cell',nmf_components_by_ctype['B_cell'])\n",
    "scores['max_factor'].value_counts()"
   ]
  },
  {
   "cell_type": "code",
   "execution_count": 63,
   "metadata": {},
   "outputs": [
    {
     "name": "stdout",
     "output_type": "stream",
     "text": [
      "Phenotype distribution:\n",
      "PCa       90\n",
      "normal    11\n",
      "CRPC       0\n",
      "Name: phenotype, dtype: int64\n",
      "\n",
      "Present in 19 out of 73 samples and 2 datasets.\n",
      "\n",
      "Top 20 contributing genes:\n",
      "JUNB\n",
      "ZFP36\n",
      "BRD2\n",
      "NFKBIA\n",
      "BTG2\n",
      "FOS\n",
      "JUN\n",
      "TSC22D3\n",
      "TXNIP\n",
      "IER2\n",
      "FOSB\n",
      "GADD45B\n",
      "DUSP1\n",
      "EIF4A3\n",
      "HERPUD1\n",
      "PIM2\n",
      "XBP1\n",
      "ZNF331\n",
      "ATF3\n",
      "RPN2\n"
     ]
    }
   ],
   "source": [
    "summarize_factor(scores,'factor0',genes_dict)"
   ]
  },
  {
   "cell_type": "code",
   "execution_count": 64,
   "metadata": {},
   "outputs": [
    {
     "name": "stdout",
     "output_type": "stream",
     "text": [
      "Phenotype distribution:\n",
      "PCa       2991\n",
      "normal    1135\n",
      "CRPC       372\n",
      "Name: phenotype, dtype: int64\n",
      "\n",
      "Present in 69 out of 73 samples and 6 datasets.\n",
      "\n",
      "Top 20 contributing genes:\n",
      "B2M\n",
      "SEC61G\n",
      "RPL27A\n",
      "RABAC1\n",
      "RPL13A\n",
      "RPL41\n",
      "MALAT1\n",
      "MANF\n",
      "RPS27L\n",
      "HLA-DQA2\n",
      "SDF2L1\n",
      "CD63\n",
      "TMEM258\n",
      "SSR3\n",
      "SPCS1\n",
      "KIAA1551\n",
      "HLA-C\n",
      "CYBA\n",
      "SUB1\n",
      "FTL\n"
     ]
    }
   ],
   "source": [
    "summarize_factor(scores,'factor1',genes_dict)"
   ]
  },
  {
   "cell_type": "code",
   "execution_count": 65,
   "metadata": {},
   "outputs": [
    {
     "name": "stdout",
     "output_type": "stream",
     "text": [
      "Phenotype distribution:\n",
      "normal    126\n",
      "PCa        97\n",
      "CRPC        2\n",
      "Name: phenotype, dtype: int64\n",
      "\n",
      "Present in 28 out of 73 samples and 3 datasets.\n",
      "\n",
      "Top 20 contributing genes:\n",
      "SEC61B\n",
      "NPC2\n",
      "TMSB4X\n",
      "IRF7\n",
      "PLAC8\n",
      "PPP1R14B\n",
      "GPR183\n",
      "FTH1\n",
      "TYROBP\n",
      "S100A6\n",
      "CST3\n",
      "CLN8\n",
      "CXCR3\n",
      "CTSB\n",
      "LILRA4\n",
      "TSPAN13\n",
      "ALOX5AP\n",
      "FOSL2\n",
      "SERPINF1\n",
      "FCER1G\n"
     ]
    }
   ],
   "source": [
    "summarize_factor(scores,'factor2',genes_dict)"
   ]
  },
  {
   "cell_type": "code",
   "execution_count": 66,
   "metadata": {},
   "outputs": [
    {
     "name": "stdout",
     "output_type": "stream",
     "text": [
      "Phenotype distribution:\n",
      "normal    1424\n",
      "PCa        418\n",
      "CRPC         1\n",
      "Name: phenotype, dtype: int64\n",
      "\n",
      "Present in 14 out of 73 samples and 2 datasets.\n",
      "\n",
      "Top 20 contributing genes:\n",
      "HSPA1A\n",
      "HSPE1\n",
      "HSPH1\n",
      "HSPD1\n",
      "CORO1A\n",
      "MARCKSL1\n",
      "HSPA1B\n",
      "HSPA8\n",
      "HSPB1\n",
      "GAPDH\n",
      "LCP1\n",
      "ACTR3\n",
      "DNAJB1\n",
      "TUBA1B\n",
      "ACTG1\n",
      "ACTB\n",
      "TUBB\n",
      "BCL2A1\n",
      "DOK2\n",
      "STMN1\n"
     ]
    }
   ],
   "source": [
    "summarize_factor(scores,'factor3',genes_dict)"
   ]
  },
  {
   "cell_type": "code",
   "execution_count": 67,
   "metadata": {},
   "outputs": [],
   "source": [
    "# Rename the columns accordingly\n",
    "scores['max_factor'] = scores['max_factor'].replace('factor0', 'stressed B cells')\n",
    "scores['max_factor'] = scores['max_factor'].replace('factor1', 'plasma cells')\n",
    "scores['max_factor'] = scores['max_factor'].replace('factor2', 'dendritic cells')\n",
    "scores['max_factor'] = scores['max_factor'].replace('factor3', 'unfolded protein response B cells')\n",
    "final_annotations = pd.concat([final_annotations,scores['max_factor']],axis=0)"
   ]
  },
  {
   "attachments": {},
   "cell_type": "markdown",
   "metadata": {},
   "source": [
    "## Endothelial"
   ]
  },
  {
   "cell_type": "code",
   "execution_count": 68,
   "metadata": {},
   "outputs": [
    {
     "data": {
      "text/plain": [
       "factor4    11310\n",
       "factor5     3611\n",
       "factor0     3603\n",
       "factor6     2224\n",
       "factor1      500\n",
       "factor2      365\n",
       "factor3      211\n",
       "Name: max_factor, dtype: int64"
      ]
     },
     "execution_count": 68,
     "metadata": {},
     "output_type": "execute_result"
    }
   ],
   "source": [
    "scores, genes_dict = score_modules('Endothelial',nmf_components_by_ctype['Endothelial'])\n",
    "scores['max_factor'].value_counts()"
   ]
  },
  {
   "cell_type": "code",
   "execution_count": 69,
   "metadata": {},
   "outputs": [
    {
     "name": "stdout",
     "output_type": "stream",
     "text": [
      "Phenotype distribution:\n",
      "PCa       2394\n",
      "normal    1139\n",
      "CRPC        70\n",
      "Name: phenotype, dtype: int64\n",
      "\n",
      "Present in 81 out of 87 samples and 6 datasets.\n",
      "\n",
      "Top 20 contributing genes:\n",
      "SPARC\n",
      "INSR\n",
      "FLT1\n",
      "COL4A1\n",
      "RGCC\n",
      "EDNRB\n",
      "COL4A2\n",
      "ID2\n",
      "MLEC\n",
      "VWA1\n",
      "ANGPT2\n",
      "PDGFD\n",
      "KDR\n",
      "DDIT4\n",
      "MGP\n",
      "RBP7\n",
      "TMEM233\n",
      "THY1\n",
      "LBH\n",
      "BTNL9\n"
     ]
    }
   ],
   "source": [
    "summarize_factor(scores,'factor0',genes_dict)"
   ]
  },
  {
   "cell_type": "code",
   "execution_count": 70,
   "metadata": {},
   "outputs": [
    {
     "name": "stdout",
     "output_type": "stream",
     "text": [
      "Phenotype distribution:\n",
      "PCa       361\n",
      "normal    138\n",
      "CRPC        1\n",
      "Name: phenotype, dtype: int64\n",
      "\n",
      "Present in 58 out of 87 samples and 6 datasets.\n",
      "\n",
      "Top 20 contributing genes:\n",
      "MKL2\n",
      "SLFN5\n",
      "RARRES3\n",
      "SSFA2\n",
      "LINC00910\n",
      "KIAA1551\n",
      "SAMHD1\n",
      "TGFB2\n",
      "FAM84B\n",
      "IFI44L\n",
      "SYT15\n",
      "HLA-DQA2\n",
      "PRKAR2B\n",
      "CCDC80\n",
      "NEURL1B\n",
      "ZNF521\n",
      "LHX6\n",
      "SESN3\n",
      "GIMAP8\n",
      "PARP14\n"
     ]
    }
   ],
   "source": [
    "summarize_factor(scores,'factor1',genes_dict)"
   ]
  },
  {
   "cell_type": "code",
   "execution_count": 71,
   "metadata": {},
   "outputs": [
    {
     "name": "stdout",
     "output_type": "stream",
     "text": [
      "Phenotype distribution:\n",
      "PCa       229\n",
      "normal    130\n",
      "CRPC        6\n",
      "Name: phenotype, dtype: int64\n",
      "\n",
      "Present in 38 out of 87 samples and 6 datasets.\n",
      "\n",
      "Top 20 contributing genes:\n",
      "KLK2\n",
      "KLF2\n",
      "TSPAN1\n",
      "FXYD3\n",
      "SORD\n",
      "KLK4\n",
      "NPY\n",
      "AGR2\n",
      "RDH11\n",
      "KLK3\n",
      "NKX3-1\n",
      "SPON2\n",
      "SPINT2\n",
      "TSTD1\n",
      "PRAC1\n",
      "TMPRSS2\n",
      "AZGP1\n",
      "CLDN3\n",
      "SPDEF\n",
      "STEAP2\n"
     ]
    }
   ],
   "source": [
    "summarize_factor(scores,'factor2',genes_dict)"
   ]
  },
  {
   "cell_type": "code",
   "execution_count": 72,
   "metadata": {},
   "outputs": [
    {
     "name": "stdout",
     "output_type": "stream",
     "text": [
      "Phenotype distribution:\n",
      "PCa       180\n",
      "normal     26\n",
      "CRPC        5\n",
      "Name: phenotype, dtype: int64\n",
      "\n",
      "Present in 33 out of 87 samples and 6 datasets.\n",
      "\n",
      "Top 20 contributing genes:\n",
      "TPM2\n",
      "MYL9\n",
      "CCL5\n",
      "RGS5\n",
      "CALD1\n",
      "CCL4\n",
      "CD69\n",
      "TAGLN\n",
      "MTRNR2L1\n",
      "CXCR4\n",
      "HIGD1B\n",
      "RARRES2\n",
      "NDUFA4L2\n",
      "CRISPLD2\n",
      "ACTA2\n",
      "NOTCH3\n",
      "CD3D\n",
      "MTRNR2L8\n",
      "COX4I2\n",
      "COL3A1\n"
     ]
    }
   ],
   "source": [
    "summarize_factor(scores,'factor3',genes_dict)"
   ]
  },
  {
   "cell_type": "code",
   "execution_count": 73,
   "metadata": {},
   "outputs": [
    {
     "name": "stdout",
     "output_type": "stream",
     "text": [
      "Phenotype distribution:\n",
      "PCa       6585\n",
      "normal    4059\n",
      "CRPC       666\n",
      "Name: phenotype, dtype: int64\n",
      "\n",
      "Present in 84 out of 87 samples and 6 datasets.\n",
      "\n",
      "Top 20 contributing genes:\n",
      "HSPA8\n",
      "CDKN1A\n",
      "PNP\n",
      "PPP1R15A\n",
      "HSPE1\n",
      "ZFP36\n",
      "H2AFX\n",
      "NR4A1\n",
      "HSPD1\n",
      "HSPA1A\n",
      "DNAJB1\n",
      "FOS\n",
      "FOSL1\n",
      "DNAJA1\n",
      "BAG3\n",
      "SOD2\n",
      "LITAF\n",
      "DNAJB4\n",
      "ZC3H12A\n",
      "TUBA1C\n"
     ]
    }
   ],
   "source": [
    "summarize_factor(scores,'factor4',genes_dict)"
   ]
  },
  {
   "cell_type": "code",
   "execution_count": 74,
   "metadata": {},
   "outputs": [
    {
     "name": "stdout",
     "output_type": "stream",
     "text": [
      "Phenotype distribution:\n",
      "PCa       2882\n",
      "normal     698\n",
      "CRPC        31\n",
      "Name: phenotype, dtype: int64\n",
      "\n",
      "Present in 79 out of 87 samples and 6 datasets.\n",
      "\n",
      "Top 20 contributing genes:\n",
      "CLU\n",
      "OLFM1\n",
      "CCL14\n",
      "VWF\n",
      "MATN2\n",
      "IFITM1\n",
      "CEBPD\n",
      "SELP\n",
      "MET\n",
      "PLA1A\n",
      "MMRN1\n",
      "PKP4\n",
      "CCL23\n",
      "IL1R1\n",
      "TMTC1\n",
      "AHNAK\n",
      "IGFBP7\n",
      "SYNE2\n",
      "GTF2B\n",
      "HLA-DRB5\n"
     ]
    }
   ],
   "source": [
    "summarize_factor(scores,'factor5',genes_dict)"
   ]
  },
  {
   "cell_type": "code",
   "execution_count": 75,
   "metadata": {},
   "outputs": [
    {
     "name": "stdout",
     "output_type": "stream",
     "text": [
      "Phenotype distribution:\n",
      "PCa       1501\n",
      "normal     665\n",
      "CRPC        58\n",
      "Name: phenotype, dtype: int64\n",
      "\n",
      "Present in 83 out of 87 samples and 6 datasets.\n",
      "\n",
      "Top 20 contributing genes:\n",
      "CLDN5\n",
      "SRP14\n",
      "KCTD12\n",
      "SAT1\n",
      "PLLP\n",
      "ENPP2\n",
      "VEGFC\n",
      "STMN1\n",
      "RHOB\n",
      "PPP1R14A\n",
      "FN1\n",
      "GLUL\n",
      "FGL2\n",
      "EMP3\n",
      "LTBP4\n",
      "TSPAN2\n",
      "IGFBP3\n",
      "FBLN5\n",
      "JAG1\n",
      "HEY1\n"
     ]
    }
   ],
   "source": [
    "summarize_factor(scores,'factor6',genes_dict)"
   ]
  },
  {
   "cell_type": "code",
   "execution_count": 76,
   "metadata": {},
   "outputs": [],
   "source": [
    "# Rename the columns accordingly\n",
    "scores['max_factor'] = scores['max_factor'].replace('factor0', 'PI3K-Akt active endothelial cells')\n",
    "scores['max_factor'] = scores['max_factor'].replace('factor1', 'myocardin endothelial cells')\n",
    "scores['max_factor'] = scores['max_factor'].replace('factor2', 'epithelial-like endothelial cells')\n",
    "scores['max_factor'] = scores['max_factor'].replace('factor3', 'SMC-like endothelial cells')\n",
    "scores['max_factor'] = scores['max_factor'].replace('factor4', 'unfolded protein response endothelial cells')\n",
    "scores['max_factor'] = scores['max_factor'].replace('factor5', 'endothelial cells')\n",
    "scores['max_factor'] = scores['max_factor'].replace('factor6', 'angiogenesis-promoting endothelial cells')\n",
    "final_annotations = pd.concat([final_annotations,scores['max_factor']],axis=0)"
   ]
  },
  {
   "attachments": {},
   "cell_type": "markdown",
   "metadata": {},
   "source": [
    "## Mast cells"
   ]
  },
  {
   "cell_type": "code",
   "execution_count": 77,
   "metadata": {},
   "outputs": [
    {
     "data": {
      "text/plain": [
       "factor0    6466\n",
       "factor1    1295\n",
       "Name: max_factor, dtype: int64"
      ]
     },
     "execution_count": 77,
     "metadata": {},
     "output_type": "execute_result"
    }
   ],
   "source": [
    "scores, genes_dict = score_modules('Mast',nmf_components_by_ctype['Mast'])\n",
    "scores['max_factor'].value_counts()"
   ]
  },
  {
   "cell_type": "code",
   "execution_count": 78,
   "metadata": {},
   "outputs": [
    {
     "name": "stdout",
     "output_type": "stream",
     "text": [
      "Phenotype distribution:\n",
      "normal    2937\n",
      "PCa       2556\n",
      "CRPC       973\n",
      "Name: phenotype, dtype: int64\n",
      "\n",
      "Present in 67 out of 80 samples and 6 datasets.\n",
      "\n",
      "Top 20 contributing genes:\n",
      "RPS29\n",
      "HINT1\n",
      "BTG1\n",
      "RGS1\n",
      "TPSAB1\n",
      "B2M\n",
      "ZFP36\n",
      "TMSB4X\n",
      "HLA-C\n",
      "HIST1H4C\n",
      "SOCS1\n",
      "HLA-A\n",
      "RGS2\n",
      "HMGB2\n",
      "LY6E\n",
      "LGALS1\n",
      "MANF\n",
      "DUSP1\n",
      "HLA-DPB1\n",
      "CD69\n"
     ]
    }
   ],
   "source": [
    "summarize_factor(scores,'factor0',genes_dict)"
   ]
  },
  {
   "cell_type": "code",
   "execution_count": 79,
   "metadata": {},
   "outputs": [
    {
     "name": "stdout",
     "output_type": "stream",
     "text": [
      "Phenotype distribution:\n",
      "PCa       901\n",
      "normal    335\n",
      "CRPC       59\n",
      "Name: phenotype, dtype: int64\n",
      "\n",
      "Present in 58 out of 80 samples and 6 datasets.\n",
      "\n",
      "Top 20 contributing genes:\n",
      "YWHAZ\n",
      "LMNA\n",
      "VIM\n",
      "HIF1A\n",
      "MS4A2\n",
      "CPA3\n",
      "ELL2\n",
      "MYADM\n",
      "MAP3K8\n",
      "TUBB4B\n",
      "SFPQ\n",
      "NFKBIZ\n",
      "RPL17\n",
      "ACTB\n",
      "GLUL\n",
      "FOSB\n",
      "SLC2A3\n",
      "HSP90B1\n",
      "NFKB1\n",
      "SQSTM1\n"
     ]
    }
   ],
   "source": [
    "summarize_factor(scores,'factor1',genes_dict)"
   ]
  },
  {
   "cell_type": "code",
   "execution_count": 80,
   "metadata": {},
   "outputs": [],
   "source": [
    "# Rename the columns accordingly\n",
    "scores['max_factor'] = scores['max_factor'].replace('factor0', 'mast cells')\n",
    "scores['max_factor'] = scores['max_factor'].replace('factor1', 'interleukin mast cells')\n",
    "final_annotations = pd.concat([final_annotations,scores['max_factor']],axis=0)"
   ]
  },
  {
   "cell_type": "code",
   "execution_count": null,
   "metadata": {},
   "outputs": [],
   "source": []
  },
  {
   "attachments": {},
   "cell_type": "markdown",
   "metadata": {},
   "source": [
    "## Merging annotations with data"
   ]
  },
  {
   "cell_type": "code",
   "execution_count": 83,
   "metadata": {},
   "outputs": [],
   "source": [
    "final_annotations = final_annotations.rename(columns={0:'final_annotation'})"
   ]
  },
  {
   "cell_type": "code",
   "execution_count": 84,
   "metadata": {},
   "outputs": [
    {
     "data": {
      "text/plain": [
       "AnnData object with n_obs × n_vars = 327771 × 14819\n",
       "    obs: 'sample', 'patient', 'celltype_orig', 'phenotype', 'dataset', 'n_genes_by_counts', 'total_counts', 'total_counts_mt', 'pct_counts_mt', 'n_counts', 'n_genes', 'doublet_score', 'predicted_doublet', 'size_factors', 'clusters', 'broad_celltypes', '_scvi_batch', '_scvi_labels', 'VI_clusters'\n",
       "    uns: '_scvi_uuid', '_scvi_manager_uuid', 'neighbors', 'umap', 'leiden'\n",
       "    obsm: 'X_scVI', 'X_umap'\n",
       "    layers: 'counts'\n",
       "    obsp: 'distances', 'connectivities'"
      ]
     },
     "execution_count": 84,
     "metadata": {},
     "output_type": "execute_result"
    }
   ],
   "source": [
    "adata = load_from_pickle('all-scvi-integrated-7-sc-datasets.pickle')\n",
    "adata.X = adata.layers['counts'].copy()\n",
    "del adata.layers['counts']\n",
    "adata"
   ]
  },
  {
   "cell_type": "code",
   "execution_count": 89,
   "metadata": {},
   "outputs": [],
   "source": [
    "# Subset the adata to only include \n",
    "adata.obs = pd.merge(adata.obs,final_annotations,left_index=True,right_index=True,how='left')"
   ]
  },
  {
   "cell_type": "code",
   "execution_count": 95,
   "metadata": {},
   "outputs": [],
   "source": [
    "# Removing the cells with nan as cell type reference\n",
    "adata = adata[~adata.obs['final_annotation'].isna()]\n"
   ]
  },
  {
   "cell_type": "code",
   "execution_count": 105,
   "metadata": {},
   "outputs": [
    {
     "name": "stdout",
     "output_type": "stream",
     "text": [
      "NK cells                                       52596\n",
      "activated T cells                              46625\n",
      "healthy epithelial                             32370\n",
      "lipid response epithelial                      21460\n",
      "advanced malignant epithelial                  13243\n",
      "unfolded protein response endothelial cells    11310\n",
      "tumor associated myeloid cells                 10718\n",
      "early malignant epithelial                      9810\n",
      "antigen presenting macrophages                  8424\n",
      "helper T cells                                  6596\n",
      "mast cells                                      6466\n",
      "inflammatory monocytes                          6255\n",
      "lymphoid-like myeloid cells                     6215\n",
      "secreting epithelial                            5203\n",
      "plasma cells                                    4498\n",
      "stressed SMCs                                   3767\n",
      "endothelial cells                               3611\n",
      "PI3K-Akt active endothelial cells               3603\n",
      "neuronal SMCs                                   3162\n",
      "pericytes                                       3126\n",
      "ECM secreting SMCs                              2883\n",
      "cytokine signalling T cells                     2380\n",
      "angiogenesis-promoting endothelial cells        2224\n",
      "myofibroblasts                                  2032\n",
      "unfolded protein response B cells               1843\n",
      "stressed fibroblasts                            1633\n",
      "metallothionein myeloid cells                   1588\n",
      "crpc fibroblasts                                1464\n",
      "interleukin mast cells                          1295\n",
      "normal fibroblasts                              1265\n",
      "tumor suppressor fibroblasts                     606\n",
      "myocardin endothelial cells                      500\n",
      "inflammatory fibroblasts                         451\n",
      "macrophages                                      434\n",
      "NF-kB fibroblasts                                393\n",
      "epithelial-like endothelial cells                365\n",
      "dendritic cells                                  225\n",
      "SMC-like endothelial cells                       211\n",
      "antigen-presenting SMCs                          128\n",
      "antigen-presenting fibroblasts                   105\n",
      "stressed B cells                                 101\n",
      "luminal-like SMCs                                 72\n",
      "Name: final_annotation, dtype: int64\n",
      "\n",
      "The total number of different celltypes: 42\n"
     ]
    }
   ],
   "source": [
    "# Finished, annotated data\n",
    "print(adata.obs['final_annotation'].value_counts())\n",
    "print('')\n",
    "print('The total number of different celltypes: ' + str(len(adata.obs['final_annotation'].unique())))"
   ]
  },
  {
   "cell_type": "code",
   "execution_count": null,
   "metadata": {},
   "outputs": [],
   "source": [
    "adata.write('single-cell-reference-with-nmf-derived-annotations-20230511.h5ad')"
   ]
  }
 ],
 "metadata": {
  "kernelspec": {
   "display_name": "infercnvpy",
   "language": "python",
   "name": "python3"
  },
  "language_info": {
   "codemirror_mode": {
    "name": "ipython",
    "version": 3
   },
   "file_extension": ".py",
   "mimetype": "text/x-python",
   "name": "python",
   "nbconvert_exporter": "python",
   "pygments_lexer": "ipython3",
   "version": "3.8.15"
  },
  "orig_nbformat": 4
 },
 "nbformat": 4,
 "nbformat_minor": 2
}
