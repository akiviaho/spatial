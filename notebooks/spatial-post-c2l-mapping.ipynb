{
 "cells": [
  {
   "cell_type": "code",
   "execution_count": null,
   "metadata": {},
   "outputs": [],
   "source": [
    "# Date: 20.3.2023\n",
    "# Author: Antti Kiviaho\n",
    "#\n",
    "# Notebook for analysing and visualizing visium data after copy number variation, single cell mapping and clustering\n",
    "# analyses. This is the main results notebook"
   ]
  },
  {
   "attachments": {},
   "cell_type": "markdown",
   "metadata": {},
   "source": [
    "## Packages and data download"
   ]
  },
  {
   "cell_type": "code",
   "execution_count": null,
   "metadata": {},
   "outputs": [],
   "source": [
    "import os \n",
    "os.chdir('/lustre/scratch/kiviaho/prostate_spatial/')\n",
    "\n",
    "import scanpy as sc\n",
    "import numpy as np\n",
    "import squidpy as sq\n",
    "import pandas as pd\n",
    "import anndata as ad\n",
    "\n",
    "#from cell2location.utils import select_slide\n",
    "#from cell2location.plt import plot_spatial\n",
    "\n",
    "import matplotlib.pyplot as plt\n",
    "from scripts.utils import load_from_pickle, get_sample_ids\n",
    "import matplotlib as mpl\n",
    "\n",
    "import seaborn as sns\n",
    "sns.set_theme()\n",
    "\n",
    "sc.set_figure_params(figsize=(6,6))\n",
    "\n",
    "import warnings\n",
    "warnings.filterwarnings(\"ignore\")\n"
   ]
  },
  {
   "cell_type": "code",
   "execution_count": null,
   "metadata": {},
   "outputs": [],
   "source": [
    "# Download data and format cell2location mapping results into obs columns in both aggregated adata and individual slides\n",
    "#c2l-results/cell2location_map_20230322/\n",
    "adata_vis = sc.read_h5ad('./c2l-results/visium_adata_with_c2l_mapping_20230721.h5ad')\n",
    "\n",
    "adata_vis.obs.joint_leiden_clusters = adata_vis.obs.sample_id.astype(str) + '_' + adata_vis.obs.joint_leiden_clusters.astype(str)\n",
    "adata_vis.obs['joint_leiden_clusters'] = pd.Categorical(adata_vis.obs['joint_leiden_clusters'])\n",
    "\n",
    "\n",
    "adata_slides = load_from_pickle('./data/clustered_visium_data.pickle')\n",
    "samples = get_sample_ids()\n",
    "\n",
    "# Copy obsm (cell2location results) to adata object obs\n",
    "adata_vis.obs[adata_vis.uns['mod']['factor_names']] = adata_vis.obsm['q05_cell_abundance_w_sf']\n",
    "\n",
    "# Copy obsm (cell2location results) to individual slides\n",
    "for sample in samples:\n",
    "    vis_subset = adata_vis[adata_vis.obs['sample_id']==sample]\n",
    "    \n",
    "    if (vis_subset.obs_names == adata_slides[sample].obs_names).all():\n",
    "        adata_slides[sample].obsm = vis_subset.obsm.copy()\n",
    "        \n",
    "        # add 5% quantile, representing confident cell abundance, 'at least this amount is present',\n",
    "        # to adata.obs with nice names for plotting\n",
    "        adata_slides[sample].uns['mod'] = vis_subset.uns['mod'].copy()\n",
    "        adata_slides[sample].obs[adata_slides[sample].uns['mod']['factor_names']] = adata_slides[sample].obsm['q05_cell_abundance_w_sf']\n"
   ]
  },
  {
   "cell_type": "markdown",
   "metadata": {},
   "source": [
    "## Looking at T-cell receptor subunit coverage across the slides"
   ]
  },
  {
   "cell_type": "code",
   "execution_count": null,
   "metadata": {},
   "outputs": [],
   "source": [
    "import numpy as np\n",
    "\n",
    "samples = get_sample_ids()\n",
    "cd3_genes = ['CD3D','CD3E','CD247']\n",
    "n_rows = 1  # Set the number of rows and columns for the subplots\n",
    "n_cols = len(cd3_genes)\n",
    "\n",
    "for s in samples:\n",
    "    adata = adata_vis[adata_vis.obs['sample_id'] == s]\n",
    "\n",
    "    fig, axs = plt.subplots(n_rows, n_cols, figsize=(10, 3))  # Create the figure with subplots\n",
    "    fig.suptitle(s) \n",
    "\n",
    "    for i, g in enumerate(cd3_genes):\n",
    "        if g in list(adata.var.index):\n",
    "            gene_expr = adata[:,g].layers['counts'].toarray().ravel()\n",
    "            gene_expr = gene_expr[gene_expr != 0]  # Exclude 0 values\n",
    "            bins = np.arange(1, 11) - 0.5  # Define bins to center histogram bars on integer values\n",
    "            axs[i].hist(gene_expr, bins=bins)\n",
    "            axs[i].set_xticks(np.arange(1, 11))  # Set x-axis ticks from 1 to 10\n",
    "            axs[i].set_ylabel('Frequency')\n",
    "\n",
    "    plt.show()\n"
   ]
  },
  {
   "cell_type": "code",
   "execution_count": null,
   "metadata": {},
   "outputs": [],
   "source": [
    "# This code will create a 5 by 5 inches axis for each plot, \n",
    "# save them in plots/c2l_mapping_results_20230511/ with a \n",
    "# sample-specific filename, and set the dpi to 300.\n",
    "cd3_genes = ['CD3D','CD3E','CD247']\n",
    "#samples = [s for s in samples if 'CRPC' in s]\n",
    "import os\n",
    "for sample in samples:\n",
    "    slide = adata_slides[sample].copy()\n",
    "    slide.obs['CD3_sum'] = np.sum(slide[:,cd3_genes].layers['counts'].todense(),axis=1).flatten().tolist()[0]\n",
    "\n",
    "    # import matplotlib library\n",
    "    import matplotlib.pyplot as plt\n",
    "    from matplotlib.backends.backend_pdf import PdfPages\n",
    "\n",
    "    # set figure axis size and dpi\n",
    "    fig, ax = plt.subplots(figsize=(3, 3), dpi=100)\n",
    "\n",
    "    # create spatial plot\n",
    "    sc.pl.spatial(slide, cmap='viridis',\n",
    "            # show first 8 cell types\n",
    "            color='CD3_sum',size=1.3,alpha_img=0.8,\n",
    "            vmin=0, vmax=6, ax=ax, show=False, title=sample)\n",
    "\n",
    "    # create filename with sample name\n",
    "    filename = 'plots/c2l_mapping_results_20230721/cd3_expression/' + sample + '_spatial_cd3_sum_plot.pdf'\n",
    "\n",
    "    # create output folder if it doesn't exist\n",
    "    if not os.path.exists(os.path.dirname(filename)):\n",
    "        os.makedirs(os.path.dirname(filename))\n",
    "\n",
    "    # save plot to pdf with filename\n",
    "    with PdfPages(filename) as pdf:\n",
    "        pdf.savefig(fig)"
   ]
  },
  {
   "attachments": {},
   "cell_type": "markdown",
   "metadata": {},
   "source": [
    "## Visium mapping plots"
   ]
  },
  {
   "cell_type": "code",
   "execution_count": null,
   "metadata": {},
   "outputs": [],
   "source": [
    "# Plots and saves top n_types with highest prevelance on visium slides\n",
    "n_types = 12\n",
    "\n",
    "for sample in samples:\n",
    "    slide = adata_slides[sample]\n",
    "    # Subset to only plot the cell types with highest mean prevalence\n",
    "    cell_types = slide.obs.iloc[:,16:].mean(axis=0).sort_values(ascending=False)[:n_types]\n",
    "\n",
    "    # plot in spatial coordinates\n",
    "    with mpl.rc_context({'axes.facecolor':  'black',\n",
    "                        'figure.figsize': [4.5, 5]}):\n",
    "\n",
    "        sc.pl.spatial(slide, cmap='magma',\n",
    "                    # show first 8 cell types\n",
    "                    color=cell_types.index,\n",
    "                    ncols=4, size=1.3,alpha_img=0.8,\n",
    "                    # limit color scale at 99.2% quantile of cell abundance\n",
    "                    vmin=0, vmax='p99.2', show=False\n",
    "                    )\n",
    "        plt.savefig('./plots/c2l_mapping_results_20230721/'+sample+'_c2l_mapping_top12_abundant.png',dpi=200)\n",
    "        plt.clf()"
   ]
  },
  {
   "cell_type": "code",
   "execution_count": null,
   "metadata": {},
   "outputs": [],
   "source": [
    "## Side by side violin plots of abundant cell types + spatial \n",
    "\n",
    "plt.rcParams.update({'axes.titlesize': 'small'})\n",
    "\n",
    "n_types = 6\n",
    "obs_name = 'joint_leiden_clusters'\n",
    "\n",
    "for s in samples:\n",
    "\n",
    "    slide = adata_slides[s]\n",
    "\n",
    "    # Subset to only plot the cell types with highest mean prevalence\n",
    "    cell_types = slide.obs.iloc[:,16:].mean(axis=0).sort_values(ascending=False)[:n_types].index\n",
    "\n",
    "    fig = plt.figure(figsize=(12,12))\n",
    "\n",
    "    gs = fig.add_gridspec(6,3)\n",
    "    ax6 = fig.add_subplot(gs[:, 1:3])\n",
    "\n",
    "    # Plot the data in the left column subplots\n",
    "    for i in range(6):\n",
    "\n",
    "        ax_plotting = fig.add_subplot(gs[i,0])\n",
    "\n",
    "        sc.pl.violin(slide,groupby=obs_name,keys=cell_types[i],jitter=False,rotation=45,inner='box',\n",
    "                    ax=ax_plotting,show=False)\n",
    "        \n",
    "        ax_plotting.yaxis.label.set_size(12)\n",
    "        #ax_plotting.yaxis.label.set_rotation('horizontal')\n",
    "\n",
    "        if i < 5:  # only remove x-labels for the top 5 subplots on the left\n",
    "            ax_plotting.tick_params(axis='x', which='both', bottom=False, labelbottom=False) \n",
    "\n",
    "    sc.pl.spatial(adata_slides[s],color='joint_leiden_clusters',size=1.3,ax=ax6)\n",
    "\n",
    "    fig.savefig('./plots/c2l_mapping_results_20230721/'+s+'_cell_type_prevalences_per_cluster.png')\n",
    "    fig.clf()\n",
    "\n"
   ]
  },
  {
   "cell_type": "code",
   "execution_count": null,
   "metadata": {},
   "outputs": [],
   "source": [
    "cell_types = ['luminal-like epithelium', 'ERG tumor epithelium', 'inflammatory fibroblasts','myofibroblasts']\n",
    "cell_types2 = ['basal-like epithelium', 'prostaglandind active epithelium','antigen presenting fibroblasts','pericytes']\n",
    "\n",
    "for sample in samples:\n",
    "    slide = adata_slides[sample]\n",
    "    fig, axs = plt.subplots(2, 4, sharey='row')\n",
    "    for i, cell_type in enumerate(cell_types):\n",
    "        axs[0, i].set_ylim([0, 20])\n",
    "        sc.pl.violin(slide, groupby='joint_leiden_clusters', keys=cell_type, jitter=False,\n",
    "            rotation=45, inner='box', show=False, ax=axs[0, i])\n",
    "    for i, cell_type in enumerate(cell_types2):\n",
    "        axs[1, i].set_ylim([0, 10])\n",
    "        sc.pl.violin(slide, groupby='joint_leiden_clusters', keys=cell_type, jitter=False,\n",
    "            rotation=45, inner='box', show=False, ax=axs[1, i])\n",
    "    plt.gcf().set_size_inches(16, 8)\n",
    "    plt.savefig(os.path.join('plots/c2l_mapping_results_20230621', f'{sample}_8_celltypes_violinplots.pdf'))\n",
    "    plt.clf()\n"
   ]
  },
  {
   "attachments": {},
   "cell_type": "markdown",
   "metadata": {},
   "source": [
    "## Secondary analysis of the cell type mapping numbers"
   ]
  },
  {
   "cell_type": "code",
   "execution_count": 6,
   "metadata": {},
   "outputs": [
    {
     "name": "stdout",
     "output_type": "stream",
     "text": [
      "Inferred cell counts copied!\n"
     ]
    }
   ],
   "source": [
    "# Creating an anndata-structure for inferred cell numbers\n",
    "\n",
    "# Filters if necessary\n",
    "ctypes = adata_vis.uns['mod']['factor_names']\n",
    "#ctypes = [ctype for ctype in ctypes if 'epithelial' in ctype or 'fibroblast' in ctype]\n",
    "\n",
    "cell_mapping_dat = sc.AnnData(adata_vis.obs[ctypes])\n",
    "if (cell_mapping_dat.obs.index == adata_vis.obs.index).all():\n",
    "    cell_mapping_dat.obs = adata_vis.obs[['sample_id','joint_leiden_clusters']]\n",
    "\n",
    "\n",
    "if (adata_vis.obs.index == cell_mapping_dat.obs.index).all():\n",
    "    adata_vis.obs['inferred_cell_counts'] = np.round(np.sum(cell_mapping_dat.X,axis=1),0).tolist()\n",
    "    print('Inferred cell counts copied!')\n",
    "\n",
    "\n",
    "# extract first string before '-' or '_'\n",
    "cell_mapping_dat.obs['phenotype'] = cell_mapping_dat.obs['sample_id'].str.extract('([^\\-_]+)', expand=False)\n",
    "\n",
    "cell_mapping_dat.layers['counts'] = cell_mapping_dat.X.copy()\n",
    "sc.pp.normalize_total(cell_mapping_dat)\n"
   ]
  },
  {
   "cell_type": "code",
   "execution_count": 8,
   "metadata": {},
   "outputs": [
    {
     "data": {
      "text/plain": [
       "AnnData object with n_obs × n_vars = 101869 × 41\n",
       "    obs: 'sample_id', 'joint_leiden_clusters', 'phenotype'\n",
       "    layers: 'counts'"
      ]
     },
     "execution_count": 8,
     "metadata": {},
     "output_type": "execute_result"
    }
   ],
   "source": [
    "cell_mapping_dat"
   ]
  },
  {
   "cell_type": "code",
   "execution_count": 7,
   "metadata": {},
   "outputs": [
    {
     "data": {
      "text/plain": [
       "AnnData object with n_obs × n_vars = 101869 × 11334\n",
       "    obs: 'in_tissue', 'array_row', 'array_col', 'n_genes_by_counts', 'log1p_n_genes_by_counts', 'total_counts', 'log1p_total_counts', 'pct_counts_in_top_50_genes', 'pct_counts_in_top_100_genes', 'pct_counts_in_top_200_genes', 'pct_counts_in_top_500_genes', 'n_counts', 'size_factors', 'sample_id', 'joint_leiden_clusters', '_indices', '_scvi_batch', '_scvi_labels', 'B cells', 'CD16+ NK cells', 'CD16- NK cells', 'Classical monocytes', 'DC', 'DC2', 'ERG tumor epithelium', 'FOSL1 tumor epithelium', 'Follicular helper T cells', 'Macrophages', 'Mast cells', 'Memory B cells', 'Monocytes', 'NK cells', 'Naive B cells', 'Non-classical monocytes', 'Plasma cells', 'Regulatory T cells', 'Tcm/Naive cytotoxic T cells', 'Tcm/Naive helper T cells', 'Tem/Effector helper T cells', 'Tem/Temra cytotoxic T cells', 'Tem/Trm cytotoxic T cells', 'Trm cytotoxic T cells', 'Type 1 helper T cells', 'Type 17 helper T cells', 'angiogenic endothelium', 'capillary venous endothelium', 'chaperone response endothelium', 'chaperone response epithelium', 'chaperone response fibroblasts', 'cycling epithelium', 'inflammatory fibroblasts', 'interferon signaling epithelium', 'intermediate CRPC epithelium', 'luminal epithelium', 'mesenchymal epithelium', 'myofibroblasts', 'normal basal epithelium', 'stress response fibroblasts', 'stress signaling epithelium', 'inferred_cell_counts'\n",
       "    uns: '_scvi_manager_uuid', '_scvi_uuid', 'mod'\n",
       "    obsm: 'X_pca', 'means_cell_abundance_w_sf', 'q05_cell_abundance_w_sf', 'q95_cell_abundance_w_sf', 'spatial', 'stds_cell_abundance_w_sf'\n",
       "    layers: 'counts'"
      ]
     },
     "execution_count": 7,
     "metadata": {},
     "output_type": "execute_result"
    }
   ],
   "source": [
    "adata_vis"
   ]
  },
  {
   "cell_type": "code",
   "execution_count": null,
   "metadata": {},
   "outputs": [],
   "source": [
    "sc.pp.pca(cell_mapping_dat)\n",
    "sc.pp.neighbors(cell_mapping_dat)\n",
    "sc.tl.umap(cell_mapping_dat)\n",
    "sc.tl.leiden(cell_mapping_dat,key_added='mapping_based_clusters', resolution=0.3)"
   ]
  },
  {
   "cell_type": "code",
   "execution_count": null,
   "metadata": {},
   "outputs": [],
   "source": [
    "sc.set_figure_params(figsize=(6,6))\n",
    "sc.pl.umap(cell_mapping_dat,color='mapping_based_clusters',s=8)"
   ]
  },
  {
   "cell_type": "code",
   "execution_count": null,
   "metadata": {},
   "outputs": [],
   "source": [
    "# Save the data (just plots below)\n",
    "cell_mapping_dat.write('c2l_mapping_as_anndata_20230721.h5ad')"
   ]
  },
  {
   "cell_type": "code",
   "execution_count": null,
   "metadata": {},
   "outputs": [],
   "source": [
    "import matplotlib.pyplot as plt\n",
    "\n",
    "sc.set_figure_params(scanpy=True, fontsize=8,frameon=True)\n",
    "\n",
    "for mapping_cl in list(cell_mapping_dat.obs['mapping_based_clusters'].cat.categories):\n",
    "    slide = cell_mapping_dat[cell_mapping_dat.obs['mapping_based_clusters'] == mapping_cl]\n",
    "\n",
    "    # Extract the top 5 most prevalent cell types in this cluster\n",
    "    cell_types = list(slide.var_names[np.argsort(slide.X.mean(axis=0))[::-1][:5]])\n",
    "\n",
    "    fig, axs = plt.subplots(1, 5, sharey='row', figsize=(8,4))\n",
    "    fig.suptitle('Top 5 most prevalent cell types for cluster ' + mapping_cl, fontsize=14)\n",
    "    for i, cell_type in enumerate(cell_types):\n",
    "\n",
    "        plot_dat = slide.copy()\n",
    "        plot_dat.obs['mapping_based_clusters'] = plot_dat.obs['mapping_based_clusters'].replace({mapping_cl:cell_type})\n",
    "\n",
    "        axs[i].set_ylim([0, int(np.max(plot_dat.X))])\n",
    "\n",
    "        sc.pl.violin(plot_dat,\n",
    "                    groupby='mapping_based_clusters', keys=cell_type, jitter=False, inner='box', show=False, ax=axs[i],\n",
    "                    title=mapping_cl,xlabel='',ylabel='',rotation=15,palette='Greys')\n",
    "\n",
    "    plt.savefig(os.path.join('plots/c2l_mapping_results_20230712/mapping_based_clusters/', f'{mapping_cl}_cluster_celltypes_violinplots.pdf'))\n",
    "    plt.clf()\n"
   ]
  },
  {
   "cell_type": "code",
   "execution_count": null,
   "metadata": {},
   "outputs": [],
   "source": [
    "def generate_colors(n_colors=17):\n",
    "    import colorsys\n",
    "\n",
    "    #define number of colors to generate\n",
    "    num_colors = 37\n",
    "\n",
    "    #initialize hue, saturation and value\n",
    "    hue = 0\n",
    "    saturation = 0.5\n",
    "    value = 0.95\n",
    "\n",
    "    #empty list to store colors\n",
    "    colors = []\n",
    "\n",
    "    #generate colors\n",
    "    for i in range(num_colors):\n",
    "        hue = (hue + 0.618033988749895) % 1.0 \n",
    "        r, g, b = colorsys.hsv_to_rgb(hue, saturation, value)\n",
    "        color = (r, g, b)\n",
    "        colors.append(color)\n",
    "\n",
    "    #convert to Seaborn color palette\n",
    "    sns_palette = sns.color_palette(colors)\n",
    "\n",
    "    return(sns_palette)\n",
    "\n",
    "\n",
    "def plot_stacked_bar(data,sum_variable='phenotype',plot_variable='VI_clusters',filter_kw='',plot_legend=False):\n",
    "\n",
    "    cud_palette = generate_colors(len(np.unique(data.obs[sum_variable])))\n",
    "    sns.set_palette(cud_palette)\n",
    "\n",
    "    \n",
    "    plot_data = data.obs[[sum_variable,plot_variable]]\n",
    "\n",
    "    plot_data = plot_data.groupby(sum_variable)[plot_variable].value_counts()\n",
    "    plot_data = plot_data.unstack(sum_variable)\n",
    "    plot_data = plot_data.div(plot_data.sum(axis=1), axis=0)\n",
    "\n",
    "    # Order according to decreasing number of sample represented\n",
    "    plot_data = plot_data.sort_index(ascending=False)\n",
    "    \n",
    "    if plot_legend == True:\n",
    "        plot_data.plot.barh(stacked=True,figsize=(10,10),grid=False).legend(loc='center left',bbox_to_anchor=(1.0, 0.5))\n",
    "    else:\n",
    "        plot_data.plot.barh(stacked=True,figsize=(10,10),grid=False,legend=False,sort_columns=False)\n",
    "    return plot_data\n"
   ]
  },
  {
   "cell_type": "code",
   "execution_count": null,
   "metadata": {},
   "outputs": [],
   "source": [
    "sc.set_figure_params(scanpy=True, fontsize=12,frameon=True)\n",
    "plot_dat = plot_stacked_bar(cell_mapping_dat,sum_variable='sample_id',plot_variable='mapping_based_clusters',plot_legend=True)"
   ]
  },
  {
   "cell_type": "code",
   "execution_count": null,
   "metadata": {},
   "outputs": [],
   "source": [
    "for s in samples:\n",
    "    vis_subset = cell_mapping_dat[cell_mapping_dat.obs['sample_id']==s]\n",
    "    if (vis_subset.obs_names == adata_slides[s].obs_names).all():\n",
    "        adata_slides[s].obs['mapping_based_clusters'] = vis_subset.obs['mapping_based_clusters'].copy()\n",
    "\n",
    "    # calculating neighborhood enrichments on a per sample basis\n",
    "    sq.gr.spatial_neighbors(adata_slides[s])\n",
    "    sq.gr.nhood_enrichment(adata_slides[s], cluster_key=\"mapping_based_clusters\",show_progress_bar=False)\n"
   ]
  },
  {
   "cell_type": "code",
   "execution_count": null,
   "metadata": {},
   "outputs": [],
   "source": [
    "#sq.pl.nhood_enrichment(adata_slides[samples[0]],cluster_key='mapping_based_clusters')"
   ]
  },
  {
   "cell_type": "code",
   "execution_count": null,
   "metadata": {},
   "outputs": [],
   "source": []
  },
  {
   "cell_type": "code",
   "execution_count": null,
   "metadata": {},
   "outputs": [],
   "source": [
    "# Plotting the cluster-averaged cell counts into a heatmap for easier interpretation\n",
    "ctype_start = 0\n",
    "n_ctypes = 15\n",
    "n_cells_col_cap = 3\n",
    "\n",
    "# Take 10 most prevalent cell types and use them for the heatmap\n",
    "#heatmap_vars = np.array(cell_mapping_dat.var_names[np.argsort(np.sum(\n",
    "#    cell_mapping_dat.X,axis=0))[::-1]])[ctype_start:ctype_start + n_ctypes]\n",
    "\n",
    "# Backup for taking specific cell types\n",
    "heatmap_vars = [x for x in cell_mapping_dat.var_names if \"fibro\" in x] # Fibroblasts etc.\n",
    "\n",
    "\n",
    "# Convert X and annotations to pandas DataFrame\n",
    "df = pd.DataFrame(cell_mapping_dat.X)\n",
    "df.columns = cell_mapping_dat.var_names\n",
    "df = df[heatmap_vars]\n",
    "\n",
    "# Extract sample names from index values\n",
    "sample_names = adata_vis.obs['sample_id']\n",
    "\n",
    "# Create a dictionary that maps each sample name to a color\n",
    "color_map = {sample: sns.color_palette()[i] for i, sample in enumerate(sorted(set(sample_names)))}\n",
    "\n",
    "# Use the color_map dictionary to assign colors to each index value\n",
    "colors = [color_map[sample_name] for sample_name in sample_names]\n",
    "\n",
    "sns.clustermap(df.T, col_colors=colors, cmap='magma', z_score=1,\n",
    "                vmax=n_cells_col_cap, figsize=(12,6), xticklabels=False)\n"
   ]
  },
  {
   "cell_type": "code",
   "execution_count": null,
   "metadata": {},
   "outputs": [],
   "source": [
    "# Plotting the cluster-averaged cell counts into a heatmap for easier interpretation\n",
    "ctype_start = 0\n",
    "n_ctypes = 15\n",
    "n_cells_col_cap = 3\n",
    "\n",
    "# Take 10 most prevalent cell types and use them for the heatmap\n",
    "#heatmap_vars = np.array(cell_mapping_dat.var_names[np.argsort(np.sum(\n",
    "#    cell_mapping_dat.X,axis=0))[::-1]])[ctype_start:ctype_start + n_ctypes]\n",
    "\n",
    "# Backup for taking specific cell types\n",
    "heatmap_vars = [x for x in cell_mapping_dat.var_names if \"fibro\" in x]\n",
    "\n",
    "\n",
    "# Convert X and annotations to pandas DataFrame\n",
    "df = pd.DataFrame(cell_mapping_dat.X)\n",
    "df['cluster'] = cell_mapping_dat.obs['joint_leiden_clusters'].tolist()\n",
    "#df['sample_id'] = cell_mapping_dat.obs['sample_id']\n",
    "\n",
    "# Group rows by their annotation values and calculate the average of each group\n",
    "averaged_df = df.groupby('cluster').mean()\n",
    "averaged_df.columns = cell_mapping_dat.var_names\n",
    "\n",
    "averaged_df = averaged_df[heatmap_vars]\n",
    "\"\"\" \n",
    "# Extract sample names from index values\n",
    "sample_names = ['_'.join(index.split(\"_\")[:-1]) for index in averaged_df.index]\n",
    "\n",
    "# Create a dictionary that maps each sample name to a color\n",
    "color_map = {sample: sns.color_palette()[i] for i, sample in enumerate(sorted(set(sample_names)))}\n",
    "\n",
    "# Use the color_map dictionary to assign colors to each index value\n",
    "colors = [color_map[sample_name] for sample_name in sample_names]\n",
    " \"\"\"\n",
    "sns.clustermap(averaged_df.T, #col_colors=colors,\n",
    "                cmap='magma', z_score=1,\n",
    "                vmax=n_cells_col_cap, figsize=(12,6), xticklabels=False)\n"
   ]
  },
  {
   "cell_type": "code",
   "execution_count": null,
   "metadata": {},
   "outputs": [],
   "source": [
    "import matplotlib.pyplot as plt\n",
    "from matplotlib.patches import Patch\n",
    "\n",
    "# Create an empty plot\n",
    "fig, ax = plt.subplots()\n",
    "\n",
    "# Create a list of labels and colors\n",
    "legend_labels = list(color_map.keys())\n",
    "legend_colors = list(color_map.values())\n",
    "\n",
    "# Convert the float tuples to valid RGB color strings\n",
    "colors = ['#%02x%02x%02x' % tuple(int(255*x) for x in color) for color in legend_colors]\n",
    "\n",
    "# Create color patches for each label\n",
    "patches = [Patch(color=color, label=label) for color, label in zip(colors, legend_labels)]\n",
    "\n",
    "# Add the legend to the plot\n",
    "ax.legend(handles=patches, prop={\"size\": 10}, loc='best', framealpha=1, edgecolor='black', facecolor='white',\n",
    "          title='Legend Title', labelcolor='black', fancybox=True, shadow=True,  bbox_to_anchor=(1.05, 1))\n",
    "\n",
    "# Show the plot\n",
    "plt.show()\n"
   ]
  },
  {
   "attachments": {},
   "cell_type": "markdown",
   "metadata": {},
   "source": [
    "## Spatial Leiden cluster merging "
   ]
  },
  {
   "cell_type": "code",
   "execution_count": null,
   "metadata": {},
   "outputs": [],
   "source": [
    "from sklearn.metrics import silhouette_score, pairwise_distances\n",
    "\n",
    "# Define functions\n",
    "\n",
    "## Calclulates the euclidean distance on cluster level yield to information about which clusters are closest to each other\n",
    "def calculate_distances(cluster_means_df,n_closest=5):\n",
    "    closest_names = np.empty((0,n_closest))\n",
    "    closest_dist = np.empty((0,n_closest))\n",
    "\n",
    "    for idx in range (len(cluster_means_df)):\n",
    "\n",
    "        # Divide the df into the query (1 cluster) and the rest\n",
    "        comparison_dat = cluster_means_df.iloc[idx]\n",
    "        rest_of_the_dat = cluster_means_df.drop(index=[cluster_means_df.index[idx]])\n",
    "\n",
    "        # Repeat one row to match the shape of the rest\n",
    "        comparison_dat_reshaped = np.tile(comparison_dat,(rest_of_the_dat.shape[0],1))\n",
    "        res = np.linalg.norm(rest_of_the_dat-comparison_dat_reshaped,axis=1)\n",
    "        matches = np.asarray(list(rest_of_the_dat.index[np.argsort(res)[:n_closest]]))\n",
    "\n",
    "        # Stack names and distances of closest matches\n",
    "        closest_names = np.vstack([closest_names,matches])\n",
    "        closest_dist = np.vstack([closest_dist,np.sort(res)[:n_closest]])\n",
    "\n",
    "    # Convert to dataframes for easy slicing\n",
    "    closest_names = pd.DataFrame(closest_names,index=cluster_means_df.index)\n",
    "    closest_dist = pd.DataFrame(closest_dist,index=cluster_means_df.index)\n",
    "    return(closest_names,closest_dist)\n",
    "\n",
    "# Compare sample names of the index and the first column to find if the nearest cluster is from another sample. Only keep those\n",
    "def find_nearest_neighbors(df):\n",
    "    slices = []\n",
    "    for idx in range(len(df)):\n",
    "        if (('_').join(df.index[idx].split('_')[:-1]) != \n",
    "        ('_').join(df[0][idx].split('_')[:-1])):\n",
    "            slices.append(idx)\n",
    "\n",
    "    # These are the spatial clusters with different sample nearest cluster\n",
    "    return(df.iloc[slices])\n",
    "\n",
    "# Keep clusters that are mutual nearest neighbors (MNN)\n",
    "def find_mnn_clusters(df):\n",
    "    slices = []\n",
    "    for idx in range(len(df)):\n",
    "        if (df[0][idx] in df.index):\n",
    "            if df.loc[df[0][idx]][0] == df.index[idx]:\n",
    "                if df[0][idx] not in df.iloc[slices].index:\n",
    "                    slices.append(idx)\n",
    "\n",
    "    # These are the spatial clusters with mutual nearest neighbors\n",
    "    return(df.iloc[slices])\n",
    "\n",
    "def sample_is_duplicated(to_check,lst):\n",
    "    found = False\n",
    "    for element in lst:\n",
    "        if to_check[:-2] in element:\n",
    "            found = True\n",
    "            break\n",
    "\n",
    "    return found\n",
    "\n",
    "\n",
    "    "
   ]
  },
  {
   "cell_type": "code",
   "execution_count": null,
   "metadata": {},
   "outputs": [],
   "source": [
    "data_to_use = cell_mapping_dat\n",
    "\n",
    "# Extracts spot level mapping values and averages to cluster level for mutual nearest neighbor comparison\n",
    "spot_lvl_data = pd.DataFrame(data_to_use.X,index=data_to_use.obs_names)\n",
    "spot_lvl_data['spatial_cluster'] = data_to_use.obs['joint_leiden_clusters'].copy()\n",
    "spot_lvl_labs = data_to_use.obs['joint_leiden_clusters'].copy()\n",
    "\n",
    "# Speed up the analysis by precomputing a distance matrix\n",
    "#distance_array = pairwise_distances(cell_mapping_dat.X)\n",
    "#ref_score = silhouette_score(distance_array,spot_lvl_labs,metric='precomputed')\n",
    "ref_score = -1 # If the reference score is set to -1, we effectively lose the silhouette score if-clause\n",
    "\n",
    "# A mapping-based clustering silhouette score is -0.23051132\n"
   ]
  },
  {
   "cell_type": "code",
   "execution_count": null,
   "metadata": {},
   "outputs": [],
   "source": [
    "def is_score_ok(new_labs,df=distance_array, reference = ref_score):\n",
    "    '''\n",
    "    Checks the silhouette score of new clustering labels and compares them to a reference of \n",
    "    the original clustering\n",
    "    '''\n",
    "    new_score = silhouette_score(df,new_labs,metric='precomputed')\n",
    "    if new_score > reference:\n",
    "        return(True)\n",
    "    else:\n",
    "        return(False)"
   ]
  },
  {
   "cell_type": "code",
   "execution_count": null,
   "metadata": {},
   "outputs": [],
   "source": [
    "# Take the cluster back to the original, unmerged leiden clusters\n",
    "spot_lvl_data['merged_clusters'] = spot_lvl_data['spatial_cluster']\n",
    "cluster_idx = 1\n",
    "modified_clusters = dict()\n",
    "len(spot_lvl_data['merged_clusters'].unique())"
   ]
  },
  {
   "cell_type": "code",
   "execution_count": null,
   "metadata": {},
   "outputs": [],
   "source": [
    "## Iterate below code ###"
   ]
  },
  {
   "cell_type": "code",
   "execution_count": null,
   "metadata": {},
   "outputs": [],
   "source": [
    "spot_lvl_labs = spot_lvl_data['merged_clusters'].copy()\n",
    "\n",
    "# Calculate cluster means in the cell mapping space\n",
    "cluster_lvl_dat = spot_lvl_data.groupby('merged_clusters').mean()\n",
    "\n",
    "# Calculate euclidean distance between the clusters\n",
    "names, dist = calculate_distances(cluster_lvl_dat)\n",
    "\n",
    "# Find MNN clusters that are from different samples\n",
    "filtered_names = find_nearest_neighbors(names)\n",
    "cluster_pairs = find_mnn_clusters(filtered_names)\n",
    "cluster_pairs"
   ]
  },
  {
   "cell_type": "code",
   "execution_count": null,
   "metadata": {},
   "outputs": [],
   "source": [
    "# Find mergeable clusters by checking different conditions\n",
    "# Iterate over the clusters\n",
    "for idx in range(len(cluster_pairs)):\n",
    "    inst_1 = str(cluster_pairs.index[idx])\n",
    "    inst_2 = str(cluster_pairs.iloc[idx][0])\n",
    "    message = (inst_1 + ' <--> ' + inst_2 + ' merged')\n",
    "\n",
    "    # Check if the index is already a merged cluster\n",
    "    if inst_1 in modified_clusters.keys():\n",
    "\n",
    "        ## This needs to fixed to check whether the dict member contains same sample clusters already!!\n",
    "\n",
    "        if not sample_is_duplicated(inst_2,modified_clusters[inst_1]):# & is_score_ok(spot_lvl_labs.replace(replaced,'test_cluster')):\n",
    "            print(message)\n",
    "            modified_clusters[inst_1].append(inst_2)\n",
    "            print('option1')\n",
    "\n",
    "    # Check if the index is already a merged cluster\n",
    "    elif inst_2 in modified_clusters.keys():\n",
    "        ## This needs to fixed to check whether the dict member contains same sample clusters already!!\n",
    "        if not sample_is_duplicated(inst_1,modified_clusters[inst_2]):# & is_score_ok(spot_lvl_labs.replace(replaced,'test_cluster')):\n",
    "            print(message)\n",
    "            modified_clusters[inst_2].append(inst_1)\n",
    "            print('option2')\n",
    "    \n",
    "    # If neither is a modified cluster, create a new cluster and save it\n",
    "    if inst_2 not in modified_clusters.keys() and inst_1 not in modified_clusters.keys():\n",
    "        print(message)\n",
    "        modified_clusters['joint_cluster'+str(cluster_idx)] = [inst_1,inst_2]\n",
    "        cluster_idx+=1\n",
    "        print('option3')\n",
    "\n",
    "for k in modified_clusters.keys():\n",
    "    spot_lvl_data['merged_clusters'] = spot_lvl_data['merged_clusters'].replace(modified_clusters[k],k)\n"
   ]
  }
 ],
 "metadata": {
  "kernelspec": {
   "display_name": "Python 3 (ipykernel)",
   "language": "python",
   "name": "python3"
  },
  "language_info": {
   "codemirror_mode": {
    "name": "ipython",
    "version": 3
   },
   "file_extension": ".py",
   "mimetype": "text/x-python",
   "name": "python",
   "nbconvert_exporter": "python",
   "pygments_lexer": "ipython3",
   "version": "3.8.15"
  },
  "orig_nbformat": 4
 },
 "nbformat": 4,
 "nbformat_minor": 2
}
