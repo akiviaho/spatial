{
 "cells": [
  {
   "cell_type": "code",
   "execution_count": null,
   "metadata": {},
   "outputs": [],
   "source": [
    "# Date: 20.3.2023\n",
    "# Author: Antti Kiviaho\n",
    "#\n",
    "# Notebook for analysing and visualizing visium data after copy number variation, single cell mapping and clustering\n",
    "# analyses. This is the main results notebook"
   ]
  },
  {
   "attachments": {},
   "cell_type": "markdown",
   "metadata": {},
   "source": [
    "## Packages and data download"
   ]
  },
  {
   "cell_type": "code",
   "execution_count": 1,
   "metadata": {},
   "outputs": [],
   "source": [
    "import os \n",
    "os.chdir('/lustre/scratch/kiviaho/prostate_spatial/')\n",
    "\n",
    "import scanpy as sc\n",
    "import numpy as np\n",
    "import squidpy as sq\n",
    "import pandas as pd\n",
    "import anndata as ad\n",
    "\n",
    "import matplotlib.pyplot as plt\n",
    "from scripts.utils import load_from_pickle, get_sample_ids, get_sample_id_mask\n",
    "import matplotlib as mpl\n",
    "from sklearn.decomposition import NMF\n",
    "\n",
    "import seaborn as sns\n",
    "sns.set_theme()\n",
    "\n",
    "sc.set_figure_params(figsize=(6,6))\n",
    "\n",
    "import warnings\n",
    "warnings.filterwarnings(\"ignore\")\n",
    "\n",
    "\n",
    "\n",
    "adata_slides = load_from_pickle('./data/clustered_visium_data.pickle')\n",
    "samples = get_sample_ids()\n",
    "\n",
    "# Change the run_name variable to select the appropriate iteration\n",
    "run_name = '20230908'\n",
    "\n",
    "\n"
   ]
  },
  {
   "cell_type": "code",
   "execution_count": 21,
   "metadata": {},
   "outputs": [],
   "source": [
    "# Added 13.12.2023\n",
    "# Rename some of the more ambiguous cell names\n",
    "# NOT YEAT IMPLEMENTED IN THE UPPER PART OF THIS SCRIPT (plotting etc.)\n",
    "\n",
    "cell_type_renaming_dict = {\n",
    "    'mesenchymal epithelium':'sensescent epithelium',\n",
    "    'interferon signaling epithelium':'club_interferon response epithelium',\n",
    "    'cancer epithelium':'tumor',\n",
    "    'intermediate CRPC epithelium':'cycling epithelium 1',\n",
    "    'cycling epithelium':'cycling epithelium 2',\n",
    "    'FOSL1 tumor epithelium':'FOSL1 related epithelium',\n",
    "    'fibroblasts':'fibroblast'\n",
    "    }\n",
    "\n",
    "\n",
    "#cell_mapping_dat.var.index = pd.Index(pd.Series(cell_mapping_dat.var.index).replace(cell_type_renaming_dict))"
   ]
  },
  {
   "cell_type": "code",
   "execution_count": 22,
   "metadata": {},
   "outputs": [],
   "source": [
    "# Download data and format cell2location mapping results into obs columns in both aggregated adata and individual slides\n",
    "adata_vis = sc.read_h5ad('./c2l-results/visium_adata_with_c2l_mapping_'+run_name+'.h5ad')\n",
    "\n",
    "adata_vis.obs.joint_leiden_clusters = adata_vis.obs.sample_id.astype(str) + '_' + adata_vis.obs.joint_leiden_clusters.astype(str)\n",
    "adata_vis.obs['joint_leiden_clusters'] = pd.Categorical(adata_vis.obs['joint_leiden_clusters'])\n",
    "\n",
    "# Copy obsm (cell2location results) to adata object obs\n",
    "adata_vis.obs[adata_vis.uns['mod']['factor_names']] = adata_vis.obsm['q05_cell_abundance_w_sf']\n",
    "\n",
    "# Copy obsm (cell2location results) to individual slides\n",
    "for sample in samples:\n",
    "    vis_subset = adata_vis[adata_vis.obs['sample_id']==sample]\n",
    "    \n",
    "    if (vis_subset.obs_names == adata_slides[sample].obs_names).all():\n",
    "        adata_slides[sample].obsm = vis_subset.obsm.copy()\n",
    "        \n",
    "        # add 5% quantile, representing confident cell abundance, 'at least this amount is present',\n",
    "        # to adata.obs with nice names for plotting\n",
    "        adata_slides[sample].uns['mod'] = vis_subset.uns['mod'].copy()\n",
    "        adata_slides[sample].obs[adata_slides[sample].uns['mod']['factor_names']] = adata_slides[sample].obsm['q05_cell_abundance_w_sf']\n"
   ]
  },
  {
   "attachments": {},
   "cell_type": "markdown",
   "metadata": {},
   "source": [
    "\n",
    "## Visium mapping plots"
   ]
  },
  {
   "cell_type": "code",
   "execution_count": 27,
   "metadata": {},
   "outputs": [
    {
     "data": {
      "text/plain": [
       "<Figure size 1537.92x1080 with 0 Axes>"
      ]
     },
     "metadata": {},
     "output_type": "display_data"
    },
    {
     "data": {
      "text/plain": [
       "<Figure size 1537.92x1080 with 0 Axes>"
      ]
     },
     "metadata": {},
     "output_type": "display_data"
    },
    {
     "data": {
      "text/plain": [
       "<Figure size 1537.92x1080 with 0 Axes>"
      ]
     },
     "metadata": {},
     "output_type": "display_data"
    },
    {
     "data": {
      "text/plain": [
       "<Figure size 1537.92x1080 with 0 Axes>"
      ]
     },
     "metadata": {},
     "output_type": "display_data"
    },
    {
     "data": {
      "text/plain": [
       "<Figure size 1537.92x1080 with 0 Axes>"
      ]
     },
     "metadata": {},
     "output_type": "display_data"
    },
    {
     "data": {
      "text/plain": [
       "<Figure size 1537.92x1080 with 0 Axes>"
      ]
     },
     "metadata": {},
     "output_type": "display_data"
    },
    {
     "data": {
      "text/plain": [
       "<Figure size 1537.92x1080 with 0 Axes>"
      ]
     },
     "metadata": {},
     "output_type": "display_data"
    },
    {
     "data": {
      "text/plain": [
       "<Figure size 1537.92x1080 with 0 Axes>"
      ]
     },
     "metadata": {},
     "output_type": "display_data"
    },
    {
     "data": {
      "text/plain": [
       "<Figure size 1537.92x1080 with 0 Axes>"
      ]
     },
     "metadata": {},
     "output_type": "display_data"
    },
    {
     "data": {
      "text/plain": [
       "<Figure size 1537.92x1080 with 0 Axes>"
      ]
     },
     "metadata": {},
     "output_type": "display_data"
    },
    {
     "data": {
      "text/plain": [
       "<Figure size 1537.92x1080 with 0 Axes>"
      ]
     },
     "metadata": {},
     "output_type": "display_data"
    },
    {
     "data": {
      "text/plain": [
       "<Figure size 1537.92x1080 with 0 Axes>"
      ]
     },
     "metadata": {},
     "output_type": "display_data"
    },
    {
     "data": {
      "text/plain": [
       "<Figure size 1537.92x1080 with 0 Axes>"
      ]
     },
     "metadata": {},
     "output_type": "display_data"
    },
    {
     "data": {
      "text/plain": [
       "<Figure size 1537.92x1080 with 0 Axes>"
      ]
     },
     "metadata": {},
     "output_type": "display_data"
    },
    {
     "data": {
      "text/plain": [
       "<Figure size 1537.92x1080 with 0 Axes>"
      ]
     },
     "metadata": {},
     "output_type": "display_data"
    },
    {
     "data": {
      "text/plain": [
       "<Figure size 1537.92x1080 with 0 Axes>"
      ]
     },
     "metadata": {},
     "output_type": "display_data"
    },
    {
     "data": {
      "text/plain": [
       "<Figure size 1537.92x1080 with 0 Axes>"
      ]
     },
     "metadata": {},
     "output_type": "display_data"
    },
    {
     "data": {
      "text/plain": [
       "<Figure size 1537.92x1080 with 0 Axes>"
      ]
     },
     "metadata": {},
     "output_type": "display_data"
    },
    {
     "data": {
      "text/plain": [
       "<Figure size 1537.92x1080 with 0 Axes>"
      ]
     },
     "metadata": {},
     "output_type": "display_data"
    },
    {
     "data": {
      "text/plain": [
       "<Figure size 1537.92x1080 with 0 Axes>"
      ]
     },
     "metadata": {},
     "output_type": "display_data"
    },
    {
     "data": {
      "text/plain": [
       "<Figure size 1537.92x1080 with 0 Axes>"
      ]
     },
     "metadata": {},
     "output_type": "display_data"
    },
    {
     "data": {
      "text/plain": [
       "<Figure size 1537.92x1080 with 0 Axes>"
      ]
     },
     "metadata": {},
     "output_type": "display_data"
    },
    {
     "data": {
      "text/plain": [
       "<Figure size 1537.92x1080 with 0 Axes>"
      ]
     },
     "metadata": {},
     "output_type": "display_data"
    },
    {
     "data": {
      "text/plain": [
       "<Figure size 1537.92x1080 with 0 Axes>"
      ]
     },
     "metadata": {},
     "output_type": "display_data"
    },
    {
     "data": {
      "text/plain": [
       "<Figure size 1537.92x1080 with 0 Axes>"
      ]
     },
     "metadata": {},
     "output_type": "display_data"
    },
    {
     "data": {
      "text/plain": [
       "<Figure size 1537.92x1080 with 0 Axes>"
      ]
     },
     "metadata": {},
     "output_type": "display_data"
    },
    {
     "data": {
      "text/plain": [
       "<Figure size 1537.92x1080 with 0 Axes>"
      ]
     },
     "metadata": {},
     "output_type": "display_data"
    },
    {
     "data": {
      "text/plain": [
       "<Figure size 1537.92x1080 with 0 Axes>"
      ]
     },
     "metadata": {},
     "output_type": "display_data"
    },
    {
     "data": {
      "text/plain": [
       "<Figure size 1537.92x1080 with 0 Axes>"
      ]
     },
     "metadata": {},
     "output_type": "display_data"
    },
    {
     "data": {
      "text/plain": [
       "<Figure size 1537.92x1080 with 0 Axes>"
      ]
     },
     "metadata": {},
     "output_type": "display_data"
    },
    {
     "data": {
      "text/plain": [
       "<Figure size 1537.92x1080 with 0 Axes>"
      ]
     },
     "metadata": {},
     "output_type": "display_data"
    },
    {
     "data": {
      "text/plain": [
       "<Figure size 1537.92x1080 with 0 Axes>"
      ]
     },
     "metadata": {},
     "output_type": "display_data"
    },
    {
     "data": {
      "text/plain": [
       "<Figure size 1537.92x1080 with 0 Axes>"
      ]
     },
     "metadata": {},
     "output_type": "display_data"
    },
    {
     "data": {
      "text/plain": [
       "<Figure size 1537.92x1080 with 0 Axes>"
      ]
     },
     "metadata": {},
     "output_type": "display_data"
    },
    {
     "data": {
      "text/plain": [
       "<Figure size 1537.92x1080 with 0 Axes>"
      ]
     },
     "metadata": {},
     "output_type": "display_data"
    },
    {
     "data": {
      "text/plain": [
       "<Figure size 1537.92x1080 with 0 Axes>"
      ]
     },
     "metadata": {},
     "output_type": "display_data"
    },
    {
     "data": {
      "text/plain": [
       "<Figure size 1537.92x1080 with 0 Axes>"
      ]
     },
     "metadata": {},
     "output_type": "display_data"
    }
   ],
   "source": [
    "# Plots and saves top n_types with highest prevelance on visium slides\n",
    "n_types = 12\n",
    "\n",
    "for sample in samples:\n",
    "    slide = adata_slides[sample]\n",
    "\n",
    "    # Added 13.12.2023\n",
    "    slide.obs.columns = pd.Index(pd.Series(slide.obs.columns).replace(cell_type_renaming_dict))\n",
    "\n",
    "    # Subset to only plot the cell types with highest mean prevalence\n",
    "    cell_types = slide.obs.iloc[:,16:].mean(axis=0).sort_values(ascending=False)[:n_types]\n",
    "\n",
    "    # plot in spatial coordinates\n",
    "    with mpl.rc_context({'axes.facecolor':  'black',\n",
    "                        'figure.figsize': [4.5, 5]}):\n",
    "\n",
    "        sc.pl.spatial(slide, cmap='magma',\n",
    "                    # show first 8 cell types\n",
    "                    color=cell_types.index,\n",
    "                    ncols=4, size=1.3,alpha_img=0.8,\n",
    "                    # limit color scale at 99.2% quantile of cell abundance\n",
    "                    vmin=0, vmax='p99.2', show=False\n",
    "                    )\n",
    "        plt.savefig('./plots/c2l_mapping_results_'+run_name+'/'+sample+'_c2l_mapping_top12_abundant.png',dpi=200)\n",
    "        plt.clf()"
   ]
  },
  {
   "cell_type": "code",
   "execution_count": null,
   "metadata": {},
   "outputs": [],
   "source": [
    "## Side by side violin plots of abundant cell types + spatial \n",
    "\n",
    "plt.rcParams.update({'axes.titlesize': 'small'})\n",
    "\n",
    "n_types = 6\n",
    "obs_name = 'joint_leiden_clusters'\n",
    "\n",
    "for s in samples:\n",
    "\n",
    "    slide = adata_slides[s].copy()\n",
    "\n",
    "    # Subset to only plot the cell types with highest mean prevalence\n",
    "    cell_counts = slide.obs[adata_vis.uns['mod']['factor_names']]\n",
    "    cell_type_pcts = cell_counts.div(cell_counts.sum(axis=1),axis=0)*100\n",
    "    cell_types_to_plot = cell_type_pcts.mean(axis=0).sort_values(ascending=False)[:n_types].index\n",
    "\n",
    "\n",
    "    # Iterate over the columns of df2\n",
    "    for column in cell_type_pcts.columns:\n",
    "        # Check if the column exists in df1\n",
    "        if column in slide.obs.columns:\n",
    "            # Replace the column in df1 with the corresponding column from df2\n",
    "            slide.obs[column] = cell_type_pcts[column]\n",
    "\n",
    "\n",
    "    fig = plt.figure(figsize=(16,16))\n",
    "\n",
    "    gs = fig.add_gridspec(6,3)\n",
    "    ax6 = fig.add_subplot(gs[:, 1:3])\n",
    "\n",
    "    # Plot the data in the left column subplots\n",
    "    for i in range(6):\n",
    "\n",
    "        ax_plotting = fig.add_subplot(gs[i,0])\n",
    "\n",
    "        sc.pl.violin(slide,groupby=obs_name,keys=cell_types_to_plot[i],jitter=False,rotation=45,inner='box',\n",
    "                    ax=ax_plotting,show=False)\n",
    "        \n",
    "        ax_plotting.yaxis.label.set_size(12)\n",
    "        ax_plotting.yaxis.label.set_rotation(75)\n",
    "\n",
    "        if i < 5:  # only remove x-labels for the top 5 subplots on the left\n",
    "            ax_plotting.tick_params(axis='x', which='both', bottom=False, labelbottom=False) \n",
    "\n",
    "    sc.pl.spatial(adata_slides[s],color='joint_leiden_clusters',size=1.3,ax=ax6)\n",
    "\n",
    "    fig.savefig('./plots/c2l_mapping_results_'+run_name+'/'+s+'_cell_type_prevalences_per_cluster.png')\n",
    "    plt.clf()\n",
    "\n"
   ]
  },
  {
   "attachments": {},
   "cell_type": "markdown",
   "metadata": {},
   "source": [
    "## Secondary analysis of the cell type mapping numbers"
   ]
  },
  {
   "cell_type": "code",
   "execution_count": null,
   "metadata": {},
   "outputs": [],
   "source": [
    "# Save the cell mapping data into an array\n",
    "\"\"\" \n",
    "cell_types = list(adata_vis.uns['mod']['factor_names'])\n",
    "ctype_dat = np.array(adata_vis.obs[cell_types].copy())\n",
    "ctype_dat_obs = adata_vis.obs.drop(columns=cell_types).copy()\n",
    "ctype_dat_var = pd.DataFrame(index=cell_types)\n",
    "cell_mapping_dat = ad.AnnData(X=ctype_dat,obs=ctype_dat_obs,var=ctype_dat_var)\n",
    "\n",
    "cell_mapping_dat.write('c2l_mapping_as_anndata_'+run_name+'.h5ad')\n",
    " \"\"\""
   ]
  },
  {
   "cell_type": "code",
   "execution_count": 61,
   "metadata": {},
   "outputs": [],
   "source": [
    "import os \n",
    "os.chdir('/lustre/scratch/kiviaho/prostate_spatial/')\n",
    "\n",
    "import scanpy as sc\n",
    "import numpy as np\n",
    "import squidpy as sq\n",
    "import pandas as pd\n",
    "import anndata as ad\n",
    "\n",
    "import matplotlib.pyplot as plt\n",
    "from scripts.utils import load_from_pickle, get_sample_ids_reorder, get_sample_id_mask\n",
    "import matplotlib as mpl\n",
    "from sklearn.decomposition import NMF\n",
    "\n",
    "import seaborn as sns\n",
    "sns.set_theme()\n",
    "\n",
    "sc.set_figure_params(figsize=(6,6))\n",
    "\n",
    "import warnings\n",
    "warnings.filterwarnings(\"ignore\")\n",
    "\n",
    "def unison_shuffled_copies(a, b):\n",
    "    assert len(a) == len(b)\n",
    "    p = np.random.permutation(len(a))\n",
    "    return a[p], b[p]\n",
    "\n",
    "\n",
    "adata_slides = load_from_pickle('./data/clustered_visium_data.pickle')\n",
    "samples = get_sample_ids()\n",
    "\n",
    "# Change the run_name variable to select the appropriate iteration\n",
    "run_name = '20230908' # 20230908 is the 26-cell type reference mapped onto spatial\n",
    "\n",
    "cell_mapping_dat = sc.read_h5ad('c2l_mapping_as_anndata_'+run_name+'.h5ad')\n",
    "cell_types = list(cell_mapping_dat.var_names)\n"
   ]
  },
  {
   "cell_type": "code",
   "execution_count": 92,
   "metadata": {},
   "outputs": [],
   "source": [
    "# Added 13.12.2023\n",
    "# Rename some of the more ambiguous cell names\n",
    "\n",
    "cell_type_renaming_dict = {\n",
    "    'mesenchymal epithelium':'sensescent epithelium',\n",
    "    'interferon signaling epithelium':'club_interferon response epithelium',\n",
    "    'cancer epithelium':'tumor',\n",
    "    'intermediate CRPC epithelium':'cycling epithelium 1',\n",
    "    'cycling epithelium':'cycling epithelium 2',\n",
    "    'FOSL1 tumor epithelium':'FOSL1 related epithelium',\n",
    "    'fibroblasts':'fibroblast'\n",
    "    }\n",
    "\n",
    "\n",
    "cell_mapping_dat.var.index = pd.Index(pd.Series(cell_mapping_dat.var.index).replace(cell_type_renaming_dict))"
   ]
  },
  {
   "cell_type": "code",
   "execution_count": 93,
   "metadata": {},
   "outputs": [],
   "source": [
    "# format the observations to show BPH-TRNA-NEADT-CRPC divide\n",
    "\n",
    "df = pd.DataFrame(cell_mapping_dat.X, columns=cell_mapping_dat.var.index,index=cell_mapping_dat.obs.index)\n",
    "sample_id_masks = get_sample_id_mask()\n",
    "\n",
    "sample_indices_from_df = pd.Series([('_').join(s.split('_')[:-1]) for s in df.index])\n",
    "df.index = pd.Index(list(sample_indices_from_df.map(sample_id_masks)))\n"
   ]
  },
  {
   "cell_type": "code",
   "execution_count": 82,
   "metadata": {},
   "outputs": [],
   "source": [
    "# Save the key cell-type mapping numbers to an excel file (supplementary table)\n",
    "\n",
    "cell_mapping_characteristics_by_phenotype = {}\n",
    "\n",
    "phenotypes = ['','BPH','TRNA','NEADT','CRPC']\n",
    "\n",
    "for phenotype in phenotypes:\n",
    "    ctype_count_df = df.loc[df.index.str.contains(phenotype)].describe().T\n",
    "\n",
    "    ctype_count_df['sum'] = df.loc[df.index.str.contains(phenotype)].sum().loc[ctype_count_df.index].astype(float)\n",
    "    ctype_count_df = ctype_count_df[['sum','mean','min','25%','50%','75%','max','std','count']].round(1)\n",
    "    ctype_count_df = ctype_count_df.sort_values('sum',ascending=False)\n",
    "    \n",
    "    if phenotype == '':\n",
    "        cell_mapping_characteristics_by_phenotype['all'] = ctype_count_df\n",
    "    else:\n",
    "        cell_mapping_characteristics_by_phenotype[phenotype] = ctype_count_df\n",
    "\n",
    "# Save the results into an excel-file\n",
    "\n",
    "# Create a Pandas Excel writer using the file name\n",
    "writer = pd.ExcelWriter('./supplementary_tables/inferred_cell_type_counts_key_statistics.xlsx', engine='xlsxwriter')\n",
    "\n",
    "# Iterate through each key-value pair in the dictionary\n",
    "for key, value in cell_mapping_characteristics_by_phenotype.items():\n",
    "    # Write each dataframe to a separate sheet in the Excel file\n",
    "    value.to_excel(writer, sheet_name=key)\n",
    "\n",
    "# Save and close the Excel writer\n",
    "writer.save()\n",
    "    "
   ]
  },
  {
   "cell_type": "code",
   "execution_count": 98,
   "metadata": {},
   "outputs": [],
   "source": [
    "from scipy.stats import f_oneway\n",
    "\n",
    "inferred_tumor_counts_dict = {}\n",
    "for phenotype in ['BPH','TRNA','NEADT','CRPC']:\n",
    "    inferred_tumor_counts_dict[phenotype] = df.loc[df.index.str.contains(phenotype)]['tumor'].tolist()\n",
    "\n",
    "f_stat, pval = f_oneway(*inferred_tumor_counts_dict.values())"
   ]
  },
  {
   "cell_type": "code",
   "execution_count": 99,
   "metadata": {},
   "outputs": [
    {
     "data": {
      "text/plain": [
       "0.0"
      ]
     },
     "execution_count": 99,
     "metadata": {},
     "output_type": "execute_result"
    }
   ],
   "source": [
    "pval"
   ]
  },
  {
   "cell_type": "markdown",
   "metadata": {},
   "source": [
    "### Run NMF to divide into significantly variable regions"
   ]
  },
  {
   "cell_type": "code",
   "execution_count": 100,
   "metadata": {},
   "outputs": [],
   "source": [
    "# Run NMF to find 'tissue regions'\n",
    "nmf_res_dict = {}\n",
    "nmf_cell_weights_dict = {}\n",
    "adata = cell_mapping_dat.copy()\n",
    "\n",
    "# Set the range of components\n",
    "component_range = range(5, 13)\n",
    "\n",
    "# Perform NMF\n",
    "for n_components in component_range:\n",
    "    nmf = NMF(n_components=n_components,random_state=3456372)\n",
    "    W = nmf.fit_transform(adata.X)\n",
    "    H = nmf.components_\n",
    "\n",
    "    nmf_res = pd.DataFrame(H.T,\n",
    "                        index=adata.var_names,\n",
    "                        columns=list(np.arange(0,n_components)+1),)\n",
    "\n",
    "    nmf_res_dict[n_components] = nmf_res\n",
    "    nmf_cell_weights_dict[n_components] = W"
   ]
  },
  {
   "cell_type": "code",
   "execution_count": 108,
   "metadata": {},
   "outputs": [],
   "source": [
    "df = pd.DataFrame(cell_mapping_dat.X, columns=cell_mapping_dat.var.index,index=cell_mapping_dat.obs.index)\n",
    "celltype_order = df.sum().sort_values(ascending=True).index"
   ]
  },
  {
   "cell_type": "code",
   "execution_count": 110,
   "metadata": {},
   "outputs": [
    {
     "data": {
      "image/png": "[encoded data removed]",
      "text/plain": [
       "<Figure size 1440x1800 with 9 Axes>"
      ]
     },
     "metadata": {},
     "output_type": "display_data"
    }
   ],
   "source": [
    "# Plot the nmf results on two rows\n",
    "# Create subplots with 2 rows and 4 columns\n",
    "sns.set_theme(style='white',font_scale=1)\n",
    "fig, axs = plt.subplots(3, 3, figsize=(20, 25))\n",
    "\n",
    "for i, n_components in enumerate(component_range):\n",
    "\n",
    "    nmf_res_for_plotting = nmf_res_dict[n_components].copy()\n",
    "    nmf_res_for_plotting = nmf_res_for_plotting.loc[celltype_order]\n",
    "\n",
    "    # Determine the position of the subplot on the grid\n",
    "    row = i // 3\n",
    "    col = i % 3\n",
    "    \n",
    "    # Plot the heatmap on the corresponding subplot\n",
    "    sns.heatmap(nmf_res_for_plotting, cmap='Blues', square=True, ax=axs[row, col], vmax=100,cbar=False)\n",
    "\n",
    "\n",
    "axs[2,2].axis('off')\n",
    "plt.tight_layout()\n",
    "\n",
    "plt.savefig('plots/nmf_components.pdf')\n",
    "plt.show()\n"
   ]
  },
  {
   "cell_type": "code",
   "execution_count": 111,
   "metadata": {},
   "outputs": [
    {
     "data": {
      "image/png": "[encoded data removed]",
      "text/plain": [
       "<Figure size 360x360 with 2 Axes>"
      ]
     },
     "metadata": {},
     "output_type": "display_data"
    }
   ],
   "source": [
    "# Plot the nmf results on two rows\n",
    "# Create subplots with 2 rows and 4 columns\n",
    "fig, ax = plt.subplots(figsize=(5, 5))\n",
    "\n",
    "n_components = 8\n",
    "\n",
    "# Drop the redundant cell types prior to plotting\n",
    "nmf_res_for_plotting = nmf_res_dict[n_components].copy()\n",
    "nmf_res_for_plotting = nmf_res_for_plotting.loc[celltype_order]\n",
    "# Plot the heatmap on the corresponding subplot\n",
    "sns.heatmap(nmf_res_for_plotting, cmap='Blues', square=True, ax=ax, vmax=100,cbar=True)\n",
    "\n",
    "plt.tight_layout()\n",
    "\n",
    "#plt.savefig('plots/nmf_components_with_colorbar.pdf')\n",
    "plt.show()\n"
   ]
  },
  {
   "cell_type": "code",
   "execution_count": 112,
   "metadata": {},
   "outputs": [
    {
     "data": {
      "text/plain": [
       "{5:                                               1          2          3  \\\n",
       " B cells                                0.000000   0.000000   0.000000   \n",
       " DC                                     0.000000   0.000000   0.000000   \n",
       " FOSL1 related epithelium               0.775063   0.000000   0.000000   \n",
       " ILC                                    0.000000   0.000000   0.000000   \n",
       " Macrophages                            0.000000   0.081432   0.077988   \n",
       " Mast cells                             0.150154   0.550399   0.024096   \n",
       " Monocytes                              0.052321   0.019031   0.000000   \n",
       " Neuronal                               0.393999   1.494829   0.000000   \n",
       " Plasma cells                           0.871123   0.000000   0.068760   \n",
       " T cells                                0.000000   0.000000   0.000000   \n",
       " angiogenic endothelium                 0.469833   0.529584   0.007598   \n",
       " basal epithelium                       9.930719   1.126632   0.854489   \n",
       " tumor                                  0.000000   0.000000  59.219883   \n",
       " capillary venous endothelium           0.539563   0.026648   0.061474   \n",
       " chaperone response endothelium         0.228359   0.178849   0.000000   \n",
       " chaperone response epithelium          0.974216   0.006907   0.068902   \n",
       " chaperone response fibroblasts         1.803152   0.000000   0.000000   \n",
       " cycling epithelium 2                   0.134307   0.048925   0.019520   \n",
       " fibroblast                             0.000000  31.567379   0.281727   \n",
       " club_interferon response epithelium    0.000000   0.000000   0.000000   \n",
       " cycling epithelium 1                   0.172430   0.151096   0.279028   \n",
       " luminal epithelium                   143.934998   0.000000   0.000000   \n",
       " sensescent epithelium                  0.271280   0.000000   0.000000   \n",
       " muscle                                 0.000000  68.119530   0.000000   \n",
       " stress response fibroblasts            1.999409   0.000000   0.021075   \n",
       " stress signaling epithelium            3.366903   0.000000   0.163204   \n",
       " \n",
       "                                              4          5  \n",
       " B cells                               0.645845   7.510317  \n",
       " DC                                    0.742448   2.343607  \n",
       " FOSL1 related epithelium              1.912159   0.022755  \n",
       " ILC                                   1.146004   4.373246  \n",
       " Macrophages                           1.536935   2.702368  \n",
       " Mast cells                            0.100868   0.413141  \n",
       " Monocytes                             0.515770   0.614905  \n",
       " Neuronal                              0.097980   0.548558  \n",
       " Plasma cells                          0.057147   0.515195  \n",
       " T cells                               1.133208   9.046595  \n",
       " angiogenic endothelium                0.262050   3.230146  \n",
       " basal epithelium                     17.399008   6.830519  \n",
       " tumor                                 0.000000   0.000000  \n",
       " capillary venous endothelium          0.300828   2.416442  \n",
       " chaperone response endothelium        0.128119   1.214292  \n",
       " chaperone response epithelium         0.073453   0.011706  \n",
       " chaperone response fibroblasts        0.798637   0.831160  \n",
       " cycling epithelium 2                  0.870583   0.297423  \n",
       " fibroblast                            0.000000  32.446991  \n",
       " club_interferon response epithelium  47.689079   0.000000  \n",
       " cycling epithelium 1                  0.274706   0.540831  \n",
       " luminal epithelium                    0.000000   0.000000  \n",
       " sensescent epithelium                 1.941552   0.074415  \n",
       " muscle                                0.000000   0.000000  \n",
       " stress response fibroblasts           2.854611   3.713568  \n",
       " stress signaling epithelium           5.465805   0.636737  ,\n",
       " 6:                                               1          2          3  \\\n",
       " B cells                                0.000000   0.000000   0.000000   \n",
       " DC                                     0.000000   0.000000   0.000000   \n",
       " FOSL1 related epithelium               0.841212   0.000000   0.000000   \n",
       " ILC                                    0.000000   0.000000   0.000000   \n",
       " Macrophages                            0.098393   0.039304   0.109917   \n",
       " Mast cells                             0.125829   0.618595   0.022902   \n",
       " Monocytes                              0.107935   0.019756   0.000000   \n",
       " Neuronal                               0.453245   1.687524   0.000000   \n",
       " Plasma cells                           0.974661   0.000000   0.075205   \n",
       " T cells                                0.000000   0.000000   0.000000   \n",
       " angiogenic endothelium                 0.608500   0.555328   0.016320   \n",
       " basal epithelium                       0.000000   1.295271   0.000000   \n",
       " tumor                                  0.000000   0.000000  64.822433   \n",
       " capillary venous endothelium           0.585833   0.007952   0.067654   \n",
       " chaperone response endothelium         0.245989   0.191494   0.000000   \n",
       " chaperone response epithelium          1.057109   0.001186   0.069929   \n",
       " chaperone response fibroblasts         1.804845   0.000000   0.000000   \n",
       " cycling epithelium 2                   0.000000   0.053411   0.001595   \n",
       " fibroblast                             1.370825  35.220783   0.448321   \n",
       " club_interferon response epithelium    0.315313   0.272631   0.000000   \n",
       " cycling epithelium 1                   0.048210   0.167431   0.294247   \n",
       " luminal epithelium                   163.344452   0.061511   0.007990   \n",
       " sensescent epithelium                  0.000000   0.000000   0.000000   \n",
       " muscle                                 0.000000  77.496704   0.000000   \n",
       " stress response fibroblasts            2.090179   0.000000   0.018478   \n",
       " stress signaling epithelium            1.576045   0.000000   0.000000   \n",
       " \n",
       "                                              4          5          6  \n",
       " B cells                               0.943689  11.241397   1.301369  \n",
       " DC                                    1.214606   3.689412   0.000000  \n",
       " FOSL1 related epithelium              2.283827   0.000000   0.405338  \n",
       " ILC                                   2.010088   6.834313   0.000000  \n",
       " Macrophages                           2.279221   4.393223   0.000000  \n",
       " Mast cells                            0.022282   0.609436   0.226020  \n",
       " Monocytes                             0.728075   0.984538   0.000000  \n",
       " Neuronal                              0.102679   0.872471   0.076279  \n",
       " Plasma cells                          0.047351   0.779767   0.123085  \n",
       " T cells                               2.573515  14.011752   0.000000  \n",
       " angiogenic endothelium                0.360254   5.093830   0.252837  \n",
       " basal epithelium                      0.000000   0.662794  41.914642  \n",
       " tumor                                 0.000000   0.000000   0.001333  \n",
       " capillary venous endothelium          0.301115   3.705022   0.478588  \n",
       " chaperone response endothelium        0.118899   1.864152   0.236216  \n",
       " chaperone response epithelium         0.006851   0.000000   0.165913  \n",
       " chaperone response fibroblasts        0.530014   1.083867   1.019078  \n",
       " cycling epithelium 2                  0.681301   0.281217   0.846216  \n",
       " fibroblast                            0.000000  52.464169   0.000000  \n",
       " club_interferon response epithelium  62.844780   0.000000   0.296369  \n",
       " cycling epithelium 1                  0.055268   0.706840   0.613343  \n",
       " luminal epithelium                    0.000000   0.000000   0.000000  \n",
       " sensescent epithelium                 1.795781   0.000000   1.261161  \n",
       " muscle                                0.000000   0.000000   0.000000  \n",
       " stress response fibroblasts           3.107577   5.579216   1.540641  \n",
       " stress signaling epithelium           2.555877   0.000000   7.952013  ,\n",
       " 7:                                               1          2          3  \\\n",
       " B cells                                0.000000   0.000000   0.087446   \n",
       " DC                                     0.004112   1.291300   0.008436   \n",
       " FOSL1 related epithelium               0.871538   0.000000   0.000000   \n",
       " ILC                                    0.497096   1.089136   0.000000   \n",
       " Macrophages                            0.174107   3.378730   0.171205   \n",
       " Mast cells                             0.118232   1.004168   0.019345   \n",
       " Monocytes                              0.149883   0.593323   0.009322   \n",
       " Neuronal                               0.448022   1.538790   0.000000   \n",
       " Plasma cells                           1.054127   0.472826   0.090255   \n",
       " T cells                                0.252132   0.000000   0.000000   \n",
       " angiogenic endothelium                 0.633975   5.314170   0.073105   \n",
       " basal epithelium                       0.000000   1.219744   0.000000   \n",
       " tumor                                  0.010977   0.000000  66.476318   \n",
       " capillary venous endothelium           0.674711   2.943132   0.134719   \n",
       " chaperone response endothelium         0.286603   1.678574   0.022412   \n",
       " chaperone response epithelium          1.111360   0.000000   0.071764   \n",
       " chaperone response fibroblasts         1.897538   1.048343   0.000000   \n",
       " cycling epithelium 2                   0.000000   0.213369   0.005127   \n",
       " fibroblast                             0.000000  90.300232   0.000000   \n",
       " club_interferon response epithelium    0.000000   0.000000   0.000000   \n",
       " cycling epithelium 1                   0.071654   0.607481   0.306809   \n",
       " luminal epithelium                   171.740601   0.000000   0.012677   \n",
       " sensescent epithelium                  0.000000   0.000000   0.000000   \n",
       " muscle                                 0.000000   1.591244   0.000000   \n",
       " stress response fibroblasts            2.210487   4.933373   0.118686   \n",
       " stress signaling epithelium            1.642895   0.000000   0.000000   \n",
       " \n",
       "                                              4           5          6  \\\n",
       " B cells                               0.000000    1.378054   1.616169   \n",
       " DC                                    1.091108    0.000000   0.000000   \n",
       " FOSL1 related epithelium              2.538369    0.000000   0.470806   \n",
       " ILC                                   1.553255    0.145398   0.000000   \n",
       " Macrophages                           2.534532    0.000000   0.000000   \n",
       " Mast cells                            0.027398    0.481909   0.262839   \n",
       " Monocytes                             0.772090    0.000000   0.000000   \n",
       " Neuronal                              0.124172    1.952734   0.089401   \n",
       " Plasma cells                          0.033714    0.000000   0.138867   \n",
       " T cells                               1.243487    1.082254   0.242595   \n",
       " angiogenic endothelium                0.593458    0.000000   0.288572   \n",
       " basal epithelium                      0.000000    1.464352  48.553020   \n",
       " tumor                                 0.000000    0.113094   0.141711   \n",
       " capillary venous endothelium          0.453800    0.000000   0.546956   \n",
       " chaperone response endothelium        0.157933    0.000000   0.269815   \n",
       " chaperone response epithelium         0.007978    0.003931   0.192277   \n",
       " chaperone response fibroblasts        0.654415    0.000000   1.181704   \n",
       " cycling epithelium 2                  0.744160    0.021390   0.980502   \n",
       " fibroblast                            0.000000    8.033049   0.139113   \n",
       " club_interferon response epithelium  70.057167    0.405885   0.517651   \n",
       " cycling epithelium 1                  0.025781    0.050354   0.705456   \n",
       " luminal epithelium                    0.000000    0.262117   0.000000   \n",
       " sensescent epithelium                 2.002936    0.000000   1.464862   \n",
       " muscle                                0.000000  128.760574   0.000000   \n",
       " stress response fibroblasts           3.768324    0.000000   1.797802   \n",
       " stress signaling epithelium           2.860521    0.000000   9.224754   \n",
       " \n",
       "                                              7  \n",
       " B cells                              20.979496  \n",
       " DC                                    5.026558  \n",
       " FOSL1 related epithelium              0.052011  \n",
       " ILC                                  11.326211  \n",
       " Macrophages                           2.593032  \n",
       " Mast cells                            0.046271  \n",
       " Monocytes                             0.935660  \n",
       " Neuronal                              0.000000  \n",
       " Plasma cells                          0.669869  \n",
       " T cells                              26.225761  \n",
       " angiogenic endothelium                1.137857  \n",
       " basal epithelium                      0.180549  \n",
       " tumor                                 0.000000  \n",
       " capillary venous endothelium          1.654106  \n",
       " chaperone response endothelium        0.903645  \n",
       " chaperone response epithelium         0.000000  \n",
       " chaperone response fibroblasts        0.150079  \n",
       " cycling epithelium 2                  0.271646  \n",
       " fibroblast                            0.000000  \n",
       " club_interferon response epithelium   0.078500  \n",
       " cycling epithelium 1                  0.610413  \n",
       " luminal epithelium                    0.000000  \n",
       " sensescent epithelium                 0.000000  \n",
       " muscle                                0.000000  \n",
       " stress response fibroblasts           1.360901  \n",
       " stress signaling epithelium           0.000000  ,\n",
       " 8:                                               1           2          3  \\\n",
       " B cells                                0.000000    0.769213   0.138293   \n",
       " DC                                     0.000000    0.099564   0.004163   \n",
       " FOSL1 related epithelium               0.932983    0.000000   0.000000   \n",
       " ILC                                    0.509221    0.203849   0.000000   \n",
       " Macrophages                            0.132088    0.000000   0.140695   \n",
       " Mast cells                             0.107862    0.710903   0.019809   \n",
       " Monocytes                              0.105835    0.083318   0.003056   \n",
       " Neuronal                               0.440107    2.109073   0.000000   \n",
       " Plasma cells                           1.136740    0.000000   0.090617   \n",
       " T cells                                0.293807    0.310655   0.008093   \n",
       " angiogenic endothelium                 0.000000    0.351912   0.000000   \n",
       " basal epithelium                       0.000000    1.358025   0.000000   \n",
       " tumor                                  0.023234    0.017534  71.342346   \n",
       " capillary venous endothelium           0.000000    0.094491   0.000000   \n",
       " chaperone response endothelium         0.000000    0.339032   0.000000   \n",
       " chaperone response epithelium          1.218644    0.001210   0.077001   \n",
       " chaperone response fibroblasts         1.910375    0.000000   0.000000   \n",
       " cycling epithelium 2                   0.000000    0.066811   0.005446   \n",
       " fibroblast                             0.000000   33.767570   0.029958   \n",
       " club_interferon response epithelium    0.000000    0.182140   0.000000   \n",
       " cycling epithelium 1                   0.079604    0.203422   0.329397   \n",
       " luminal epithelium                   188.435623    0.123430   0.037150   \n",
       " sensescent epithelium                  0.000000    0.000000   0.000000   \n",
       " muscle                                 0.112574  106.831146   0.008741   \n",
       " stress response fibroblasts            1.175152    0.000000   0.000000   \n",
       " stress signaling epithelium            1.787370    0.000000   0.000000   \n",
       " \n",
       "                                              4          5          6  \\\n",
       " B cells                               0.000000   0.000000   2.098332   \n",
       " DC                                    1.192809   1.479656   0.006811   \n",
       " FOSL1 related epithelium              2.824902   0.896715   0.549820   \n",
       " ILC                                   1.699946   3.918819   0.000000   \n",
       " Macrophages                           2.716909   1.775973   0.000000   \n",
       " Mast cells                            0.015135   1.284682   0.315346   \n",
       " Monocytes                             0.812761   2.930090   0.000000   \n",
       " Neuronal                              0.096503   3.124651   0.083913   \n",
       " Plasma cells                          0.012213   0.891501   0.167544   \n",
       " T cells                               1.374293   3.383059   0.361568   \n",
       " angiogenic endothelium                0.000000  39.874725   0.000000   \n",
       " basal epithelium                      0.000000   0.000000  58.884552   \n",
       " tumor                                 0.000000   0.023849   0.135641   \n",
       " capillary venous endothelium          0.000000  49.999958   0.000000   \n",
       " chaperone response endothelium        0.000000  19.040182   0.072646   \n",
       " chaperone response epithelium         0.008244   0.039301   0.232401   \n",
       " chaperone response fibroblasts        0.581545   8.360106   1.332347   \n",
       " cycling epithelium 2                  0.833637   0.000000   1.192908   \n",
       " fibroblast                            0.000000   0.000000   1.441005   \n",
       " club_interferon response epithelium  78.480019   0.000000   0.628548   \n",
       " cycling epithelium 1                  0.029977   0.000000   0.866745   \n",
       " luminal epithelium                    0.000000   0.000000   0.000000   \n",
       " sensescent epithelium                 2.247764   0.000000   1.777977   \n",
       " muscle                                0.000000   1.728233   0.000000   \n",
       " stress response fibroblasts           3.161384  67.237228   1.368735   \n",
       " stress signaling epithelium           3.194290   0.787579  11.161301   \n",
       " \n",
       "                                              7          8  \n",
       " B cells                              23.554308   0.029944  \n",
       " DC                                    5.590892   1.550210  \n",
       " FOSL1 related epithelium              0.033030   0.000000  \n",
       " ILC                                  12.604567   1.020927  \n",
       " Macrophages                           2.771389   4.786202  \n",
       " Mast cells                            0.030715   0.930645  \n",
       " Monocytes                             0.976476   0.480990  \n",
       " Neuronal                              0.000000   1.269799  \n",
       " Plasma cells                          0.717859   0.604671  \n",
       " T cells                              29.305021   0.140241  \n",
       " angiogenic endothelium                0.246568   3.636991  \n",
       " basal epithelium                      0.229065   1.618751  \n",
       " tumor                                 0.000000   0.000000  \n",
       " capillary venous endothelium          0.543300   0.000000  \n",
       " chaperone response endothelium        0.550900   0.311035  \n",
       " chaperone response epithelium         0.000000   0.000000  \n",
       " chaperone response fibroblasts        0.000000   0.791198  \n",
       " cycling epithelium 2                  0.309020   0.248683  \n",
       " fibroblast                            0.597792  95.362885  \n",
       " club_interferon response epithelium   0.258622   0.481547  \n",
       " cycling epithelium 1                  0.693499   0.663318  \n",
       " luminal epithelium                    0.000000   0.119463  \n",
       " sensescent epithelium                 0.000000   0.000000  \n",
       " muscle                                0.000000   0.000000  \n",
       " stress response fibroblasts           0.000000   1.228396  \n",
       " stress signaling epithelium           0.000000   0.000000  ,\n",
       " 9:                                               1          2          3  \\\n",
       " B cells                                0.000000   0.511477   0.156949   \n",
       " DC                                     0.000000   0.338137   0.000000   \n",
       " FOSL1 related epithelium               1.104327   0.000000   0.000000   \n",
       " ILC                                    0.593914   0.316453   0.000000   \n",
       " Macrophages                            0.000000   0.501012   0.115623   \n",
       " Mast cells                             0.139525   0.926648   0.022724   \n",
       " Monocytes                              0.118394   0.175824   0.002309   \n",
       " Neuronal                               0.545326   2.218937   0.000000   \n",
       " Plasma cells                           1.325343   0.099024   0.096669   \n",
       " T cells                                0.346201   0.000000   0.012766   \n",
       " angiogenic endothelium                 0.000000   1.020724   0.000000   \n",
       " basal epithelium                       0.000000   1.722916   0.000000   \n",
       " tumor                                  0.004238   0.000000  77.041061   \n",
       " capillary venous endothelium           0.000000   0.000000   0.001188   \n",
       " chaperone response endothelium         0.000000   0.303883   0.000000   \n",
       " chaperone response epithelium          1.438742   0.013258   0.082369   \n",
       " chaperone response fibroblasts         2.235527   0.082021   0.000000   \n",
       " cycling epithelium 2                   0.000000   0.127254   0.005665   \n",
       " fibroblast                             0.000000  58.419800   0.003226   \n",
       " club_interferon response epithelium    0.046913   0.268813   0.000000   \n",
       " cycling epithelium 1                   0.093450   0.370282   0.355258   \n",
       " luminal epithelium                   222.475082   0.084301   0.022752   \n",
       " sensescent epithelium                  0.000000   0.000000   0.000000   \n",
       " muscle                                 0.000000  86.388008   0.000000   \n",
       " stress response fibroblasts            1.379009   0.000000   0.000000   \n",
       " stress signaling epithelium            2.111214   0.000000   0.000000   \n",
       " \n",
       "                                              4           5          6  \\\n",
       " B cells                               0.000000    0.565595   2.268300   \n",
       " DC                                    1.333214    0.026988   0.000000   \n",
       " FOSL1 related epithelium              3.182747    0.000000   0.577073   \n",
       " ILC                                   1.916657    0.000000   0.000000   \n",
       " Macrophages                           3.000707    0.076778   0.000000   \n",
       " Mast cells                            0.018687    0.313014   0.325660   \n",
       " Monocytes                             0.913219    0.000000   0.000000   \n",
       " Neuronal                              0.111829    1.707015   0.075467   \n",
       " Plasma cells                          0.013128    0.000000   0.177082   \n",
       " T cells                               1.550033    0.329180   0.419509   \n",
       " angiogenic endothelium                0.000000    0.020154   0.000000   \n",
       " basal epithelium                      0.000000    0.701026  62.703144   \n",
       " tumor                                 0.000000    0.000000   0.107944   \n",
       " capillary venous endothelium          0.000000    0.412739   0.000000   \n",
       " chaperone response endothelium        0.000000    0.384107   0.085268   \n",
       " chaperone response epithelium         0.008745    0.000000   0.245238   \n",
       " chaperone response fibroblasts        0.653701    0.000000   1.423216   \n",
       " cycling epithelium 2                  0.939570    0.000000   1.265925   \n",
       " fibroblast                            0.000000    0.199937   0.523467   \n",
       " club_interferon response epithelium  88.406181    0.041494   0.410792   \n",
       " cycling epithelium 1                  0.034649    0.000000   0.917323   \n",
       " luminal epithelium                    0.000000    0.115908   0.000000   \n",
       " sensescent epithelium                 2.532451    0.000000   1.887082   \n",
       " muscle                                0.000000  130.118805   0.000000   \n",
       " stress response fibroblasts           3.554611    0.000000   1.482256   \n",
       " stress signaling epithelium           3.600739    0.000000  11.880758   \n",
       " \n",
       "                                              7          8          9  \n",
       " B cells                              26.020880   0.000000   0.000000  \n",
       " DC                                    6.155223   1.080326   1.488457  \n",
       " FOSL1 related epithelium              0.036731   0.601725   0.000000  \n",
       " ILC                                  13.915756   2.741938   0.925657  \n",
       " Macrophages                           2.976140   1.263366   5.044052  \n",
       " Mast cells                            0.030250   0.999294   0.758617  \n",
       " Monocytes                             1.074384   2.022456   0.441833  \n",
       " Neuronal                              0.000000   2.299101   1.007036  \n",
       " Plasma cells                          0.788159   0.646784   0.567898  \n",
       " T cells                              32.368732   2.278706   0.174981  \n",
       " angiogenic endothelium                0.238641  27.235088   3.422759  \n",
       " basal epithelium                      0.247468   0.000000   1.387079  \n",
       " tumor                                 0.000000   0.000000   0.073665  \n",
       " capillary venous endothelium          0.615579  33.828541   0.000000  \n",
       " chaperone response endothelium        0.609568  12.905928   0.309816  \n",
       " chaperone response epithelium         0.000000   0.024125   0.000000  \n",
       " chaperone response fibroblasts        0.000000   5.719496   0.769209  \n",
       " cycling epithelium 2                  0.339924   0.000000   0.220839  \n",
       " fibroblast                            0.000000  11.212177  81.646324  \n",
       " club_interferon response epithelium   0.279801   0.000000   0.488394  \n",
       " cycling epithelium 1                  0.762010   0.000000   0.584805  \n",
       " luminal epithelium                    0.000000   0.000000   0.132249  \n",
       " sensescent epithelium                 0.000000   0.000000   0.000000  \n",
       " muscle                                0.000000   0.000000   0.000000  \n",
       " stress response fibroblasts           0.000000  45.575451   1.332475  \n",
       " stress signaling epithelium           0.000000   0.507534   0.000000  ,\n",
       " 10:                                              1          2          3   \\\n",
       " B cells                                0.000000   1.139031   0.161172   \n",
       " DC                                     0.000000   0.000000   0.000000   \n",
       " FOSL1 related epithelium               0.940084   0.000000   0.000000   \n",
       " ILC                                    0.683920   0.487195   0.000000   \n",
       " Macrophages                            0.101809   0.000000   0.057078   \n",
       " Mast cells                             0.119738   0.816888   0.021999   \n",
       " Monocytes                              0.145778   0.071311   0.000000   \n",
       " Neuronal                               0.562526   2.059761   0.000000   \n",
       " Plasma cells                           1.515348   0.047871   0.095250   \n",
       " T cells                                0.368566   0.704222   0.013548   \n",
       " angiogenic endothelium                 0.000000   0.608499   0.000000   \n",
       " basal epithelium                       0.498916   1.492619   0.000000   \n",
       " tumor                                  0.035763   0.044397  78.004929   \n",
       " capillary venous endothelium           0.000000   0.000000   0.005465   \n",
       " chaperone response endothelium         0.000000   0.253616   0.000000   \n",
       " chaperone response epithelium          1.366776   0.023207   0.088907   \n",
       " chaperone response fibroblasts         2.289757   0.035517   0.000000   \n",
       " cycling epithelium 2                   0.000000   0.060637   0.004386   \n",
       " fibroblast                             0.000000  51.604031   0.000000   \n",
       " club_interferon response epithelium    0.729100   0.279897   0.000000   \n",
       " cycling epithelium 1                   0.108878   0.326966   0.359046   \n",
       " luminal epithelium                   261.454193   0.000000   0.000000   \n",
       " sensescent epithelium                  0.000000   0.000000   0.000000   \n",
       " muscle                                 0.000000  84.401390   0.000000   \n",
       " stress response fibroblasts            0.980320   0.000000   0.000000   \n",
       " stress signaling epithelium            0.000000   0.000000   0.000000   \n",
       " \n",
       "                                             4           5          6   \\\n",
       " B cells                               0.000000    0.000000   2.722146   \n",
       " DC                                    1.438888    2.080451   0.030896   \n",
       " FOSL1 related epithelium              3.461749    0.000000   0.559143   \n",
       " ILC                                   2.087638    0.174047   0.000000   \n",
       " Macrophages                           3.252447    5.300095   0.000000   \n",
       " Mast cells                            0.015316    0.419075   0.392064   \n",
       " Monocytes                             0.999946    0.447914   0.000000   \n",
       " Neuronal                              0.115172    1.798715   0.069412   \n",
       " Plasma cells                          0.000000    0.061909   0.201409   \n",
       " T cells                               1.690091    0.000000   0.424195   \n",
       " angiogenic endothelium                0.000000    1.238353   0.000000   \n",
       " basal epithelium                      0.000000    0.297808  77.575882   \n",
       " tumor                                 0.000000    0.000000   0.079509   \n",
       " capillary venous endothelium          0.000000    0.345557   0.000000   \n",
       " chaperone response endothelium        0.000000    0.577947   0.099081   \n",
       " chaperone response epithelium         0.000000    0.009005   0.162023   \n",
       " chaperone response fibroblasts        0.672209    0.000000   1.602768   \n",
       " cycling epithelium 2                  1.028252    0.223549   1.579447   \n",
       " fibroblast                            0.000000    0.000000   1.168638   \n",
       " club_interferon response epithelium  97.105614    0.000000   0.975882   \n",
       " cycling epithelium 1                  0.034671    0.013855   1.132762   \n",
       " luminal epithelium                    0.000000    0.000000   0.000000   \n",
       " sensescent epithelium                 2.768238    0.000000   2.277080   \n",
       " muscle                                0.000000  134.295044   0.000000   \n",
       " stress response fibroblasts           3.833215    0.000000   1.488139   \n",
       " stress signaling epithelium           3.569397    0.000000  12.514624   \n",
       " \n",
       "                                             7          8           9   \\\n",
       " B cells                              25.746346   0.000000    0.000000   \n",
       " DC                                    6.020513   0.637977    2.154564   \n",
       " FOSL1 related epithelium              0.050750   0.439670    0.000000   \n",
       " ILC                                  13.749184   2.142149    1.266400   \n",
       " Macrophages                           2.744509   0.296965    6.645081   \n",
       " Mast cells                            0.028244   0.748763    1.014521   \n",
       " Monocytes                             1.048806   1.596163    0.632063   \n",
       " Neuronal                              0.000000   1.788681    1.354011   \n",
       " Plasma cells                          0.769015   0.476728    0.785321   \n",
       " T cells                              32.011314   1.802254    0.310469   \n",
       " angiogenic endothelium                0.195229  22.122841    4.422384   \n",
       " basal epithelium                      0.186781   0.000000    1.397889   \n",
       " tumor                                 0.000000   0.013435    0.000000   \n",
       " capillary venous endothelium          0.617726  27.782640    0.000000   \n",
       " chaperone response endothelium        0.598044  10.563092    0.422148   \n",
       " chaperone response epithelium         0.000127   0.000000    0.000000   \n",
       " chaperone response fibroblasts        0.000000   4.576579    1.063946   \n",
       " cycling epithelium 2                  0.326599   0.000000    0.308847   \n",
       " fibroblast                            0.000000   4.189294  104.135735   \n",
       " club_interferon response epithelium   0.256666   0.038414    0.382991   \n",
       " cycling epithelium 1                  0.749864   0.000000    0.746207   \n",
       " luminal epithelium                    0.000000   0.000000    0.000000   \n",
       " sensescent epithelium                 0.000000   0.000000    0.000000   \n",
       " muscle                                0.000000   0.000000    0.000000   \n",
       " stress response fibroblasts           0.000000  37.175026    1.789100   \n",
       " stress signaling epithelium           0.000000   0.000000    0.000000   \n",
       " \n",
       "                                             10  \n",
       " B cells                               0.000000  \n",
       " DC                                    0.000000  \n",
       " FOSL1 related epithelium              0.981828  \n",
       " ILC                                   0.109428  \n",
       " Macrophages                           0.000000  \n",
       " Mast cells                            0.087181  \n",
       " Monocytes                             0.019765  \n",
       " Neuronal                              0.179574  \n",
       " Plasma cells                          0.285512  \n",
       " T cells                               0.112892  \n",
       " angiogenic endothelium                0.000000  \n",
       " basal epithelium                      0.000000  \n",
       " tumor                                 0.011620  \n",
       " capillary venous endothelium          0.000000  \n",
       " chaperone response endothelium        0.000000  \n",
       " chaperone response epithelium         0.844059  \n",
       " chaperone response fibroblasts        1.062302  \n",
       " cycling epithelium 2                  0.000000  \n",
       " fibroblast                            0.017759  \n",
       " club_interferon response epithelium   0.000000  \n",
       " cycling epithelium 1                  0.034531  \n",
       " luminal epithelium                   27.973629  \n",
       " sensescent epithelium                 0.251278  \n",
       " muscle                                0.000000  \n",
       " stress response fibroblasts           1.710698  \n",
       " stress signaling epithelium           9.701378  ,\n",
       " 11:                                              1           2          3   \\\n",
       " B cells                                0.000000    0.273623   0.174460   \n",
       " DC                                     0.000000    0.269702   0.000000   \n",
       " FOSL1 related epithelium               0.670034    0.000000   0.000000   \n",
       " ILC                                    0.573118    0.208359   0.000000   \n",
       " Macrophages                            0.000000    0.000000   0.000000   \n",
       " Mast cells                             0.073392    0.749066   0.022966   \n",
       " Monocytes                              0.111906    0.147451   0.000000   \n",
       " Neuronal                               0.422004    2.445356   0.000000   \n",
       " Plasma cells                           1.301217    0.000000   0.101435   \n",
       " T cells                                0.309036    0.110205   0.009389   \n",
       " angiogenic endothelium                 0.000000    0.589624   0.000000   \n",
       " basal epithelium                       0.692744    1.093366   0.000000   \n",
       " tumor                                  0.031316    0.000371  80.504623   \n",
       " capillary venous endothelium           0.000000    0.098896   0.000000   \n",
       " chaperone response endothelium         0.000000    0.402957   0.000000   \n",
       " chaperone response epithelium          1.033633    0.032183   0.095067   \n",
       " chaperone response fibroblasts         1.778138    0.000000   0.000000   \n",
       " cycling epithelium 2                   0.000000    0.096336   0.005023   \n",
       " fibroblast                             0.000000   31.836142   0.073220   \n",
       " club_interferon response epithelium    0.790388    0.100898   0.000000   \n",
       " cycling epithelium 1                   0.082671    0.191667   0.371554   \n",
       " luminal epithelium                   237.322327    0.000000   0.000000   \n",
       " sensescent epithelium                  0.000000    0.000000   0.000000   \n",
       " muscle                                 0.000000  121.325569   0.000000   \n",
       " stress response fibroblasts            0.376805    0.000000   0.000000   \n",
       " stress signaling epithelium            0.000000    0.000000   0.000000   \n",
       " \n",
       "                                             4           5          6   \\\n",
       " B cells                               0.000000    0.000000   2.540914   \n",
       " DC                                    1.306461    6.115229   0.082401   \n",
       " FOSL1 related epithelium              3.425592    1.893372   0.618297   \n",
       " ILC                                   2.036839    3.217482   0.000000   \n",
       " Macrophages                           0.357953  107.206093   0.000000   \n",
       " Mast cells                            0.013041    0.078194   0.407399   \n",
       " Monocytes                             0.966952    1.757192   0.000000   \n",
       " Neuronal                              0.108646    0.000000   0.124352   \n",
       " Plasma cells                          0.000140    0.211376   0.215966   \n",
       " T cells                               1.651588    4.165699   0.272810   \n",
       " angiogenic endothelium                0.016899    0.075298   0.000000   \n",
       " basal epithelium                      0.000000    0.472177  79.830948   \n",
       " tumor                                 0.000644    0.013696   0.012823   \n",
       " capillary venous endothelium          0.000000    0.000000   0.000000   \n",
       " chaperone response endothelium        0.000000    0.062776   0.095544   \n",
       " chaperone response epithelium         0.000000    0.000000   0.192843   \n",
       " chaperone response fibroblasts        0.679572    0.000000   1.670818   \n",
       " cycling epithelium 2                  1.033959    0.170640   1.630097   \n",
       " fibroblast                            0.094780    0.418498   1.327239   \n",
       " club_interferon response epithelium  97.818535    0.426007   0.578991   \n",
       " cycling epithelium 1                  0.037509    0.000000   1.164006   \n",
       " luminal epithelium                    0.000000    0.000000   0.000000   \n",
       " sensescent epithelium                 2.792320    0.000000   2.359914   \n",
       " muscle                                0.000000    0.000000   0.000000   \n",
       " stress response fibroblasts           3.868816    0.000000   1.550640   \n",
       " stress signaling epithelium           3.665159    0.000000  13.531651   \n",
       " \n",
       "                                             7          8           9   \\\n",
       " B cells                              36.657593   0.000000    0.000000   \n",
       " DC                                    8.332873   0.518215    3.185791   \n",
       " FOSL1 related epithelium              0.000000   0.430587    0.000000   \n",
       " ILC                                  19.379591   2.092755    2.463552   \n",
       " Macrophages                           0.383973   0.000000    2.140806   \n",
       " Mast cells                            0.035150   0.758060    1.027113   \n",
       " Monocytes                             1.422963   1.673290    0.912997   \n",
       " Neuronal                              0.000000   1.733219    1.975261   \n",
       " Plasma cells                          1.081020   0.458046    1.015445   \n",
       " T cells                              45.300137   1.720055    1.951873   \n",
       " angiogenic endothelium                0.250696  23.776289    6.012147   \n",
       " basal epithelium                      0.383000   0.000000    0.227267   \n",
       " tumor                                 0.000000   0.016945    0.000000   \n",
       " capillary venous endothelium          0.909939  30.289223    0.000000   \n",
       " chaperone response endothelium        0.851841  11.474638    0.637644   \n",
       " chaperone response epithelium         0.000000   0.000000    0.018835   \n",
       " chaperone response fibroblasts        0.000000   4.891323    1.291846   \n",
       " cycling epithelium 2                  0.457169   0.000000    0.445948   \n",
       " fibroblast                            0.000000   0.229193  101.914558   \n",
       " club_interferon response epithelium   0.464698   0.136948    0.431986   \n",
       " cycling epithelium 1                  1.065783   0.000000    0.806595   \n",
       " luminal epithelium                    0.000000   0.000000    0.000000   \n",
       " sensescent epithelium                 0.000000   0.000000    0.000000   \n",
       " muscle                                0.000000   0.000000    0.000000   \n",
       " stress response fibroblasts           0.000000  40.348747    2.344035   \n",
       " stress signaling epithelium           0.000000   0.000000    0.000000   \n",
       " \n",
       "                                             10         11  \n",
       " B cells                               0.000000   0.539421  \n",
       " DC                                    0.000000   0.000000  \n",
       " FOSL1 related epithelium              0.888705   0.000000  \n",
       " ILC                                   0.116242   0.082263  \n",
       " Macrophages                           0.000542   0.115903  \n",
       " Mast cells                            0.106826   0.271781  \n",
       " Monocytes                             0.038061   0.008623  \n",
       " Neuronal                              0.227990   0.287917  \n",
       " Plasma cells                          0.388934   0.075678  \n",
       " T cells                               0.073536   0.053251  \n",
       " angiogenic endothelium                0.000000   0.383103  \n",
       " basal epithelium                      0.000000   0.756780  \n",
       " tumor                                 0.010891   0.017479  \n",
       " capillary venous endothelium          0.000000   0.000000  \n",
       " chaperone response endothelium        0.000000   0.029952  \n",
       " chaperone response epithelium         0.894409   0.000000  \n",
       " chaperone response fibroblasts        1.227486   0.118411  \n",
       " cycling epithelium 2                  0.000000   0.015616  \n",
       " fibroblast                            0.000000  26.020786  \n",
       " club_interferon response epithelium   0.000000   0.156062  \n",
       " cycling epithelium 1                  0.047846   0.164093  \n",
       " luminal epithelium                   39.694775   0.000000  \n",
       " sensescent epithelium                 0.162995   0.000000  \n",
       " muscle                                0.000000   6.631854  \n",
       " stress response fibroblasts           1.803895   0.127294  \n",
       " stress signaling epithelium           6.928827   0.000000  ,\n",
       " 12:                                              1           2          3   \\\n",
       " B cells                                0.000000    0.749596   0.158638   \n",
       " DC                                     0.000000    0.000000   0.000000   \n",
       " FOSL1 related epithelium               0.633007    0.000000   0.000000   \n",
       " ILC                                    0.520419    0.075854   0.000000   \n",
       " Macrophages                            0.000000    0.005720   0.004897   \n",
       " Mast cells                             0.000000    0.618409   0.023678   \n",
       " Monocytes                              0.081912    0.113771   0.002473   \n",
       " Neuronal                               0.212173    2.547565   0.000000   \n",
       " Plasma cells                           0.933829    0.000000   0.110738   \n",
       " T cells                                0.447573    0.000000   0.000000   \n",
       " angiogenic endothelium                 0.000000    0.000000   0.000000   \n",
       " basal epithelium                       0.037336    0.000000   0.000000   \n",
       " tumor                                  0.034235    0.000000  82.674202   \n",
       " capillary venous endothelium           0.000000    0.124705   0.000000   \n",
       " chaperone response endothelium         0.000000    0.358499   0.000000   \n",
       " chaperone response epithelium          0.643002    0.057035   0.102640   \n",
       " chaperone response fibroblasts         1.460759    0.000000   0.000000   \n",
       " cycling epithelium 2                   0.000000    0.104974   0.002526   \n",
       " fibroblast                             0.000000   18.568987   0.000000   \n",
       " club_interferon response epithelium    0.203649    0.000000   0.000000   \n",
       " cycling epithelium 1                   0.000000    0.148581   0.379978   \n",
       " luminal epithelium                   190.066528    0.000000   0.025947   \n",
       " sensescent epithelium                  0.000000    0.000000   0.000000   \n",
       " muscle                                 0.000000  125.762146   0.000000   \n",
       " stress response fibroblasts            1.512621    0.000000   0.000000   \n",
       " stress signaling epithelium            0.000000    0.000000   0.000000   \n",
       " \n",
       "                                              4           5          6   \\\n",
       " B cells                                0.000000    0.000000   2.656600   \n",
       " DC                                     1.311044    2.148571   0.029055   \n",
       " FOSL1 related epithelium               3.141552    1.021839   0.000000   \n",
       " ILC                                    2.039063    6.149687   0.000000   \n",
       " Macrophages                            0.869741    0.000000   0.003942   \n",
       " Mast cells                             0.002050    2.057005   0.379143   \n",
       " Monocytes                              0.988493    4.644011   0.000000   \n",
       " Neuronal                               0.124700    4.777184   0.147256   \n",
       " Plasma cells                           0.000000    1.366721   0.227194   \n",
       " T cells                                1.553597    5.362628   0.107475   \n",
       " angiogenic endothelium                 0.000000   64.547493   0.000000   \n",
       " basal epithelium                       0.045367    0.350377  79.492805   \n",
       " tumor                                  0.000423    0.053538   0.000000   \n",
       " capillary venous endothelium           0.000000   81.094154   0.000000   \n",
       " chaperone response endothelium         0.000000   30.869081   0.089133   \n",
       " chaperone response epithelium          0.000000    0.000000   0.105155   \n",
       " chaperone response fibroblasts         0.601232   13.281528   1.474526   \n",
       " cycling epithelium 2                   1.058027    0.000000   1.617799   \n",
       " fibroblast                             0.000000    0.000000   0.000000   \n",
       " club_interferon response epithelium  100.221535    0.648071   1.097405   \n",
       " cycling epithelium 1                   0.037452    0.000000   1.150639   \n",
       " luminal epithelium                     0.000000    0.000000   0.000000   \n",
       " sensescent epithelium                  2.622682    0.000000   1.780365   \n",
       " muscle                                 0.000000    0.000000   0.000000   \n",
       " stress response fibroblasts            3.595187  108.338066   0.680949   \n",
       " stress signaling epithelium            0.424192    0.000000   6.092869   \n",
       " \n",
       "                                             7          8          9   \\\n",
       " B cells                              37.411312   0.000000   0.000000   \n",
       " DC                                    8.497043   0.000000   3.063780   \n",
       " FOSL1 related epithelium              0.010057   3.963609   0.719719   \n",
       " ILC                                  19.786743   0.000000   1.782463   \n",
       " Macrophages                           0.000000   0.000000  38.607758   \n",
       " Mast cells                            0.033679   0.094268   0.083049   \n",
       " Monocytes                             1.447167   0.000000   0.821167   \n",
       " Neuronal                              0.000000   0.000000   0.000000   \n",
       " Plasma cells                          1.109756   0.000000   0.222006   \n",
       " T cells                              46.267899   0.564666   2.242674   \n",
       " angiogenic endothelium                0.257526   0.000000   0.904053   \n",
       " basal epithelium                      0.000000   0.114149   0.149647   \n",
       " tumor                                 0.000000   0.011862   0.006143   \n",
       " capillary venous endothelium          0.861095   0.000000   0.000000   \n",
       " chaperone response endothelium        0.855358   0.000000   0.100235   \n",
       " chaperone response epithelium         0.000000   0.733773   0.000000   \n",
       " chaperone response fibroblasts        0.000000   1.418816   0.000000   \n",
       " cycling epithelium 2                  0.462267   0.000000   0.128783   \n",
       " fibroblast                            0.000000   0.000000   4.469274   \n",
       " club_interferon response epithelium   0.301781   0.766719   0.000000   \n",
       " cycling epithelium 1                  1.094469   0.000000   0.000000   \n",
       " luminal epithelium                    0.000000   0.000000   0.000000   \n",
       " sensescent epithelium                 0.000000   2.671849   0.000000   \n",
       " muscle                                0.000000   0.000000   0.000000   \n",
       " stress response fibroblasts           0.000000   5.196812   0.000000   \n",
       " stress signaling epithelium           0.000000  40.268120   0.000000   \n",
       " \n",
       "                                             10         11         12  \n",
       " B cells                               0.000000   0.434569   0.099701  \n",
       " DC                                    0.000000   0.589470   0.069793  \n",
       " FOSL1 related epithelium              0.348900   0.000000   0.000000  \n",
       " ILC                                   0.155838   0.559447   0.062163  \n",
       " Macrophages                           0.000000   0.000000   0.000000  \n",
       " Mast cells                            0.119915   0.398902   0.239916  \n",
       " Monocytes                             0.054165   0.189520   0.008142  \n",
       " Neuronal                              0.313986   0.610796   0.395343  \n",
       " Plasma cells                          0.553016   0.272734   0.000000  \n",
       " T cells                               0.000000   0.389693   0.139222  \n",
       " angiogenic endothelium                0.000000   1.516035   0.272226  \n",
       " basal epithelium                      0.000000   0.199204   0.710202  \n",
       " tumor                                 0.008035   0.000000   0.023747  \n",
       " capillary venous endothelium          0.000000   0.000000   0.009620  \n",
       " chaperone response endothelium        0.004710   0.135334   0.085003  \n",
       " chaperone response epithelium         0.816922   0.003169   0.000000  \n",
       " chaperone response fibroblasts        0.954568   0.386740   0.000000  \n",
       " cycling epithelium 2                  0.040527   0.105732   0.000000  \n",
       " fibroblast                            0.260499  40.912666  15.857652  \n",
       " club_interferon response epithelium   0.060266   0.163893   0.083114  \n",
       " cycling epithelium 1                  0.129933   0.303410   0.070964  \n",
       " luminal epithelium                   67.220917   0.000000   0.000000  \n",
       " sensescent epithelium                 0.000000   0.000000   0.000000  \n",
       " muscle                                0.031200   0.276889  22.219723  \n",
       " stress response fibroblasts           0.000000   0.607087   0.000000  \n",
       " stress signaling epithelium           0.239984   0.000000   0.000000  }"
      ]
     },
     "execution_count": 112,
     "metadata": {},
     "output_type": "execute_result"
    }
   ],
   "source": [
    "\n",
    "# Create a Pandas Excel writer using the file name\n",
    "writer = pd.ExcelWriter('./supplementary_tables/nmf_component_weights_for_celltypes.xlsx', engine='xlsxwriter')\n",
    "\n",
    "# Iterate through each key-value pair in the dictionary\n",
    "for key, value in nmf_res_for_plotting.items():\n",
    "    # Write each dataframe to a separate sheet in the Excel file\n",
    "    value.loc[celltype_order].to_excel(writer, sheet_name=key)\n",
    "\n",
    "# Save and close the Excel writer\n",
    "writer.save()"
   ]
  },
  {
   "cell_type": "markdown",
   "metadata": {},
   "source": [
    "### Annotate the NMF factors"
   ]
  },
  {
   "cell_type": "code",
   "execution_count": null,
   "metadata": {},
   "outputs": [],
   "source": [
    "# Select the best number of factors and annotate them\n",
    "tissue_region_names = {1:'Luminal epithelium', 2:'Muscle', 3:'Tumor', 4:'Intermediate epithelium',\n",
    "                       5:'Endothelium', 6:'Basal epithelium', 7:'Immune', 8:'Fibroblast'}\n",
    "\n",
    "# Sorting out the colors for tissue regions (Set2 palette)\n",
    "sorted_region_names = [np.sort(list(tissue_region_names.values())).tolist()[i] for i in [7,4,0,3,5,1,2,6]]\n",
    "tissue_region_colors = ['#fc8d62','#8da0cb','#66c2a5','#ffd92f','#a6d854','#e78ac3','#e5c494','#b3b3b3']\n",
    "region_colors_dict = dict(zip(sorted_region_names,tissue_region_colors))\n",
    "\n",
    "# Number 8 is the best fit\n",
    "tissue_regions = nmf_res_dict[8].copy().rename(columns=tissue_region_names)"
   ]
  },
  {
   "cell_type": "code",
   "execution_count": null,
   "metadata": {},
   "outputs": [],
   "source": [
    "\n",
    "# Spot identity is determined by simply choosing the factor with the highest nmf weight\n",
    "obs_data = cell_mapping_dat.obs.copy().reset_index(drop=True)\n",
    "nmf_obs_weights = pd.DataFrame(nmf_cell_weights_dict[8],columns=list(tissue_region_names.values()),index=cell_mapping_dat.obs_names)\n",
    "nmf_obs_annot = nmf_obs_weights.idxmax(axis=1)\n",
    "\n",
    "obs_data.index = cell_mapping_dat.obs_names\n",
    "obs_data['nmf_weight_based_regions'] = nmf_obs_annot\n",
    "nmf_obs_annot.value_counts()\n"
   ]
  },
  {
   "cell_type": "code",
   "execution_count": null,
   "metadata": {},
   "outputs": [],
   "source": [
    "samples = get_sample_ids()\n",
    "for sample in samples:\n",
    "    slide = adata_slides[sample]\n",
    "    slide.obs['predicted_region'] = obs_data.loc[slide.obs_names]['nmf_weight_based_regions'].astype('category')\n",
    "    slide_categories = [s for s in sorted_region_names if s in slide.obs['predicted_region'].cat.categories]\n",
    "    slide.obs['predicted_region'] = slide.obs['predicted_region'].cat.reorder_categories(slide_categories)\n",
    "\n",
    "    # Get the colors considering some might be missing\n",
    "    slide.uns['predicted_region_colors'] = [region_colors_dict[region] for region in slide_categories]\n",
    "\n",
    "    fig,ax_plotting = plt.subplots(1,2,figsize=(18,9))\n",
    "    sc.pl.spatial(slide,color='predicted_region',size=1.3,ax=ax_plotting[0],show=False)\n",
    "    sc.pl.spatial(slide,color='joint_leiden_clusters',size=1.3,ax=ax_plotting[1],show=False)\n",
    "    plt.tight_layout()\n",
    "    plt.savefig('./plots/c2l_mapping_results_'+run_name+'/'+sample+'_side_by_side_nmf_obs_weight_based_tissue_regions_spatial.pdf')\n",
    "    plt.clf()\n",
    "    "
   ]
  },
  {
   "cell_type": "code",
   "execution_count": null,
   "metadata": {},
   "outputs": [],
   "source": [
    "# This is in ALL samples\n",
    "summary_mat = np.zeros((len(sorted_region_names),len(sorted_region_names)))\n",
    "for sample in samples:\n",
    "    \n",
    "    slide = adata_slides[sample]\n",
    "    sq.gr.nhood_enrichment(slide, cluster_key='predicted_region',show_progress_bar=False)\n",
    "    \n",
    "    mat = slide.uns['predicted_region_nhood_enrichment']['zscore'].copy()\n",
    "    mat = np.nan_to_num(mat)\n",
    "\n",
    "\n",
    "    missing = [c for c in sorted_region_names if c not in list(slide.obs['predicted_region'].cat.categories)]\n",
    "\n",
    "    for missing_type in missing:\n",
    "\n",
    "        insert_idx = list(sorted_region_names).index(missing_type)\n",
    "        mat = np.insert(mat, insert_idx, np.repeat(0,mat.shape[1]),axis = 0)\n",
    "        mat = np.insert(mat, insert_idx, np.repeat(0,mat.shape[0]),axis = 1)\n",
    "\n",
    "    summary_mat += mat\n",
    "sns.set_theme(style='white')\n",
    "fig,ax = plt.subplots(figsize=(10,8))\n",
    "df = pd.DataFrame(summary_mat,index=sorted_region_names,columns=sorted_region_names)/len(samples)\n",
    "sns.heatmap(df,cmap='bwr',ax=ax,annot=True,fmt='.1f',center=0,vmin=-30,vmax=30)\n",
    "plt.savefig('./plots/tissue_region_interaction_heatmap_all_samples.pdf')\n",
    "plt.show()"
   ]
  },
  {
   "cell_type": "code",
   "execution_count": null,
   "metadata": {},
   "outputs": [],
   "source": [
    "PCa_samples = get_sample_ids('PCa')\n",
    "# This is in PCa samples\n",
    "summary_mat = np.zeros((len(sorted_region_names),len(sorted_region_names)))\n",
    "for sample in PCa_samples:\n",
    "    slide = adata_slides[sample]\n",
    "    mat = slide.uns['predicted_region_nhood_enrichment']['zscore'].copy()\n",
    "    mat = np.nan_to_num(mat)\n",
    "\n",
    "\n",
    "    missing = [c for c in sorted_region_names if c not in list(slide.obs['predicted_region'].cat.categories)]\n",
    "\n",
    "    for missing_type in missing:\n",
    "\n",
    "        insert_idx = list(sorted_region_names).index(missing_type)\n",
    "        mat = np.insert(mat, insert_idx, np.repeat(0,mat.shape[1]),axis = 0)\n",
    "        mat = np.insert(mat, insert_idx, np.repeat(0,mat.shape[0]),axis = 1)\n",
    "\n",
    "    summary_mat += mat\n",
    "\n",
    "sns.set_theme(style='white')\n",
    "fig,ax = plt.subplots(figsize=(10,8))\n",
    "df = pd.DataFrame(summary_mat,index=sorted_region_names,columns=sorted_region_names)/len(samples)\n",
    "sns.heatmap(df,cmap='bwr',ax=ax,annot=True,fmt='.1f',center=0,vmin=-30,vmax=30)\n",
    "plt.savefig('./plots/tissue_region_interaction_heatmap_PCa_samples.pdf')\n",
    "plt.show()"
   ]
  },
  {
   "cell_type": "code",
   "execution_count": null,
   "metadata": {},
   "outputs": [],
   "source": [
    "# Download data and format cell2location mapping results into obs columns in both aggregated adata and individual slides\n",
    "adata_vis = sc.read_h5ad('./c2l-results/visium_adata_with_c2l_mapping_'+run_name+'.h5ad')\n",
    "\n",
    "adata_vis.obs.joint_leiden_clusters = adata_vis.obs.sample_id.astype(str) + '_' + adata_vis.obs.joint_leiden_clusters.astype(str)\n",
    "adata_vis.obs['joint_leiden_clusters'] = pd.Categorical(adata_vis.obs['joint_leiden_clusters'])\n",
    "\n",
    "# Copy obsm (cell2location results) to adata object obs\n",
    "adata_vis.obs[adata_vis.uns['mod']['factor_names']] = adata_vis.obsm['q05_cell_abundance_w_sf']\n",
    "\n",
    "# Copy obsm (cell2location results) to individual slides\n",
    "for sample in samples:\n",
    "    vis_subset = adata_vis[adata_vis.obs['sample_id']==sample]\n",
    "    \n",
    "    if (vis_subset.obs_names == adata_slides[sample].obs_names).all():\n",
    "        adata_slides[sample].obsm = vis_subset.obsm.copy()\n",
    "        \n",
    "        # add 5% quantile, representing confident cell abundance, 'at least this amount is present',\n",
    "        # to adata.obs with nice names for plotting\n",
    "        adata_slides[sample].uns['mod'] = vis_subset.uns['mod'].copy()\n",
    "        adata_slides[sample].obs[adata_slides[sample].uns['mod']['factor_names']] = adata_slides[sample].obsm['q05_cell_abundance_w_sf']\n"
   ]
  },
  {
   "cell_type": "code",
   "execution_count": null,
   "metadata": {},
   "outputs": [],
   "source": [
    "from scripts.utils import save_to_pickle\n",
    "save_to_pickle(adata_slides,'./data/slides_with_cell_mapping_based_regions.pkl')"
   ]
  },
  {
   "cell_type": "code",
   "execution_count": null,
   "metadata": {},
   "outputs": [],
   "source": []
  },
  {
   "cell_type": "code",
   "execution_count": null,
   "metadata": {},
   "outputs": [],
   "source": []
  }
 ],
 "metadata": {
  "kernelspec": {
   "display_name": "Python 3 (ipykernel)",
   "language": "python",
   "name": "python3"
  },
  "language_info": {
   "codemirror_mode": {
    "name": "ipython",
    "version": 3
   },
   "file_extension": ".py",
   "mimetype": "text/x-python",
   "name": "python",
   "nbconvert_exporter": "python",
   "pygments_lexer": "ipython3",
   "version": "3.8.15"
  },
  "orig_nbformat": 4
 },
 "nbformat": 4,
 "nbformat_minor": 2
}
