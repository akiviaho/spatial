{
 "cells": [
  {
   "cell_type": "code",
   "execution_count": null,
   "metadata": {},
   "outputs": [],
   "source": [
    "# Date: 20.3.2023\n",
    "# Author: Antti Kiviaho\n",
    "#\n",
    "# Notebook for analysing and visualizing visium data after copy number variation, single cell mapping and clustering\n",
    "# analyses. This is the main results notebook"
   ]
  },
  {
   "attachments": {},
   "cell_type": "markdown",
   "metadata": {},
   "source": [
    "## Packages and data download"
   ]
  },
  {
   "cell_type": "code",
   "execution_count": 1,
   "metadata": {},
   "outputs": [],
   "source": [
    "import os \n",
    "os.chdir('/lustre/scratch/kiviaho/prostate_spatial/')\n",
    "\n",
    "import scanpy as sc\n",
    "import numpy as np\n",
    "import squidpy as sq\n",
    "import pandas as pd\n",
    "import anndata as ad\n",
    "\n",
    "import matplotlib.pyplot as plt\n",
    "from scripts.utils import load_from_pickle, get_sample_ids, get_sample_id_mask\n",
    "import matplotlib as mpl\n",
    "from sklearn.decomposition import NMF\n",
    "\n",
    "import seaborn as sns\n",
    "sns.set_theme()\n",
    "\n",
    "sc.set_figure_params(figsize=(6,6))\n",
    "\n",
    "import warnings\n",
    "warnings.filterwarnings(\"ignore\")\n",
    "\n",
    "\n",
    "\n",
    "adata_slides = load_from_pickle('./data/clustered_visium_data.pickle')\n",
    "samples = get_sample_ids()\n",
    "\n",
    "# Change the run_name variable to select the appropriate iteration\n",
    "run_name = '20230908'\n",
    "\n",
    "\n"
   ]
  },
  {
   "cell_type": "code",
   "execution_count": 21,
   "metadata": {},
   "outputs": [],
   "source": [
    "# Added 13.12.2023\n",
    "# Rename some of the more ambiguous cell names\n",
    "# NOT YEAT IMPLEMENTED IN THE UPPER PART OF THIS SCRIPT (plotting etc.)\n",
    "\n",
    "cell_type_renaming_dict = {\n",
    "    'mesenchymal epithelium':'sensescent epithelium',\n",
    "    'interferon signaling epithelium':'club_interferon response epithelium',\n",
    "    'cancer epithelium':'tumor',\n",
    "    'intermediate CRPC epithelium':'cycling epithelium 1',\n",
    "    'cycling epithelium':'cycling epithelium 2',\n",
    "    'FOSL1 tumor epithelium':'FOSL1 related epithelium',\n",
    "    'fibroblasts':'fibroblast'\n",
    "    }\n",
    "\n",
    "\n",
    "#cell_mapping_dat.var.index = pd.Index(pd.Series(cell_mapping_dat.var.index).replace(cell_type_renaming_dict))"
   ]
  },
  {
   "cell_type": "code",
   "execution_count": 22,
   "metadata": {},
   "outputs": [],
   "source": [
    "# Download data and format cell2location mapping results into obs columns in both aggregated adata and individual slides\n",
    "adata_vis = sc.read_h5ad('./c2l-results/visium_adata_with_c2l_mapping_'+run_name+'.h5ad')\n",
    "\n",
    "adata_vis.obs.joint_leiden_clusters = adata_vis.obs.sample_id.astype(str) + '_' + adata_vis.obs.joint_leiden_clusters.astype(str)\n",
    "adata_vis.obs['joint_leiden_clusters'] = pd.Categorical(adata_vis.obs['joint_leiden_clusters'])\n",
    "\n",
    "# Copy obsm (cell2location results) to adata object obs\n",
    "adata_vis.obs[adata_vis.uns['mod']['factor_names']] = adata_vis.obsm['q05_cell_abundance_w_sf']\n",
    "\n",
    "# Copy obsm (cell2location results) to individual slides\n",
    "for sample in samples:\n",
    "    vis_subset = adata_vis[adata_vis.obs['sample_id']==sample]\n",
    "    \n",
    "    if (vis_subset.obs_names == adata_slides[sample].obs_names).all():\n",
    "        adata_slides[sample].obsm = vis_subset.obsm.copy()\n",
    "        \n",
    "        # add 5% quantile, representing confident cell abundance, 'at least this amount is present',\n",
    "        # to adata.obs with nice names for plotting\n",
    "        adata_slides[sample].uns['mod'] = vis_subset.uns['mod'].copy()\n",
    "        adata_slides[sample].obs[adata_slides[sample].uns['mod']['factor_names']] = adata_slides[sample].obsm['q05_cell_abundance_w_sf']\n"
   ]
  },
  {
   "attachments": {},
   "cell_type": "markdown",
   "metadata": {},
   "source": [
    "\n",
    "## Visium mapping plots"
   ]
  },
  {
   "cell_type": "code",
   "execution_count": 27,
   "metadata": {},
   "outputs": [
    {
     "data": {
      "text/plain": [
       "<Figure size 1537.92x1080 with 0 Axes>"
      ]
     },
     "metadata": {},
     "output_type": "display_data"
    },
    {
     "data": {
      "text/plain": [
       "<Figure size 1537.92x1080 with 0 Axes>"
      ]
     },
     "metadata": {},
     "output_type": "display_data"
    },
    {
     "data": {
      "text/plain": [
       "<Figure size 1537.92x1080 with 0 Axes>"
      ]
     },
     "metadata": {},
     "output_type": "display_data"
    },
    {
     "data": {
      "text/plain": [
       "<Figure size 1537.92x1080 with 0 Axes>"
      ]
     },
     "metadata": {},
     "output_type": "display_data"
    },
    {
     "data": {
      "text/plain": [
       "<Figure size 1537.92x1080 with 0 Axes>"
      ]
     },
     "metadata": {},
     "output_type": "display_data"
    },
    {
     "data": {
      "text/plain": [
       "<Figure size 1537.92x1080 with 0 Axes>"
      ]
     },
     "metadata": {},
     "output_type": "display_data"
    },
    {
     "data": {
      "text/plain": [
       "<Figure size 1537.92x1080 with 0 Axes>"
      ]
     },
     "metadata": {},
     "output_type": "display_data"
    },
    {
     "data": {
      "text/plain": [
       "<Figure size 1537.92x1080 with 0 Axes>"
      ]
     },
     "metadata": {},
     "output_type": "display_data"
    },
    {
     "data": {
      "text/plain": [
       "<Figure size 1537.92x1080 with 0 Axes>"
      ]
     },
     "metadata": {},
     "output_type": "display_data"
    },
    {
     "data": {
      "text/plain": [
       "<Figure size 1537.92x1080 with 0 Axes>"
      ]
     },
     "metadata": {},
     "output_type": "display_data"
    },
    {
     "data": {
      "text/plain": [
       "<Figure size 1537.92x1080 with 0 Axes>"
      ]
     },
     "metadata": {},
     "output_type": "display_data"
    },
    {
     "data": {
      "text/plain": [
       "<Figure size 1537.92x1080 with 0 Axes>"
      ]
     },
     "metadata": {},
     "output_type": "display_data"
    },
    {
     "data": {
      "text/plain": [
       "<Figure size 1537.92x1080 with 0 Axes>"
      ]
     },
     "metadata": {},
     "output_type": "display_data"
    },
    {
     "data": {
      "text/plain": [
       "<Figure size 1537.92x1080 with 0 Axes>"
      ]
     },
     "metadata": {},
     "output_type": "display_data"
    },
    {
     "data": {
      "text/plain": [
       "<Figure size 1537.92x1080 with 0 Axes>"
      ]
     },
     "metadata": {},
     "output_type": "display_data"
    },
    {
     "data": {
      "text/plain": [
       "<Figure size 1537.92x1080 with 0 Axes>"
      ]
     },
     "metadata": {},
     "output_type": "display_data"
    },
    {
     "data": {
      "text/plain": [
       "<Figure size 1537.92x1080 with 0 Axes>"
      ]
     },
     "metadata": {},
     "output_type": "display_data"
    },
    {
     "data": {
      "text/plain": [
       "<Figure size 1537.92x1080 with 0 Axes>"
      ]
     },
     "metadata": {},
     "output_type": "display_data"
    },
    {
     "data": {
      "text/plain": [
       "<Figure size 1537.92x1080 with 0 Axes>"
      ]
     },
     "metadata": {},
     "output_type": "display_data"
    },
    {
     "data": {
      "text/plain": [
       "<Figure size 1537.92x1080 with 0 Axes>"
      ]
     },
     "metadata": {},
     "output_type": "display_data"
    },
    {
     "data": {
      "text/plain": [
       "<Figure size 1537.92x1080 with 0 Axes>"
      ]
     },
     "metadata": {},
     "output_type": "display_data"
    },
    {
     "data": {
      "text/plain": [
       "<Figure size 1537.92x1080 with 0 Axes>"
      ]
     },
     "metadata": {},
     "output_type": "display_data"
    },
    {
     "data": {
      "text/plain": [
       "<Figure size 1537.92x1080 with 0 Axes>"
      ]
     },
     "metadata": {},
     "output_type": "display_data"
    },
    {
     "data": {
      "text/plain": [
       "<Figure size 1537.92x1080 with 0 Axes>"
      ]
     },
     "metadata": {},
     "output_type": "display_data"
    },
    {
     "data": {
      "text/plain": [
       "<Figure size 1537.92x1080 with 0 Axes>"
      ]
     },
     "metadata": {},
     "output_type": "display_data"
    },
    {
     "data": {
      "text/plain": [
       "<Figure size 1537.92x1080 with 0 Axes>"
      ]
     },
     "metadata": {},
     "output_type": "display_data"
    },
    {
     "data": {
      "text/plain": [
       "<Figure size 1537.92x1080 with 0 Axes>"
      ]
     },
     "metadata": {},
     "output_type": "display_data"
    },
    {
     "data": {
      "text/plain": [
       "<Figure size 1537.92x1080 with 0 Axes>"
      ]
     },
     "metadata": {},
     "output_type": "display_data"
    },
    {
     "data": {
      "text/plain": [
       "<Figure size 1537.92x1080 with 0 Axes>"
      ]
     },
     "metadata": {},
     "output_type": "display_data"
    },
    {
     "data": {
      "text/plain": [
       "<Figure size 1537.92x1080 with 0 Axes>"
      ]
     },
     "metadata": {},
     "output_type": "display_data"
    },
    {
     "data": {
      "text/plain": [
       "<Figure size 1537.92x1080 with 0 Axes>"
      ]
     },
     "metadata": {},
     "output_type": "display_data"
    },
    {
     "data": {
      "text/plain": [
       "<Figure size 1537.92x1080 with 0 Axes>"
      ]
     },
     "metadata": {},
     "output_type": "display_data"
    },
    {
     "data": {
      "text/plain": [
       "<Figure size 1537.92x1080 with 0 Axes>"
      ]
     },
     "metadata": {},
     "output_type": "display_data"
    },
    {
     "data": {
      "text/plain": [
       "<Figure size 1537.92x1080 with 0 Axes>"
      ]
     },
     "metadata": {},
     "output_type": "display_data"
    },
    {
     "data": {
      "text/plain": [
       "<Figure size 1537.92x1080 with 0 Axes>"
      ]
     },
     "metadata": {},
     "output_type": "display_data"
    },
    {
     "data": {
      "text/plain": [
       "<Figure size 1537.92x1080 with 0 Axes>"
      ]
     },
     "metadata": {},
     "output_type": "display_data"
    },
    {
     "data": {
      "text/plain": [
       "<Figure size 1537.92x1080 with 0 Axes>"
      ]
     },
     "metadata": {},
     "output_type": "display_data"
    }
   ],
   "source": [
    "# Plots and saves top n_types with highest prevelance on visium slides\n",
    "n_types = 12\n",
    "\n",
    "for sample in samples:\n",
    "    slide = adata_slides[sample]\n",
    "\n",
    "    # Added 13.12.2023\n",
    "    slide.obs.columns = pd.Index(pd.Series(slide.obs.columns).replace(cell_type_renaming_dict))\n",
    "\n",
    "    # Subset to only plot the cell types with highest mean prevalence\n",
    "    cell_types = slide.obs.iloc[:,16:].mean(axis=0).sort_values(ascending=False)[:n_types]\n",
    "\n",
    "    # plot in spatial coordinates\n",
    "    with mpl.rc_context({'axes.facecolor':  'black',\n",
    "                        'figure.figsize': [4.5, 5]}):\n",
    "\n",
    "        sc.pl.spatial(slide, cmap='magma',\n",
    "                    # show first 8 cell types\n",
    "                    color=cell_types.index,\n",
    "                    ncols=4, size=1.3,alpha_img=0.8,\n",
    "                    # limit color scale at 99.2% quantile of cell abundance\n",
    "                    vmin=0, vmax='p99.2', show=False\n",
    "                    )\n",
    "        plt.savefig('./plots/c2l_mapping_results_'+run_name+'/'+sample+'_c2l_mapping_top12_abundant.png',dpi=200)\n",
    "        plt.clf()"
   ]
  },
  {
   "cell_type": "code",
   "execution_count": null,
   "metadata": {},
   "outputs": [],
   "source": [
    "## Side by side violin plots of abundant cell types + spatial \n",
    "\n",
    "plt.rcParams.update({'axes.titlesize': 'small'})\n",
    "\n",
    "n_types = 6\n",
    "obs_name = 'joint_leiden_clusters'\n",
    "\n",
    "for s in samples:\n",
    "\n",
    "    slide = adata_slides[s].copy()\n",
    "\n",
    "    # Subset to only plot the cell types with highest mean prevalence\n",
    "    cell_counts = slide.obs[adata_vis.uns['mod']['factor_names']]\n",
    "    cell_type_pcts = cell_counts.div(cell_counts.sum(axis=1),axis=0)*100\n",
    "    cell_types_to_plot = cell_type_pcts.mean(axis=0).sort_values(ascending=False)[:n_types].index\n",
    "\n",
    "\n",
    "    # Iterate over the columns of df2\n",
    "    for column in cell_type_pcts.columns:\n",
    "        # Check if the column exists in df1\n",
    "        if column in slide.obs.columns:\n",
    "            # Replace the column in df1 with the corresponding column from df2\n",
    "            slide.obs[column] = cell_type_pcts[column]\n",
    "\n",
    "\n",
    "    fig = plt.figure(figsize=(16,16))\n",
    "\n",
    "    gs = fig.add_gridspec(6,3)\n",
    "    ax6 = fig.add_subplot(gs[:, 1:3])\n",
    "\n",
    "    # Plot the data in the left column subplots\n",
    "    for i in range(6):\n",
    "\n",
    "        ax_plotting = fig.add_subplot(gs[i,0])\n",
    "\n",
    "        sc.pl.violin(slide,groupby=obs_name,keys=cell_types_to_plot[i],jitter=False,rotation=45,inner='box',\n",
    "                    ax=ax_plotting,show=False)\n",
    "        \n",
    "        ax_plotting.yaxis.label.set_size(12)\n",
    "        ax_plotting.yaxis.label.set_rotation(75)\n",
    "\n",
    "        if i < 5:  # only remove x-labels for the top 5 subplots on the left\n",
    "            ax_plotting.tick_params(axis='x', which='both', bottom=False, labelbottom=False) \n",
    "\n",
    "    sc.pl.spatial(adata_slides[s],color='joint_leiden_clusters',size=1.3,ax=ax6)\n",
    "\n",
    "    fig.savefig('./plots/c2l_mapping_results_'+run_name+'/'+s+'_cell_type_prevalences_per_cluster.png')\n",
    "    plt.clf()\n",
    "\n"
   ]
  },
  {
   "attachments": {},
   "cell_type": "markdown",
   "metadata": {},
   "source": [
    "## Secondary analysis of the cell type mapping numbers"
   ]
  },
  {
   "cell_type": "code",
   "execution_count": null,
   "metadata": {},
   "outputs": [],
   "source": [
    "# Save the cell mapping data into an array\n",
    "\"\"\" \n",
    "cell_types = list(adata_vis.uns['mod']['factor_names'])\n",
    "ctype_dat = np.array(adata_vis.obs[cell_types].copy())\n",
    "ctype_dat_obs = adata_vis.obs.drop(columns=cell_types).copy()\n",
    "ctype_dat_var = pd.DataFrame(index=cell_types)\n",
    "cell_mapping_dat = ad.AnnData(X=ctype_dat,obs=ctype_dat_obs,var=ctype_dat_var)\n",
    "\n",
    "cell_mapping_dat.write('c2l_mapping_as_anndata_'+run_name+'.h5ad')\n",
    " \"\"\""
   ]
  },
  {
   "cell_type": "code",
   "execution_count": 2,
   "metadata": {},
   "outputs": [],
   "source": [
    "import os \n",
    "os.chdir('/lustre/scratch/kiviaho/prostate_spatial/')\n",
    "\n",
    "import scanpy as sc\n",
    "import numpy as np\n",
    "import squidpy as sq\n",
    "import pandas as pd\n",
    "import anndata as ad\n",
    "\n",
    "import matplotlib.pyplot as plt\n",
    "from scripts.utils import load_from_pickle, get_sample_ids\n",
    "import matplotlib as mpl\n",
    "from sklearn.decomposition import NMF\n",
    "\n",
    "import seaborn as sns\n",
    "sns.set_theme()\n",
    "\n",
    "sc.set_figure_params(figsize=(6,6))\n",
    "\n",
    "import warnings\n",
    "warnings.filterwarnings(\"ignore\")\n",
    "\n",
    "def unison_shuffled_copies(a, b):\n",
    "    assert len(a) == len(b)\n",
    "    p = np.random.permutation(len(a))\n",
    "    return a[p], b[p]\n",
    "\n",
    "\n",
    "adata_slides = load_from_pickle('./data/clustered_visium_data.pickle')\n",
    "samples = get_sample_ids()\n",
    "\n",
    "# Change the run_name variable to select the appropriate iteration\n",
    "run_name = '20230908' # 20230908 is the 26-cell type reference mapped onto spatial\n",
    "\n",
    "cell_mapping_dat = sc.read_h5ad('c2l_mapping_as_anndata_'+run_name+'.h5ad')\n",
    "cell_types = list(cell_mapping_dat.var_names)\n"
   ]
  },
  {
   "cell_type": "code",
   "execution_count": 3,
   "metadata": {},
   "outputs": [],
   "source": [
    "# Added 13.12.2023\n",
    "# Rename some of the more ambiguous cell names\n",
    "\n",
    "cell_type_renaming_dict = {\n",
    "    'mesenchymal epithelium':'sensescent epithelium',\n",
    "    'interferon signaling epithelium':'club_interferon response epithelium',\n",
    "    'cancer epithelium':'tumor',\n",
    "    'intermediate CRPC epithelium':'cycling epithelium 1',\n",
    "    'cycling epithelium':'cycling epithelium 2',\n",
    "    'FOSL1 tumor epithelium':'FOSL1 related epithelium',\n",
    "    'fibroblasts':'fibroblast'\n",
    "    }\n",
    "\n",
    "\n",
    "cell_mapping_dat.var.index = pd.Index(pd.Series(cell_mapping_dat.var.index).replace(cell_type_renaming_dict))"
   ]
  },
  {
   "cell_type": "code",
   "execution_count": 11,
   "metadata": {},
   "outputs": [
    {
     "data": {
      "text/html": [
       "<div>\n",
       "<style scoped>\n",
       "    .dataframe tbody tr th:only-of-type {\n",
       "        vertical-align: middle;\n",
       "    }\n",
       "\n",
       "    .dataframe tbody tr th {\n",
       "        vertical-align: top;\n",
       "    }\n",
       "\n",
       "    .dataframe thead th {\n",
       "        text-align: right;\n",
       "    }\n",
       "</style>\n",
       "<table border=\"1\" class=\"dataframe\">\n",
       "  <thead>\n",
       "    <tr style=\"text-align: right;\">\n",
       "      <th></th>\n",
       "      <th>B cells</th>\n",
       "      <th>DC</th>\n",
       "      <th>FOSL1 related epithelium</th>\n",
       "      <th>ILC</th>\n",
       "      <th>Macrophages</th>\n",
       "      <th>Mast cells</th>\n",
       "      <th>Monocytes</th>\n",
       "      <th>Neuronal</th>\n",
       "      <th>Plasma cells</th>\n",
       "      <th>T cells</th>\n",
       "      <th>...</th>\n",
       "      <th>chaperone response fibroblasts</th>\n",
       "      <th>cycling epithelium 2</th>\n",
       "      <th>fibroblast</th>\n",
       "      <th>club_interferon response epithelium</th>\n",
       "      <th>cycling epithelium 1</th>\n",
       "      <th>luminal epithelium</th>\n",
       "      <th>sensescent epithelium</th>\n",
       "      <th>muscle</th>\n",
       "      <th>stress response fibroblasts</th>\n",
       "      <th>stress signaling epithelium</th>\n",
       "    </tr>\n",
       "  </thead>\n",
       "  <tbody>\n",
       "    <tr>\n",
       "      <th>BPH_651_AAACAGCTTTCAGAAG-1</th>\n",
       "      <td>0.050214</td>\n",
       "      <td>0.006995</td>\n",
       "      <td>0.004285</td>\n",
       "      <td>0.061899</td>\n",
       "      <td>0.008066</td>\n",
       "      <td>0.025660</td>\n",
       "      <td>0.012340</td>\n",
       "      <td>0.111792</td>\n",
       "      <td>0.004341</td>\n",
       "      <td>0.056148</td>\n",
       "      <td>...</td>\n",
       "      <td>0.060646</td>\n",
       "      <td>0.004090</td>\n",
       "      <td>3.109481</td>\n",
       "      <td>0.033482</td>\n",
       "      <td>0.004921</td>\n",
       "      <td>0.908903</td>\n",
       "      <td>0.001666</td>\n",
       "      <td>5.151918</td>\n",
       "      <td>0.630330</td>\n",
       "      <td>0.005439</td>\n",
       "    </tr>\n",
       "    <tr>\n",
       "      <th>BPH_651_AAACAGGGTCTATATT-1</th>\n",
       "      <td>1.392775</td>\n",
       "      <td>0.291978</td>\n",
       "      <td>0.005410</td>\n",
       "      <td>0.813491</td>\n",
       "      <td>0.205964</td>\n",
       "      <td>0.014262</td>\n",
       "      <td>0.036546</td>\n",
       "      <td>0.042430</td>\n",
       "      <td>0.034411</td>\n",
       "      <td>1.838334</td>\n",
       "      <td>...</td>\n",
       "      <td>0.030573</td>\n",
       "      <td>0.002561</td>\n",
       "      <td>2.513114</td>\n",
       "      <td>0.030184</td>\n",
       "      <td>0.017408</td>\n",
       "      <td>5.323430</td>\n",
       "      <td>0.000606</td>\n",
       "      <td>2.558765</td>\n",
       "      <td>0.043408</td>\n",
       "      <td>0.004757</td>\n",
       "    </tr>\n",
       "    <tr>\n",
       "      <th>BPH_651_AAACATTTCCCGGATT-1</th>\n",
       "      <td>0.654863</td>\n",
       "      <td>0.645305</td>\n",
       "      <td>0.008097</td>\n",
       "      <td>0.365531</td>\n",
       "      <td>0.186994</td>\n",
       "      <td>0.153040</td>\n",
       "      <td>0.454649</td>\n",
       "      <td>0.145424</td>\n",
       "      <td>0.020686</td>\n",
       "      <td>0.637729</td>\n",
       "      <td>...</td>\n",
       "      <td>0.125881</td>\n",
       "      <td>0.023869</td>\n",
       "      <td>8.197350</td>\n",
       "      <td>0.061386</td>\n",
       "      <td>0.030265</td>\n",
       "      <td>0.130961</td>\n",
       "      <td>0.006295</td>\n",
       "      <td>4.425882</td>\n",
       "      <td>0.819243</td>\n",
       "      <td>0.021611</td>\n",
       "    </tr>\n",
       "    <tr>\n",
       "      <th>BPH_651_AAACCGGGTAGGTACC-1</th>\n",
       "      <td>0.774014</td>\n",
       "      <td>0.170076</td>\n",
       "      <td>0.009871</td>\n",
       "      <td>0.341104</td>\n",
       "      <td>0.076426</td>\n",
       "      <td>0.079203</td>\n",
       "      <td>0.050233</td>\n",
       "      <td>0.257364</td>\n",
       "      <td>0.035610</td>\n",
       "      <td>0.874806</td>\n",
       "      <td>...</td>\n",
       "      <td>0.036965</td>\n",
       "      <td>0.010389</td>\n",
       "      <td>7.555060</td>\n",
       "      <td>0.042300</td>\n",
       "      <td>0.058094</td>\n",
       "      <td>0.010448</td>\n",
       "      <td>0.012493</td>\n",
       "      <td>12.856030</td>\n",
       "      <td>0.045312</td>\n",
       "      <td>0.094638</td>\n",
       "    </tr>\n",
       "    <tr>\n",
       "      <th>BPH_651_AAACCGTTCGTCCAGG-1</th>\n",
       "      <td>5.075677</td>\n",
       "      <td>1.784347</td>\n",
       "      <td>0.021865</td>\n",
       "      <td>2.258175</td>\n",
       "      <td>0.788024</td>\n",
       "      <td>0.056355</td>\n",
       "      <td>0.317697</td>\n",
       "      <td>0.056673</td>\n",
       "      <td>0.070909</td>\n",
       "      <td>5.661675</td>\n",
       "      <td>...</td>\n",
       "      <td>0.112945</td>\n",
       "      <td>0.262620</td>\n",
       "      <td>7.256652</td>\n",
       "      <td>0.245246</td>\n",
       "      <td>0.190347</td>\n",
       "      <td>0.012091</td>\n",
       "      <td>0.041054</td>\n",
       "      <td>0.315443</td>\n",
       "      <td>0.244280</td>\n",
       "      <td>0.367465</td>\n",
       "    </tr>\n",
       "    <tr>\n",
       "      <th>...</th>\n",
       "      <td>...</td>\n",
       "      <td>...</td>\n",
       "      <td>...</td>\n",
       "      <td>...</td>\n",
       "      <td>...</td>\n",
       "      <td>...</td>\n",
       "      <td>...</td>\n",
       "      <td>...</td>\n",
       "      <td>...</td>\n",
       "      <td>...</td>\n",
       "      <td>...</td>\n",
       "      <td>...</td>\n",
       "      <td>...</td>\n",
       "      <td>...</td>\n",
       "      <td>...</td>\n",
       "      <td>...</td>\n",
       "      <td>...</td>\n",
       "      <td>...</td>\n",
       "      <td>...</td>\n",
       "      <td>...</td>\n",
       "      <td>...</td>\n",
       "    </tr>\n",
       "    <tr>\n",
       "      <th>CRPC_530_TTGTTAGCAAATTCGA-1</th>\n",
       "      <td>0.064392</td>\n",
       "      <td>0.002963</td>\n",
       "      <td>0.035969</td>\n",
       "      <td>0.029471</td>\n",
       "      <td>0.007355</td>\n",
       "      <td>0.013539</td>\n",
       "      <td>0.009433</td>\n",
       "      <td>0.042206</td>\n",
       "      <td>0.130097</td>\n",
       "      <td>0.040735</td>\n",
       "      <td>...</td>\n",
       "      <td>0.127348</td>\n",
       "      <td>0.005772</td>\n",
       "      <td>0.380894</td>\n",
       "      <td>0.019540</td>\n",
       "      <td>0.063870</td>\n",
       "      <td>22.213495</td>\n",
       "      <td>0.010800</td>\n",
       "      <td>1.133596</td>\n",
       "      <td>0.087055</td>\n",
       "      <td>0.098886</td>\n",
       "    </tr>\n",
       "    <tr>\n",
       "      <th>CRPC_530_TTGTTCAGTGTGCTAC-1</th>\n",
       "      <td>0.021284</td>\n",
       "      <td>0.000277</td>\n",
       "      <td>0.025656</td>\n",
       "      <td>0.017546</td>\n",
       "      <td>0.001832</td>\n",
       "      <td>0.006258</td>\n",
       "      <td>0.003530</td>\n",
       "      <td>0.015723</td>\n",
       "      <td>0.096923</td>\n",
       "      <td>0.017444</td>\n",
       "      <td>...</td>\n",
       "      <td>0.109225</td>\n",
       "      <td>0.001046</td>\n",
       "      <td>0.013293</td>\n",
       "      <td>0.013744</td>\n",
       "      <td>0.026852</td>\n",
       "      <td>20.612139</td>\n",
       "      <td>0.003219</td>\n",
       "      <td>0.093045</td>\n",
       "      <td>0.074004</td>\n",
       "      <td>0.054799</td>\n",
       "    </tr>\n",
       "    <tr>\n",
       "      <th>CRPC_530_TTGTTTCACATCCAGG-1</th>\n",
       "      <td>0.565884</td>\n",
       "      <td>0.232522</td>\n",
       "      <td>0.026084</td>\n",
       "      <td>0.537381</td>\n",
       "      <td>0.429342</td>\n",
       "      <td>0.294160</td>\n",
       "      <td>0.171176</td>\n",
       "      <td>0.479678</td>\n",
       "      <td>0.252627</td>\n",
       "      <td>0.495863</td>\n",
       "      <td>...</td>\n",
       "      <td>0.220561</td>\n",
       "      <td>0.044661</td>\n",
       "      <td>18.708576</td>\n",
       "      <td>0.257515</td>\n",
       "      <td>0.162581</td>\n",
       "      <td>1.803473</td>\n",
       "      <td>0.021222</td>\n",
       "      <td>13.130106</td>\n",
       "      <td>0.647181</td>\n",
       "      <td>0.019978</td>\n",
       "    </tr>\n",
       "    <tr>\n",
       "      <th>CRPC_530_TTGTTTGTATTACACG-1</th>\n",
       "      <td>0.355755</td>\n",
       "      <td>0.093757</td>\n",
       "      <td>0.024200</td>\n",
       "      <td>0.156574</td>\n",
       "      <td>0.068344</td>\n",
       "      <td>0.208819</td>\n",
       "      <td>0.027875</td>\n",
       "      <td>0.403206</td>\n",
       "      <td>0.018265</td>\n",
       "      <td>0.219486</td>\n",
       "      <td>...</td>\n",
       "      <td>0.064964</td>\n",
       "      <td>0.089603</td>\n",
       "      <td>7.300534</td>\n",
       "      <td>0.166418</td>\n",
       "      <td>0.077097</td>\n",
       "      <td>1.039869</td>\n",
       "      <td>0.050728</td>\n",
       "      <td>18.536819</td>\n",
       "      <td>0.093928</td>\n",
       "      <td>0.301353</td>\n",
       "    </tr>\n",
       "    <tr>\n",
       "      <th>CRPC_530_TTGTTTGTGTAAATTC-1</th>\n",
       "      <td>0.641335</td>\n",
       "      <td>0.139071</td>\n",
       "      <td>0.011995</td>\n",
       "      <td>0.555116</td>\n",
       "      <td>0.696566</td>\n",
       "      <td>0.256084</td>\n",
       "      <td>0.064805</td>\n",
       "      <td>0.207117</td>\n",
       "      <td>0.029956</td>\n",
       "      <td>0.726999</td>\n",
       "      <td>...</td>\n",
       "      <td>0.078773</td>\n",
       "      <td>0.045223</td>\n",
       "      <td>6.780631</td>\n",
       "      <td>0.124751</td>\n",
       "      <td>0.100636</td>\n",
       "      <td>2.994402</td>\n",
       "      <td>0.020567</td>\n",
       "      <td>9.865813</td>\n",
       "      <td>0.113130</td>\n",
       "      <td>0.275572</td>\n",
       "    </tr>\n",
       "  </tbody>\n",
       "</table>\n",
       "<p>101869 rows × 26 columns</p>\n",
       "</div>"
      ],
      "text/plain": [
       "                              B cells        DC  FOSL1 related epithelium  \\\n",
       "BPH_651_AAACAGCTTTCAGAAG-1   0.050214  0.006995                  0.004285   \n",
       "BPH_651_AAACAGGGTCTATATT-1   1.392775  0.291978                  0.005410   \n",
       "BPH_651_AAACATTTCCCGGATT-1   0.654863  0.645305                  0.008097   \n",
       "BPH_651_AAACCGGGTAGGTACC-1   0.774014  0.170076                  0.009871   \n",
       "BPH_651_AAACCGTTCGTCCAGG-1   5.075677  1.784347                  0.021865   \n",
       "...                               ...       ...                       ...   \n",
       "CRPC_530_TTGTTAGCAAATTCGA-1  0.064392  0.002963                  0.035969   \n",
       "CRPC_530_TTGTTCAGTGTGCTAC-1  0.021284  0.000277                  0.025656   \n",
       "CRPC_530_TTGTTTCACATCCAGG-1  0.565884  0.232522                  0.026084   \n",
       "CRPC_530_TTGTTTGTATTACACG-1  0.355755  0.093757                  0.024200   \n",
       "CRPC_530_TTGTTTGTGTAAATTC-1  0.641335  0.139071                  0.011995   \n",
       "\n",
       "                                  ILC  Macrophages  Mast cells  Monocytes  \\\n",
       "BPH_651_AAACAGCTTTCAGAAG-1   0.061899     0.008066    0.025660   0.012340   \n",
       "BPH_651_AAACAGGGTCTATATT-1   0.813491     0.205964    0.014262   0.036546   \n",
       "BPH_651_AAACATTTCCCGGATT-1   0.365531     0.186994    0.153040   0.454649   \n",
       "BPH_651_AAACCGGGTAGGTACC-1   0.341104     0.076426    0.079203   0.050233   \n",
       "BPH_651_AAACCGTTCGTCCAGG-1   2.258175     0.788024    0.056355   0.317697   \n",
       "...                               ...          ...         ...        ...   \n",
       "CRPC_530_TTGTTAGCAAATTCGA-1  0.029471     0.007355    0.013539   0.009433   \n",
       "CRPC_530_TTGTTCAGTGTGCTAC-1  0.017546     0.001832    0.006258   0.003530   \n",
       "CRPC_530_TTGTTTCACATCCAGG-1  0.537381     0.429342    0.294160   0.171176   \n",
       "CRPC_530_TTGTTTGTATTACACG-1  0.156574     0.068344    0.208819   0.027875   \n",
       "CRPC_530_TTGTTTGTGTAAATTC-1  0.555116     0.696566    0.256084   0.064805   \n",
       "\n",
       "                             Neuronal  Plasma cells   T cells  ...  \\\n",
       "BPH_651_AAACAGCTTTCAGAAG-1   0.111792      0.004341  0.056148  ...   \n",
       "BPH_651_AAACAGGGTCTATATT-1   0.042430      0.034411  1.838334  ...   \n",
       "BPH_651_AAACATTTCCCGGATT-1   0.145424      0.020686  0.637729  ...   \n",
       "BPH_651_AAACCGGGTAGGTACC-1   0.257364      0.035610  0.874806  ...   \n",
       "BPH_651_AAACCGTTCGTCCAGG-1   0.056673      0.070909  5.661675  ...   \n",
       "...                               ...           ...       ...  ...   \n",
       "CRPC_530_TTGTTAGCAAATTCGA-1  0.042206      0.130097  0.040735  ...   \n",
       "CRPC_530_TTGTTCAGTGTGCTAC-1  0.015723      0.096923  0.017444  ...   \n",
       "CRPC_530_TTGTTTCACATCCAGG-1  0.479678      0.252627  0.495863  ...   \n",
       "CRPC_530_TTGTTTGTATTACACG-1  0.403206      0.018265  0.219486  ...   \n",
       "CRPC_530_TTGTTTGTGTAAATTC-1  0.207117      0.029956  0.726999  ...   \n",
       "\n",
       "                             chaperone response fibroblasts  \\\n",
       "BPH_651_AAACAGCTTTCAGAAG-1                         0.060646   \n",
       "BPH_651_AAACAGGGTCTATATT-1                         0.030573   \n",
       "BPH_651_AAACATTTCCCGGATT-1                         0.125881   \n",
       "BPH_651_AAACCGGGTAGGTACC-1                         0.036965   \n",
       "BPH_651_AAACCGTTCGTCCAGG-1                         0.112945   \n",
       "...                                                     ...   \n",
       "CRPC_530_TTGTTAGCAAATTCGA-1                        0.127348   \n",
       "CRPC_530_TTGTTCAGTGTGCTAC-1                        0.109225   \n",
       "CRPC_530_TTGTTTCACATCCAGG-1                        0.220561   \n",
       "CRPC_530_TTGTTTGTATTACACG-1                        0.064964   \n",
       "CRPC_530_TTGTTTGTGTAAATTC-1                        0.078773   \n",
       "\n",
       "                             cycling epithelium 2  fibroblast  \\\n",
       "BPH_651_AAACAGCTTTCAGAAG-1               0.004090    3.109481   \n",
       "BPH_651_AAACAGGGTCTATATT-1               0.002561    2.513114   \n",
       "BPH_651_AAACATTTCCCGGATT-1               0.023869    8.197350   \n",
       "BPH_651_AAACCGGGTAGGTACC-1               0.010389    7.555060   \n",
       "BPH_651_AAACCGTTCGTCCAGG-1               0.262620    7.256652   \n",
       "...                                           ...         ...   \n",
       "CRPC_530_TTGTTAGCAAATTCGA-1              0.005772    0.380894   \n",
       "CRPC_530_TTGTTCAGTGTGCTAC-1              0.001046    0.013293   \n",
       "CRPC_530_TTGTTTCACATCCAGG-1              0.044661   18.708576   \n",
       "CRPC_530_TTGTTTGTATTACACG-1              0.089603    7.300534   \n",
       "CRPC_530_TTGTTTGTGTAAATTC-1              0.045223    6.780631   \n",
       "\n",
       "                             club_interferon response epithelium  \\\n",
       "BPH_651_AAACAGCTTTCAGAAG-1                              0.033482   \n",
       "BPH_651_AAACAGGGTCTATATT-1                              0.030184   \n",
       "BPH_651_AAACATTTCCCGGATT-1                              0.061386   \n",
       "BPH_651_AAACCGGGTAGGTACC-1                              0.042300   \n",
       "BPH_651_AAACCGTTCGTCCAGG-1                              0.245246   \n",
       "...                                                          ...   \n",
       "CRPC_530_TTGTTAGCAAATTCGA-1                             0.019540   \n",
       "CRPC_530_TTGTTCAGTGTGCTAC-1                             0.013744   \n",
       "CRPC_530_TTGTTTCACATCCAGG-1                             0.257515   \n",
       "CRPC_530_TTGTTTGTATTACACG-1                             0.166418   \n",
       "CRPC_530_TTGTTTGTGTAAATTC-1                             0.124751   \n",
       "\n",
       "                             cycling epithelium 1  luminal epithelium  \\\n",
       "BPH_651_AAACAGCTTTCAGAAG-1               0.004921            0.908903   \n",
       "BPH_651_AAACAGGGTCTATATT-1               0.017408            5.323430   \n",
       "BPH_651_AAACATTTCCCGGATT-1               0.030265            0.130961   \n",
       "BPH_651_AAACCGGGTAGGTACC-1               0.058094            0.010448   \n",
       "BPH_651_AAACCGTTCGTCCAGG-1               0.190347            0.012091   \n",
       "...                                           ...                 ...   \n",
       "CRPC_530_TTGTTAGCAAATTCGA-1              0.063870           22.213495   \n",
       "CRPC_530_TTGTTCAGTGTGCTAC-1              0.026852           20.612139   \n",
       "CRPC_530_TTGTTTCACATCCAGG-1              0.162581            1.803473   \n",
       "CRPC_530_TTGTTTGTATTACACG-1              0.077097            1.039869   \n",
       "CRPC_530_TTGTTTGTGTAAATTC-1              0.100636            2.994402   \n",
       "\n",
       "                             sensescent epithelium     muscle  \\\n",
       "BPH_651_AAACAGCTTTCAGAAG-1                0.001666   5.151918   \n",
       "BPH_651_AAACAGGGTCTATATT-1                0.000606   2.558765   \n",
       "BPH_651_AAACATTTCCCGGATT-1                0.006295   4.425882   \n",
       "BPH_651_AAACCGGGTAGGTACC-1                0.012493  12.856030   \n",
       "BPH_651_AAACCGTTCGTCCAGG-1                0.041054   0.315443   \n",
       "...                                            ...        ...   \n",
       "CRPC_530_TTGTTAGCAAATTCGA-1               0.010800   1.133596   \n",
       "CRPC_530_TTGTTCAGTGTGCTAC-1               0.003219   0.093045   \n",
       "CRPC_530_TTGTTTCACATCCAGG-1               0.021222  13.130106   \n",
       "CRPC_530_TTGTTTGTATTACACG-1               0.050728  18.536819   \n",
       "CRPC_530_TTGTTTGTGTAAATTC-1               0.020567   9.865813   \n",
       "\n",
       "                             stress response fibroblasts  \\\n",
       "BPH_651_AAACAGCTTTCAGAAG-1                      0.630330   \n",
       "BPH_651_AAACAGGGTCTATATT-1                      0.043408   \n",
       "BPH_651_AAACATTTCCCGGATT-1                      0.819243   \n",
       "BPH_651_AAACCGGGTAGGTACC-1                      0.045312   \n",
       "BPH_651_AAACCGTTCGTCCAGG-1                      0.244280   \n",
       "...                                                  ...   \n",
       "CRPC_530_TTGTTAGCAAATTCGA-1                     0.087055   \n",
       "CRPC_530_TTGTTCAGTGTGCTAC-1                     0.074004   \n",
       "CRPC_530_TTGTTTCACATCCAGG-1                     0.647181   \n",
       "CRPC_530_TTGTTTGTATTACACG-1                     0.093928   \n",
       "CRPC_530_TTGTTTGTGTAAATTC-1                     0.113130   \n",
       "\n",
       "                             stress signaling epithelium  \n",
       "BPH_651_AAACAGCTTTCAGAAG-1                      0.005439  \n",
       "BPH_651_AAACAGGGTCTATATT-1                      0.004757  \n",
       "BPH_651_AAACATTTCCCGGATT-1                      0.021611  \n",
       "BPH_651_AAACCGGGTAGGTACC-1                      0.094638  \n",
       "BPH_651_AAACCGTTCGTCCAGG-1                      0.367465  \n",
       "...                                                  ...  \n",
       "CRPC_530_TTGTTAGCAAATTCGA-1                     0.098886  \n",
       "CRPC_530_TTGTTCAGTGTGCTAC-1                     0.054799  \n",
       "CRPC_530_TTGTTTCACATCCAGG-1                     0.019978  \n",
       "CRPC_530_TTGTTTGTATTACACG-1                     0.301353  \n",
       "CRPC_530_TTGTTTGTGTAAATTC-1                     0.275572  \n",
       "\n",
       "[101869 rows x 26 columns]"
      ]
     },
     "execution_count": 11,
     "metadata": {},
     "output_type": "execute_result"
    }
   ],
   "source": [
    "df = pd.DataFrame(cell_mapping_dat.X, columns=cell_mapping_dat.var.index,index=cell_mapping_dat.obs.index)\n",
    "df"
   ]
  },
  {
   "cell_type": "code",
   "execution_count": 31,
   "metadata": {},
   "outputs": [],
   "source": [
    "# Save the key cell-type mapping numbers to an excel file (supplementary table)\n",
    "ctype_count_df = df.describe().T\n",
    "ctype_count_df['sum'] = df.sum().loc[ctype_count_df.index].astype(float)\n",
    "ctype_count_df = ctype_count_df[['sum','mean','min','25%','50%','max','std']].round(1)\n",
    "ctype_count_df = ctype_count_df.sort_values('sum',ascending=False)\n",
    "ctype_count_df.to_excel('./supplementary_tables/inferred_cell_type_counts_key_statistics.xlsx')\n",
    "ctype_count_df"
   ]
  },
  {
   "cell_type": "code",
   "execution_count": null,
   "metadata": {},
   "outputs": [],
   "source": [
    "\"\"\" # Summarize the data\n",
    "\n",
    "X = cell_mapping_dat.X.copy()\n",
    "obs_data = cell_mapping_dat.obs.copy().reset_index(drop=True)\n",
    "\n",
    "sum_categories = obs_data['joint_leiden_clusters'].value_counts().index\n",
    "N_obs = len(sum_categories)\n",
    "N_var = X.shape[1]\n",
    "X_summed = np.empty((N_obs, N_var))\n",
    "\n",
    "\n",
    "for i,cl in enumerate(sum_categories):\n",
    "    \n",
    "    idxs = obs_data[obs_data['joint_leiden_clusters'] == cl].index\n",
    "    X_summed[i] = X[idxs].mean(axis=0)\n",
    "\n",
    "# Create a new anndata object with summarized data\n",
    "summarized_data = ad.AnnData(X=X_summed,obs=pd.DataFrame(index=sum_categories),var=cell_mapping_dat.var.copy()) \"\"\""
   ]
  },
  {
   "cell_type": "code",
   "execution_count": 3,
   "metadata": {},
   "outputs": [],
   "source": [
    "# Run NMF to find 'tissue regions'\n",
    "nmf_res_dict = {}\n",
    "nmf_cell_weights_dict = {}\n",
    "adata = cell_mapping_dat.copy()\n",
    "\n",
    "# Set the range of components\n",
    "component_range = range(5, 13)\n",
    "\n",
    "# Perform NMF\n",
    "for n_components in component_range:\n",
    "    nmf = NMF(n_components=n_components,random_state=3456372)\n",
    "    W = nmf.fit_transform(adata.X)\n",
    "    H = nmf.components_\n",
    "\n",
    "    nmf_res = pd.DataFrame(H.T,\n",
    "                        index=adata.var_names,\n",
    "                        columns=list(np.arange(0,n_components)+1),)\n",
    "\n",
    "    nmf_res_dict[n_components] = nmf_res\n",
    "    nmf_cell_weights_dict[n_components] = W"
   ]
  },
  {
   "cell_type": "code",
   "execution_count": 8,
   "metadata": {},
   "outputs": [
    {
     "data": {
      "image/png": "[encoded data removed]",
      "text/plain": [
       "<Figure size 1440x1800 with 9 Axes>"
      ]
     },
     "metadata": {},
     "output_type": "display_data"
    }
   ],
   "source": [
    "# Plot the nmf results on two rows\n",
    "# Create subplots with 2 rows and 4 columns\n",
    "sns.set_theme(style='white',font_scale=1)\n",
    "fig, axs = plt.subplots(3, 3, figsize=(20, 25))\n",
    "\n",
    "for i, n_components in enumerate(component_range):\n",
    "\n",
    "    # Drop the redundant cell types prior to plotting\n",
    "    nmf_res_for_plotting = nmf_res_dict[n_components].copy()\n",
    "    #nmf_res_for_plotting = nmf_res_for_plotting.loc[~(nmf_res_for_plotting.max(axis=1) < nmf_res_for_plotting.stack().quantile(0.9))]\n",
    "\n",
    "    # Determine the position of the subplot on the grid\n",
    "    row = i // 3\n",
    "    col = i % 3\n",
    "    \n",
    "    # Plot the heatmap on the corresponding subplot\n",
    "    sns.heatmap(nmf_res_for_plotting, cmap='Blues', square=True, ax=axs[row, col], vmax=100,cbar=False)\n",
    "\n",
    "\n",
    "axs[2,2].axis('off')\n",
    "plt.tight_layout()\n",
    "\n",
    "plt.savefig('plots/nmf_components.pdf')\n",
    "plt.show()\n"
   ]
  },
  {
   "cell_type": "code",
   "execution_count": 13,
   "metadata": {},
   "outputs": [
    {
     "data": {
      "image/png": "[encoded data removed]",
      "text/plain": [
       "<Figure size 360x360 with 2 Axes>"
      ]
     },
     "metadata": {
      "needs_background": "light"
     },
     "output_type": "display_data"
    }
   ],
   "source": [
    "# Plot the nmf results on two rows\n",
    "# Create subplots with 2 rows and 4 columns\n",
    "fig, ax = plt.subplots(figsize=(5, 5))\n",
    "\n",
    "n_components = 8\n",
    "\n",
    "# Drop the redundant cell types prior to plotting\n",
    "nmf_res_for_plotting = nmf_res_dict[n_components].copy()\n",
    "#nmf_res_for_plotting = nmf_res_for_plotting.loc[~(nmf_res_for_plotting.max(axis=1) < nmf_res_for_plotting.stack().quantile(0.9))]\n",
    "\n",
    "# Determine the position of the subplot on the grid\n",
    "row = i // 3\n",
    "col = i % 3\n",
    "\n",
    "# Plot the heatmap on the corresponding subplot\n",
    "sns.heatmap(nmf_res_for_plotting, cmap='Blues', square=True, ax=ax, vmax=100,cbar=True)\n",
    "\n",
    "plt.tight_layout()\n",
    "\n",
    "plt.savefig('plots/nmf_components_with_colorbar.pdf')\n",
    "plt.show()\n"
   ]
  },
  {
   "cell_type": "code",
   "execution_count": null,
   "metadata": {},
   "outputs": [],
   "source": [
    "# Select the best number of factors and annotate them\n",
    "tissue_region_names = {1:'Luminal epithelium', 2:'Muscle', 3:'Tumor', 4:'Intermediate epithelium',\n",
    "                       5:'Endothelium', 6:'Basal epithelium', 7:'Immune', 8:'Fibroblast'}\n",
    "\n",
    "# Sorting out the colors for tissue regions (Set2 palette)\n",
    "sorted_region_names = [np.sort(list(tissue_region_names.values())).tolist()[i] for i in [7,4,0,3,5,1,2,6]]\n",
    "tissue_region_colors = ['#fc8d62','#8da0cb','#66c2a5','#ffd92f','#a6d854','#e78ac3','#e5c494','#b3b3b3']\n",
    "region_colors_dict = dict(zip(sorted_region_names,tissue_region_colors))\n",
    "\n",
    "# Number 8 is the best fit\n",
    "tissue_regions = nmf_res_dict[8].copy().rename(columns=tissue_region_names)"
   ]
  },
  {
   "cell_type": "code",
   "execution_count": null,
   "metadata": {},
   "outputs": [],
   "source": [
    "\n",
    "# Spot identity is determined by simply choosing the factor with the highest nmf weight\n",
    "obs_data = cell_mapping_dat.obs.copy().reset_index(drop=True)\n",
    "nmf_obs_weights = pd.DataFrame(nmf_cell_weights_dict[8],columns=list(tissue_region_names.values()),index=cell_mapping_dat.obs_names)\n",
    "nmf_obs_annot = nmf_obs_weights.idxmax(axis=1)\n",
    "\n",
    "obs_data.index = cell_mapping_dat.obs_names\n",
    "obs_data['nmf_weight_based_regions'] = nmf_obs_annot\n",
    "nmf_obs_annot.value_counts()\n"
   ]
  },
  {
   "cell_type": "code",
   "execution_count": null,
   "metadata": {},
   "outputs": [],
   "source": [
    "samples = get_sample_ids()\n",
    "for sample in samples:\n",
    "    slide = adata_slides[sample]\n",
    "    slide.obs['predicted_region'] = obs_data.loc[slide.obs_names]['nmf_weight_based_regions'].astype('category')\n",
    "    slide_categories = [s for s in sorted_region_names if s in slide.obs['predicted_region'].cat.categories]\n",
    "    slide.obs['predicted_region'] = slide.obs['predicted_region'].cat.reorder_categories(slide_categories)\n",
    "\n",
    "    # Get the colors considering some might be missing\n",
    "    slide.uns['predicted_region_colors'] = [region_colors_dict[region] for region in slide_categories]\n",
    "\n",
    "    fig,ax_plotting = plt.subplots(1,2,figsize=(18,9))\n",
    "    sc.pl.spatial(slide,color='predicted_region',size=1.3,ax=ax_plotting[0],show=False)\n",
    "    sc.pl.spatial(slide,color='joint_leiden_clusters',size=1.3,ax=ax_plotting[1],show=False)\n",
    "    plt.tight_layout()\n",
    "    plt.savefig('./plots/c2l_mapping_results_'+run_name+'/'+sample+'_side_by_side_nmf_obs_weight_based_tissue_regions_spatial.pdf')\n",
    "    plt.clf()\n",
    "    "
   ]
  },
  {
   "cell_type": "code",
   "execution_count": null,
   "metadata": {},
   "outputs": [],
   "source": [
    "# This is in ALL samples\n",
    "summary_mat = np.zeros((len(sorted_region_names),len(sorted_region_names)))\n",
    "for sample in samples:\n",
    "    \n",
    "    slide = adata_slides[sample]\n",
    "    sq.gr.nhood_enrichment(slide, cluster_key='predicted_region',show_progress_bar=False)\n",
    "    \n",
    "    mat = slide.uns['predicted_region_nhood_enrichment']['zscore'].copy()\n",
    "    mat = np.nan_to_num(mat)\n",
    "\n",
    "\n",
    "    missing = [c for c in sorted_region_names if c not in list(slide.obs['predicted_region'].cat.categories)]\n",
    "\n",
    "    for missing_type in missing:\n",
    "\n",
    "        insert_idx = list(sorted_region_names).index(missing_type)\n",
    "        mat = np.insert(mat, insert_idx, np.repeat(0,mat.shape[1]),axis = 0)\n",
    "        mat = np.insert(mat, insert_idx, np.repeat(0,mat.shape[0]),axis = 1)\n",
    "\n",
    "    summary_mat += mat\n",
    "sns.set_theme(style='white')\n",
    "fig,ax = plt.subplots(figsize=(10,8))\n",
    "df = pd.DataFrame(summary_mat,index=sorted_region_names,columns=sorted_region_names)/len(samples)\n",
    "sns.heatmap(df,cmap='bwr',ax=ax,annot=True,fmt='.1f',center=0,vmin=-30,vmax=30)\n",
    "plt.savefig('./plots/tissue_region_interaction_heatmap_all_samples.pdf')\n",
    "plt.show()"
   ]
  },
  {
   "cell_type": "code",
   "execution_count": null,
   "metadata": {},
   "outputs": [],
   "source": [
    "PCa_samples = get_sample_ids('PCa')\n",
    "# This is in PCa samples\n",
    "summary_mat = np.zeros((len(sorted_region_names),len(sorted_region_names)))\n",
    "for sample in PCa_samples:\n",
    "    slide = adata_slides[sample]\n",
    "    mat = slide.uns['predicted_region_nhood_enrichment']['zscore'].copy()\n",
    "    mat = np.nan_to_num(mat)\n",
    "\n",
    "\n",
    "    missing = [c for c in sorted_region_names if c not in list(slide.obs['predicted_region'].cat.categories)]\n",
    "\n",
    "    for missing_type in missing:\n",
    "\n",
    "        insert_idx = list(sorted_region_names).index(missing_type)\n",
    "        mat = np.insert(mat, insert_idx, np.repeat(0,mat.shape[1]),axis = 0)\n",
    "        mat = np.insert(mat, insert_idx, np.repeat(0,mat.shape[0]),axis = 1)\n",
    "\n",
    "    summary_mat += mat\n",
    "\n",
    "sns.set_theme(style='white')\n",
    "fig,ax = plt.subplots(figsize=(10,8))\n",
    "df = pd.DataFrame(summary_mat,index=sorted_region_names,columns=sorted_region_names)/len(samples)\n",
    "sns.heatmap(df,cmap='bwr',ax=ax,annot=True,fmt='.1f',center=0,vmin=-30,vmax=30)\n",
    "plt.savefig('./plots/tissue_region_interaction_heatmap_PCa_samples.pdf')\n",
    "plt.show()"
   ]
  },
  {
   "cell_type": "code",
   "execution_count": null,
   "metadata": {},
   "outputs": [],
   "source": [
    "# Download data and format cell2location mapping results into obs columns in both aggregated adata and individual slides\n",
    "adata_vis = sc.read_h5ad('./c2l-results/visium_adata_with_c2l_mapping_'+run_name+'.h5ad')\n",
    "\n",
    "adata_vis.obs.joint_leiden_clusters = adata_vis.obs.sample_id.astype(str) + '_' + adata_vis.obs.joint_leiden_clusters.astype(str)\n",
    "adata_vis.obs['joint_leiden_clusters'] = pd.Categorical(adata_vis.obs['joint_leiden_clusters'])\n",
    "\n",
    "# Copy obsm (cell2location results) to adata object obs\n",
    "adata_vis.obs[adata_vis.uns['mod']['factor_names']] = adata_vis.obsm['q05_cell_abundance_w_sf']\n",
    "\n",
    "# Copy obsm (cell2location results) to individual slides\n",
    "for sample in samples:\n",
    "    vis_subset = adata_vis[adata_vis.obs['sample_id']==sample]\n",
    "    \n",
    "    if (vis_subset.obs_names == adata_slides[sample].obs_names).all():\n",
    "        adata_slides[sample].obsm = vis_subset.obsm.copy()\n",
    "        \n",
    "        # add 5% quantile, representing confident cell abundance, 'at least this amount is present',\n",
    "        # to adata.obs with nice names for plotting\n",
    "        adata_slides[sample].uns['mod'] = vis_subset.uns['mod'].copy()\n",
    "        adata_slides[sample].obs[adata_slides[sample].uns['mod']['factor_names']] = adata_slides[sample].obsm['q05_cell_abundance_w_sf']\n"
   ]
  },
  {
   "cell_type": "code",
   "execution_count": null,
   "metadata": {},
   "outputs": [],
   "source": [
    "from scripts.utils import save_to_pickle\n",
    "save_to_pickle(adata_slides,'./data/slides_with_cell_mapping_based_regions.pkl')"
   ]
  },
  {
   "cell_type": "code",
   "execution_count": null,
   "metadata": {},
   "outputs": [],
   "source": []
  },
  {
   "cell_type": "code",
   "execution_count": null,
   "metadata": {},
   "outputs": [],
   "source": []
  }
 ],
 "metadata": {
  "kernelspec": {
   "display_name": "Python 3 (ipykernel)",
   "language": "python",
   "name": "python3"
  },
  "language_info": {
   "codemirror_mode": {
    "name": "ipython",
    "version": 3
   },
   "file_extension": ".py",
   "mimetype": "text/x-python",
   "name": "python",
   "nbconvert_exporter": "python",
   "pygments_lexer": "ipython3",
   "version": "3.8.15"
  },
  "orig_nbformat": 4
 },
 "nbformat": 4,
 "nbformat_minor": 2
}
