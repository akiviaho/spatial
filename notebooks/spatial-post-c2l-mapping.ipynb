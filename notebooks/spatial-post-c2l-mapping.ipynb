{
 "cells": [
  {
   "cell_type": "code",
   "execution_count": null,
   "metadata": {},
   "outputs": [],
   "source": [
    "# Date: 20.3.2023\n",
    "# Author: Antti Kiviaho\n",
    "#\n",
    "# Notebook for analysing and visualizing visium data after copy number variation, single cell mapping and clustering\n",
    "# analyses. This is the main results notebook"
   ]
  },
  {
   "attachments": {},
   "cell_type": "markdown",
   "metadata": {},
   "source": [
    "## Packages and data download"
   ]
  },
  {
   "cell_type": "code",
   "execution_count": 1,
   "metadata": {},
   "outputs": [
    {
     "name": "stderr",
     "output_type": "stream",
     "text": [
      "Matplotlib created a temporary config/cache directory at /tmp/matplotlib-aikfwafa because the default path (/run/cache/matplotlib) is not a writable directory; it is highly recommended to set the MPLCONFIGDIR environment variable to a writable directory, in particular to speed up the import of Matplotlib and to better support multiprocessing.\n"
     ]
    }
   ],
   "source": [
    "import os \n",
    "os.chdir('/lustre/scratch/kiviaho/prostate_spatial/')\n",
    "\n",
    "import scanpy as sc\n",
    "import numpy as np\n",
    "import squidpy as sq\n",
    "import pandas as pd\n",
    "import anndata as ad\n",
    "\n",
    "import matplotlib.pyplot as plt\n",
    "from scripts.utils import load_from_pickle, get_sample_ids_reorder, get_sample_id_mask\n",
    "import matplotlib as mpl\n",
    "from sklearn.decomposition import NMF\n",
    "\n",
    "import seaborn as sns\n",
    "sns.set_theme()\n",
    "\n",
    "sc.set_figure_params(figsize=(6,6))\n",
    "\n",
    "import warnings\n",
    "warnings.filterwarnings(\"ignore\")\n",
    "\n",
    "\n",
    "samples = get_sample_ids_reorder()\n",
    "sample_id_masks = get_sample_id_mask()\n",
    "\n",
    "# Change the run_name variable to select the appropriate iteration\n",
    "run_name = '20240125' # 20230908 run for the Tampere PC cohort\n",
    "\n",
    "\n"
   ]
  },
  {
   "cell_type": "markdown",
   "metadata": {},
   "source": [
    "## Load the inferred cell type abundances"
   ]
  },
  {
   "cell_type": "code",
   "execution_count": 2,
   "metadata": {},
   "outputs": [],
   "source": [
    "# Read each sample individually – these have been filtered by pathology\n",
    "\n",
    "cell_type_abundances_pathology_filtered = pd.DataFrame()\n",
    "for sample in samples:\n",
    "    # read the extracted cell type counts in here    \n",
    "    abundance_df = pd.read_csv('./data/inferred_celltype_abundances/'+sample+'_abundances.csv',index_col=0)\n",
    "    \n",
    "    # Save the cell type names into a variable\n",
    "    cell_types = abundance_df.columns.tolist()\n",
    "\n",
    "    # Add identifiers\n",
    "    abundance_df['sample_id'] = sample\n",
    "    abundance_df['sample_class'] = sample_id_masks[sample].split(' ')[0]\n",
    "\n",
    "    cell_type_abundances_pathology_filtered = pd.concat([cell_type_abundances_pathology_filtered,abundance_df],axis=0)\n",
    "\n"
   ]
  },
  {
   "cell_type": "code",
   "execution_count": 3,
   "metadata": {},
   "outputs": [
    {
     "data": {
      "text/html": [
       "<div>\n",
       "<style scoped>\n",
       "    .dataframe tbody tr th:only-of-type {\n",
       "        vertical-align: middle;\n",
       "    }\n",
       "\n",
       "    .dataframe tbody tr th {\n",
       "        vertical-align: top;\n",
       "    }\n",
       "\n",
       "    .dataframe thead th {\n",
       "        text-align: right;\n",
       "    }\n",
       "</style>\n",
       "<table border=\"1\" class=\"dataframe\">\n",
       "  <thead>\n",
       "    <tr style=\"text-align: right;\">\n",
       "      <th></th>\n",
       "      <th>B cells</th>\n",
       "      <th>DC</th>\n",
       "      <th>FOSL1 related epithelium</th>\n",
       "      <th>ILC</th>\n",
       "      <th>Macrophages</th>\n",
       "      <th>Mast cells</th>\n",
       "      <th>Monocytes</th>\n",
       "      <th>Neuronal</th>\n",
       "      <th>Plasma cells</th>\n",
       "      <th>T cells</th>\n",
       "      <th>...</th>\n",
       "      <th>fibroblast</th>\n",
       "      <th>club_interferon response epithelium</th>\n",
       "      <th>cycling epithelium 1</th>\n",
       "      <th>luminal epithelium</th>\n",
       "      <th>sensescent epithelium</th>\n",
       "      <th>muscle</th>\n",
       "      <th>stress response fibroblasts</th>\n",
       "      <th>stress signaling epithelium</th>\n",
       "      <th>sample_id</th>\n",
       "      <th>sample_class</th>\n",
       "    </tr>\n",
       "  </thead>\n",
       "  <tbody>\n",
       "    <tr>\n",
       "      <th>BPH_651_AAACAGCTTTCAGAAG-1</th>\n",
       "      <td>0.058311</td>\n",
       "      <td>0.007709</td>\n",
       "      <td>0.002948</td>\n",
       "      <td>0.047304</td>\n",
       "      <td>0.007856</td>\n",
       "      <td>0.023933</td>\n",
       "      <td>0.008804</td>\n",
       "      <td>0.087275</td>\n",
       "      <td>0.006003</td>\n",
       "      <td>0.053210</td>\n",
       "      <td>...</td>\n",
       "      <td>3.120902</td>\n",
       "      <td>0.029082</td>\n",
       "      <td>0.004433</td>\n",
       "      <td>0.895107</td>\n",
       "      <td>0.001697</td>\n",
       "      <td>5.117413</td>\n",
       "      <td>0.505498</td>\n",
       "      <td>0.003306</td>\n",
       "      <td>BPH_651</td>\n",
       "      <td>BPH</td>\n",
       "    </tr>\n",
       "    <tr>\n",
       "      <th>BPH_651_AAACAGGGTCTATATT-1</th>\n",
       "      <td>1.501351</td>\n",
       "      <td>0.291920</td>\n",
       "      <td>0.003812</td>\n",
       "      <td>0.841765</td>\n",
       "      <td>0.259793</td>\n",
       "      <td>0.013580</td>\n",
       "      <td>0.033634</td>\n",
       "      <td>0.031414</td>\n",
       "      <td>0.034607</td>\n",
       "      <td>1.875814</td>\n",
       "      <td>...</td>\n",
       "      <td>2.411168</td>\n",
       "      <td>0.029956</td>\n",
       "      <td>0.009330</td>\n",
       "      <td>5.037347</td>\n",
       "      <td>0.000357</td>\n",
       "      <td>2.468590</td>\n",
       "      <td>0.030517</td>\n",
       "      <td>0.004621</td>\n",
       "      <td>BPH_651</td>\n",
       "      <td>BPH</td>\n",
       "    </tr>\n",
       "    <tr>\n",
       "      <th>BPH_651_AAACATTTCCCGGATT-1</th>\n",
       "      <td>0.770450</td>\n",
       "      <td>0.646868</td>\n",
       "      <td>0.005430</td>\n",
       "      <td>0.358896</td>\n",
       "      <td>0.221531</td>\n",
       "      <td>0.154227</td>\n",
       "      <td>0.390575</td>\n",
       "      <td>0.098769</td>\n",
       "      <td>0.029365</td>\n",
       "      <td>0.741905</td>\n",
       "      <td>...</td>\n",
       "      <td>8.076237</td>\n",
       "      <td>0.047955</td>\n",
       "      <td>0.025943</td>\n",
       "      <td>0.089648</td>\n",
       "      <td>0.005163</td>\n",
       "      <td>4.499612</td>\n",
       "      <td>0.495932</td>\n",
       "      <td>0.007032</td>\n",
       "      <td>BPH_651</td>\n",
       "      <td>BPH</td>\n",
       "    </tr>\n",
       "    <tr>\n",
       "      <th>BPH_651_AAACCGGGTAGGTACC-1</th>\n",
       "      <td>0.886653</td>\n",
       "      <td>0.194003</td>\n",
       "      <td>0.006941</td>\n",
       "      <td>0.427802</td>\n",
       "      <td>0.105317</td>\n",
       "      <td>0.065930</td>\n",
       "      <td>0.060729</td>\n",
       "      <td>0.180856</td>\n",
       "      <td>0.060509</td>\n",
       "      <td>1.075290</td>\n",
       "      <td>...</td>\n",
       "      <td>8.043780</td>\n",
       "      <td>0.039015</td>\n",
       "      <td>0.058708</td>\n",
       "      <td>0.008981</td>\n",
       "      <td>0.009690</td>\n",
       "      <td>13.062706</td>\n",
       "      <td>0.036233</td>\n",
       "      <td>0.029730</td>\n",
       "      <td>BPH_651</td>\n",
       "      <td>BPH</td>\n",
       "    </tr>\n",
       "    <tr>\n",
       "      <th>BPH_651_AAACCGTTCGTCCAGG-1</th>\n",
       "      <td>5.175949</td>\n",
       "      <td>1.758679</td>\n",
       "      <td>0.016946</td>\n",
       "      <td>2.219747</td>\n",
       "      <td>0.863910</td>\n",
       "      <td>0.058799</td>\n",
       "      <td>0.312086</td>\n",
       "      <td>0.046375</td>\n",
       "      <td>0.101995</td>\n",
       "      <td>6.100550</td>\n",
       "      <td>...</td>\n",
       "      <td>7.132495</td>\n",
       "      <td>0.184389</td>\n",
       "      <td>0.148882</td>\n",
       "      <td>0.009707</td>\n",
       "      <td>0.034990</td>\n",
       "      <td>0.491892</td>\n",
       "      <td>0.200018</td>\n",
       "      <td>0.109613</td>\n",
       "      <td>BPH_651</td>\n",
       "      <td>BPH</td>\n",
       "    </tr>\n",
       "    <tr>\n",
       "      <th>...</th>\n",
       "      <td>...</td>\n",
       "      <td>...</td>\n",
       "      <td>...</td>\n",
       "      <td>...</td>\n",
       "      <td>...</td>\n",
       "      <td>...</td>\n",
       "      <td>...</td>\n",
       "      <td>...</td>\n",
       "      <td>...</td>\n",
       "      <td>...</td>\n",
       "      <td>...</td>\n",
       "      <td>...</td>\n",
       "      <td>...</td>\n",
       "      <td>...</td>\n",
       "      <td>...</td>\n",
       "      <td>...</td>\n",
       "      <td>...</td>\n",
       "      <td>...</td>\n",
       "      <td>...</td>\n",
       "      <td>...</td>\n",
       "      <td>...</td>\n",
       "    </tr>\n",
       "    <tr>\n",
       "      <th>P32037_TTGTTAGCAAATTCGA-1</th>\n",
       "      <td>0.057420</td>\n",
       "      <td>0.006459</td>\n",
       "      <td>0.004471</td>\n",
       "      <td>0.028028</td>\n",
       "      <td>0.054327</td>\n",
       "      <td>0.043716</td>\n",
       "      <td>0.005422</td>\n",
       "      <td>0.017819</td>\n",
       "      <td>0.070717</td>\n",
       "      <td>0.038036</td>\n",
       "      <td>...</td>\n",
       "      <td>1.290593</td>\n",
       "      <td>0.027648</td>\n",
       "      <td>0.007395</td>\n",
       "      <td>4.613891</td>\n",
       "      <td>0.001499</td>\n",
       "      <td>0.235082</td>\n",
       "      <td>0.448345</td>\n",
       "      <td>0.018417</td>\n",
       "      <td>P32037</td>\n",
       "      <td>NEADT</td>\n",
       "    </tr>\n",
       "    <tr>\n",
       "      <th>P32037_TTGTTCTAGATACGCT-1</th>\n",
       "      <td>0.000765</td>\n",
       "      <td>0.000197</td>\n",
       "      <td>0.011818</td>\n",
       "      <td>0.018423</td>\n",
       "      <td>0.001026</td>\n",
       "      <td>0.000637</td>\n",
       "      <td>0.000775</td>\n",
       "      <td>0.019236</td>\n",
       "      <td>0.009324</td>\n",
       "      <td>0.006089</td>\n",
       "      <td>...</td>\n",
       "      <td>0.092320</td>\n",
       "      <td>0.019782</td>\n",
       "      <td>0.001913</td>\n",
       "      <td>18.535375</td>\n",
       "      <td>0.000841</td>\n",
       "      <td>0.138406</td>\n",
       "      <td>0.049179</td>\n",
       "      <td>0.038731</td>\n",
       "      <td>P32037</td>\n",
       "      <td>NEADT</td>\n",
       "    </tr>\n",
       "    <tr>\n",
       "      <th>P32037_TTGTTGTGTGTCAAGA-1</th>\n",
       "      <td>5.261889</td>\n",
       "      <td>2.418057</td>\n",
       "      <td>0.027996</td>\n",
       "      <td>2.594643</td>\n",
       "      <td>0.984439</td>\n",
       "      <td>0.065277</td>\n",
       "      <td>0.245226</td>\n",
       "      <td>0.144038</td>\n",
       "      <td>0.150220</td>\n",
       "      <td>6.732008</td>\n",
       "      <td>...</td>\n",
       "      <td>5.759702</td>\n",
       "      <td>0.164938</td>\n",
       "      <td>0.188302</td>\n",
       "      <td>0.044103</td>\n",
       "      <td>0.015949</td>\n",
       "      <td>10.011981</td>\n",
       "      <td>0.070984</td>\n",
       "      <td>0.013847</td>\n",
       "      <td>P32037</td>\n",
       "      <td>NEADT</td>\n",
       "    </tr>\n",
       "    <tr>\n",
       "      <th>P32037_TTGTTTCATTAGTCTA-1</th>\n",
       "      <td>0.005237</td>\n",
       "      <td>0.000978</td>\n",
       "      <td>0.014265</td>\n",
       "      <td>0.004640</td>\n",
       "      <td>0.017490</td>\n",
       "      <td>0.001022</td>\n",
       "      <td>0.000742</td>\n",
       "      <td>0.005868</td>\n",
       "      <td>0.001821</td>\n",
       "      <td>0.003947</td>\n",
       "      <td>...</td>\n",
       "      <td>0.045733</td>\n",
       "      <td>0.902505</td>\n",
       "      <td>0.003970</td>\n",
       "      <td>3.968720</td>\n",
       "      <td>0.005188</td>\n",
       "      <td>0.642749</td>\n",
       "      <td>0.011645</td>\n",
       "      <td>0.047220</td>\n",
       "      <td>P32037</td>\n",
       "      <td>NEADT</td>\n",
       "    </tr>\n",
       "    <tr>\n",
       "      <th>P32037_TTGTTTCCATACAACT-1</th>\n",
       "      <td>0.071277</td>\n",
       "      <td>0.021155</td>\n",
       "      <td>0.006089</td>\n",
       "      <td>0.063747</td>\n",
       "      <td>0.040468</td>\n",
       "      <td>0.009895</td>\n",
       "      <td>0.006452</td>\n",
       "      <td>0.022290</td>\n",
       "      <td>0.026382</td>\n",
       "      <td>0.076030</td>\n",
       "      <td>...</td>\n",
       "      <td>3.680413</td>\n",
       "      <td>0.038553</td>\n",
       "      <td>0.018475</td>\n",
       "      <td>3.440626</td>\n",
       "      <td>0.004128</td>\n",
       "      <td>0.824292</td>\n",
       "      <td>0.045020</td>\n",
       "      <td>0.008845</td>\n",
       "      <td>P32037</td>\n",
       "      <td>NEADT</td>\n",
       "    </tr>\n",
       "  </tbody>\n",
       "</table>\n",
       "<p>123404 rows × 28 columns</p>\n",
       "</div>"
      ],
      "text/plain": [
       "                             B cells        DC  FOSL1 related epithelium  \\\n",
       "BPH_651_AAACAGCTTTCAGAAG-1  0.058311  0.007709                  0.002948   \n",
       "BPH_651_AAACAGGGTCTATATT-1  1.501351  0.291920                  0.003812   \n",
       "BPH_651_AAACATTTCCCGGATT-1  0.770450  0.646868                  0.005430   \n",
       "BPH_651_AAACCGGGTAGGTACC-1  0.886653  0.194003                  0.006941   \n",
       "BPH_651_AAACCGTTCGTCCAGG-1  5.175949  1.758679                  0.016946   \n",
       "...                              ...       ...                       ...   \n",
       "P32037_TTGTTAGCAAATTCGA-1   0.057420  0.006459                  0.004471   \n",
       "P32037_TTGTTCTAGATACGCT-1   0.000765  0.000197                  0.011818   \n",
       "P32037_TTGTTGTGTGTCAAGA-1   5.261889  2.418057                  0.027996   \n",
       "P32037_TTGTTTCATTAGTCTA-1   0.005237  0.000978                  0.014265   \n",
       "P32037_TTGTTTCCATACAACT-1   0.071277  0.021155                  0.006089   \n",
       "\n",
       "                                 ILC  Macrophages  Mast cells  Monocytes  \\\n",
       "BPH_651_AAACAGCTTTCAGAAG-1  0.047304     0.007856    0.023933   0.008804   \n",
       "BPH_651_AAACAGGGTCTATATT-1  0.841765     0.259793    0.013580   0.033634   \n",
       "BPH_651_AAACATTTCCCGGATT-1  0.358896     0.221531    0.154227   0.390575   \n",
       "BPH_651_AAACCGGGTAGGTACC-1  0.427802     0.105317    0.065930   0.060729   \n",
       "BPH_651_AAACCGTTCGTCCAGG-1  2.219747     0.863910    0.058799   0.312086   \n",
       "...                              ...          ...         ...        ...   \n",
       "P32037_TTGTTAGCAAATTCGA-1   0.028028     0.054327    0.043716   0.005422   \n",
       "P32037_TTGTTCTAGATACGCT-1   0.018423     0.001026    0.000637   0.000775   \n",
       "P32037_TTGTTGTGTGTCAAGA-1   2.594643     0.984439    0.065277   0.245226   \n",
       "P32037_TTGTTTCATTAGTCTA-1   0.004640     0.017490    0.001022   0.000742   \n",
       "P32037_TTGTTTCCATACAACT-1   0.063747     0.040468    0.009895   0.006452   \n",
       "\n",
       "                            Neuronal  Plasma cells   T cells  ...  fibroblast  \\\n",
       "BPH_651_AAACAGCTTTCAGAAG-1  0.087275      0.006003  0.053210  ...    3.120902   \n",
       "BPH_651_AAACAGGGTCTATATT-1  0.031414      0.034607  1.875814  ...    2.411168   \n",
       "BPH_651_AAACATTTCCCGGATT-1  0.098769      0.029365  0.741905  ...    8.076237   \n",
       "BPH_651_AAACCGGGTAGGTACC-1  0.180856      0.060509  1.075290  ...    8.043780   \n",
       "BPH_651_AAACCGTTCGTCCAGG-1  0.046375      0.101995  6.100550  ...    7.132495   \n",
       "...                              ...           ...       ...  ...         ...   \n",
       "P32037_TTGTTAGCAAATTCGA-1   0.017819      0.070717  0.038036  ...    1.290593   \n",
       "P32037_TTGTTCTAGATACGCT-1   0.019236      0.009324  0.006089  ...    0.092320   \n",
       "P32037_TTGTTGTGTGTCAAGA-1   0.144038      0.150220  6.732008  ...    5.759702   \n",
       "P32037_TTGTTTCATTAGTCTA-1   0.005868      0.001821  0.003947  ...    0.045733   \n",
       "P32037_TTGTTTCCATACAACT-1   0.022290      0.026382  0.076030  ...    3.680413   \n",
       "\n",
       "                            club_interferon response epithelium  \\\n",
       "BPH_651_AAACAGCTTTCAGAAG-1                             0.029082   \n",
       "BPH_651_AAACAGGGTCTATATT-1                             0.029956   \n",
       "BPH_651_AAACATTTCCCGGATT-1                             0.047955   \n",
       "BPH_651_AAACCGGGTAGGTACC-1                             0.039015   \n",
       "BPH_651_AAACCGTTCGTCCAGG-1                             0.184389   \n",
       "...                                                         ...   \n",
       "P32037_TTGTTAGCAAATTCGA-1                              0.027648   \n",
       "P32037_TTGTTCTAGATACGCT-1                              0.019782   \n",
       "P32037_TTGTTGTGTGTCAAGA-1                              0.164938   \n",
       "P32037_TTGTTTCATTAGTCTA-1                              0.902505   \n",
       "P32037_TTGTTTCCATACAACT-1                              0.038553   \n",
       "\n",
       "                            cycling epithelium 1  luminal epithelium  \\\n",
       "BPH_651_AAACAGCTTTCAGAAG-1              0.004433            0.895107   \n",
       "BPH_651_AAACAGGGTCTATATT-1              0.009330            5.037347   \n",
       "BPH_651_AAACATTTCCCGGATT-1              0.025943            0.089648   \n",
       "BPH_651_AAACCGGGTAGGTACC-1              0.058708            0.008981   \n",
       "BPH_651_AAACCGTTCGTCCAGG-1              0.148882            0.009707   \n",
       "...                                          ...                 ...   \n",
       "P32037_TTGTTAGCAAATTCGA-1               0.007395            4.613891   \n",
       "P32037_TTGTTCTAGATACGCT-1               0.001913           18.535375   \n",
       "P32037_TTGTTGTGTGTCAAGA-1               0.188302            0.044103   \n",
       "P32037_TTGTTTCATTAGTCTA-1               0.003970            3.968720   \n",
       "P32037_TTGTTTCCATACAACT-1               0.018475            3.440626   \n",
       "\n",
       "                            sensescent epithelium     muscle  \\\n",
       "BPH_651_AAACAGCTTTCAGAAG-1               0.001697   5.117413   \n",
       "BPH_651_AAACAGGGTCTATATT-1               0.000357   2.468590   \n",
       "BPH_651_AAACATTTCCCGGATT-1               0.005163   4.499612   \n",
       "BPH_651_AAACCGGGTAGGTACC-1               0.009690  13.062706   \n",
       "BPH_651_AAACCGTTCGTCCAGG-1               0.034990   0.491892   \n",
       "...                                           ...        ...   \n",
       "P32037_TTGTTAGCAAATTCGA-1                0.001499   0.235082   \n",
       "P32037_TTGTTCTAGATACGCT-1                0.000841   0.138406   \n",
       "P32037_TTGTTGTGTGTCAAGA-1                0.015949  10.011981   \n",
       "P32037_TTGTTTCATTAGTCTA-1                0.005188   0.642749   \n",
       "P32037_TTGTTTCCATACAACT-1                0.004128   0.824292   \n",
       "\n",
       "                            stress response fibroblasts  \\\n",
       "BPH_651_AAACAGCTTTCAGAAG-1                     0.505498   \n",
       "BPH_651_AAACAGGGTCTATATT-1                     0.030517   \n",
       "BPH_651_AAACATTTCCCGGATT-1                     0.495932   \n",
       "BPH_651_AAACCGGGTAGGTACC-1                     0.036233   \n",
       "BPH_651_AAACCGTTCGTCCAGG-1                     0.200018   \n",
       "...                                                 ...   \n",
       "P32037_TTGTTAGCAAATTCGA-1                      0.448345   \n",
       "P32037_TTGTTCTAGATACGCT-1                      0.049179   \n",
       "P32037_TTGTTGTGTGTCAAGA-1                      0.070984   \n",
       "P32037_TTGTTTCATTAGTCTA-1                      0.011645   \n",
       "P32037_TTGTTTCCATACAACT-1                      0.045020   \n",
       "\n",
       "                            stress signaling epithelium  sample_id  \\\n",
       "BPH_651_AAACAGCTTTCAGAAG-1                     0.003306    BPH_651   \n",
       "BPH_651_AAACAGGGTCTATATT-1                     0.004621    BPH_651   \n",
       "BPH_651_AAACATTTCCCGGATT-1                     0.007032    BPH_651   \n",
       "BPH_651_AAACCGGGTAGGTACC-1                     0.029730    BPH_651   \n",
       "BPH_651_AAACCGTTCGTCCAGG-1                     0.109613    BPH_651   \n",
       "...                                                 ...        ...   \n",
       "P32037_TTGTTAGCAAATTCGA-1                      0.018417     P32037   \n",
       "P32037_TTGTTCTAGATACGCT-1                      0.038731     P32037   \n",
       "P32037_TTGTTGTGTGTCAAGA-1                      0.013847     P32037   \n",
       "P32037_TTGTTTCATTAGTCTA-1                      0.047220     P32037   \n",
       "P32037_TTGTTTCCATACAACT-1                      0.008845     P32037   \n",
       "\n",
       "                            sample_class  \n",
       "BPH_651_AAACAGCTTTCAGAAG-1           BPH  \n",
       "BPH_651_AAACAGGGTCTATATT-1           BPH  \n",
       "BPH_651_AAACATTTCCCGGATT-1           BPH  \n",
       "BPH_651_AAACCGGGTAGGTACC-1           BPH  \n",
       "BPH_651_AAACCGTTCGTCCAGG-1           BPH  \n",
       "...                                  ...  \n",
       "P32037_TTGTTAGCAAATTCGA-1          NEADT  \n",
       "P32037_TTGTTCTAGATACGCT-1          NEADT  \n",
       "P32037_TTGTTGTGTGTCAAGA-1          NEADT  \n",
       "P32037_TTGTTTCATTAGTCTA-1          NEADT  \n",
       "P32037_TTGTTTCCATACAACT-1          NEADT  \n",
       "\n",
       "[123404 rows x 28 columns]"
      ]
     },
     "execution_count": 3,
     "metadata": {},
     "output_type": "execute_result"
    }
   ],
   "source": [
    "\n",
    "### No pathology based filtering of c2l inferred abundances data\n",
    "cell_type_abundances = pd.read_csv('data/c2l_run_20240125_inferred_celltype_abundances_unfiltered.csv',index_col=0)\n",
    "cell_types = cell_type_abundances.columns.tolist()\n",
    "\n",
    "bcode_to_sample_dict = {}\n",
    "s = samples[0]\n",
    "for s in samples:\n",
    "    sample_map_dict = dict(zip(cell_type_abundances.index[cell_type_abundances.index.str.contains(s)].tolist(),\n",
    "            np.repeat(s,len(cell_type_abundances.index[cell_type_abundances.index.str.contains(s)]))\n",
    "    ))\n",
    "    bcode_to_sample_dict = {**bcode_to_sample_dict,**sample_map_dict}\n",
    "\n",
    "cell_type_abundances['sample_id'] = cell_type_abundances.index.map(bcode_to_sample_dict)\n",
    "cell_type_abundances['sample_class'] = [s.split(' ')[0] for s in cell_type_abundances['sample_id'].map(sample_id_masks).tolist()]\n",
    "\n",
    "cell_type_abundances\n"
   ]
  },
  {
   "cell_type": "code",
   "execution_count": 4,
   "metadata": {},
   "outputs": [],
   "source": [
    "\n",
    "\n",
    "# Save the cell mapping data into anndata format\n",
    "cell_mapping_dat = ad.AnnData(\n",
    "    X=np.array(cell_type_abundances[cell_types]),\n",
    "    obs=cell_type_abundances[['sample_id','sample_class']],\n",
    "    var=pd.DataFrame(index=cell_types))\n",
    "\n",
    "#cell_mapping_dat.write('c2l_mapping_as_anndata_'+run_name+'.h5ad')\n"
   ]
  },
  {
   "attachments": {},
   "cell_type": "markdown",
   "metadata": {},
   "source": [
    "\n",
    "## Plot most abundant cell types"
   ]
  },
  {
   "cell_type": "code",
   "execution_count": 46,
   "metadata": {},
   "outputs": [
    {
     "data": {
      "text/plain": [
       "<Figure size 1708.8x1200 with 0 Axes>"
      ]
     },
     "metadata": {},
     "output_type": "display_data"
    },
    {
     "data": {
      "text/plain": [
       "<Figure size 1708.8x1200 with 0 Axes>"
      ]
     },
     "metadata": {},
     "output_type": "display_data"
    },
    {
     "data": {
      "text/plain": [
       "<Figure size 1708.8x1200 with 0 Axes>"
      ]
     },
     "metadata": {},
     "output_type": "display_data"
    },
    {
     "data": {
      "text/plain": [
       "<Figure size 1708.8x1200 with 0 Axes>"
      ]
     },
     "metadata": {},
     "output_type": "display_data"
    },
    {
     "data": {
      "text/plain": [
       "<Figure size 1708.8x1200 with 0 Axes>"
      ]
     },
     "metadata": {},
     "output_type": "display_data"
    },
    {
     "data": {
      "text/plain": [
       "<Figure size 1708.8x1200 with 0 Axes>"
      ]
     },
     "metadata": {},
     "output_type": "display_data"
    },
    {
     "data": {
      "text/plain": [
       "<Figure size 1708.8x1200 with 0 Axes>"
      ]
     },
     "metadata": {},
     "output_type": "display_data"
    },
    {
     "data": {
      "text/plain": [
       "<Figure size 1708.8x1200 with 0 Axes>"
      ]
     },
     "metadata": {},
     "output_type": "display_data"
    },
    {
     "data": {
      "text/plain": [
       "<Figure size 1708.8x1200 with 0 Axes>"
      ]
     },
     "metadata": {},
     "output_type": "display_data"
    },
    {
     "data": {
      "text/plain": [
       "<Figure size 1708.8x1200 with 0 Axes>"
      ]
     },
     "metadata": {},
     "output_type": "display_data"
    },
    {
     "data": {
      "text/plain": [
       "<Figure size 1708.8x1200 with 0 Axes>"
      ]
     },
     "metadata": {},
     "output_type": "display_data"
    },
    {
     "data": {
      "text/plain": [
       "<Figure size 1708.8x1200 with 0 Axes>"
      ]
     },
     "metadata": {},
     "output_type": "display_data"
    },
    {
     "data": {
      "text/plain": [
       "<Figure size 1708.8x1200 with 0 Axes>"
      ]
     },
     "metadata": {},
     "output_type": "display_data"
    },
    {
     "data": {
      "text/plain": [
       "<Figure size 1708.8x1200 with 0 Axes>"
      ]
     },
     "metadata": {},
     "output_type": "display_data"
    },
    {
     "data": {
      "text/plain": [
       "<Figure size 1708.8x1200 with 0 Axes>"
      ]
     },
     "metadata": {},
     "output_type": "display_data"
    },
    {
     "data": {
      "text/plain": [
       "<Figure size 1708.8x1200 with 0 Axes>"
      ]
     },
     "metadata": {},
     "output_type": "display_data"
    },
    {
     "data": {
      "text/plain": [
       "<Figure size 1708.8x1200 with 0 Axes>"
      ]
     },
     "metadata": {},
     "output_type": "display_data"
    },
    {
     "data": {
      "text/plain": [
       "<Figure size 1708.8x1200 with 0 Axes>"
      ]
     },
     "metadata": {},
     "output_type": "display_data"
    },
    {
     "data": {
      "text/plain": [
       "<Figure size 1708.8x1200 with 0 Axes>"
      ]
     },
     "metadata": {},
     "output_type": "display_data"
    },
    {
     "data": {
      "text/plain": [
       "<Figure size 1708.8x1200 with 0 Axes>"
      ]
     },
     "metadata": {},
     "output_type": "display_data"
    },
    {
     "data": {
      "text/plain": [
       "<Figure size 1708.8x1200 with 0 Axes>"
      ]
     },
     "metadata": {},
     "output_type": "display_data"
    },
    {
     "data": {
      "text/plain": [
       "<Figure size 1708.8x1200 with 0 Axes>"
      ]
     },
     "metadata": {},
     "output_type": "display_data"
    },
    {
     "data": {
      "text/plain": [
       "<Figure size 1708.8x1200 with 0 Axes>"
      ]
     },
     "metadata": {},
     "output_type": "display_data"
    },
    {
     "data": {
      "text/plain": [
       "<Figure size 1708.8x1200 with 0 Axes>"
      ]
     },
     "metadata": {},
     "output_type": "display_data"
    },
    {
     "data": {
      "text/plain": [
       "<Figure size 1708.8x1200 with 0 Axes>"
      ]
     },
     "metadata": {},
     "output_type": "display_data"
    },
    {
     "data": {
      "text/plain": [
       "<Figure size 1708.8x1200 with 0 Axes>"
      ]
     },
     "metadata": {},
     "output_type": "display_data"
    },
    {
     "data": {
      "text/plain": [
       "<Figure size 1708.8x1200 with 0 Axes>"
      ]
     },
     "metadata": {},
     "output_type": "display_data"
    },
    {
     "data": {
      "text/plain": [
       "<Figure size 1708.8x1200 with 0 Axes>"
      ]
     },
     "metadata": {},
     "output_type": "display_data"
    },
    {
     "data": {
      "text/plain": [
       "<Figure size 1708.8x1200 with 0 Axes>"
      ]
     },
     "metadata": {},
     "output_type": "display_data"
    },
    {
     "data": {
      "text/plain": [
       "<Figure size 1708.8x1200 with 0 Axes>"
      ]
     },
     "metadata": {},
     "output_type": "display_data"
    },
    {
     "data": {
      "text/plain": [
       "<Figure size 1708.8x1200 with 0 Axes>"
      ]
     },
     "metadata": {},
     "output_type": "display_data"
    },
    {
     "data": {
      "text/plain": [
       "<Figure size 1708.8x1200 with 0 Axes>"
      ]
     },
     "metadata": {},
     "output_type": "display_data"
    },
    {
     "data": {
      "text/plain": [
       "<Figure size 1708.8x1200 with 0 Axes>"
      ]
     },
     "metadata": {},
     "output_type": "display_data"
    },
    {
     "data": {
      "text/plain": [
       "<Figure size 1708.8x1200 with 0 Axes>"
      ]
     },
     "metadata": {},
     "output_type": "display_data"
    },
    {
     "data": {
      "text/plain": [
       "<Figure size 1708.8x1200 with 0 Axes>"
      ]
     },
     "metadata": {},
     "output_type": "display_data"
    },
    {
     "data": {
      "text/plain": [
       "<Figure size 1708.8x1200 with 0 Axes>"
      ]
     },
     "metadata": {},
     "output_type": "display_data"
    },
    {
     "data": {
      "text/plain": [
       "<Figure size 1708.8x1200 with 0 Axes>"
      ]
     },
     "metadata": {},
     "output_type": "display_data"
    },
    {
     "data": {
      "text/plain": [
       "<Figure size 1708.8x1200 with 0 Axes>"
      ]
     },
     "metadata": {},
     "output_type": "display_data"
    },
    {
     "data": {
      "text/plain": [
       "<Figure size 1708.8x1200 with 0 Axes>"
      ]
     },
     "metadata": {},
     "output_type": "display_data"
    },
    {
     "data": {
      "text/plain": [
       "<Figure size 1708.8x1200 with 0 Axes>"
      ]
     },
     "metadata": {},
     "output_type": "display_data"
    },
    {
     "data": {
      "text/plain": [
       "<Figure size 1708.8x1200 with 0 Axes>"
      ]
     },
     "metadata": {},
     "output_type": "display_data"
    },
    {
     "data": {
      "text/plain": [
       "<Figure size 1708.8x1200 with 0 Axes>"
      ]
     },
     "metadata": {},
     "output_type": "display_data"
    },
    {
     "data": {
      "text/plain": [
       "<Figure size 1708.8x1200 with 0 Axes>"
      ]
     },
     "metadata": {},
     "output_type": "display_data"
    },
    {
     "data": {
      "text/plain": [
       "<Figure size 1708.8x1200 with 0 Axes>"
      ]
     },
     "metadata": {},
     "output_type": "display_data"
    },
    {
     "data": {
      "text/plain": [
       "<Figure size 1708.8x1200 with 0 Axes>"
      ]
     },
     "metadata": {},
     "output_type": "display_data"
    },
    {
     "data": {
      "text/plain": [
       "<Figure size 1708.8x1200 with 0 Axes>"
      ]
     },
     "metadata": {},
     "output_type": "display_data"
    },
    {
     "data": {
      "text/plain": [
       "<Figure size 1708.8x1200 with 0 Axes>"
      ]
     },
     "metadata": {},
     "output_type": "display_data"
    },
    {
     "data": {
      "text/plain": [
       "<Figure size 1708.8x1200 with 0 Axes>"
      ]
     },
     "metadata": {},
     "output_type": "display_data"
    }
   ],
   "source": [
    "# Plots and saves top n_types with highest prevelance on visium slides\n",
    "sns.set_theme(style='white')\n",
    "n_types = 12\n",
    "\n",
    "for sample in samples:\n",
    "    \n",
    "    slide = sc.read_h5ad('./data/normalized_visium/'+sample+'_normalized.h5ad')\n",
    "    \n",
    "    # Collect the cell abundances\n",
    "    sample_cell_abundances = cell_type_abundances[cell_type_abundances['sample_id']==sample][cell_types]\n",
    "\n",
    "    # Concat the cell abundances to a slide\n",
    "    slide.obs = pd.concat([slide.obs,sample_cell_abundances],axis=1)\n",
    "\n",
    "    # Subset to only plot the cell types with highest mean prevalence\n",
    "    cell_types_to_plot = slide.obs[cell_types].mean(axis=0).sort_values(ascending=False)[:n_types]\n",
    "\n",
    "    # plot in spatial coordinates\n",
    "    with mpl.rc_context({'axes.facecolor':  'black',\n",
    "                        'figure.figsize': [4.5, 5]}):\n",
    "\n",
    "        sc.pl.spatial(slide, cmap='magma',\n",
    "                    # show first 8 cell types\n",
    "                    color=cell_types_to_plot.index,\n",
    "                    ncols=4, size=1.3,alpha_img=0.8,\n",
    "                    # limit color scale at 99.2% quantile of cell abundance\n",
    "                    vmin=0, vmax='p99.2', show=False\n",
    "                    )\n",
    "        plt.savefig('./plots/c2l_mapping_results_'+run_name+'/'+sample+'_c2l_mapping_top12_abundant.png',dpi=200)\n",
    "        plt.clf()"
   ]
  },
  {
   "attachments": {},
   "cell_type": "markdown",
   "metadata": {},
   "source": [
    "## Secondary analysis of the cell type mapping numbers"
   ]
  },
  {
   "cell_type": "markdown",
   "metadata": {},
   "source": [
    "### Save cell mapping statistics according to treatment class"
   ]
  },
  {
   "cell_type": "code",
   "execution_count": 82,
   "metadata": {},
   "outputs": [],
   "source": [
    "# format the observations to show BPH-TRNA-NEADT-CRPC divide\n",
    "\n",
    "df = pd.DataFrame(cell_mapping_dat.X, columns=cell_mapping_dat.var.index,index=cell_mapping_dat.obs.index)\n",
    "sample_id_masks = get_sample_id_mask()\n",
    "\n",
    "sample_indices_from_df = pd.Series([('_').join(s.split('_')[:-1]) for s in df.index])\n",
    "df.index = pd.Index(list(sample_indices_from_df.map(sample_id_masks)))\n"
   ]
  },
  {
   "cell_type": "code",
   "execution_count": 83,
   "metadata": {},
   "outputs": [],
   "source": [
    "# Save the key cell-type mapping numbers to an excel file (supplementary table)\n",
    "\n",
    "cell_mapping_characteristics_by_phenotype = {}\n",
    "\n",
    "phenotypes = ['','BPH','TRNA','NEADT','CRPC']\n",
    "\n",
    "for phenotype in phenotypes:\n",
    "    ctype_count_df = df.loc[df.index.str.contains(phenotype)].describe().T\n",
    "\n",
    "    ctype_count_df['sum'] = df.loc[df.index.str.contains(phenotype)].sum().loc[ctype_count_df.index].astype(float)\n",
    "    ctype_count_df = ctype_count_df[['sum','mean','min','25%','50%','75%','max','std','count']].round(1)\n",
    "    ctype_count_df = ctype_count_df.sort_values('sum',ascending=False)\n",
    "    \n",
    "    if phenotype == '':\n",
    "        cell_mapping_characteristics_by_phenotype['all'] = ctype_count_df\n",
    "    else:\n",
    "        cell_mapping_characteristics_by_phenotype[phenotype] = ctype_count_df\n"
   ]
  },
  {
   "cell_type": "code",
   "execution_count": 84,
   "metadata": {},
   "outputs": [],
   "source": [
    "# Save the results into an excel-file\n",
    "\n",
    "# Create a Pandas Excel writer using the file name\n",
    "writer = pd.ExcelWriter('./supplementary_tables/inferred_cell_type_counts_key_statistics.xlsx', engine='xlsxwriter')\n",
    "\n",
    "# Iterate through each key-value pair in the dictionary\n",
    "for key, value in cell_mapping_characteristics_by_phenotype.items():\n",
    "    # Write each dataframe to a separate sheet in the Excel file\n",
    "    value.to_excel(writer, sheet_name=key)\n",
    "\n",
    "# Save and close the Excel writer\n",
    "writer.save()\n",
    "    "
   ]
  },
  {
   "cell_type": "code",
   "execution_count": 85,
   "metadata": {},
   "outputs": [
    {
     "data": {
      "text/plain": [
       "0.0"
      ]
     },
     "execution_count": 85,
     "metadata": {},
     "output_type": "execute_result"
    }
   ],
   "source": [
    "# Test whether the inferred number of tumor spots varies across the dataset\n",
    "from scipy.stats import f_oneway\n",
    "\n",
    "inferred_tumor_counts_dict = {}\n",
    "for phenotype in ['BPH','TRNA','NEADT','CRPC']:\n",
    "    inferred_tumor_counts_dict[phenotype] = df.loc[df.index.str.contains(phenotype)]['tumor'].tolist()\n",
    "\n",
    "f_stat, pval = f_oneway(*inferred_tumor_counts_dict.values())\n",
    "\n",
    "pval"
   ]
  },
  {
   "cell_type": "markdown",
   "metadata": {},
   "source": [
    "### Run NMF to divide into significantly variable regions"
   ]
  },
  {
   "cell_type": "code",
   "execution_count": 5,
   "metadata": {},
   "outputs": [],
   "source": [
    "# Run NMF to find 'tissue regions'\n",
    "nmf_res_dict = {}\n",
    "nmf_cell_weights_dict = {}\n",
    "adata = cell_mapping_dat.copy()\n",
    "\n",
    "# Set the range of components\n",
    "component_range = range(5, 13)\n",
    "\n",
    "# Perform NMF\n",
    "for n_components in component_range:\n",
    "    nmf = NMF(n_components=n_components,random_state=3456372)#3456372\n",
    "    W = nmf.fit_transform(adata.X)\n",
    "    H = nmf.components_\n",
    "\n",
    "    nmf_res = pd.DataFrame(H.T,\n",
    "                        index=adata.var_names,\n",
    "                        columns=list(np.arange(0,n_components)+1),)\n",
    "\n",
    "    nmf_res_dict[n_components] = nmf_res\n",
    "    nmf_cell_weights_dict[n_components] = W"
   ]
  },
  {
   "cell_type": "code",
   "execution_count": 6,
   "metadata": {},
   "outputs": [
    {
     "data": {
      "image/png": "[encoded data removed]",
      "text/plain": [
       "<Figure size 1440x1800 with 9 Axes>"
      ]
     },
     "metadata": {
      "needs_background": "light"
     },
     "output_type": "display_data"
    }
   ],
   "source": [
    "# Get inferred cell counts into a dataframe and get the prevalence order for NMF plots\n",
    "df = pd.DataFrame(cell_mapping_dat.X, columns=cell_mapping_dat.var.index,index=cell_mapping_dat.obs.index)\n",
    "celltype_order = df.sum().sort_values(ascending=True).index\n",
    "\n",
    "# Plot the nmf results on two rows\n",
    "# Create subplots with 2 rows and 4 columns\n",
    "sns.set_theme(style='white',font_scale=1)\n",
    "fig, axs = plt.subplots(3, 3, figsize=(20, 25))\n",
    "\n",
    "for i, n_components in enumerate(component_range):\n",
    "\n",
    "    nmf_res_for_plotting = nmf_res_dict[n_components].copy()\n",
    "    nmf_res_for_plotting = nmf_res_for_plotting.loc[celltype_order]\n",
    "\n",
    "    # Determine the position of the subplot on the grid\n",
    "    row = i // 3\n",
    "    col = i % 3\n",
    "    \n",
    "    # Plot the heatmap on the corresponding subplot\n",
    "    sns.heatmap(nmf_res_for_plotting, cmap='Blues', square=True, ax=axs[row, col], vmax=100,cbar=False)\n",
    "\n",
    "\n",
    "axs[2,2].axis('off')\n",
    "plt.tight_layout()\n",
    "\n",
    "#plt.savefig('plots/nmf_components.pdf')\n",
    "plt.show()\n"
   ]
  },
  {
   "cell_type": "code",
   "execution_count": 7,
   "metadata": {},
   "outputs": [
    {
     "data": {
      "image/png": "[encoded data removed]",
      "text/plain": [
       "<Figure size 360x576 with 2 Axes>"
      ]
     },
     "metadata": {
      "needs_background": "light"
     },
     "output_type": "display_data"
    }
   ],
   "source": [
    "# Plot the nmf results on two rows\n",
    "# Create subplots with 2 rows and 4 columns\n",
    "fig, ax = plt.subplots(figsize=(5, 8))\n",
    "\n",
    "n_components = 8\n",
    "\n",
    "# Drop the redundant cell types prior to plotting\n",
    "nmf_res_for_plotting_subset = nmf_res_dict[n_components].copy()\n",
    "nmf_res_for_plotting_subset = nmf_res_for_plotting_subset.loc[celltype_order]\n",
    "# Plot the heatmap on the corresponding subplot\n",
    "sns.heatmap(nmf_res_for_plotting_subset, cmap='Blues', square=True, ax=ax, vmax=100,cbar=True)\n",
    "\n",
    "plt.tight_layout()\n",
    "\n",
    "#plt.savefig('plots/nmf_components_with_colorbar.pdf')\n",
    "plt.show()\n"
   ]
  },
  {
   "cell_type": "code",
   "execution_count": 9,
   "metadata": {},
   "outputs": [],
   "source": [
    "\n",
    "# Create a Pandas Excel writer using the file name\n",
    "writer = pd.ExcelWriter('./supplementary_tables/nmf_component_weights_for_celltypes.xlsx', engine='xlsxwriter')\n",
    "\n",
    "# Iterate through each key-value pair in the dictionary\n",
    "for key, value in nmf_res_dict.items():\n",
    "    # Write each dataframe to a separate sheet in the Excel file\n",
    "    \n",
    "    value.loc[celltype_order].to_excel(writer, sheet_name=str(key))\n",
    "\n",
    "# Save and close the Excel writer\n",
    "writer.save()"
   ]
  },
  {
   "cell_type": "markdown",
   "metadata": {},
   "source": [
    "### Annotate the NMF factors"
   ]
  },
  {
   "cell_type": "code",
   "execution_count": 8,
   "metadata": {},
   "outputs": [],
   "source": [
    "# Select the best number of factors and annotate them\n",
    "tissue_region_names = {1:'Fibroblast', 2:'Luminal epithelium', 3:'Tumor', 4:'Club epithelium',\n",
    "                      5:'Muscle', 6:'Basal epithelium', 7:'Immune', 8:'Endothelium'}\n",
    "\n",
    "# Sorting out the colors for tissue regions (Set2 palette)\n",
    "sorted_region_names = [tissue_region_names[i] for i in [3,2,6,4,7,8,1,5]]\n",
    "\n",
    "tissue_region_colors = ['#fc8d62','#8da0cb','#66c2a5','#ffd92f','#a6d854','#e78ac3','#e5c494','#b3b3b3']\n",
    "region_colors_dict = dict(zip(sorted_region_names,tissue_region_colors))\n",
    "\n",
    "# Number 8 is the best fit\n",
    "tissue_regions = nmf_res_dict[n_components].copy().rename(columns=tissue_region_names).loc[celltype_order][sorted_region_names]"
   ]
  },
  {
   "cell_type": "code",
   "execution_count": 9,
   "metadata": {},
   "outputs": [
    {
     "name": "stdout",
     "output_type": "stream",
     "text": [
      "The number of spots prior to filtering out spots based on pathology: 123404\n",
      "\n",
      "Region percentages out of 110681 total spots\n"
     ]
    },
    {
     "data": {
      "text/plain": [
       "Tumor                 21.4\n",
       "Luminal epithelium    21.0\n",
       "Muscle                18.8\n",
       "Fibroblast            15.5\n",
       "Basal epithelium      11.1\n",
       "Immune                 5.3\n",
       "Club epithelium        5.1\n",
       "Endothelium            1.8\n",
       "Name: nmf_weight_based_regions, dtype: float64"
      ]
     },
     "execution_count": 9,
     "metadata": {},
     "output_type": "execute_result"
    }
   ],
   "source": [
    "# Spot identity is determined by simply choosing the factor with the highest nmf weight\n",
    "obs_data = cell_mapping_dat.obs.copy().reset_index(drop=True)\n",
    "nmf_obs_weights = pd.DataFrame(nmf_cell_weights_dict[n_components],columns=list(tissue_region_names.values()),index=cell_mapping_dat.obs_names)\n",
    "nmf_obs_annot = nmf_obs_weights.idxmax(axis=1)\n",
    "\n",
    "obs_data.index = cell_mapping_dat.obs_names\n",
    "obs_data['nmf_weight_based_regions'] = nmf_obs_annot\n",
    "\n",
    "print('The number of spots prior to filtering out spots based on pathology: {:d}\\n'.format(len(obs_data)))\n",
    "# Use the pathology annotation to perform filtering\n",
    "obs_data = obs_data.loc[cell_type_abundances_pathology_filtered.index]\n",
    "\n",
    "print('Region percentages out of {:d} total spots'.format(len(obs_data)))\n",
    "(obs_data['nmf_weight_based_regions'].value_counts() / len(obs_data) * 100).round(1)\n"
   ]
  },
  {
   "cell_type": "code",
   "execution_count": 11,
   "metadata": {},
   "outputs": [
    {
     "name": "stdout",
     "output_type": "stream",
     "text": [
      "BPH_651 done.\n",
      "BPH_665 done.\n",
      "BPH_688 done.\n",
      "BPH_652 done.\n",
      "PC-03-6712 done.\n",
      "PC_00_16338_II done.\n",
      "PC_01_06342_VAS done.\n",
      "PC_01_14451_OIK done.\n",
      "PC_02_05601_OIK done.\n",
      "PC_02_10136_VAS done.\n",
      "PC_03_01669_TUTKV done.\n",
      "PC_15420OIK done.\n",
      "PC_4980 done.\n",
      "PC_7875OIK done.\n",
      "PC_05_08449_OIK_POST_0 done.\n",
      "PC_05_13057_OIK_ANT_0 done.\n",
      "PC_05_30627_VAS_ANT_0 done.\n",
      "PC_06_02588_OIK_ANT_0 done.\n",
      "PC_06_04581_OIK_POST_0 done.\n",
      "PC_06_17800_VAS_POST_0 done.\n",
      "PC_04_12646_VAS done.\n",
      "PC_05_16831_VAS_POST_1 done.\n",
      "PC_05_17668_OIK_ANT_1 done.\n",
      "PC_05_24402_OIK_ANT2_1 done.\n",
      "PC_06_03093_OIK_ANT_1 done.\n",
      "PC_05_25866_OIK_POST_1 done.\n",
      "PC_06_11108_VAS_POST_1 done.\n",
      "PC_05_27153_OIK_POST_2 done.\n",
      "PC_05_29927_VAS_POST_2 done.\n",
      "PC_06_00786_VAS_ANT_2 done.\n",
      "PC_06_04077_OIK_ANT_2 done.\n",
      "PC_06_16086_VAS_POST_2 done.\n",
      "P32030 done.\n",
      "P32033 done.\n",
      "P32037 done.\n",
      "P32043 done.\n",
      "P32055 done.\n",
      "P32014 done.\n",
      "P32036 done.\n",
      "P32041 done.\n",
      "P32044 done.\n",
      "P32062 done.\n",
      "P32084 done.\n",
      "CRPC-278 done.\n",
      "CRPC-489 done.\n",
      "CRPC-697 done.\n",
      "CRPC_530 done.\n",
      "CRPC_531 done.\n"
     ]
    },
    {
     "data": {
      "text/plain": [
       "\" \\n    fig,ax_plotting = plt.subplots(1,2,figsize=(18,9))\\n    sc.pl.spatial(slide,color='predicted_region',size=0,ax=ax_plotting[0],show=False,legend_loc=None)\\n    sc.pl.spatial(slide,color='predicted_region',size=1.5,ax=ax_plotting[1],show=False,alpha_img=0)\\n    plt.tight_layout()\\n    plt.savefig('./plots/c2l_mapping_results_'+run_name+'/'+sample+'_side_by_side_nmf_obs_weight_based_tissue_regions_spatial.pdf')\\n    plt.clf()\\n     \""
      ]
     },
     "execution_count": 11,
     "metadata": {},
     "output_type": "execute_result"
    }
   ],
   "source": [
    "# Copy the region annotation into scanpy slide objects, build graph, save and plot\n",
    "\n",
    "for sample in samples:\n",
    "\n",
    "    # Read in the data\n",
    "    slide = sc.read_h5ad('./data/normalized_visium/'+sample+'_normalized.h5ad')\n",
    "\n",
    "    slide.obs['predicted_region'] = obs_data.loc[slide.obs_names]['nmf_weight_based_regions'].astype('category')\n",
    "\n",
    "    # Only keep the categories that are present in the sample\n",
    "    slide_categories = [s for s in sorted_region_names if s in slide.obs['predicted_region'].cat.categories]\n",
    "\n",
    "    # Sort the categories\n",
    "    slide.obs['predicted_region'] = slide.obs['predicted_region'].cat.reorder_categories(slide_categories)\n",
    "\n",
    "    # Get the colors considering some might be missing\n",
    "    slide.uns['predicted_region_colors'] = [region_colors_dict[region] for region in slide_categories]\n",
    "    \n",
    "    # Build the neighbor graph\n",
    "    sq.gr.spatial_neighbors(slide,n_neighs=6,n_rings=3)\n",
    "\n",
    "    # Add the relevant column information\n",
    "    slide.obs['sample_id'] = sample\n",
    "    slide.obs['sample_class'] = sample_id_masks[sample].split(' ')[0]\n",
    "    \n",
    "    # Format the obs columns so that there's no discreprancies\n",
    "    slide.obs = slide.obs[['in_tissue','array_row','array_col','n_counts','size_factors','sample_id','sample_class','predicted_region']]\n",
    "\n",
    "    # Save the slide objects to another directory\n",
    "    slide.write_h5ad('./data/visium_with_regions/'+sample+'_with_regions.h5ad')\n",
    "\n",
    "    print(sample + ' done.')\n",
    "    del slide\n",
    "\n",
    "\"\"\" \n",
    "    fig,ax_plotting = plt.subplots(1,2,figsize=(18,9))\n",
    "    sc.pl.spatial(slide,color='predicted_region',size=0,ax=ax_plotting[0],show=False,legend_loc=None)\n",
    "    sc.pl.spatial(slide,color='predicted_region',size=1.5,ax=ax_plotting[1],show=False,alpha_img=0)\n",
    "    plt.tight_layout()\n",
    "    plt.savefig('./plots/c2l_mapping_results_'+run_name+'/'+sample+'_side_by_side_nmf_obs_weight_based_tissue_regions_spatial.pdf')\n",
    "    plt.clf()\n",
    "     \"\"\"\n",
    "    "
   ]
  },
  {
   "cell_type": "code",
   "execution_count": 112,
   "metadata": {},
   "outputs": [
    {
     "data": {
      "image/png": "[encoded data removed]",
      "text/plain": [
       "<Figure size 800x640 with 2 Axes>"
      ]
     },
     "metadata": {},
     "output_type": "display_data"
    }
   ],
   "source": [
    "# This is in ALL samples\n",
    "summary_mat = np.zeros((len(sorted_region_names),len(sorted_region_names)))\n",
    "for sample in samples:\n",
    "    \n",
    "    slide = sc.read_h5ad('./data/visium_with_regions/'+sample+'_with_regions.h5ad')\n",
    "    sq.gr.nhood_enrichment(slide, cluster_key='predicted_region',show_progress_bar=False)\n",
    "    \n",
    "    mat = slide.uns['predicted_region_nhood_enrichment']['zscore'].copy()\n",
    "    mat = np.nan_to_num(mat)\n",
    "\n",
    "    missing = [c for c in sorted_region_names if c not in list(slide.obs['predicted_region'].cat.categories)]\n",
    "\n",
    "    for missing_type in missing:\n",
    "\n",
    "        insert_idx = list(sorted_region_names).index(missing_type)\n",
    "        mat = np.insert(mat, insert_idx, np.repeat(0,mat.shape[1]),axis = 0)\n",
    "        mat = np.insert(mat, insert_idx, np.repeat(0,mat.shape[0]),axis = 1)\n",
    "\n",
    "    summary_mat += mat\n",
    "sns.set_theme(style='white')\n",
    "fig,ax = plt.subplots(figsize=(10,8))\n",
    "df = pd.DataFrame(summary_mat,index=sorted_region_names,columns=sorted_region_names)/len(samples)\n",
    "sns.heatmap(df,cmap='bwr',ax=ax,annot=True,fmt='.1f',center=0,vmin=-30,vmax=30)\n",
    "plt.savefig('./plots/tissue_region_interaction_heatmap_all_samples_tampere_arneo.pdf')\n",
    "plt.show()"
   ]
  },
  {
   "cell_type": "code",
   "execution_count": null,
   "metadata": {},
   "outputs": [],
   "source": []
  }
 ],
 "metadata": {
  "kernelspec": {
   "display_name": "Python 3 (ipykernel)",
   "language": "python",
   "name": "python3"
  },
  "language_info": {
   "codemirror_mode": {
    "name": "ipython",
    "version": 3
   },
   "file_extension": ".py",
   "mimetype": "text/x-python",
   "name": "python",
   "nbconvert_exporter": "python",
   "pygments_lexer": "ipython3",
   "version": "3.8.15"
  },
  "orig_nbformat": 4
 },
 "nbformat": 4,
 "nbformat_minor": 2
}
