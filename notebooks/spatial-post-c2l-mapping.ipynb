{
 "cells": [
  {
   "cell_type": "code",
   "execution_count": null,
   "metadata": {},
   "outputs": [],
   "source": [
    "# Date: 20.3.2023\n",
    "# Author: Antti Kiviaho\n",
    "#\n",
    "# Notebook for analysing and visualizing visium data after copy number variation, single cell mapping and clustering\n",
    "# analyses. This is the main results notebook"
   ]
  },
  {
   "attachments": {},
   "cell_type": "markdown",
   "metadata": {},
   "source": [
    "## Packages and data download"
   ]
  },
  {
   "cell_type": "code",
   "execution_count": 1,
   "metadata": {},
   "outputs": [],
   "source": [
    "import os \n",
    "os.chdir('/lustre/scratch/kiviaho/prostate_spatial/')\n",
    "\n",
    "import scanpy as sc\n",
    "import numpy as np\n",
    "import squidpy as sq\n",
    "import pandas as pd\n",
    "import anndata as ad\n",
    "\n",
    "#from cell2location.utils import select_slide\n",
    "#from cell2location.plt import plot_spatial\n",
    "\n",
    "import matplotlib.pyplot as plt\n",
    "from scripts.utils import load_from_pickle, get_sample_ids\n",
    "import matplotlib as mpl\n",
    "\n",
    "import seaborn as sns\n",
    "sns.set_theme()\n",
    "\n",
    "sc.set_figure_params(figsize=(6,6),dpi_save=300,frameon=True,format='pdf')\n",
    "\n",
    "import warnings\n",
    "warnings.filterwarnings(\"ignore\")\n"
   ]
  },
  {
   "cell_type": "code",
   "execution_count": 2,
   "metadata": {},
   "outputs": [],
   "source": [
    "# Download data and format cell2location mapping results into obs columns in both aggregated adata and individual slides\n",
    "#c2l-results/cell2location_map_20230322/\n",
    "adata_vis = sc.read_h5ad('./visium_adata_with_c2l_mapping_20230519.h5ad')\n",
    "\n",
    "adata_vis.obs.joint_leiden_clusters = adata_vis.obs.sample_id.astype(str) + '_' + adata_vis.obs.joint_leiden_clusters.astype(str)\n",
    "adata_vis.obs['joint_leiden_clusters'] = pd.Categorical(adata_vis.obs['joint_leiden_clusters'])\n",
    "\n",
    "\n",
    "adata_slides = load_from_pickle('./data/individual_sections_normalized_clustered.pickle')\n",
    "samples = get_sample_ids()\n",
    "\n",
    "# Copy obsm (cell2location results) to adata object obs\n",
    "adata_vis.obs[adata_vis.uns['mod']['factor_names']] = adata_vis.obsm['q05_cell_abundance_w_sf']\n",
    "\n",
    "# Copy obsm (cell2location results) to individual slides\n",
    "for sample in samples:\n",
    "    vis_subset = adata_vis[adata_vis.obs['sample_id']==sample]\n",
    "    \n",
    "    if (vis_subset.obs_names == adata_slides[sample].obs_names).all():\n",
    "        adata_slides[sample].obsm = vis_subset.obsm.copy()\n",
    "        \n",
    "        # add 5% quantile, representing confident cell abundance, 'at least this amount is present',\n",
    "        # to adata.obs with nice names for plotting\n",
    "        adata_slides[sample].uns['mod'] = vis_subset.uns['mod'].copy()\n",
    "        adata_slides[sample].obs[adata_slides[sample].uns['mod']['factor_names']] = adata_slides[sample].obsm['q05_cell_abundance_w_sf']\n"
   ]
  },
  {
   "attachments": {},
   "cell_type": "markdown",
   "metadata": {},
   "source": [
    "## Nuclei counting breakdown"
   ]
  },
  {
   "cell_type": "code",
   "execution_count": null,
   "metadata": {},
   "outputs": [],
   "source": [
    "# Looking at segmentation-based nuclei counts\n",
    "nuclei_counts = load_from_pickle('visium_slide_nuclei_counts.pickle')\n",
    "nuclei_counts['n_nuclei'] = nuclei_counts['n_nuclei'].astype(int)\n",
    "nuclei_counts['n_nuclei'].describe()"
   ]
  },
  {
   "cell_type": "code",
   "execution_count": null,
   "metadata": {},
   "outputs": [],
   "source": [
    "meta = adata_vis.obs.copy()\n",
    "meta = pd.merge(meta,nuclei_counts,left_index=True,right_index=True,how='left')\n",
    "if (meta.index == adata_vis.obs.index).all():\n",
    "    adata_vis.obs = meta\n",
    "    print('merged!')\n",
    "adata_vis.obs"
   ]
  },
  {
   "cell_type": "code",
   "execution_count": null,
   "metadata": {},
   "outputs": [],
   "source": [
    "# Plot the correlation between number of detected UMIs and cells\n",
    "corr = meta[['total_counts','n_nuclei']].corr(method='pearson')\n"
   ]
  },
  {
   "cell_type": "code",
   "execution_count": null,
   "metadata": {},
   "outputs": [],
   "source": [
    "for s in samples:\n",
    "    subset = meta[meta['sample_id'] == s]\n",
    "    corr = subset[['total_counts','n_nuclei']].corr(method='pearson').iloc[0,1]\n",
    "    print('Sample ' + s)\n",
    "    print(subset['n_nuclei'].describe())\n",
    "    print('Pearson correlation between n UMIs and nuclei: {:.3f}'.format(corr))\n",
    "    print('')"
   ]
  },
  {
   "attachments": {},
   "cell_type": "markdown",
   "metadata": {},
   "source": [
    "## Looking at T-cell receptor subunit coverage across the visium slides (Alfonso)"
   ]
  },
  {
   "cell_type": "code",
   "execution_count": null,
   "metadata": {},
   "outputs": [],
   "source": [
    "import numpy as np\n",
    "\n",
    "samples = get_sample_ids()\n",
    "cd3_genes = ['CD3D','CD3E','CD3G','CD247']\n",
    "n_rows = 1  # Set the number of rows and columns for the subplots\n",
    "n_cols = len(cd3_genes)\n",
    "\n",
    "for s in samples:\n",
    "    adata = adata_vis[adata_vis.obs['sample_id'] == s]\n",
    "\n",
    "    fig, axs = plt.subplots(n_rows, n_cols, figsize=(10, 3))  # Create the figure with subplots\n",
    "    fig.suptitle(s) \n",
    "\n",
    "    for i, g in enumerate(cd3_genes):\n",
    "        if g in list(adata.var.index):\n",
    "            gene_expr = adata[:,g].layers['counts'].toarray().ravel()\n",
    "            gene_expr = gene_expr[gene_expr != 0]  # Exclude 0 values\n",
    "            bins = np.arange(1, 11) - 0.5  # Define bins to center histogram bars on integer values\n",
    "            axs[i].hist(gene_expr, bins=bins)\n",
    "            axs[i].set_xticks(np.arange(1, 11))  # Set x-axis ticks from 1 to 10\n",
    "            axs[i].set_xlabel(g+' expression')\n",
    "            axs[i].set_ylabel('Frequency')\n",
    "\n",
    "    plt.show()\n"
   ]
  },
  {
   "cell_type": "code",
   "execution_count": null,
   "metadata": {},
   "outputs": [],
   "source": [
    "# This code will create a 5 by 5 inches axis for each plot, \n",
    "# save them in plots/c2l_mapping_results_20230511/ with a \n",
    "# sample-specific filename, and set the dpi to 300.\n",
    "cd3_genes = ['CD3D','CD3E','CD247']\n",
    "#samples = [s for s in samples if 'CRPC' in s]\n",
    "import os\n",
    "for sample in samples:\n",
    "    slide = adata_slides[sample].copy()\n",
    "    slide.obs['CD3_sum'] = np.sum(slide[:,cd3_genes].layers['counts'].todense(),axis=1).flatten().tolist()[0]\n",
    "\n",
    "    # import matplotlib library\n",
    "    import matplotlib.pyplot as plt\n",
    "    from matplotlib.backends.backend_pdf import PdfPages\n",
    "\n",
    "    # set figure axis size and dpi\n",
    "    fig, ax = plt.subplots(figsize=(3, 3), dpi=100)\n",
    "\n",
    "    # create spatial plot\n",
    "    sc.pl.spatial(slide, cmap='viridis',\n",
    "            # show first 8 cell types\n",
    "            color='CD3_sum',size=1.3,alpha_img=0.8,\n",
    "            vmin=0, vmax=6, ax=ax, show=False, title=sample)\n",
    "\n",
    "    # create filename with sample name\n",
    "    filename = 'plots/c2l_mapping_results_20230511/cd3_expression/' + sample + '_spatial_cd3_sum_plot.pdf'\n",
    "\n",
    "    # create output folder if it doesn't exist\n",
    "    if not os.path.exists(os.path.dirname(filename)):\n",
    "        os.makedirs(os.path.dirname(filename))\n",
    "\n",
    "    # save plot to pdf with filename\n",
    "    with PdfPages(filename) as pdf:\n",
    "        pdf.savefig(fig)\n",
    "\n",
    "\n"
   ]
  },
  {
   "attachments": {},
   "cell_type": "markdown",
   "metadata": {},
   "source": [
    "## Visium mapping plots"
   ]
  },
  {
   "cell_type": "code",
   "execution_count": null,
   "metadata": {},
   "outputs": [],
   "source": [
    "# Plots and saves top n_types with highest prevelance on visium slides\n",
    "n_types = 12\n",
    "\n",
    "for sample in samples:\n",
    "    slide = adata_slides[sample]\n",
    "    # Subset to only plot the cell types with highest mean prevalence\n",
    "    cell_types = slide.obs.iloc[:,16:].mean(axis=0).sort_values(ascending=False)[:n_types]\n",
    "\n",
    "    # plot in spatial coordinates\n",
    "    with mpl.rc_context({'axes.facecolor':  'black',\n",
    "                        'figure.figsize': [4.5, 5]}):\n",
    "\n",
    "        sc.pl.spatial(slide, cmap='magma',\n",
    "                    # show first 8 cell types\n",
    "                    color=cell_types.index,\n",
    "                    ncols=4, size=1.3,alpha_img=0.8,\n",
    "                    # limit color scale at 99.2% quantile of cell abundance\n",
    "                    vmin=0, vmax='p99.2', show=False\n",
    "                    )\n",
    "        plt.savefig('./plots/c2l_mapping_results_20230519/'+sample+'_c2l_mapping_top12_abundant.png',dpi=200)\n",
    "        plt.clf()"
   ]
  },
  {
   "cell_type": "code",
   "execution_count": null,
   "metadata": {},
   "outputs": [],
   "source": [
    "## Side by side violin plots of abundant cell types + spatial \n",
    "\n",
    "plt.rcParams.update({'axes.titlesize': 'small'})\n",
    "\n",
    "n_types = 6\n",
    "obs_name = 'joint_leiden_clusters'\n",
    "\n",
    "for s in samples:\n",
    "\n",
    "    slide = adata_slides[s]\n",
    "\n",
    "    # Subset to only plot the cell types with highest mean prevalence\n",
    "    cell_types = slide.obs.iloc[:,16:].mean(axis=0).sort_values(ascending=False)[:n_types].index\n",
    "\n",
    "    fig = plt.figure(figsize=(12,12))\n",
    "\n",
    "    gs = fig.add_gridspec(6,3)\n",
    "    ax6 = fig.add_subplot(gs[:, 1:3])\n",
    "\n",
    "    # Plot the data in the left column subplots\n",
    "    for i in range(6):\n",
    "\n",
    "        ax_plotting = fig.add_subplot(gs[i,0])\n",
    "\n",
    "        sc.pl.violin(slide,groupby=obs_name,keys=cell_types[i],jitter=False,rotation=45,inner='box',\n",
    "                    ax=ax_plotting,show=False)\n",
    "        \n",
    "        ax_plotting.yaxis.label.set_size(12)\n",
    "        #ax_plotting.yaxis.label.set_rotation('horizontal')\n",
    "\n",
    "        if i < 5:  # only remove x-labels for the top 5 subplots on the left\n",
    "            ax_plotting.tick_params(axis='x', which='both', bottom=False, labelbottom=False) \n",
    "\n",
    "    sc.pl.spatial(adata_slides[s],color='joint_leiden_clusters',size=1.3,ax=ax6)\n",
    "\n",
    "    fig.savefig('./plots/c2l_mapping_results_20230519/'+s+'_cell_type_prevalences_per_cluster.png')\n",
    "    fig.clf()\n",
    "\n"
   ]
  },
  {
   "cell_type": "code",
   "execution_count": null,
   "metadata": {},
   "outputs": [],
   "source": [
    "cell_types = ['luminal-like epithelium', 'ERG tumor epithelium', 'inflammatory fibroblasts','myofibroblasts']\n",
    "cell_types2 = ['basal-like epithelium', 'prostaglandind active epithelium','antigen presenting fibroblasts','pericytes']\n",
    "\n",
    "for sample in samples:\n",
    "    slide = adata_slides[sample]\n",
    "    fig, axs = plt.subplots(2, 4, sharey='row')\n",
    "    for i, cell_type in enumerate(cell_types):\n",
    "        axs[0, i].set_ylim([0, 20])\n",
    "        sc.pl.violin(slide, groupby='joint_leiden_clusters', keys=cell_type, jitter=False,\n",
    "            rotation=45, inner='box', show=False, ax=axs[0, i])\n",
    "    for i, cell_type in enumerate(cell_types2):\n",
    "        axs[1, i].set_ylim([0, 10])\n",
    "        sc.pl.violin(slide, groupby='joint_leiden_clusters', keys=cell_type, jitter=False,\n",
    "            rotation=45, inner='box', show=False, ax=axs[1, i])\n",
    "    plt.gcf().set_size_inches(16, 8)\n",
    "    plt.savefig(os.path.join('plots/c2l_mapping_results_20230519', f'{sample}_8_celltypes_violinplots.pdf'))\n",
    "    plt.clf()\n"
   ]
  },
  {
   "attachments": {},
   "cell_type": "markdown",
   "metadata": {},
   "source": [
    "## Secondary analysis of the cell type mapping numbers"
   ]
  },
  {
   "cell_type": "code",
   "execution_count": 3,
   "metadata": {},
   "outputs": [
    {
     "name": "stdout",
     "output_type": "stream",
     "text": [
      "Inferred cell counts copied!\n"
     ]
    },
    {
     "data": {
      "text/plain": [
       "AnnData object with n_obs × n_vars = 32664 × 26\n",
       "    obs: 'sample_id', 'joint_leiden_clusters', 'phenotype'"
      ]
     },
     "execution_count": 3,
     "metadata": {},
     "output_type": "execute_result"
    }
   ],
   "source": [
    "# Creating an anndata-structure for inferred cell numbers\n",
    "\n",
    "# Filters if necessary\n",
    "ctypes = adata_vis.uns['mod']['factor_names']\n",
    "#ctypes = [ctype for ctype in ctypes if 'epithelial' in ctype or 'fibroblast' in ctype]\n",
    "\n",
    "cell_mapping_dat = sc.AnnData(adata_vis.obs[ctypes])\n",
    "if (cell_mapping_dat.obs.index == adata_vis.obs.index).all():\n",
    "    cell_mapping_dat.obs = adata_vis.obs[['sample_id','joint_leiden_clusters']]\n",
    "\n",
    "\n",
    "# Get the index names before '-' or '_'\n",
    "phenotype = []\n",
    "for index in cell_mapping_dat.obs.index:\n",
    "    name = index.split('-')[0]\n",
    "    name = name.split('_')[0]\n",
    "    phenotype.append(name)\n",
    "\n",
    "# Add the phenotype column to the dataframe\n",
    "cell_mapping_dat.obs['phenotype'] = phenotype\n",
    "\n",
    "# Make a scaled copy for possible use\n",
    "scaled_cell_mapping_dat = sc.pp.scale(cell_mapping_dat,copy=True)\n",
    "\n",
    "if (adata_vis.obs.index == cell_mapping_dat.obs.index).all():\n",
    "    adata_vis.obs['inferred_cell_counts'] = np.round(np.sum(cell_mapping_dat.X,axis=1),0).tolist()\n",
    "    print('Inferred cell counts copied!')\n",
    "\n",
    "cell_mapping_dat\n"
   ]
  },
  {
   "cell_type": "code",
   "execution_count": 4,
   "metadata": {},
   "outputs": [],
   "source": [
    "sc.pp.pca(cell_mapping_dat)\n",
    "sc.pp.neighbors(cell_mapping_dat)\n",
    "sc.tl.umap(cell_mapping_dat)\n",
    "sc.tl.leiden(cell_mapping_dat,key_added='mapping_based_clusters', resolution=0.5)"
   ]
  },
  {
   "cell_type": "code",
   "execution_count": 5,
   "metadata": {},
   "outputs": [
    {
     "ename": "KeyError",
     "evalue": "\"['n_nuclei'] not in index\"",
     "output_type": "error",
     "traceback": [
      "\u001b[0;31m---------------------------------------------------------------------------\u001b[0m",
      "\u001b[0;31mKeyError\u001b[0m                                  Traceback (most recent call last)",
      "\u001b[1;32m/lustre/scratch/kiviaho/prostate_spatial/notebooks/spatial-post-c2l-mapping.ipynb Cell 20\u001b[0m in \u001b[0;36m<cell line: 2>\u001b[0;34m()\u001b[0m\n\u001b[1;32m      <a href='vscode-notebook-cell://ssh-remote%2Bnarvi-shell.tut.fi/lustre/scratch/kiviaho/prostate_spatial/notebooks/spatial-post-c2l-mapping.ipynb#X25sdnNjb2RlLXJlbW90ZQ%3D%3D?line=1'>2</a>\u001b[0m \u001b[39mfor\u001b[39;00m s \u001b[39min\u001b[39;00m samples:\n\u001b[1;32m      <a href='vscode-notebook-cell://ssh-remote%2Bnarvi-shell.tut.fi/lustre/scratch/kiviaho/prostate_spatial/notebooks/spatial-post-c2l-mapping.ipynb#X25sdnNjb2RlLXJlbW90ZQ%3D%3D?line=2'>3</a>\u001b[0m     subset \u001b[39m=\u001b[39m meta[meta[\u001b[39m'\u001b[39m\u001b[39msample_id\u001b[39m\u001b[39m'\u001b[39m] \u001b[39m==\u001b[39m s]\n\u001b[0;32m----> <a href='vscode-notebook-cell://ssh-remote%2Bnarvi-shell.tut.fi/lustre/scratch/kiviaho/prostate_spatial/notebooks/spatial-post-c2l-mapping.ipynb#X25sdnNjb2RlLXJlbW90ZQ%3D%3D?line=3'>4</a>\u001b[0m     corr \u001b[39m=\u001b[39m subset[[\u001b[39m'\u001b[39;49m\u001b[39mtotal_counts\u001b[39;49m\u001b[39m'\u001b[39;49m,\u001b[39m'\u001b[39;49m\u001b[39mn_nuclei\u001b[39;49m\u001b[39m'\u001b[39;49m]]\u001b[39m.\u001b[39mcorr(method\u001b[39m=\u001b[39m\u001b[39m'\u001b[39m\u001b[39mpearson\u001b[39m\u001b[39m'\u001b[39m)\u001b[39m.\u001b[39miloc[\u001b[39m0\u001b[39m,\u001b[39m1\u001b[39m]\n\u001b[1;32m      <a href='vscode-notebook-cell://ssh-remote%2Bnarvi-shell.tut.fi/lustre/scratch/kiviaho/prostate_spatial/notebooks/spatial-post-c2l-mapping.ipynb#X25sdnNjb2RlLXJlbW90ZQ%3D%3D?line=4'>5</a>\u001b[0m     corr2 \u001b[39m=\u001b[39m subset[[\u001b[39m'\u001b[39m\u001b[39minferred_cell_counts\u001b[39m\u001b[39m'\u001b[39m,\u001b[39m'\u001b[39m\u001b[39mn_nuclei\u001b[39m\u001b[39m'\u001b[39m]]\u001b[39m.\u001b[39mcorr(method\u001b[39m=\u001b[39m\u001b[39m'\u001b[39m\u001b[39mpearson\u001b[39m\u001b[39m'\u001b[39m)\u001b[39m.\u001b[39miloc[\u001b[39m0\u001b[39m,\u001b[39m1\u001b[39m]\n\u001b[1;32m      <a href='vscode-notebook-cell://ssh-remote%2Bnarvi-shell.tut.fi/lustre/scratch/kiviaho/prostate_spatial/notebooks/spatial-post-c2l-mapping.ipynb#X25sdnNjb2RlLXJlbW90ZQ%3D%3D?line=5'>6</a>\u001b[0m     \u001b[39mprint\u001b[39m(\u001b[39m'\u001b[39m\u001b[39mSample \u001b[39m\u001b[39m'\u001b[39m \u001b[39m+\u001b[39m s)\n",
      "File \u001b[0;32m~/.conda/envs/squidpy/lib/python3.8/site-packages/pandas/core/frame.py:3811\u001b[0m, in \u001b[0;36mDataFrame.__getitem__\u001b[0;34m(self, key)\u001b[0m\n\u001b[1;32m   3809\u001b[0m     \u001b[39mif\u001b[39;00m is_iterator(key):\n\u001b[1;32m   3810\u001b[0m         key \u001b[39m=\u001b[39m \u001b[39mlist\u001b[39m(key)\n\u001b[0;32m-> 3811\u001b[0m     indexer \u001b[39m=\u001b[39m \u001b[39mself\u001b[39;49m\u001b[39m.\u001b[39;49mcolumns\u001b[39m.\u001b[39;49m_get_indexer_strict(key, \u001b[39m\"\u001b[39;49m\u001b[39mcolumns\u001b[39;49m\u001b[39m\"\u001b[39;49m)[\u001b[39m1\u001b[39m]\n\u001b[1;32m   3813\u001b[0m \u001b[39m# take() does not accept boolean indexers\u001b[39;00m\n\u001b[1;32m   3814\u001b[0m \u001b[39mif\u001b[39;00m \u001b[39mgetattr\u001b[39m(indexer, \u001b[39m\"\u001b[39m\u001b[39mdtype\u001b[39m\u001b[39m\"\u001b[39m, \u001b[39mNone\u001b[39;00m) \u001b[39m==\u001b[39m \u001b[39mbool\u001b[39m:\n",
      "File \u001b[0;32m~/.conda/envs/squidpy/lib/python3.8/site-packages/pandas/core/indexes/base.py:6113\u001b[0m, in \u001b[0;36mIndex._get_indexer_strict\u001b[0;34m(self, key, axis_name)\u001b[0m\n\u001b[1;32m   6110\u001b[0m \u001b[39melse\u001b[39;00m:\n\u001b[1;32m   6111\u001b[0m     keyarr, indexer, new_indexer \u001b[39m=\u001b[39m \u001b[39mself\u001b[39m\u001b[39m.\u001b[39m_reindex_non_unique(keyarr)\n\u001b[0;32m-> 6113\u001b[0m \u001b[39mself\u001b[39;49m\u001b[39m.\u001b[39;49m_raise_if_missing(keyarr, indexer, axis_name)\n\u001b[1;32m   6115\u001b[0m keyarr \u001b[39m=\u001b[39m \u001b[39mself\u001b[39m\u001b[39m.\u001b[39mtake(indexer)\n\u001b[1;32m   6116\u001b[0m \u001b[39mif\u001b[39;00m \u001b[39misinstance\u001b[39m(key, Index):\n\u001b[1;32m   6117\u001b[0m     \u001b[39m# GH 42790 - Preserve name from an Index\u001b[39;00m\n",
      "File \u001b[0;32m~/.conda/envs/squidpy/lib/python3.8/site-packages/pandas/core/indexes/base.py:6176\u001b[0m, in \u001b[0;36mIndex._raise_if_missing\u001b[0;34m(self, key, indexer, axis_name)\u001b[0m\n\u001b[1;32m   6173\u001b[0m     \u001b[39mraise\u001b[39;00m \u001b[39mKeyError\u001b[39;00m(\u001b[39mf\u001b[39m\u001b[39m\"\u001b[39m\u001b[39mNone of [\u001b[39m\u001b[39m{\u001b[39;00mkey\u001b[39m}\u001b[39;00m\u001b[39m] are in the [\u001b[39m\u001b[39m{\u001b[39;00maxis_name\u001b[39m}\u001b[39;00m\u001b[39m]\u001b[39m\u001b[39m\"\u001b[39m)\n\u001b[1;32m   6175\u001b[0m not_found \u001b[39m=\u001b[39m \u001b[39mlist\u001b[39m(ensure_index(key)[missing_mask\u001b[39m.\u001b[39mnonzero()[\u001b[39m0\u001b[39m]]\u001b[39m.\u001b[39munique())\n\u001b[0;32m-> 6176\u001b[0m \u001b[39mraise\u001b[39;00m \u001b[39mKeyError\u001b[39;00m(\u001b[39mf\u001b[39m\u001b[39m\"\u001b[39m\u001b[39m{\u001b[39;00mnot_found\u001b[39m}\u001b[39;00m\u001b[39m not in index\u001b[39m\u001b[39m\"\u001b[39m)\n",
      "\u001b[0;31mKeyError\u001b[0m: \"['n_nuclei'] not in index\""
     ]
    }
   ],
   "source": [
    "meta = adata_vis.obs.copy()\n",
    "for s in samples:\n",
    "    subset = meta[meta['sample_id'] == s]\n",
    "    corr = subset[['total_counts','n_nuclei']].corr(method='pearson').iloc[0,1]\n",
    "    corr2 = subset[['inferred_cell_counts','n_nuclei']].corr(method='pearson').iloc[0,1]\n",
    "    print('Sample ' + s)\n",
    "    print('Pearson correlation between n UMIs and nuclei: {:.3f}'.format(corr))\n",
    "    print('Pearson correlation between n inferred cells and nuclei: {:.3f}'.format(corr2))\n",
    "    print('')"
   ]
  },
  {
   "cell_type": "code",
   "execution_count": 6,
   "metadata": {},
   "outputs": [
    {
     "data": {
      "text/plain": [
       "<seaborn.matrix.ClusterGrid at 0x7f0a2c7e6670>"
      ]
     },
     "execution_count": 6,
     "metadata": {},
     "output_type": "execute_result"
    },
    {
     "data": {
      "image/png": "[encoded data removed]",
      "text/plain": [
       "<Figure size 1152x576 with 5 Axes>"
      ]
     },
     "metadata": {
      "needs_background": "light"
     },
     "output_type": "display_data"
    }
   ],
   "source": [
    "# Plotting the cluster-averaged cell counts into a heatmap for easier interpretation\n",
    "ctype_start = 0\n",
    "n_ctypes = 15\n",
    "n_cells_col_cap = 3\n",
    "\n",
    "# Take 10 most prevalent cell types and use them for the heatmap\n",
    "heatmap_vars = np.array(cell_mapping_dat.var_names[np.argsort(np.sum(\n",
    "    cell_mapping_dat.X,axis=0))[::-1]])[ctype_start:ctype_start + n_ctypes]\n",
    "\n",
    "# Backup for taking specific cell types\n",
    "# heatmap_vars = [x for x in scaled_cell_mapping_dat.var_names if \"epithelial\" in x or \"fibroblast\" in x or \"pericyte\" in x]\n",
    "\n",
    "\n",
    "# Convert X and annotations to pandas DataFrame\n",
    "df = pd.DataFrame(cell_mapping_dat.X)\n",
    "df['cluster'] = cell_mapping_dat.obs['joint_leiden_clusters'].tolist()\n",
    "#df['sample_id'] = cell_mapping_dat.obs['sample_id']\n",
    "\n",
    "# Group rows by their annotation values and calculate the average of each group\n",
    "averaged_df = df.groupby('cluster').mean()\n",
    "averaged_df.columns = cell_mapping_dat.var_names\n",
    "\n",
    "averaged_df = averaged_df[heatmap_vars]\n",
    "\n",
    "# Extract sample names from index values\n",
    "sample_names = ['_'.join(index.split(\"_\")[:-1]) for index in averaged_df.index]\n",
    "\n",
    "# Create a dictionary that maps each sample name to a color\n",
    "color_map = {sample: sns.color_palette()[i] for i, sample in enumerate(sorted(set(sample_names)))}\n",
    "\n",
    "# Use the color_map dictionary to assign colors to each index value\n",
    "colors = [color_map[sample_name] for sample_name in sample_names]\n",
    "\n",
    "sns.clustermap(averaged_df.T, col_colors=colors, cmap='viridis', z_score=1,\n",
    "                vmax=n_cells_col_cap, figsize=(16,8), xticklabels=False)\n"
   ]
  },
  {
   "cell_type": "code",
   "execution_count": 12,
   "metadata": {},
   "outputs": [
    {
     "data": {
      "image/png": "[encoded data removed]",
      "text/plain": [
       "<Figure size 432x288 with 1 Axes>"
      ]
     },
     "metadata": {
      "needs_background": "light"
     },
     "output_type": "display_data"
    }
   ],
   "source": [
    "import matplotlib.pyplot as plt\n",
    "from matplotlib.patches import Patch\n",
    "\n",
    "# Create an empty plot\n",
    "fig, ax = plt.subplots()\n",
    "\n",
    "# Create a list of labels and colors\n",
    "legend_labels = list(color_map.keys())\n",
    "legend_colors = list(color_map.values())\n",
    "\n",
    "# Convert the float tuples to valid RGB color strings\n",
    "colors = ['#%02x%02x%02x' % tuple(int(255*x) for x in color) for color in legend_colors]\n",
    "\n",
    "# Create color patches for each label\n",
    "patches = [Patch(color=color, label=label) for color, label in zip(colors, legend_labels)]\n",
    "\n",
    "# Add the legend to the plot\n",
    "ax.legend(handles=patches, prop={\"size\": 10}, loc='best', framealpha=1, edgecolor='black', facecolor='white',\n",
    "          title='Legend Title', labelcolor='black', fancybox=True, shadow=True,  bbox_to_anchor=(1.05, 1))\n",
    "\n",
    "# Show the plot\n",
    "plt.show()\n"
   ]
  },
  {
   "attachments": {},
   "cell_type": "markdown",
   "metadata": {},
   "source": [
    "## Spatial Leiden cluster merging "
   ]
  },
  {
   "cell_type": "code",
   "execution_count": null,
   "metadata": {},
   "outputs": [],
   "source": [
    "from sklearn.metrics import silhouette_score, pairwise_distances\n",
    "\n",
    "# Define functions\n",
    "\n",
    "## Calclulates the euclidean distance on cluster level yield to information about which clusters are closest to each other\n",
    "def calculate_distances(cluster_means_df,n_closest=5):\n",
    "    closest_names = np.empty((0,n_closest))\n",
    "    closest_dist = np.empty((0,n_closest))\n",
    "\n",
    "    for idx in range (len(cluster_means_df)):\n",
    "\n",
    "        # Divide the df into the query (1 cluster) and the rest\n",
    "        comparison_dat = cluster_means_df.iloc[idx]\n",
    "        rest_of_the_dat = cluster_means_df.drop(index=[cluster_means_df.index[idx]])\n",
    "\n",
    "        # Repeat one row to match the shape of the rest\n",
    "        comparison_dat_reshaped = np.tile(comparison_dat,(rest_of_the_dat.shape[0],1))\n",
    "        res = np.linalg.norm(rest_of_the_dat-comparison_dat_reshaped,axis=1)\n",
    "        matches = np.asarray(list(rest_of_the_dat.index[np.argsort(res)[:n_closest]]))\n",
    "\n",
    "        # Stack names and distances of closest matches\n",
    "        closest_names = np.vstack([closest_names,matches])\n",
    "        closest_dist = np.vstack([closest_dist,np.sort(res)[:n_closest]])\n",
    "\n",
    "    # Convert to dataframes for easy slicing\n",
    "    closest_names = pd.DataFrame(closest_names,index=cluster_means_df.index)\n",
    "    closest_dist = pd.DataFrame(closest_dist,index=cluster_means_df.index)\n",
    "    return(closest_names,closest_dist)\n",
    "\n",
    "# Compare sample names of the index and the first column to find if the nearest cluster is from another sample. Only keep those\n",
    "def find_nearest_neighbors(df):\n",
    "    slices = []\n",
    "    for idx in range(len(df)):\n",
    "        if (('_').join(df.index[idx].split('_')[:-1]) != \n",
    "        ('_').join(df[0][idx].split('_')[:-1])):\n",
    "            slices.append(idx)\n",
    "\n",
    "    # These are the spatial clusters with different sample nearest cluster\n",
    "    return(df.iloc[slices])\n",
    "\n",
    "# Keep clusters that are mutual nearest neighbors (MNN)\n",
    "def find_mnn_clusters(df):\n",
    "    slices = []\n",
    "    for idx in range(len(df)):\n",
    "        if (df[0][idx] in df.index):\n",
    "            if df.loc[df[0][idx]][0] == df.index[idx]:\n",
    "                if df[0][idx] not in df.iloc[slices].index:\n",
    "                    slices.append(idx)\n",
    "\n",
    "    # These are the spatial clusters with mutual nearest neighbors\n",
    "    return(df.iloc[slices])\n",
    "\n",
    "def sample_is_duplicated(to_check,lst):\n",
    "    found = False\n",
    "    for element in lst:\n",
    "        if to_check[:-2] in element:\n",
    "            found = True\n",
    "            break\n",
    "\n",
    "    return found\n",
    "\n",
    "\n",
    "    "
   ]
  },
  {
   "cell_type": "code",
   "execution_count": null,
   "metadata": {},
   "outputs": [],
   "source": [
    "data_to_use = cell_mapping_dat\n",
    "\n",
    "# Extracts spot level mapping values and averages to cluster level for mutual nearest neighbor comparison\n",
    "spot_lvl_data = pd.DataFrame(data_to_use.X,index=data_to_use.obs_names)\n",
    "spot_lvl_data['spatial_cluster'] = data_to_use.obs['joint_leiden_clusters'].copy()\n",
    "spot_lvl_labs = data_to_use.obs['joint_leiden_clusters'].copy()\n",
    "\n",
    "# Speed up the analysis by precomputing a distance matrix\n",
    "#distance_array = pairwise_distances(cell_mapping_dat.X)\n",
    "#ref_score = silhouette_score(distance_array,spot_lvl_labs,metric='precomputed')\n",
    "ref_score = -1 # If the reference score is set to -1, we effectively lose the silhouette score if-clause\n",
    "\n",
    "# A mapping-based clustering silhouette score is -0.23051132\n"
   ]
  },
  {
   "cell_type": "code",
   "execution_count": null,
   "metadata": {},
   "outputs": [],
   "source": [
    "def is_score_ok(new_labs,df=distance_array, reference = ref_score):\n",
    "    '''\n",
    "    Checks the silhouette score of new clustering labels and compares them to a reference of \n",
    "    the original clustering\n",
    "    '''\n",
    "    new_score = silhouette_score(df,new_labs,metric='precomputed')\n",
    "    if new_score > reference:\n",
    "        return(True)\n",
    "    else:\n",
    "        return(False)"
   ]
  },
  {
   "cell_type": "code",
   "execution_count": null,
   "metadata": {},
   "outputs": [],
   "source": [
    "# Take the cluster back to the original, unmerged leiden clusters\n",
    "spot_lvl_data['merged_clusters'] = spot_lvl_data['spatial_cluster']\n",
    "cluster_idx = 1\n",
    "modified_clusters = dict()\n",
    "len(spot_lvl_data['merged_clusters'].unique())"
   ]
  },
  {
   "cell_type": "code",
   "execution_count": null,
   "metadata": {},
   "outputs": [],
   "source": [
    "## Iterate below code ###"
   ]
  },
  {
   "cell_type": "code",
   "execution_count": null,
   "metadata": {},
   "outputs": [],
   "source": [
    "spot_lvl_labs = spot_lvl_data['merged_clusters'].copy()\n",
    "\n",
    "# Calculate cluster means in the cell mapping space\n",
    "cluster_lvl_dat = spot_lvl_data.groupby('merged_clusters').mean()\n",
    "\n",
    "# Calculate euclidean distance between the clusters\n",
    "names, dist = calculate_distances(cluster_lvl_dat)\n",
    "\n",
    "# Find MNN clusters that are from different samples\n",
    "filtered_names = find_nearest_neighbors(names)\n",
    "cluster_pairs = find_mnn_clusters(filtered_names)\n",
    "cluster_pairs"
   ]
  },
  {
   "cell_type": "code",
   "execution_count": null,
   "metadata": {},
   "outputs": [],
   "source": [
    "# Find mergeable clusters by checking different conditions\n",
    "# Iterate over the clusters\n",
    "for idx in range(len(cluster_pairs)):\n",
    "    inst_1 = str(cluster_pairs.index[idx])\n",
    "    inst_2 = str(cluster_pairs.iloc[idx][0])\n",
    "    message = (inst_1 + ' <--> ' + inst_2 + ' merged')\n",
    "\n",
    "    # Check if the index is already a merged cluster\n",
    "    if inst_1 in modified_clusters.keys():\n",
    "\n",
    "        ## This needs to fixed to check whether the dict member contains same sample clusters already!!\n",
    "\n",
    "        if not sample_is_duplicated(inst_2,modified_clusters[inst_1]):# & is_score_ok(spot_lvl_labs.replace(replaced,'test_cluster')):\n",
    "            print(message)\n",
    "            modified_clusters[inst_1].append(inst_2)\n",
    "            print('option1')\n",
    "\n",
    "    # Check if the index is already a merged cluster\n",
    "    elif inst_2 in modified_clusters.keys():\n",
    "        ## This needs to fixed to check whether the dict member contains same sample clusters already!!\n",
    "        if not sample_is_duplicated(inst_1,modified_clusters[inst_2]):# & is_score_ok(spot_lvl_labs.replace(replaced,'test_cluster')):\n",
    "            print(message)\n",
    "            modified_clusters[inst_2].append(inst_1)\n",
    "            print('option2')\n",
    "    \n",
    "    # If neither is a modified cluster, create a new cluster and save it\n",
    "    if inst_2 not in modified_clusters.keys() and inst_1 not in modified_clusters.keys():\n",
    "        print(message)\n",
    "        modified_clusters['joint_cluster'+str(cluster_idx)] = [inst_1,inst_2]\n",
    "        cluster_idx+=1\n",
    "        print('option3')\n",
    "\n",
    "for k in modified_clusters.keys():\n",
    "    spot_lvl_data['merged_clusters'] = spot_lvl_data['merged_clusters'].replace(modified_clusters[k],k)\n"
   ]
  },
  {
   "cell_type": "code",
   "execution_count": null,
   "metadata": {},
   "outputs": [],
   "source": [
    "len(spot_lvl_data['merged_clusters'].unique())"
   ]
  },
  {
   "cell_type": "code",
   "execution_count": null,
   "metadata": {},
   "outputs": [],
   "source": [
    "modified_clusters"
   ]
  },
  {
   "cell_type": "code",
   "execution_count": null,
   "metadata": {},
   "outputs": [],
   "source": [
    "## Stop iteration ##"
   ]
  },
  {
   "cell_type": "code",
   "execution_count": null,
   "metadata": {},
   "outputs": [],
   "source": [
    "cell_mapping_dat.obs['merged_clusters'] = spot_lvl_data['merged_clusters'].copy()"
   ]
  },
  {
   "cell_type": "code",
   "execution_count": null,
   "metadata": {},
   "outputs": [],
   "source": [
    "silhouette_score(cell_mapping_dat.X,spot_lvl_labs)"
   ]
  },
  {
   "cell_type": "code",
   "execution_count": null,
   "metadata": {},
   "outputs": [],
   "source": []
  },
  {
   "cell_type": "code",
   "execution_count": null,
   "metadata": {},
   "outputs": [],
   "source": [
    "sc.set_figure_params(figsize=(4,4),dpi=120)\n",
    "cell_mapping_dat.obs['to_plot'] = np.nan\n",
    "for n in np.arange(1,14):\n",
    "    of_interest = 'joint_cluster'+str(n)\n",
    "\n",
    "    cell_mapping_dat.obs.loc[(cell_mapping_dat.obs['merged_clusters']== of_interest),'to_plot'] = of_interest\n",
    "sc.pl.umap(cell_mapping_dat,color='to_plot')"
   ]
  },
  {
   "cell_type": "code",
   "execution_count": null,
   "metadata": {},
   "outputs": [],
   "source": [
    "[c.index for c in cell_mapping_dat.obs['merged_clusters'] if 'joint_cluster' in c]"
   ]
  },
  {
   "cell_type": "code",
   "execution_count": null,
   "metadata": {},
   "outputs": [],
   "source": []
  },
  {
   "cell_type": "code",
   "execution_count": null,
   "metadata": {},
   "outputs": [],
   "source": [
    "sc.pl.violin(cell_mapping_dat,groupby=['merged_clusters'],keys=['ERG tumor epithelium'],jitter=False,inner='box')"
   ]
  },
  {
   "attachments": {},
   "cell_type": "markdown",
   "metadata": {},
   "source": [
    "## Cell type mapping-based clustering and co-occurance"
   ]
  },
  {
   "cell_type": "code",
   "execution_count": null,
   "metadata": {},
   "outputs": [],
   "source": [
    "# A way to investigate which cell types are over-represented in joint leiden clusters\n",
    "# Does one-vs-rest differential expression (mapping) testing \n",
    "\n",
    "sc.tl.rank_genes_groups(cell_mapping_dat,groupby='joint_leiden_clusters')\n",
    "for cl in cell_mapping_dat.obs['joint_leiden_clusters'].cat.categories:\n",
    "    df = sc.get.rank_genes_groups_df(cell_mapping_dat,group=cl)\n",
    "    df = df.iloc[np.where(df['logfoldchanges'] > np.quantile(df['logfoldchanges'],0.95))[0]]['names']\n",
    "    print('Cluster ' + cl  + ' is characterized by these cell types:')\n",
    "    print(df)\n",
    "    print('')"
   ]
  },
  {
   "cell_type": "code",
   "execution_count": null,
   "metadata": {},
   "outputs": [],
   "source": [
    "sc.set_figure_params(figsize=(6,6))\n",
    "sc.pl.umap(cell_mapping_dat,color=['sample_id'],s = 8)\n",
    "sc.pl.umap(cell_mapping_dat,color=['mapping_based_clusters'],s = 6)"
   ]
  },
  {
   "cell_type": "code",
   "execution_count": null,
   "metadata": {},
   "outputs": [],
   "source": [
    "sc.set_figure_params(figsize=(4,4),dpi=100,frameon=True,format='pdf')\n",
    "sc.pl.umap(cell_mapping_dat,color=['luminal-like epithelium','ERG tumor epithelium'], cmap='viridis',s=6,vmax=20)\n",
    "sc.pl.umap(cell_mapping_dat,color=['inflammatory fibroblasts','myofibroblasts','basal-like epithelium'], cmap='viridis',s=6,vmax=10)\n",
    "sc.pl.umap(cell_mapping_dat,color=['cytotoxic T cells','antigen-presenting macrophages','regulatory T cells'], cmap='viridis',s=6,vmax=5)"
   ]
  },
  {
   "cell_type": "code",
   "execution_count": null,
   "metadata": {},
   "outputs": [],
   "source": [
    "n_cats = len(cell_mapping_dat.obs['mapping_based_clusters'].cat.categories)\n",
    "final_nhood_enrichment_matrix = np.zeros([n_cats,n_cats])\n",
    "for sample in samples:\n",
    "    #Assign the sample from a list and make it the current \"slide\"\n",
    "    slide = adata_slides[sample]\n",
    "\n",
    "    #Check if \"mapping_based_clusters\" exists in \"slide.obs\", merge with \"cell_mapping_dat.obs\" if yes\n",
    "    if 'mapping_based_clusters' not in slide.obs.columns:\n",
    "        obs_with_mapping_clusters = pd.merge(slide.obs,cell_mapping_dat.obs[['mapping_based_clusters']],left_index=True,right_index=True)\n",
    "        if (obs_with_mapping_clusters.index == slide.obs.index).all():\n",
    "            slide.obs = obs_with_mapping_clusters\n",
    "            \n",
    "    #Create the spatial neighborhood graph for the cells in \"slide\"\n",
    "    sq.gr.spatial_neighbors(slide)\n",
    "\n",
    "    #Calculate the enrichment of each cluster defined in \"mapping_based_clusters\" within its neighboring cells\n",
    "    sq.gr.nhood_enrichment(slide, cluster_key=\"mapping_based_clusters\")\n",
    "\n",
    "    slide_nhood_enrichment_matrix = slide.uns['mapping_based_clusters_nhood_enrichment']['zscore'].copy()\n",
    "    slide_nhood_enrichment_matrix = np.nan_to_num(slide_nhood_enrichment_matrix)\n",
    "    final_nhood_enrichment_matrix = final_nhood_enrichment_matrix + slide_nhood_enrichment_matrix\n",
    "\n",
    "#Visualize the results of the neighborhood enrichment analysis\n",
    "#sq.pl.nhood_enrichment(slide, cluster_key=\"mapping_based_clusters\",title=sample + ' mapping-based cluster neighborhood enrichment')\n",
    "sns.heatmap(final_nhood_enrichment_matrix, cmap='viridis',vmax = 100 ) # annot=True, fmt=\".1f\"\n"
   ]
  },
  {
   "cell_type": "code",
   "execution_count": null,
   "metadata": {},
   "outputs": [],
   "source": [
    "for sample in samples:\n",
    "    #Assign the sample from a list and make it the current \"slide\"\n",
    "    slide = adata_slides[sample]\n",
    "\n",
    "    #Check if \"mapping_based_clusters\" exists in \"slide.obs\", merge with \"cell_mapping_dat.obs\" if yes\n",
    "    if 'mapping_based_clusters' not in slide.obs.columns:\n",
    "        obs_with_mapping_clusters = pd.merge(slide.obs,cell_mapping_dat.obs[['mapping_based_clusters']],left_index=True,right_index=True)\n",
    "        if (obs_with_mapping_clusters.index == slide.obs.index).all():\n",
    "            slide.obs = obs_with_mapping_clusters\n",
    "    \n",
    "    with mpl.rc_context({'axes.facecolor':  'white',\n",
    "                    'figure.figsize': [6,6]}):\n",
    "        fig, ax = plt.subplots(1,1)\n",
    "        sc.pl.spatial(slide,\n",
    "                color='mapping_based_clusters',\n",
    "                size=1.4,alpha_img=0.8,\n",
    "                show=False,ax = ax\n",
    "                )\n",
    "        plt.savefig('./plots/c2l_mapping_results_20230519/'+sample+'_cell_type_mapping_based_clusters.png',dpi=120)\n",
    "        plt.tight_layout()\n",
    "        plt.clf()"
   ]
  },
  {
   "cell_type": "code",
   "execution_count": null,
   "metadata": {},
   "outputs": [],
   "source": []
  }
 ],
 "metadata": {
  "kernelspec": {
   "display_name": "Python 3 (ipykernel)",
   "language": "python",
   "name": "python3"
  },
  "language_info": {
   "codemirror_mode": {
    "name": "ipython",
    "version": 3
   },
   "file_extension": ".py",
   "mimetype": "text/x-python",
   "name": "python",
   "nbconvert_exporter": "python",
   "pygments_lexer": "ipython3",
   "version": "3.8.15"
  },
  "orig_nbformat": 4
 },
 "nbformat": 4,
 "nbformat_minor": 2
}
