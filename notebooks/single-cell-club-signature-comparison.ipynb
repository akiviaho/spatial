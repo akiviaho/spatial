{
 "cells": [
  {
   "cell_type": "code",
   "execution_count": 1,
   "metadata": {},
   "outputs": [
    {
     "name": "stderr",
     "output_type": "stream",
     "text": [
      "Matplotlib created a temporary config/cache directory at /tmp/matplotlib-kzu1l191 because the default path (/run/cache/matplotlib) is not a writable directory; it is highly recommended to set the MPLCONFIGDIR environment variable to a writable directory, in particular to speed up the import of Matplotlib and to better support multiprocessing.\n"
     ]
    }
   ],
   "source": [
    "import os\n",
    "os.chdir('/lustre/scratch/kiviaho/prostate_spatial')\n",
    "\n",
    "import numpy as np\n",
    "import anndata as ad\n",
    "import scanpy as sc\n",
    "import pandas as pd\n",
    "import anndata as ad\n",
    "import seaborn as sns\n",
    "\n",
    "import matplotlib.pyplot as plt\n",
    "from pathlib import Path\n",
    "from scripts.utils import load_from_pickle, save_to_pickle\n",
    "from scipy.stats import fisher_exact\n",
    "\n",
    "import warnings\n",
    "warnings.filterwarnings('ignore')\n",
    "sc.set_figure_params(figsize=(6,6),dpi=120)\n"
   ]
  },
  {
   "cell_type": "code",
   "execution_count": 3,
   "metadata": {},
   "outputs": [],
   "source": [
    "\n",
    "regions = ['Tumor','Luminal epithelium','Basal epithelium','Club epithelium','Immune','Endothelium','Fibroblast','Muscle']\n",
    "\n",
    "\n",
    "region_colors_dict = {\n",
    "    'Tumor': '#fc8d62',\n",
    " 'Luminal epithelium': '#8da0cb',\n",
    " 'Basal epithelium': '#66c2a5',\n",
    " 'Club epithelium': '#ffd92f',\n",
    " 'Immune': '#a6d854',\n",
    " 'Endothelium': '#e78ac3',\n",
    " 'Fibroblast': '#e5c494',\n",
    " 'Muscle': '#b3b3b3'\n",
    "}"
   ]
  },
  {
   "cell_type": "code",
   "execution_count": 4,
   "metadata": {},
   "outputs": [],
   "source": [
    "def check_top_markers(r,p_thresh=0.05):\n",
    "    # These results rank the deg significance and specificity (low p-value = good marker)\n",
    "    deg_fishers_res_dict = load_from_pickle('./data/region_gene_markers_fishers_exact_test_240229.pkl')\n",
    "\n",
    "    fishers_test_df = deg_fishers_res_dict[r].rename(columns={'interaction':'gene','active_in':'deg in'})\n",
    "    fishers_test_df = fishers_test_df.sort_values('adj_pval').reset_index(drop=True)\n",
    "    fishers_test_df = fishers_test_df[fishers_test_df['adj_pval'] < p_thresh]\n",
    "\n",
    "    return fishers_test_df\n",
    "\n",
    "# Download the gene lists\n",
    "gene_set_df = pd.read_excel('custom_gene_lists.xlsx',header=None).drop(columns=0).set_index(1).T"
   ]
  },
  {
   "cell_type": "markdown",
   "metadata": {},
   "source": [
    "## He et al. 2021 prostate cancer mets scRNA-seq"
   ]
  },
  {
   "cell_type": "markdown",
   "metadata": {},
   "source": [
    "### Formatting"
   ]
  },
  {
   "cell_type": "code",
   "execution_count": null,
   "metadata": {},
   "outputs": [],
   "source": [
    "\n",
    "he_2021_dat = pd.read_csv('./sc-reference/he_2021/scp_tpm.tsv',sep = '\\t',index_col=0)\n",
    "he_2021_meta = pd.read_csv('./sc-reference/he_2021/scp_clustering.tsv',sep = '\\t')"
   ]
  },
  {
   "cell_type": "code",
   "execution_count": null,
   "metadata": {},
   "outputs": [],
   "source": [
    "he_2021_adata = ad.AnnData(\n",
    "    X=he_2021_dat.T,\n",
    "    var=pd.DataFrame(index=he_2021_dat.index),\n",
    "    obs = he_2021_meta\n",
    ")\n",
    "he_2021_adata"
   ]
  },
  {
   "cell_type": "code",
   "execution_count": null,
   "metadata": {},
   "outputs": [],
   "source": [
    "he_2021_adata.layers['tpm_counts'] = he_2021_adata.X.copy()\n",
    "\n",
    "he_2021_adata.write('./sc-reference/he_2021/adata.h5ad')"
   ]
  },
  {
   "cell_type": "markdown",
   "metadata": {},
   "source": [
    "### Processing"
   ]
  },
  {
   "cell_type": "code",
   "execution_count": 5,
   "metadata": {},
   "outputs": [],
   "source": [
    "he_2021_adata = sc.read_h5ad('./sc-reference/he_2021/adata.h5ad')"
   ]
  },
  {
   "cell_type": "code",
   "execution_count": null,
   "metadata": {},
   "outputs": [],
   "source": [
    "\n",
    "sc.pp.filter_genes(he_2021_adata, min_cells=5)\n",
    "\n",
    "sc.pp.log1p(he_2021_adata)\n",
    "sc.pp.highly_variable_genes(he_2021_adata,n_top_genes=2000,flavor='seurat_v3')\n",
    "sc.pp.scale(he_2021_adata)\n",
    "sc.tl.pca(he_2021_adata, svd_solver='arpack')\n",
    "sc.pp.neighbors(he_2021_adata, n_neighbors=10, n_pcs=40)\n",
    "sc.tl.umap(he_2021_adata)"
   ]
  },
  {
   "cell_type": "code",
   "execution_count": null,
   "metadata": {},
   "outputs": [],
   "source": [
    "sc.tl.leiden(he_2021_adata,0.5)\n",
    "he_2021_adata.obs['leiden'].value_counts()"
   ]
  },
  {
   "cell_type": "code",
   "execution_count": null,
   "metadata": {},
   "outputs": [],
   "source": [
    "\n",
    "for k in refined_markers.keys():\n",
    "    refined_markers[k] = [g for g in refined_markers[k] if g in he_2021_adata.var_names.tolist()]\n",
    "\n",
    "sc.pl.dotplot(he_2021_adata,var_names=refined_markers,groupby='leiden',figsize=(12,10))"
   ]
  },
  {
   "cell_type": "markdown",
   "metadata": {},
   "source": [
    "### Subset to include just epithelial cells"
   ]
  },
  {
   "cell_type": "code",
   "execution_count": null,
   "metadata": {},
   "outputs": [],
   "source": [
    "epithelial_clusters = ['2','3','4','7','9','14','15','18']\n",
    "epithelial_idents = he_2021_adata[he_2021_adata.obs['leiden'].isin(epithelial_clusters)].obs_names\n",
    "he_2021_adata_epithelial = sc.read_h5ad('./sc-reference/he_2021/adata.h5ad')[epithelial_idents]\n",
    "he_2021_adata_epithelial"
   ]
  },
  {
   "cell_type": "code",
   "execution_count": null,
   "metadata": {},
   "outputs": [],
   "source": [
    "# Epithelial cell subclustering\n",
    "sc.pp.filter_genes(he_2021_adata_epithelial, min_cells=5)\n",
    "\n",
    "sc.pp.log1p(he_2021_adata_epithelial)\n",
    "sc.pp.highly_variable_genes(he_2021_adata_epithelial,n_top_genes=2000,flavor='seurat_v3')\n",
    "sc.pp.scale(he_2021_adata_epithelial)\n",
    "sc.tl.pca(he_2021_adata_epithelial, svd_solver='arpack')\n",
    "sc.pp.neighbors(he_2021_adata_epithelial, n_neighbors=10, n_pcs=40)\n",
    "sc.tl.umap(he_2021_adata_epithelial)"
   ]
  },
  {
   "cell_type": "code",
   "execution_count": null,
   "metadata": {},
   "outputs": [],
   "source": [
    "sns.set_theme(style='white')\n",
    "sc.tl.leiden(he_2021_adata_epithelial,0.5)\n",
    "sc.pl.umap(he_2021_adata_epithelial,color='leiden')"
   ]
  },
  {
   "cell_type": "markdown",
   "metadata": {},
   "source": [
    "### Calculate DEGs"
   ]
  },
  {
   "cell_type": "code",
   "execution_count": null,
   "metadata": {},
   "outputs": [],
   "source": [
    "clusters = he_2021_adata_epithelial.obs['leiden'].cat.categories.tolist()\n",
    "\n",
    "sc.tl.rank_genes_groups(he_2021_adata_epithelial,groupby='leiden',method='wilcoxon')\n"
   ]
  },
  {
   "cell_type": "code",
   "execution_count": null,
   "metadata": {},
   "outputs": [],
   "source": [
    "enrichment_results_pvals = pd.DataFrame(data=np.nan,index=regions,columns=clusters)\n",
    "enrichment_results_expression = pd.DataFrame(data=np.nan,index=regions,columns=clusters)\n",
    "\n",
    "for reg in regions:\n",
    "\n",
    "    #for cluster_name in clusters:\n",
    "    for cluster_name in clusters:\n",
    "\n",
    "        all_genes_marker_check = check_top_markers(reg,p_thresh=1.1)['gene'].tolist()\n",
    "        n_universe = len(np.intersect1d(all_genes_marker_check,he_2021_adata_epithelial.var_names.tolist()))\n",
    "\n",
    "        region_markers = check_top_markers(reg)['gene'].tolist()\n",
    "        n_region_markers = len(region_markers)\n",
    "\n",
    "        df = sc.get.rank_genes_groups_df(he_2021_adata_epithelial,group=cluster_name)\n",
    "        cluster_markers = df[(df['scores'] >= 0) & (df['pvals_adj']< 0.05)]['names'].tolist()\n",
    "        n_cluster_markers = len(cluster_markers)\n",
    "\n",
    "\n",
    "        cluster_region_marker_overlap = list(np.intersect1d(region_markers,cluster_markers))\n",
    "\n",
    "        a = len(cluster_region_marker_overlap) # Overlapping genes\n",
    "        b = len([g for g in cluster_markers if g not in region_markers]) # YES cluster markers NO region markers\n",
    "        c = len([g for g in region_markers if g not in cluster_markers]) # NO cluster markers YES region markers\n",
    "        d = n_universe - a -b -c # NO either (rest of the genes)\n",
    "        arr = np.array([a,b,c,d]).reshape(2,2)\n",
    "        stat, pval = fisher_exact(arr,alternative='greater')\n",
    "\n",
    "        # print(cluster_name)\n",
    "        \n",
    "        if pval < 0.05:\n",
    "            \n",
    "            enrichment_results_pvals.loc[reg,cluster_name] = pval\n",
    "            enrichment_results_expression.loc[reg,cluster_name]=  he_2021_adata_epithelial[he_2021_adata_epithelial.obs['leiden'] == cluster_name,cluster_region_marker_overlap].layers['tpm_counts'].copy().mean()\n",
    "\n",
    "\n",
    "            print(str(arr) + ' stat: {:.2f} p-value:{:.1e} !!'.format(stat,pval))\n",
    "            print(cluster_region_marker_overlap)\n",
    "        else:\n",
    "            print(str(arr) + ' stat: {:.2f} p-value:{:.1e}'.format(stat,pval))\n",
    "        print('')\n"
   ]
  },
  {
   "cell_type": "code",
   "execution_count": null,
   "metadata": {},
   "outputs": [],
   "source": [
    "enrichment_results_pvals"
   ]
  },
  {
   "cell_type": "code",
   "execution_count": null,
   "metadata": {},
   "outputs": [],
   "source": [
    "#sns.set_theme(style='whitegrid')\n",
    "sns.set_theme(style='white')\n",
    "\n",
    "plot_df = -np.log2(enrichment_results_pvals)\n",
    "plot_df = plot_df.reset_index().melt('index').rename(columns={'value':'pval'})\n",
    "plot_df['expression'] = np.log2(enrichment_results_expression.reset_index().melt('index')['value'])\n",
    "\n",
    "\n",
    "plot_df['pval'] = pd.cut(plot_df['pval'],bins=5,labels=['Very Low', 'Low', 'Medium', 'High', 'Very High'])\n",
    "#plot_df['expression'] = pd.cut(plot_df['expression'],bins=5,labels=['Very Low', 'Low', 'Medium', 'High', 'Very High'])\n",
    "\n",
    "fig,ax = plt.subplots(figsize=(9,3))\n",
    "sns.scatterplot(\n",
    "    plot_df,\n",
    "    x='variable',\n",
    "    y='index',\n",
    "    size='pval',\n",
    "    hue='expression',\n",
    "    #legend=False,\n",
    "    sizes=(400,100),\n",
    "    palette='Reds'\n",
    "    )\n",
    "\n",
    "plt.legend(bbox_to_anchor=(1.05, 1), loc='upper left')\n",
    "\n",
    "plt.gca().spines['left'].set_visible(False)  # Turn off the left spine\n",
    "plt.gca().spines['right'].set_visible(False)  # Turn off the right spine\n",
    "plt.gca().spines['top'].set_visible(False)  # Turn off the top spine\n",
    "plt.gca().spines['bottom'].set_visible(False)  # Turn off the bottom spine\n",
    "\n",
    "plt.tight_layout()\n",
    "#plt.savefig('plots/he2021_metastases_cluster_marker_region_marker_overlap.pdf')"
   ]
  },
  {
   "cell_type": "code",
   "execution_count": null,
   "metadata": {},
   "outputs": [],
   "source": [
    "sns.set_theme(style='white')\n",
    "sc.pl.umap(he_2021_adata,color='leiden',palette='tab20')\n",
    "plt.tight_layout()\n",
    "plt.savefig('plots/he2021_metastases_clustering_umap.pdf')"
   ]
  },
  {
   "cell_type": "markdown",
   "metadata": {},
   "source": [
    "## Plotting gene set markers on the data"
   ]
  },
  {
   "cell_type": "code",
   "execution_count": 6,
   "metadata": {},
   "outputs": [],
   "source": [
    "he_2021_adata = sc.read_h5ad('./sc-reference/he_2021/adata.h5ad')"
   ]
  },
  {
   "cell_type": "code",
   "execution_count": 7,
   "metadata": {},
   "outputs": [],
   "source": [
    "def check_top_markers(r,p_thresh=0.05):\n",
    "    # These results rank the deg significance and specificity (low p-value = good marker)\n",
    "    deg_fishers_res_dict = load_from_pickle('./data/region_gene_markers_fishers_exact_test_240229.pkl')\n",
    "\n",
    "    fishers_test_df = deg_fishers_res_dict[r].rename(columns={'interaction':'gene','active_in':'deg in'})\n",
    "    fishers_test_df = fishers_test_df.sort_values('adj_pval').reset_index(drop=True)\n",
    "    fishers_test_df = fishers_test_df[fishers_test_df['adj_pval'] < p_thresh]\n",
    "\n",
    "    return fishers_test_df\n",
    "\n",
    "# Download the gene listsa\n",
    "gene_set_df = pd.read_excel('custom_gene_lists.xlsx',header=None).drop(columns=0).set_index(1).T\n",
    "marker_genes = check_top_markers('Club epithelium')['gene'].tolist()\n"
   ]
  },
  {
   "cell_type": "code",
   "execution_count": 9,
   "metadata": {},
   "outputs": [
    {
     "data": {
      "image/png": "[encoded data removed]",
      "text/plain": [
       "<Figure size 432x432 with 1 Axes>"
      ]
     },
     "metadata": {},
     "output_type": "display_data"
    }
   ],
   "source": [
    "sns.set_theme(style='white')\n",
    "sns.set_palette(sns.color_palette([region_colors_dict['Club epithelium']]))\n",
    "from venn import venn\n",
    "\n",
    "gene_set_df = pd.read_excel('custom_gene_lists.xlsx',header=None).drop(columns=0).set_index(1).T\n",
    "gene_set_df.rename(columns={'NLR associated':'High NLR-associated'},inplace=True)\n",
    "\n",
    "set1_name = 'CD300LD downstream'\n",
    "set1 = set(gene_set_df[set1_name].dropna())\n",
    "\n",
    "\n",
    "set2_name = 'MP19 Epithelial Senescence'\n",
    "set2 = set(gene_set_df[set2_name].dropna())\n",
    "\n",
    "set3_name = 'Club region'\n",
    "set3 = set(marker_genes)\n",
    "\n",
    "venn_data = {\n",
    "            set1_name: set1,\n",
    "            set2_name: set2,\n",
    "            set3_name: set3,\n",
    "            }\n",
    "fig,ax = plt.subplots(figsize=(6,6))\n",
    "# Create the Venn diagram\n",
    "venn(venn_data,\n",
    "    ax=ax,\n",
    "    cmap='cividis',\n",
    "    legend_loc='best'\n",
    "    #legend_loc=None\n",
    "\n",
    ")\n",
    "#plt.savefig('plots/score_correlations/venn_'+set1_name+'_'+set2_name+'_'+set3_name+'_no_title.pdf')\n",
    "plt.savefig('plots/score_correlations/venn_'+set1_name+'_'+set2_name+'_'+set3_name+'.pdf')\n",
    "# Display the diagram\n",
    "plt.show()"
   ]
  },
  {
   "cell_type": "markdown",
   "metadata": {},
   "source": [
    "### Plot expression in the He et al. 2021 dataset (small set of genes)"
   ]
  },
  {
   "cell_type": "code",
   "execution_count": 35,
   "metadata": {},
   "outputs": [],
   "source": [
    "genes = [\n",
    "    'TACSTD2','CHI3L1','CEACAM1','SLPI','LCN2','LTF','S100P','S100A8','S100A9','SERPINB1','ANXA1'\n",
    "]"
   ]
  },
  {
   "cell_type": "code",
   "execution_count": 42,
   "metadata": {},
   "outputs": [
    {
     "data": {
      "image/png": "[encoded data removed]",
      "text/plain": [
       "<Figure size 360x360 with 5 Axes>"
      ]
     },
     "metadata": {},
     "output_type": "display_data"
    }
   ],
   "source": [
    "sns.set_theme(style='white')\n",
    "#fig,ax = plt.subplots(figsize=(5,5))\n",
    "fig,ax = plt.subplots(figsize=(5,5))\n",
    "sc.pl.dotplot(he_2021_adata,var_names=genes,groupby='group',ax=ax,show=False,log=True)\n",
    "\n",
    "plt.savefig('plots/he_2021_metastases_club_episen_club_cd300ld_markers_dotplot.pdf',transparent=True)\n",
    "\n",
    "plt.show()"
   ]
  },
  {
   "cell_type": "code",
   "execution_count": 43,
   "metadata": {},
   "outputs": [
    {
     "name": "stdout",
     "output_type": "stream",
     "text": [
      "TACSTD2\n",
      "CHI3L1\n",
      "CEACAM1\n",
      "SLPI\n",
      "LCN2\n",
      "LTF\n",
      "S100P\n",
      "S100A8\n",
      "S100A9\n",
      "SERPINB1\n",
      "ANXA1\n"
     ]
    },
    {
     "data": {
      "text/plain": [
       "[None, None, None, None, None, None, None, None, None, None, None]"
      ]
     },
     "execution_count": 43,
     "metadata": {},
     "output_type": "execute_result"
    }
   ],
   "source": [
    "[print(g) for g in genes]"
   ]
  },
  {
   "cell_type": "markdown",
   "metadata": {},
   "source": [
    "### Plot expression in the He et al. 2021 dataset (club senescence)"
   ]
  },
  {
   "cell_type": "code",
   "execution_count": null,
   "metadata": {},
   "outputs": [],
   "source": [
    "genes = [\n",
    "    'AGR2','AQP3','CEACAM6','CLDN4','CLDN7','CRABP2','CXCL17','ELF3','GPRC5A',\n",
    "    'IGFBP3','KRT13','KRT16','KRT17','KRT7','LCN2','MAL2','MUC4','PDZK1IP1',\n",
    "    'PI3','PRSS22','S100A9','S100P','SAA1','SERPINB1','SLPI','TACSTD2','WFDC2'\n",
    "]"
   ]
  },
  {
   "cell_type": "code",
   "execution_count": null,
   "metadata": {},
   "outputs": [],
   "source": [
    "sns.set_theme(style='white')\n",
    "fig,ax = plt.subplots(figsize=(9,5))\n",
    "sc.pl.dotplot(he_2021_adata,var_names=genes,groupby='group',ax=ax,show=False,log=True)\n",
    "\n",
    "plt.savefig('plots/he_2021_metastases_club_senescence_dotplot.pdf',transparent=True)\n",
    "\n",
    "plt.show()"
   ]
  },
  {
   "cell_type": "markdown",
   "metadata": {},
   "source": [
    "### Region markers dotplot"
   ]
  },
  {
   "cell_type": "code",
   "execution_count": null,
   "metadata": {},
   "outputs": [],
   "source": [
    "region_degs_dict = load_from_pickle('data/region_gene_markers_signif_degs_240128.pkl')\n",
    "marker_genes_for_hmap = ['MMP7','PIGR','CP','SCGB1A1'] + genes.tolist()"
   ]
  },
  {
   "cell_type": "code",
   "execution_count": null,
   "metadata": {},
   "outputs": [],
   "source": [
    "# Create the dotplot structure\n",
    "\n",
    "plot_df = pd.DataFrame()\n",
    "for region in regions:\n",
    "    degs = region_degs_dict[region]\n",
    "    n_samples = len(degs['sample'].unique())\n",
    "    \n",
    "    degs = degs[degs['names'].isin(marker_genes_for_hmap)]\n",
    "    \n",
    "    mean_lfc_list = []\n",
    "    proportion_degs_list = []\n",
    "\n",
    "    for gene in marker_genes_for_hmap:\n",
    "\n",
    "        if gene in degs['names'].values:\n",
    "            mean_lfc = degs[degs['names'] == gene]['logfoldchanges'].mean()\n",
    "            proportion_degs = degs['names'].value_counts()[gene] / n_samples\n",
    "            mean_lfc_list.append(mean_lfc)\n",
    "            proportion_degs_list.append(proportion_degs)\n",
    "        \n",
    "        else:\n",
    "            mean_lfc_list.append(np.nan)\n",
    "            proportion_degs_list.append(0)\n",
    "    \n",
    "    df = pd.DataFrame({'mean_logfoldchange': mean_lfc_list,'pct_deg_in': proportion_degs_list, 'region': region},index = marker_genes_for_hmap)\n",
    "    plot_df = pd.concat([plot_df,df],axis=0)\n",
    "\n",
    "plot_df['genes'] = plot_df.index.astype(str)\n",
    "\n",
    "plot_df.loc[plot_df['pct_deg_in']==0,'pct_deg_in'] = np.nan"
   ]
  },
  {
   "cell_type": "code",
   "execution_count": null,
   "metadata": {},
   "outputs": [],
   "source": [
    "\n",
    "# Create the dotplot\n",
    "sns.set(style='white')\n",
    "\n",
    "width = 8\n",
    "height = 4\n",
    "\n",
    "fig, ax = plt.subplots(figsize=(width, height))\n",
    "yticks_list = list(np.arange(2,(len(regions)*2)+2,2)[::-1])\n",
    "\n",
    "\n",
    "# Get control over interactions order and gap\n",
    "plot_df['region_y'] = plot_df['region'].map(dict(zip(regions,yticks_list)))\n",
    "sns.scatterplot(x='genes', y='region_y', size='pct_deg_in', hue='mean_logfoldchange', \n",
    "                data=plot_df, sizes=(40, 400), palette='Reds', ax=ax,legend=True,\n",
    "                )\n",
    "\n",
    "plt.ylim(0,yticks_list[0]+2)\n",
    "plt.yticks(yticks_list,regions)\n",
    "plt.xticks(rotation=45)\n",
    "plt.legend(loc='center left',handlelength=1.5, handleheight=1.5, bbox_to_anchor=(1.05, 0.5))\n",
    "plt.tight_layout()\n",
    "\n",
    "plt.show()\n"
   ]
  },
  {
   "cell_type": "code",
   "execution_count": null,
   "metadata": {},
   "outputs": [],
   "source": []
  }
 ],
 "metadata": {
  "kernelspec": {
   "display_name": "scib-pipeline-R4.0",
   "language": "python",
   "name": "python3"
  },
  "language_info": {
   "codemirror_mode": {
    "name": "ipython",
    "version": 3
   },
   "file_extension": ".py",
   "mimetype": "text/x-python",
   "name": "python",
   "nbconvert_exporter": "python",
   "pygments_lexer": "ipython3",
   "version": "3.8.15"
  }
 },
 "nbformat": 4,
 "nbformat_minor": 2
}
