{
 "cells": [
  {
   "cell_type": "code",
   "execution_count": 1,
   "metadata": {},
   "outputs": [],
   "source": [
    "import os \n",
    "os.chdir('/lustre/scratch/kiviaho/prostate_spatial/')\n",
    "\n",
    "import scanpy as sc\n",
    "import numpy as np\n",
    "import squidpy as sq\n",
    "import pandas as pd\n",
    "import anndata as ad\n",
    "\n",
    "import matplotlib.pyplot as plt\n",
    "import matplotlib.colors as colors\n",
    "from scripts.utils import load_from_pickle, get_sample_ids_reorder, get_sample_crop_coords, get_sample_id_mask\n",
    "import gseapy as gp\n",
    "\n",
    "import seaborn as sns\n",
    "sns.set_theme(style='white')\n",
    "\n",
    "\n",
    "import warnings\n",
    "warnings.filterwarnings(\"ignore\")\n",
    "\n",
    "samples = get_sample_ids_reorder()\n",
    "sample_crop_coord = get_sample_crop_coords()\n",
    "sample_id_masks = get_sample_id_mask()\n",
    "\n",
    "\n",
    "\n",
    "#custom_genes = pd.read_csv('./custom_gene_lists.gmt',sep='\\t',encoding = \"ISO-8859-1\",header=None).drop(columns=[0])\n",
    "#custom_genes.to_csv('custom_gene_lists_encode_fixed.gmt',index=False,header=None,encoding='utf-8',sep='\\t')"
   ]
  },
  {
   "cell_type": "markdown",
   "metadata": {},
   "source": [
    "### Data downloads"
   ]
  },
  {
   "cell_type": "code",
   "execution_count": 2,
   "metadata": {},
   "outputs": [],
   "source": [
    "adata_slides = load_from_pickle('./data/slides_with_cell_mapping_based_regions.pkl')\n",
    "\n",
    "# Get unique region names\n",
    "regions = adata_slides[samples[5]].obs['predicted_region'].cat.categories.tolist()\n",
    "\n",
    "# Get unique regions colors\n",
    "region_colors = adata_slides[samples[5]].uns['predicted_region_colors']\n",
    "\n",
    "# Rename regions in the data\n",
    "replace_dict = {'Interferon signaling epithelium':'Intermediate epithelium','Lymphocyte':'Immune'}\n",
    "for i,r in enumerate(regions):\n",
    "    if r in replace_dict.keys():\n",
    "        regions[i] = replace_dict[r]\n",
    "\n",
    "for sample in samples:\n",
    "    adata_slides[sample].obs['predicted_region'] = adata_slides[sample].obs['predicted_region'].replace(replace_dict)\n",
    "\n",
    "# Create color legend\n",
    "region_colors = adata_slides[samples[5]].uns['predicted_region_colors']\n",
    "color_dict = dict(zip(regions,region_colors))"
   ]
  },
  {
   "cell_type": "code",
   "execution_count": null,
   "metadata": {},
   "outputs": [],
   "source": [
    "# Concatenate data for future analyses\n",
    "concat_adata = ad.concat(adata_slides)\n",
    "concat_adata.uns['predicted_region_colors'] = region_colors\n",
    "concat_adata.obs['predicted_region'] = concat_adata.obs['predicted_region'].astype('category')\n",
    "concat_adata.obs['predicted_region'] = concat_adata.obs['predicted_region'].cat.set_categories(regions)\n"
   ]
  },
  {
   "cell_type": "markdown",
   "metadata": {},
   "source": [
    "### Scanpy scoring of custom gene sets"
   ]
  },
  {
   "cell_type": "code",
   "execution_count": null,
   "metadata": {},
   "outputs": [],
   "source": [
    "\n",
    "gene_set_df = pd.read_csv('./custom_gene_lists_encode_fixed.gmt',sep='\\t',index_col=0,header=None).T\n",
    "scanpy_res = load_from_pickle('./data/spatial_scanpy_score_results.pkl')\n",
    "all_obs = pd.concat(scanpy_res,axis=0)\n",
    "\n",
    "# Concatenate the scoring results into a single anndata\n",
    "for sample in samples:\n",
    "    slide = adata_slides[sample]\n",
    "    slide.obs  = pd.concat([slide.obs,scanpy_res[sample]],axis=1)\n",
    "\n",
    "all_obs = pd.DataFrame() # Create empty dataframe for obs\n",
    "for sample in samples:\n",
    "    all_obs = pd.concat([all_obs,adata_slides[sample].obs.copy()],axis=0)\n",
    "all_obs['predicted_region'] = all_obs['predicted_region'].astype('category').cat.set_categories(regions)"
   ]
  },
  {
   "cell_type": "markdown",
   "metadata": {},
   "source": [
    "## Macrophage-persist interaction visualization for Ketola"
   ]
  },
  {
   "cell_type": "code",
   "execution_count": null,
   "metadata": {},
   "outputs": [],
   "source": [
    "from scripts.utils import get_treatment_info\n",
    "treat_info = get_treatment_info()\n",
    "untreated_samples = [k for k in treat_info.keys() if treat_info[k] == 'untreated']"
   ]
  },
  {
   "cell_type": "code",
   "execution_count": null,
   "metadata": {},
   "outputs": [],
   "source": [
    "from matplotlib import pyplot as plt\n",
    "from matplotlib_venn import venn3, venn2\n",
    "sns.set_theme(style='white')\n",
    "\n",
    "\n",
    "\n",
    "for sample in untreated_samples:\n",
    "\n",
    "    obs_data = adata_slides[sample].obs.copy()\n",
    "\n",
    "    def q_therehold_spots(dat,col,quant=0.99):\n",
    "        q_thr = dat[col].quantile(quant)\n",
    "        bcode_set = set(dat[dat[col] > q_thr]['sample_id'].index)\n",
    "        return bcode_set\n",
    "\n",
    "    # Define your three sets\n",
    "    set1 = q_therehold_spots(obs_data,'Persist')\n",
    "    set2 = q_therehold_spots(obs_data,'M1 macrophages')\n",
    "    set3 = q_therehold_spots(obs_data,'M2 macrophages')\n",
    "\n",
    "\n",
    "    ##### Spatial plot ##### \n",
    "\n",
    "\n",
    "    slide = adata_slides[sample].copy()\n",
    "\n",
    "    idx_list1 = list(q_therehold_spots(obs_data, 'Persist') - q_therehold_spots(obs_data, 'M1 macrophages') - q_therehold_spots(obs_data, 'M2 macrophages'))\n",
    "    idx_list2 = list(q_therehold_spots(obs_data, 'M1 macrophages') - q_therehold_spots(obs_data, 'Persist') - q_therehold_spots(obs_data, 'M2 macrophages'))\n",
    "    #idx_list2 = M1_confident.index.tolist()\n",
    "\n",
    "    slide.obs['to_plot'] = 'NA'\n",
    "    slide.obs['to_plot'] = slide.obs['to_plot'].astype('category')\n",
    "\n",
    "    slide.obs['to_plot'] = slide.obs['to_plot'].cat.set_categories(['M1 macrophages','Persist','NA'])\n",
    "\n",
    "    slide.obs.loc[idx_list1,'to_plot'] = 'Persist'\n",
    "    slide.obs.loc[idx_list2,'to_plot'] = 'M1 macrophages' \n",
    "\n",
    "    pal = sns.color_palette(['lightgreen','lightcoral','whitesmoke'])\n",
    "\n",
    "    fig, ((ax1,ax2),(ax3,ax4)) = plt.subplots(2,2,figsize=(16,12))\n",
    "\n",
    "\n",
    "    # Create the Venn diagram\n",
    "    venn3([set1, set2, set3], ('Persist', 'M1 macrophages', 'M2 macrophages'),ax=ax1,set_colors=['lightcoral','lightgreen','lightblue'])\n",
    "\n",
    "    sc.pl.spatial(slide,color='to_plot',vmin=min, vmax=max,\n",
    "                                crop_coord=sample_crop_coord[sample],\n",
    "                                colorbar_loc=None, size=1.3, alpha_img=0.8, palette=pal,\n",
    "                                ax=ax2,show=False\n",
    "                                )\n",
    "\n",
    "    sq.gr.nhood_enrichment(slide, cluster_key=\"to_plot\",show_progress_bar=False)\n",
    "    sq.pl.nhood_enrichment(slide, cluster_key=\"to_plot\",annotate=True,ax=ax3)\n",
    "\n",
    "    ax4.axis('off')\n",
    "    ax4.text(0.3, 0.5, \"Persist score q0.95: {:.2f}\\nM1 macrophages score q0.95: {:.2f}\\nM2 macrophages score q0.95: {:.2f}\".format(\n",
    "        obs_data['Persist'].quantile(0.95),\n",
    "        obs_data['M1 macrophages'].quantile(0.95),\n",
    "        obs_data['M2 macrophages'].quantile(0.95)),\n",
    "        ha='left', va='center',fontsize=16)\n",
    "\n",
    "    plt.tight_layout()\n",
    "    plt.savefig('./plots/macrophage_persist_proximity_in_untreated/'+sample+'_multi_panel.pdf')\n",
    "    plt.clf()"
   ]
  },
  {
   "cell_type": "markdown",
   "metadata": {},
   "source": [
    "## Plot sample grids "
   ]
  },
  {
   "cell_type": "code",
   "execution_count": null,
   "metadata": {},
   "outputs": [],
   "source": [
    "# Normalize by the number of cells inferred to be present at each location\n",
    "\n",
    "cell_types = adata_slides[samples[0]].obs.columns[16:].tolist()\n",
    "\n",
    "cell_proportions = {}\n",
    "\n",
    "for sample in samples:\n",
    "    df = adata_slides[sample].obs[cell_types]\n",
    "    inferred_cell_numbers = df.sum(axis=1).tolist()\n",
    "    \n",
    "    df = df.div(df.sum(axis=1), axis=0)\n",
    "    df['n_cells'] = inferred_cell_numbers\n",
    "    cell_proportions[sample] = df.copy()\n",
    "\n",
    "\n",
    "for sample in samples:\n",
    "    slide = adata_slides[sample]\n",
    "    df = cell_proportions[sample]\n",
    "    for ctype in cell_types:\n",
    "        slide.obs[ctype] = df[ctype].copy()\n",
    "\n",
    "    slide.obs['n_cells'] = df['n_cells'].copy()"
   ]
  },
  {
   "cell_type": "markdown",
   "metadata": {},
   "source": [
    "### Plot proportional inferred cell counts"
   ]
  },
  {
   "cell_type": "code",
   "execution_count": null,
   "metadata": {},
   "outputs": [],
   "source": [
    "# Plot the inferred cell prevalences as a test\n",
    "# You can plot whichever metric here\n",
    "for var_to_plot in cell_types:\n",
    "\n",
    "    it=0\n",
    "\n",
    "    concat_obs = pd.DataFrame(columns=adata_slides[samples[it]].obs.columns)\n",
    "    for slide in adata_slides:\n",
    "        concat_obs = pd.concat([concat_obs,adata_slides[slide].obs.copy()],axis=0)\n",
    "\n",
    "    fig, axs = plt.subplots(5, 8, figsize=(24, 15),dpi=120)\n",
    "    \n",
    "    min = 0#concat_obs[var_to_plot].quantile(0.05)\n",
    "    max = 1#concat_obs[var_to_plot].quantile(0.95)\n",
    "\n",
    "\n",
    "    for i in range(5):\n",
    "        for j in range(8):\n",
    "            \n",
    "            if it < len(samples):\n",
    "                sc.pl.spatial(adata_slides[samples[it]],color=var_to_plot,title=samples[it],\n",
    "                            vmin=min, vmax=max,crop_coord=sample_crop_coord[samples[it]],\n",
    "                            colorbar_loc=None, cmap='viridis', size=1.3, alpha_img=0.8, legend_loc=None,\n",
    "                            ax=axs[i,j],show=False\n",
    "                            )\n",
    "\n",
    "                axs[i,j].set_xlabel(None)\n",
    "                axs[i,j].set_ylabel(None)\n",
    "                it+=1\n",
    "            else:\n",
    "                axs[i,j].set_visible(False)\n",
    "\n",
    "    plt.tight_layout()\n",
    "\n",
    "    # create a custom axes for the colorbar\n",
    "    cax = fig.add_axes([0.66, 0.1, 0.3, 0.04])\n",
    "    # draw the colorbar on the custom axes with horizontal orientation\n",
    "    fig.colorbar(plt.cm.ScalarMappable(norm=plt.Normalize(vmin=min, vmax=max), cmap='viridis'), cax=cax, orientation='horizontal')\n",
    "    cax.set_title(var_to_plot)\n",
    "\n",
    "\n",
    "    plt.savefig('./plots/all_samples_grid/'+var_to_plot+'_on_all_spatial_sections.pdf')\n",
    "    plt.clf()\n"
   ]
  },
  {
   "cell_type": "markdown",
   "metadata": {},
   "source": [
    "### Plot predicted regions on all samples"
   ]
  },
  {
   "cell_type": "code",
   "execution_count": null,
   "metadata": {},
   "outputs": [],
   "source": [
    "import matplotlib.patches as patches\n",
    "\n",
    "regions = adata_slides[samples[5]].obs['predicted_region'].cat.categories.tolist()\n",
    "region_colors = adata_slides[samples[5]].uns['predicted_region_colors']\n",
    "\n",
    "# Create color legend\n",
    "color_dict = dict(zip(regions,region_colors))\n",
    "\n",
    "# Create an empty list to store legend handles\n",
    "legend_handles = []\n",
    "\n",
    "# Iterate over the dictionary items\n",
    "for name, color in color_dict.items():\n",
    "    # Create a colored circle patch\n",
    "    patch = patches.Patch(color=color, label=name)\n",
    "    # Add the patch to the legend handles list\n",
    "    legend_handles.append(patch)"
   ]
  },
  {
   "cell_type": "code",
   "execution_count": null,
   "metadata": {},
   "outputs": [],
   "source": [
    "\n",
    "it=0\n",
    "fig, axs = plt.subplots(5, 8, figsize=(24, 15),dpi=120)\n",
    "\n",
    "for i in range(5):\n",
    "    for j in range(8):\n",
    "        \n",
    "        if it < len(samples):\n",
    "            sc.pl.spatial(adata_slides[samples[it]],color='predicted_region',title=samples[it],\n",
    "                        crop_coord=sample_crop_coord[samples[it]],\n",
    "                        size=1.3, alpha_img=0.8, legend_loc=None,\n",
    "                        ax=axs[i,j],show=False\n",
    "                        )\n",
    "\n",
    "            axs[i,j].set_xlabel(None)\n",
    "            axs[i,j].set_ylabel(None)\n",
    "            it+=1\n",
    "        else:\n",
    "            axs[i,j].set_visible(False)\n",
    "\n",
    "plt.tight_layout()\n",
    "\n",
    "# create custom axes for the annotation legend \n",
    "cax1 = fig.add_axes([0.70, 0.03, 0.1, 0.15])\n",
    "cax2 = fig.add_axes([0.82, 0.03, 0.1, 0.15])\n",
    "\n",
    "cax1.axis('off')\n",
    "cax1.legend(handles=legend_handles[:4],loc='center',markerscale=2,fontsize='x-large')\n",
    "cax2.axis('off')\n",
    "cax2.legend(handles=legend_handles[4:],loc='center',markerscale=2,fontsize='x-large')\n",
    "\n",
    "\n",
    "plt.savefig('./plots/all_samples_grid/predicted_regions_on_all_spatial_sections.pdf')\n",
    "plt.clf()\n",
    "#plt.show()\n"
   ]
  },
  {
   "cell_type": "markdown",
   "metadata": {},
   "source": [
    "### Plot predicted regions one at a time"
   ]
  },
  {
   "cell_type": "code",
   "execution_count": null,
   "metadata": {},
   "outputs": [],
   "source": [
    "\n",
    "for region_of_interest in regions:\n",
    "    it=0\n",
    "    fig, axs = plt.subplots(5, 8, figsize=(24, 15),dpi=120)\n",
    "\n",
    "    for i in range(5):\n",
    "        for j in range(8):\n",
    "            \n",
    "            if it < len(samples):\n",
    "                slide = adata_slides[samples[it]].copy()\n",
    "                slide.obs['region_of_interest'] = np.nan\n",
    "                slide.obs.loc[slide.obs['predicted_region']==region_of_interest,'region_of_interest'] = region_of_interest\n",
    "\n",
    "                slide.uns['region_of_interest_colors'] = [color_dict[region_of_interest]]\n",
    "\n",
    "                slide.obs['region_of_interest'] = slide.obs['region_of_interest'].astype('category')\n",
    "\n",
    "                try:\n",
    "                    n_spots = slide.obs['region_of_interest'].value_counts()[region_of_interest]\n",
    "                except:\n",
    "                    n_spots=0\n",
    "\n",
    "                sc.pl.spatial(slide,color='region_of_interest',title=samples[it]+ ' ({:d})'.format(n_spots),\n",
    "                            crop_coord=sample_crop_coord[samples[it]],\n",
    "                            size=1.3, alpha_img=0.8, legend_loc=None,na_color='whitesmoke',\n",
    "                            ax=axs[i,j],show=False\n",
    "                            )\n",
    "\n",
    "                axs[i,j].set_xlabel(None)\n",
    "                axs[i,j].set_ylabel(None)\n",
    "                it+=1\n",
    "            else:\n",
    "                axs[i,j].set_visible(False)\n",
    "\n",
    "    plt.tight_layout()\n",
    "\n",
    "    # create custom axes for the annotation legend \n",
    "    cax1 = fig.add_axes([0.70, 0.03, 0.1, 0.15])\n",
    "    cax2 = fig.add_axes([0.82, 0.03, 0.1, 0.15])\n",
    "\n",
    "    cax1.axis('off')\n",
    "    cax1.legend(handles=legend_handles[:4],loc='center',markerscale=2,fontsize='x-large')\n",
    "    cax2.axis('off')\n",
    "    cax2.legend(handles=legend_handles[4:],loc='center',markerscale=2,fontsize='x-large')\n",
    "\n",
    "\n",
    "    plt.savefig('./plots/all_samples_grid/'+region_of_interest+'_region_on_all_spatial_sections.pdf')\n",
    "    plt.clf()\n",
    "    #plt.show()\n"
   ]
  },
  {
   "cell_type": "markdown",
   "metadata": {},
   "source": [
    "### Plot predicted regions one sample at a time"
   ]
  },
  {
   "cell_type": "code",
   "execution_count": 3,
   "metadata": {},
   "outputs": [
    {
     "data": {
      "text/plain": [
       "<Figure size 1440x720 with 0 Axes>"
      ]
     },
     "metadata": {},
     "output_type": "display_data"
    },
    {
     "data": {
      "text/plain": [
       "<Figure size 1440x720 with 0 Axes>"
      ]
     },
     "metadata": {},
     "output_type": "display_data"
    },
    {
     "data": {
      "text/plain": [
       "<Figure size 1440x720 with 0 Axes>"
      ]
     },
     "metadata": {},
     "output_type": "display_data"
    },
    {
     "data": {
      "text/plain": [
       "<Figure size 1440x720 with 0 Axes>"
      ]
     },
     "metadata": {},
     "output_type": "display_data"
    },
    {
     "data": {
      "text/plain": [
       "<Figure size 1440x720 with 0 Axes>"
      ]
     },
     "metadata": {},
     "output_type": "display_data"
    },
    {
     "data": {
      "text/plain": [
       "<Figure size 1440x720 with 0 Axes>"
      ]
     },
     "metadata": {},
     "output_type": "display_data"
    },
    {
     "data": {
      "text/plain": [
       "<Figure size 1440x720 with 0 Axes>"
      ]
     },
     "metadata": {},
     "output_type": "display_data"
    },
    {
     "data": {
      "text/plain": [
       "<Figure size 1440x720 with 0 Axes>"
      ]
     },
     "metadata": {},
     "output_type": "display_data"
    },
    {
     "data": {
      "text/plain": [
       "<Figure size 1440x720 with 0 Axes>"
      ]
     },
     "metadata": {},
     "output_type": "display_data"
    },
    {
     "data": {
      "text/plain": [
       "<Figure size 1440x720 with 0 Axes>"
      ]
     },
     "metadata": {},
     "output_type": "display_data"
    },
    {
     "data": {
      "text/plain": [
       "<Figure size 1440x720 with 0 Axes>"
      ]
     },
     "metadata": {},
     "output_type": "display_data"
    },
    {
     "data": {
      "text/plain": [
       "<Figure size 1440x720 with 0 Axes>"
      ]
     },
     "metadata": {},
     "output_type": "display_data"
    },
    {
     "data": {
      "text/plain": [
       "<Figure size 1440x720 with 0 Axes>"
      ]
     },
     "metadata": {},
     "output_type": "display_data"
    },
    {
     "data": {
      "text/plain": [
       "<Figure size 1440x720 with 0 Axes>"
      ]
     },
     "metadata": {},
     "output_type": "display_data"
    },
    {
     "data": {
      "text/plain": [
       "<Figure size 1440x720 with 0 Axes>"
      ]
     },
     "metadata": {},
     "output_type": "display_data"
    },
    {
     "data": {
      "text/plain": [
       "<Figure size 1440x720 with 0 Axes>"
      ]
     },
     "metadata": {},
     "output_type": "display_data"
    },
    {
     "data": {
      "text/plain": [
       "<Figure size 1440x720 with 0 Axes>"
      ]
     },
     "metadata": {},
     "output_type": "display_data"
    },
    {
     "data": {
      "text/plain": [
       "<Figure size 1440x720 with 0 Axes>"
      ]
     },
     "metadata": {},
     "output_type": "display_data"
    },
    {
     "data": {
      "text/plain": [
       "<Figure size 1440x720 with 0 Axes>"
      ]
     },
     "metadata": {},
     "output_type": "display_data"
    },
    {
     "data": {
      "text/plain": [
       "<Figure size 1440x720 with 0 Axes>"
      ]
     },
     "metadata": {},
     "output_type": "display_data"
    },
    {
     "data": {
      "text/plain": [
       "<Figure size 1440x720 with 0 Axes>"
      ]
     },
     "metadata": {},
     "output_type": "display_data"
    },
    {
     "data": {
      "text/plain": [
       "<Figure size 1440x720 with 0 Axes>"
      ]
     },
     "metadata": {},
     "output_type": "display_data"
    },
    {
     "data": {
      "text/plain": [
       "<Figure size 1440x720 with 0 Axes>"
      ]
     },
     "metadata": {},
     "output_type": "display_data"
    },
    {
     "data": {
      "text/plain": [
       "<Figure size 1440x720 with 0 Axes>"
      ]
     },
     "metadata": {},
     "output_type": "display_data"
    },
    {
     "data": {
      "text/plain": [
       "<Figure size 1440x720 with 0 Axes>"
      ]
     },
     "metadata": {},
     "output_type": "display_data"
    },
    {
     "data": {
      "text/plain": [
       "<Figure size 1440x720 with 0 Axes>"
      ]
     },
     "metadata": {},
     "output_type": "display_data"
    },
    {
     "data": {
      "text/plain": [
       "<Figure size 1440x720 with 0 Axes>"
      ]
     },
     "metadata": {},
     "output_type": "display_data"
    },
    {
     "data": {
      "text/plain": [
       "<Figure size 1440x720 with 0 Axes>"
      ]
     },
     "metadata": {},
     "output_type": "display_data"
    },
    {
     "data": {
      "text/plain": [
       "<Figure size 1440x720 with 0 Axes>"
      ]
     },
     "metadata": {},
     "output_type": "display_data"
    },
    {
     "data": {
      "text/plain": [
       "<Figure size 1440x720 with 0 Axes>"
      ]
     },
     "metadata": {},
     "output_type": "display_data"
    },
    {
     "data": {
      "text/plain": [
       "<Figure size 1440x720 with 0 Axes>"
      ]
     },
     "metadata": {},
     "output_type": "display_data"
    },
    {
     "data": {
      "text/plain": [
       "<Figure size 1440x720 with 0 Axes>"
      ]
     },
     "metadata": {},
     "output_type": "display_data"
    },
    {
     "data": {
      "text/plain": [
       "<Figure size 1440x720 with 0 Axes>"
      ]
     },
     "metadata": {},
     "output_type": "display_data"
    },
    {
     "data": {
      "text/plain": [
       "<Figure size 1440x720 with 0 Axes>"
      ]
     },
     "metadata": {},
     "output_type": "display_data"
    },
    {
     "data": {
      "text/plain": [
       "<Figure size 1440x720 with 0 Axes>"
      ]
     },
     "metadata": {},
     "output_type": "display_data"
    },
    {
     "data": {
      "text/plain": [
       "<Figure size 1440x720 with 0 Axes>"
      ]
     },
     "metadata": {},
     "output_type": "display_data"
    },
    {
     "data": {
      "text/plain": [
       "<Figure size 1440x720 with 0 Axes>"
      ]
     },
     "metadata": {},
     "output_type": "display_data"
    }
   ],
   "source": [
    "for sample in samples:\n",
    "    \n",
    "    it=0\n",
    "\n",
    "    fig, axs = plt.subplots(2, 4, figsize=(12, 6),dpi=120)\n",
    "\n",
    "    slide = adata_slides[sample].copy()\n",
    "\n",
    "    for i in range(2):\n",
    "        for j in range(4):\n",
    "        \n",
    "            region_of_interest = regions[it]\n",
    "\n",
    "            if region_of_interest in slide.obs['predicted_region'].unique():\n",
    "                \n",
    "                slide.obs['region_of_interest'] = np.nan\n",
    "\n",
    "                slide.obs.loc[slide.obs['predicted_region']==region_of_interest,'region_of_interest'] = region_of_interest\n",
    "\n",
    "                slide.uns['region_of_interest_colors'] = [color_dict[region_of_interest]]\n",
    "\n",
    "                slide.obs['region_of_interest'] = slide.obs['region_of_interest'].astype('category')\n",
    "\n",
    "            \n",
    "                n_spots = slide.obs['region_of_interest'].value_counts()[region_of_interest]\n",
    "\n",
    "                sc.pl.spatial(slide,color='region_of_interest',title=region_of_interest+ ' ({:d})'.format(n_spots),\n",
    "                        crop_coord=sample_crop_coord[sample],\n",
    "                        size=1.3, alpha_img=0.8, legend_loc=None,na_color='whitesmoke',\n",
    "                        ax=axs[i,j],show=False\n",
    "                        )\n",
    "                axs[i,j].set_xlabel(None)\n",
    "                axs[i,j].set_ylabel(None)\n",
    "\n",
    "            else:\n",
    "                axs[i,j].set_visible(False)\n",
    "            \n",
    "            it+=1\n",
    "    \n",
    "    plt.tight_layout()\n",
    "    plt.savefig('./plots/all_samples_grid/region_based/sample_specific/'+sample+'_all_regions_individually.pdf')\n",
    "    plt.clf()\n",
    "    #plt.show()\n"
   ]
  },
  {
   "cell_type": "markdown",
   "metadata": {},
   "source": [
    "## Single sample expression categorized by region (heatmap 2b)"
   ]
  },
  {
   "cell_type": "code",
   "execution_count": null,
   "metadata": {},
   "outputs": [],
   "source": [
    "adata_slides = load_from_pickle('./data/slides_with_cell_mapping_based_regions.pkl')\n"
   ]
  },
  {
   "cell_type": "code",
   "execution_count": null,
   "metadata": {},
   "outputs": [],
   "source": [
    "from scipy.stats import zscore\n",
    "\n",
    "# Specific slide or all data?\n",
    "sample = 'PC_06_04581_OIK_POST_0'\n",
    "slide = adata_slides[sample].copy()\n",
    "regions = adata_slides[samples[5]].obs['predicted_region'].cat.categories.tolist()\n",
    "region_colors = adata_slides[samples[5]].uns['predicted_region_colors']\n",
    "#slide = ad.concat(adata_slides)\n",
    "\n",
    "\n",
    "sc.tl.rank_genes_groups(slide,groupby='predicted_region',method='wilcoxon')\n",
    "\n",
    "spots_list = []\n",
    "region_spans = {}\n",
    "prev_region = ''\n",
    "\n",
    "for region in regions:\n",
    "    lst = slide.obs[slide.obs['predicted_region'] == region].index.tolist()\n",
    "    spots_list += lst\n",
    "    if prev_region != '':\n",
    "        region_spans[region] = region_spans[prev_region] + len(lst)\n",
    "    else:\n",
    "        region_spans[region] = len(lst)\n",
    "    prev_region = region\n",
    "\n",
    "region_pos = list(region_spans.values())\n"
   ]
  },
  {
   "cell_type": "code",
   "execution_count": null,
   "metadata": {},
   "outputs": [],
   "source": [
    "n_genes = 50\n",
    "gene_list = []\n",
    "row_lines = []\n",
    "\n",
    "for i in range(n_genes, n_genes*len(regions)+1, n_genes):\n",
    "    row_lines.append(i)\n",
    "\n",
    "for region in regions:\n",
    "    deg_res = sc.get.rank_genes_groups_df(slide,group=region)\n",
    "\n",
    "    deg_res = deg_res[~deg_res['names'].isin(gene_list)] # Take out genes that are already used as markers\n",
    "    deg_res = deg_res[~deg_res['names'].str.contains('RPL|RPS')] # Take out ribosomal genes\n",
    "    deg_res = deg_res[~deg_res['names'].str.startswith('MT')]\n",
    "\n",
    "    deg_res_sorted = deg_res.sort_values(['scores'],ascending=False).reset_index(drop=True)\n",
    "    gene_list += deg_res_sorted[:n_genes]['names'].tolist()\n",
    "genes_as_series = pd.Series(gene_list)\n",
    "#genes_as_series = genes_as_series[~genes_as_series.duplicated()]\n",
    "\n",
    "\n",
    "dat = slide[:,genes_as_series.tolist()].X.copy().T\n",
    "#dat = slide[:,genes_as_series.tolist()].layers['counts'].todense().T\n",
    "df_to_plot = pd.DataFrame(data=dat,columns=slide.obs_names,index=genes_as_series.tolist())[spots_list]\n",
    "\n",
    "\n",
    "df_to_plot = df_to_plot.apply(zscore,axis=1)"
   ]
  },
  {
   "cell_type": "code",
   "execution_count": null,
   "metadata": {},
   "outputs": [],
   "source": [
    "sns.set_theme(style='whitegrid')\n",
    "fig,ax = plt.subplots(figsize=(8,6))\n",
    "sns.heatmap(df_to_plot,cmap='viridis',xticklabels=False,yticklabels=False,vmin=-1, vmax=2)\n",
    "ax.vlines(region_pos,colors='white', lw=0.5, ymin=-1, ymax=df_to_plot.shape[0])\n",
    "ax.hlines(row_lines,colors='white', lw=0.5, xmin=-1, xmax=df_to_plot.shape[1])\n",
    "\n",
    "plt.savefig('./plots/'+sample+'_region_expression_heatmap.png',dpi=800)\n",
    "plt.show()"
   ]
  },
  {
   "cell_type": "code",
   "execution_count": null,
   "metadata": {},
   "outputs": [],
   "source": [
    "# Barplot of the numer of spots belonging to each region\n",
    "concat_obs = pd.DataFrame()\n",
    "for sample in samples:\n",
    "    concat_obs = pd.concat([concat_obs,adata_slides[sample].obs.copy()],axis=0)\n",
    "\n",
    "plt.figure(figsize=(3,3))\n",
    "barplot_df = concat_obs.predicted_region.value_counts().loc[regions]\n",
    "barplot_df.plot.bar(color=region_colors,width=1)\n",
    "plt.axhline(y=10000,linestyle='--',color='black',linewidth=1)\n",
    "plt.axhline(y=20000,linestyle='--',color='black',linewidth=1)\n",
    "plt.xticks(rotation=60)\n",
    "plt.savefig('./plots/region_prevalence_barplot.pdf')"
   ]
  },
  {
   "cell_type": "markdown",
   "metadata": {},
   "source": [
    "## Visualize score region enrichments and expression"
   ]
  },
  {
   "cell_type": "code",
   "execution_count": null,
   "metadata": {},
   "outputs": [],
   "source": [
    "adata_slides = load_from_pickle('./data/slides_with_cell_mapping_based_regions.pkl')"
   ]
  },
  {
   "cell_type": "markdown",
   "metadata": {},
   "source": [
    "### Looking at region proportions (% of spots belonging to a region) across treatment classes (swarmplot)"
   ]
  },
  {
   "cell_type": "code",
   "execution_count": null,
   "metadata": {},
   "outputs": [],
   "source": [
    "from scripts.utils import get_treatment_info\n",
    "treat_info = get_treatment_info()\n",
    "concat_obs = concat_adata.obs.copy()\n",
    "concat_obs['treatment'] = concat_obs['sample_id'].map(treat_info)\n",
    "\n",
    "\n",
    "def get_spot_proportions(region,sample_list=samples,slides=adata_slides,treatment_info=treat_info):\n",
    "    df = pd.DataFrame(index=samples,columns=[region + ' spots','total spots','treatment'])\n",
    "    for sample in sample_list:\n",
    "        df.loc[sample,'total spots'] = len(adata_slides[sample])\n",
    "        df.loc[sample,region + ' spots'] = len(slides[sample][slides[sample].obs['predicted_region'] == region])\n",
    "    df['proportion'] = df[region+' spots'] / df['total spots']\n",
    "    df['treatment'] = df.index.map(treatment_info)\n",
    "\n",
    "\n",
    "    df['treatment'] = df['treatment'].astype('category')    \n",
    "    df['proportion'] = df['proportion'].astype(float)\n",
    "\n",
    "    return(df)\n"
   ]
  },
  {
   "cell_type": "code",
   "execution_count": null,
   "metadata": {},
   "outputs": [],
   "source": [
    "sns.set_theme(style='whitegrid')\n",
    "order = ['bph', 'untreated', 'bicalutamide', 'goserelin']\n",
    "\n",
    "fig, axes = plt.subplots(nrows=2, ncols=4, figsize=(16,8))\n",
    "\n",
    "for i, region in enumerate(regions):\n",
    "    row = i // 4\n",
    "    col = i % 4\n",
    "    ax = axes[row][col]\n",
    "\n",
    "    df = get_spot_proportions(region)\n",
    "\n",
    "    sns.stripplot(x=\"treatment\", y=\"proportion\", order = order, data=df, size=4, color=\".7\",ax=ax)\n",
    "    sns.boxplot(showmeans=True,\n",
    "            meanline=True,\n",
    "            meanprops={'color': 'k', 'ls': '-', 'lw': 2},\n",
    "            medianprops={'visible': False},\n",
    "            whiskerprops={'visible': False},\n",
    "            zorder=10,\n",
    "            x=\"treatment\",\n",
    "            y=\"proportion\",\n",
    "            data=df,\n",
    "            order = order,\n",
    "            showfliers=False,\n",
    "            showbox=False,\n",
    "            showcaps=False,\n",
    "            ax=ax)\n",
    "    ax.set_ylim(0,1)\n",
    "    ax.set_title(region)\n",
    "    ax.set_xticklabels(ax.get_xticklabels(),rotation=15)\n",
    "\n",
    "plt.tight_layout()\n",
    "plt.show()"
   ]
  },
  {
   "cell_type": "code",
   "execution_count": null,
   "metadata": {},
   "outputs": [],
   "source": [
    "from scipy.stats import ttest_ind\n",
    "\n",
    "for reg in regions:\n",
    "    df = get_spot_proportions(reg)\n",
    "\n",
    "    vec1 = df[df['treatment']=='untreated']['proportion']\n",
    "    vec2 = df[(df['treatment']=='bicalutamide') | (df['treatment']=='goserelin')]['proportion']\n",
    "    stat, pval = ttest_ind(vec1, vec2)\n",
    "    print(reg + ' proportion in untreated vs treated: {:.2e}'.format(pval))"
   ]
  },
  {
   "cell_type": "markdown",
   "metadata": {},
   "source": [
    "### Looking at the marker genes of a specific region independently one sample at a time (heatmap 2d)"
   ]
  },
  {
   "cell_type": "code",
   "execution_count": null,
   "metadata": {},
   "outputs": [],
   "source": [
    "# Calculate DEGs between regions individually in samples\n",
    "# This takes several minutes with method='wilcoxon',\n",
    "# About a minute with method='t-test'\n",
    "for sample in samples:\n",
    "\n",
    "    slide = adata_slides[sample]#.copy()\n",
    "\n",
    "    # Remove a group if it has less than 10 spots in it\n",
    "    val_counts = slide.obs['predicted_region'].value_counts()\n",
    "    category_groups = val_counts[~(val_counts < 10)].index.tolist()\n",
    "\n",
    "    sc.tl.rank_genes_groups(slide,groupby='predicted_region', method='wilcoxon',groups=category_groups,random_state=25813063)\n"
   ]
  },
  {
   "cell_type": "code",
   "execution_count": null,
   "metadata": {},
   "outputs": [],
   "source": []
  },
  {
   "cell_type": "code",
   "execution_count": null,
   "metadata": {},
   "outputs": [],
   "source": [
    "# Select a region, perform DEG between this region and all others\n",
    "# Take the 50 top genes defining this region and add them to a dataframe\n",
    "region = 'Lymphocyte'\n",
    "n_top = 20\n",
    "\n",
    "deg_res_all = pd.DataFrame()\n",
    "\n",
    "for sample in samples:\n",
    "\n",
    "    slide = adata_slides[sample]\n",
    "\n",
    "    try:\n",
    "        deg_res = sc.get.rank_genes_groups_df(slide,group=region)\n",
    "\n",
    "        deg_res = deg_res[~deg_res['names'].str.contains('RPL|RPS')] # Take out ribosomal genes\n",
    "        deg_res = deg_res[~deg_res['names'].str.startswith('MT')]\n",
    "        deg_res['sample'] = sample\n",
    "\n",
    "        deg_res = deg_res[(deg_res['pvals_adj']<0.05) & (deg_res['logfoldchanges']>=1)].reset_index(drop=True)\n",
    "        deg_res_all = pd.concat([deg_res_all,deg_res],axis=0)\n",
    "    except:\n",
    "        continue\n",
    "\n",
    "deg_res_all['names'].value_counts()[:20]"
   ]
  },
  {
   "cell_type": "code",
   "execution_count": null,
   "metadata": {},
   "outputs": [],
   "source": [
    "from scripts.utils import get_sample_id_mask\n",
    "masked_sample_ids = get_sample_id_mask()\n",
    "\n",
    "# Take a region one at a time, extract DEG results, save into a list\n",
    "\n",
    "region_degs_dict = {}\n",
    "for region in regions:\n",
    "    deg_res_all = pd.DataFrame()\n",
    "\n",
    "    for sample in samples:\n",
    "\n",
    "        slide = adata_slides[sample]\n",
    "\n",
    "        try:\n",
    "            deg_res = sc.get.rank_genes_groups_df(slide,group=region)\n",
    "\n",
    "            deg_res = deg_res[~deg_res['names'].str.contains('RPL|RPS')] # Take out ribosomal genes\n",
    "            deg_res = deg_res[~deg_res['names'].str.startswith('MT')]\n",
    "            deg_res['sample'] = masked_sample_ids[sample]\n",
    "            deg_res = deg_res[(deg_res['pvals_adj']<0.05) & (deg_res['logfoldchanges']>=1)].reset_index(drop=True)\n",
    "\n",
    "\n",
    "            deg_res_all = pd.concat([deg_res_all,deg_res],axis=0)\n",
    "        except:\n",
    "            continue\n",
    "\n",
    "    region_degs_dict[region] = deg_res_all\n"
   ]
  },
  {
   "cell_type": "code",
   "execution_count": null,
   "metadata": {},
   "outputs": [],
   "source": [
    "# Save the results into an excel-file\n",
    "\n",
    "# Create a Pandas Excel writer using the file name\n",
    "writer = pd.ExcelWriter('./supplementary_tables/supp_table_3.xlsx', engine='xlsxwriter')\n",
    "\n",
    "# Iterate through each key-value pair in the dictionary\n",
    "for key, value in region_degs_dict.items():\n",
    "    # Write each dataframe to a separate sheet in the Excel file\n",
    "    value.to_excel(writer, sheet_name=key)\n",
    "\n",
    "# Save and close the Excel writer\n",
    "writer.save()\n"
   ]
  },
  {
   "cell_type": "code",
   "execution_count": null,
   "metadata": {},
   "outputs": [],
   "source": [
    "marker_genes_for_hmap = ['PRAC1','PCAT14','GDF15','FOLH1','GOLM1', # Tumor\n",
    "                         'MSMB','ACPP','RDH11','NKX3-1','AZGP1', # Luminal\n",
    "                         'KRT5','KRT15','TRIM29','SLC14A1','TP63', # Basal \n",
    "                         'MMP7','PIGR','LTF','CP','KRT7', # Intermediate\n",
    "                         'CXCR4','TRBC1','TRBC2','PTPRC','CD52', # Lymphocyte\n",
    "                         'EPAS1','EMP1','VWF','PECAM1','IFI27', # Endothelium\n",
    "                         'DCN','LUM','FBLN1','COL1A2','SERPINF1', # Fibroblast\n",
    "                         'TAGLN','ACTA2','ACTG2','MYH11','MYL9' # Muscle\n",
    "                         ]"
   ]
  },
  {
   "cell_type": "code",
   "execution_count": null,
   "metadata": {},
   "outputs": [],
   "source": [
    "# Extract the number of samples each gene is a DEG in, save to df\n",
    "\n",
    "plot_df = pd.DataFrame(index=regions,columns=marker_genes_for_hmap,dtype=int)\n",
    "\n",
    "for gene in marker_genes_for_hmap:\n",
    "    for region in regions:\n",
    " \n",
    "        region_degs = region_degs_dict[region].copy()\n",
    "\n",
    "        region_deg_val_counts = region_degs['names'].value_counts()\n",
    "\n",
    "        if gene not in region_deg_val_counts.index:\n",
    "            plot_df.loc[region,gene] = 0\n",
    "        else:\n",
    "            plot_df.loc[region,gene] = region_deg_val_counts.loc[gene]\n",
    "            \n",
    "fig,ax = plt.subplots(figsize=(15,5))\n",
    "sns.heatmap(plot_df,square=True,cmap='Reds',annot=False,vmax=len(samples),ax=ax)\n",
    "plt.savefig('./plots/all_samples_tissue_region_marker_genes.pdf')\n"
   ]
  },
  {
   "cell_type": "code",
   "execution_count": null,
   "metadata": {},
   "outputs": [],
   "source": [
    "plot_df.to_excel('./source_data/figure_2d.xlsx',engine='xlsxwriter')"
   ]
  },
  {
   "cell_type": "markdown",
   "metadata": {},
   "source": [
    "### Plot expresison violins for multiple markers in multiple regions (alternative violinplot 2d)"
   ]
  },
  {
   "cell_type": "code",
   "execution_count": null,
   "metadata": {},
   "outputs": [],
   "source": [
    "# Get the top n genes for each region and save them into a list\n",
    "\n",
    "gene_list = []\n",
    "n_genes = 10\n",
    "\n",
    "for region in regions:\n",
    "    deg_res = sc.get.rank_genes_groups_df(concat_adata,group=region)\n",
    "\n",
    "    #deg_res = deg_res[~deg_res['names'].isin(gene_list)] # Take out genes that are already used as markers\n",
    "    deg_res = deg_res[~deg_res['names'].str.contains('RPL|RPS')] # Take out ribosomal genes\n",
    "    deg_res = deg_res[~deg_res['names'].str.startswith('MT')]\n",
    "\n",
    "    deg_res_sorted = deg_res.sort_values(['scores'],ascending=False).reset_index(drop=True)\n",
    "    #deg_res_sorted = deg_res.sort_values(['logfoldchanges'],ascending=False)[deg_res['pvals_adj']<0.05].reset_index(drop=True)\n",
    "    gene_list += deg_res_sorted[:n_genes]['names'].tolist()\n",
    "\n",
    "origin = [item for sublist in [np.repeat(region,n_genes).tolist() for region in regions] for item in sublist]\n",
    "genes_df = pd.DataFrame(gene_list,origin,columns=['gene'])\n"
   ]
  },
  {
   "cell_type": "code",
   "execution_count": null,
   "metadata": {},
   "outputs": [],
   "source": [
    "sns.set_theme(style='whitegrid')\n",
    "for region in regions:\n",
    "    gene_list = genes_df.loc[region]['gene']\n",
    "    fig, axs = plt.subplots(nrows=2, ncols=5, figsize=(24, 6))\n",
    "\n",
    "    for i, gene in enumerate(gene_list):\n",
    "        row = i // 5\n",
    "        col = i % 5\n",
    "        ax = axs[row, col]\n",
    "        sc.pl.violin(concat_adata, keys=gene, groupby='predicted_region', order=regions, rotation=20, jitter=False, inner='box', ax=ax,show=False, use_raw=True)#,layer='counts')\n",
    "        ax.set_ylim(0, 6)\n",
    "        \n",
    "    plt.tight_layout()\n",
    "    #plt.show()\n",
    "    plt.savefig('./plots/gene_violins/'+region + '_top_genes_violin_plots.png',dpi=120)\n",
    "    plt.clf()\n"
   ]
  },
  {
   "cell_type": "code",
   "execution_count": null,
   "metadata": {},
   "outputs": [],
   "source": [
    "concat_adata = ad.concat(adata_slides,join='outer')"
   ]
  },
  {
   "cell_type": "code",
   "execution_count": null,
   "metadata": {},
   "outputs": [],
   "source": [
    "concat_adata.uns['predicted_region_colors'] = region_colors\n",
    "concat_adata.obs['predicted_region'] = concat_adata.obs['predicted_region'].cat.set_categories(regions)\n",
    "\n",
    "# This list of genes is from \n",
    "custom_gene_list = ['RACK1','PRAC1','EEF2', # Tumor\n",
    "                    'MSMB','KLK2','ACPP', # Luminal\n",
    "                    'KRT5','KRT15','TP63', # Basal\n",
    "                    'LTF','ANXA2','KRT19', # Intermed\n",
    "                    'CD74','HLA-DRA','TRBC2', # Lymphocyte\n",
    "                    'VWF','IFI27','A2M', # Endothelium\n",
    "                    'DCN','LUM','FBLN1', # Fibroblast\n",
    "                    'MYL9','ACTA2','TPM2'] # Muscle"
   ]
  },
  {
   "cell_type": "code",
   "execution_count": null,
   "metadata": {},
   "outputs": [],
   "source": [
    "sns.set_theme(style='whitegrid')\n",
    "\n",
    "fig, axs = plt.subplots(nrows=3, ncols=8, figsize=(24, 6))\n",
    "\n",
    "for i, gene in enumerate(custom_gene_list):\n",
    "    col = i // 3\n",
    "    row = i % 3\n",
    "    ax = axs[row, col]\n",
    "    sc.pl.violin(concat_adata, keys=gene, groupby='predicted_region', order=regions, jitter=False, inner='box', ax=ax,show=False, use_raw=True)#,layer='counts')\n",
    "    ax.set_ylim(0, 6)\n",
    "    \n",
    "plt.tight_layout()\n",
    "#plt.savefig('./plots/gene_violins/custom_genes_of_interest_top_genes_violin_plots.pdf')\n",
    "plt.savefig('./plots/gene_violins/custom_genes_of_interest_top_genes_violin_plots.png',dpi=600)\n",
    "plt.clf()\n"
   ]
  },
  {
   "cell_type": "markdown",
   "metadata": {},
   "source": [
    "## Visualize score enrichments in regions (violin plots)"
   ]
  },
  {
   "cell_type": "code",
   "execution_count": null,
   "metadata": {},
   "outputs": [],
   "source": [
    "gene_set_df = pd.read_csv('./custom_gene_lists_encode_fixed.gmt',sep='\\t',index_col=0,header=None).T\n",
    "adata_slides = load_from_pickle('./data/slides_with_cell_mapping_based_regions.pkl')\n",
    "sample_crop_coord=get_sample_crop_coords()\n",
    "scanpy_res = load_from_pickle('./data/spatial_scanpy_score_results.pkl')"
   ]
  },
  {
   "cell_type": "code",
   "execution_count": null,
   "metadata": {},
   "outputs": [],
   "source": [
    "# Concatenate the scoring results into a single anndata\n",
    "for sample in samples:\n",
    "    slide = adata_slides[sample]\n",
    "    slide.obs  = pd.concat([slide.obs,scanpy_res[sample]],axis=1)\n",
    "\n",
    "df = pd.DataFrame() # Create empty dataframe for obs\n",
    "for sample in samples:\n",
    "    df = pd.concat([df,adata_slides[sample].obs.copy()],axis=0)\n",
    "\n",
    "# You could take whichever sample, just get the region order    \n",
    "regions = adata_slides[samples[10]].obs['predicted_region'].cat.categories.tolist() \n",
    "df['predicted_region'] = df['predicted_region'].astype('category').cat.set_categories(regions)"
   ]
  },
  {
   "cell_type": "markdown",
   "metadata": {},
   "source": [
    "### Plot the aggragated regions "
   ]
  },
  {
   "cell_type": "code",
   "execution_count": null,
   "metadata": {},
   "outputs": [],
   "source": [
    "from scipy.stats import ttest_1samp\n",
    "sns.set_theme(style='whitegrid')\n",
    "sns.set_palette(region_colors)\n",
    "\n",
    "# Rename regions in the data\n",
    "replace_dict = {'Interferon signaling epithelium':'Intermediate epithelium','Lymphocyte':'Immune'}\n",
    "for i,r in enumerate(regions):\n",
    "    if r in replace_dict.keys():\n",
    "        regions[i] = replace_dict[r]\n",
    "\n",
    "n_rows = len(gene_set_df.columns)\n",
    "\n",
    "fig, axs = plt.subplots(n_rows, 1, figsize=(10, 4*n_rows), dpi=120)\n",
    "\n",
    "# Loop over each category and plot on a separate subplot\n",
    "for i, col in enumerate(gene_set_df.columns):\n",
    "\n",
    "    df_to_plot = df[['sample_id',col,'predicted_region']]\n",
    "\n",
    "    # RENAMING CATEGORIES\n",
    "    df_to_plot['predicted_region'] = df_to_plot['predicted_region'].replace(replace_dict)\n",
    "    \n",
    "    ax = axs[i]\n",
    "\n",
    "    # Plot quantile lines to keep track of how the score behaves\n",
    "\n",
    "    score_median = df_to_plot[col].quantile(0.5)\n",
    "\n",
    "    ax.axhline(score_median, linestyle='--', color='black') \n",
    "\n",
    "    sns.violinplot(data=df_to_plot, x='predicted_region', y=col,ax=ax)\n",
    "    ax.set(ylim=(-0.5, 1.5))\n",
    "    \n",
    "    for idx,reg in enumerate(regions):\n",
    "\n",
    "        reg_scores = df_to_plot[df_to_plot['predicted_region']==reg][col]\n",
    "\n",
    "        if ttest_1samp(reg_scores,0,axis=None,alternative='greater')[1] <0.01:\n",
    "\n",
    "            t_stat, p_val = ttest_1samp(reg_scores,score_median,axis=None,alternative='greater')\n",
    "\n",
    "            ## Make p-value and magnitude requirements\n",
    "            if p_val<0.01 and ((score_median < reg_scores.quantile(0.05))):\n",
    "                asterisks = '***'\n",
    "            elif p_val<0.01 and ((score_median < reg_scores.quantile(0.15))):\n",
    "                asterisks = '**'\n",
    "            elif p_val<0.01 and ((score_median < reg_scores.quantile(0.25))):\n",
    "                asterisks = '*'\n",
    "            else:\n",
    "                asterisks = ''\n",
    "                \n",
    "            ax.text(idx, 1.55, asterisks, fontsize=20,ha='center', va='center')\n",
    "            \n",
    "            #print(reg + ' t-test p-value: {:.2e}'.format(p_val))\n",
    "\n",
    "    ax.set_xticklabels(ax.get_xticklabels(), rotation=15)\n",
    "    ax.legend(loc='lower right')\n",
    "    \n",
    "plt.tight_layout()\n",
    "plt.savefig('./plots/score_violins/scanpy_scores_by_region_enrichment.pdf')\n",
    "plt.clf()\n",
    "#plt.show()"
   ]
  },
  {
   "cell_type": "markdown",
   "metadata": {},
   "source": [
    "## Visualize score differences prior to and after treatment (violin plots)"
   ]
  },
  {
   "cell_type": "code",
   "execution_count": null,
   "metadata": {},
   "outputs": [],
   "source": [
    "gene_set_df = pd.read_csv('./custom_gene_lists_encode_fixed.gmt',sep='\\t',index_col=0,header=None).T\n",
    "adata_slides = load_from_pickle('./data/slides_with_cell_mapping_based_regions.pkl')\n",
    "sample_crop_coord=get_sample_crop_coords()\n",
    "scanpy_res = load_from_pickle('./data/spatial_scanpy_score_results.pkl')"
   ]
  },
  {
   "cell_type": "code",
   "execution_count": null,
   "metadata": {},
   "outputs": [],
   "source": [
    "# Concatenate the scoring results into a single anndata\n",
    "for sample in samples:\n",
    "    slide = adata_slides[sample]\n",
    "    slide.obs  = pd.concat([slide.obs,scanpy_res[sample]],axis=1)\n",
    "\n",
    "df = pd.DataFrame() # Create empty dataframe for obs\n",
    "for sample in samples:\n",
    "    df = pd.concat([df,adata_slides[sample].obs.copy()],axis=0)\n",
    "\n",
    "# You could take whichever sample, just get the region order    \n",
    "regions = adata_slides[samples[10]].obs['predicted_region'].cat.categories.tolist() \n",
    "df['predicted_region'] = df['predicted_region'].astype('category').cat.set_categories(regions)"
   ]
  },
  {
   "cell_type": "code",
   "execution_count": null,
   "metadata": {},
   "outputs": [],
   "source": [
    "from scripts.utils import get_treatment_info\n",
    "treat_info = get_treatment_info()\n",
    "pca_samples = []\n",
    "for k in treat_info:\n",
    "    if treat_info[k] == 'untreated':\n",
    "        pca_samples.append(k)\n",
    "\n",
    "for k in treat_info:\n",
    "    if treat_info[k] == 'bicalutamide':\n",
    "        pca_samples.append(k)        \n",
    "\n",
    "for k in treat_info:\n",
    "    if treat_info[k] == 'goserelin':\n",
    "        pca_samples.append(k)        \n",
    "\n",
    "df['treatment'] = df['sample_id'].map(treat_info)"
   ]
  },
  {
   "cell_type": "markdown",
   "metadata": {},
   "source": [
    "### Plot the aggragated regions according to treatment class"
   ]
  },
  {
   "cell_type": "code",
   "execution_count": null,
   "metadata": {},
   "outputs": [],
   "source": [
    "from scipy.stats import ttest_ind\n",
    "sns.set_theme(style='whitegrid')\n",
    "\n",
    "# Rename regions in the data\n",
    "replace_dict = {'Interferon signaling epithelium':'Intermediate epithelium','Lymphocyte':'Immune'}\n",
    "for i,r in enumerate(regions):\n",
    "    if r in replace_dict.keys():\n",
    "        regions[i] = replace_dict[r]\n",
    "\n",
    "n_rows = len(gene_set_df.columns)\n",
    "\n",
    "fig, axs = plt.subplots(n_rows, 1, figsize=(12, 4*n_rows), dpi=120)\n",
    "\n",
    "# Loop over each category and plot on a separate subplot\n",
    "for i, col in enumerate(gene_set_df.columns):\n",
    "\n",
    "    df_to_plot = df[['sample_id',col,'treatment','predicted_region']][df['sample_id'].isin(pca_samples)]\n",
    "\n",
    "    df_to_plot['sample_id'] = df_to_plot['sample_id'].astype('category').cat.set_categories(pca_samples)\n",
    "\n",
    "    df_to_plot['treatment'] = df_to_plot['treatment'].replace(['bicalutamide', 'goserelin'], 'treated')\n",
    "\n",
    "    # RENAMING CATEGORIES\n",
    "    df_to_plot['predicted_region'] = df_to_plot['predicted_region'].replace(replace_dict)\n",
    "    \n",
    "    ax = axs[i]\n",
    "\n",
    "    # Plot quantile lines to keep track of how the score behaves\n",
    "    ax.axhline(df_to_plot[df_to_plot['treatment']=='untreated'][col].quantile(0.9), linestyle='--', color=sns.color_palette()[0]) \n",
    "    ax.axhline(df_to_plot[df_to_plot['treatment']=='treated'][col].quantile(0.9), linestyle='--', color=sns.color_palette()[1]) \n",
    "\n",
    "    ax = sns.violinplot(data=df_to_plot, x='predicted_region', y=col, hue='treatment',ax=ax)\n",
    "    ax.set(ylim=(-0.5, 1.5))\n",
    "\n",
    "    for idx,reg in enumerate(regions):\n",
    "\n",
    "        groups = [group[col] for name, group in df_to_plot[df_to_plot['predicted_region']==reg].groupby('treatment')]\n",
    "        f_stat, p_val = ttest_ind(*groups)\n",
    "\n",
    "        ## Make p-value and magnitude requirements\n",
    "        if p_val<0.01 and ((groups[0].quantile(0.50) > groups[1].quantile(0.95)) or (groups[0].quantile(0.50) < groups[1].quantile(0.05))):\n",
    "            asterisks = '***'\n",
    "        elif p_val<0.01 and ((groups[0].quantile(0.50) > groups[1].quantile(0.85)) or (groups[0].quantile(0.50) < groups[1].quantile(0.15))):\n",
    "            asterisks = '**'\n",
    "        elif p_val<0.01 and ((groups[0].quantile(0.50) > groups[1].quantile(0.75)) or (groups[0].quantile(0.50) < groups[1].quantile(0.25))):\n",
    "            asterisks = '*'\n",
    "        else:\n",
    "            asterisks = ''\n",
    "            \n",
    "        ax.text(idx, 1.55, asterisks, fontsize=20,ha='center', va='center')\n",
    "        \n",
    "        #print(reg + ' t-test p-value: {:.2e}'.format(p_val))\n",
    "\n",
    "    ax.set_xticklabels(ax.get_xticklabels(), rotation=10)\n",
    "    ax.legend(loc='lower right')\n",
    "    \n",
    "plt.tight_layout()\n",
    "plt.savefig('./plots/score_violins/scanpy_scores_by_regions_PCa_treatment.pdf')\n",
    "plt.clf()\n",
    "#plt.show()"
   ]
  },
  {
   "cell_type": "markdown",
   "metadata": {},
   "source": [
    "## Visualize gene overlap between gene lists and samples (QC to determine the scoring validity)"
   ]
  },
  {
   "cell_type": "code",
   "execution_count": null,
   "metadata": {},
   "outputs": [],
   "source": [
    "gene_set_df = pd.read_csv('./custom_gene_lists_encode_fixed.gmt',sep='\\t',index_col=0,header=None).T"
   ]
  },
  {
   "cell_type": "code",
   "execution_count": null,
   "metadata": {},
   "outputs": [],
   "source": [
    "intersections = pd.DataFrame(index=samples,columns=gene_set_df.columns)\n",
    "for sample in samples:\n",
    "    for col in gene_set_df.columns:\n",
    "        size = len(set(adata_slides[sample].var_names).intersection(set(gene_set_df[col])))\n",
    "        intersections.loc[sample,col] = size\n",
    "for col in gene_set_df.columns:\n",
    "    n_genes = intersections[col].max()\n",
    "    intersections[col] = intersections[col]/intersections[col].max()\n",
    "    intersections[col] = intersections[col].astype(float)\n",
    "    intersections = intersections.rename(columns={col:col + ' ('+str(n_genes)+')'})\n",
    "    "
   ]
  },
  {
   "cell_type": "code",
   "execution_count": null,
   "metadata": {},
   "outputs": [],
   "source": [
    "fig,ax = plt.subplots(figsize=(10,10))\n",
    "sns.heatmap(intersections, cmap='bwr',square=True,ax=ax,vmax=1.1)\n",
    "plt.title('Proportion of maximum number of genes (in columns) used to score each sample \\n on each custom gene list')"
   ]
  },
  {
   "cell_type": "code",
   "execution_count": null,
   "metadata": {},
   "outputs": [],
   "source": [
    "# Mean number of counts \n",
    "mean_n_counts = pd.DataFrame(index=samples,columns=gene_set_df.columns)\n",
    "for sample in samples:\n",
    "    for col in gene_set_df.columns:\n",
    "        genes = list(set(adata_slides[sample].var_names).intersection(set(gene_set_df[col])))\n",
    "        mean = adata_slides[sample][:,genes].layers['counts'].mean()\n",
    "        mean_n_counts.loc[sample,col] = mean\n",
    "\n",
    "for col in mean_n_counts.columns:\n",
    "    mean_n_counts[col] = mean_n_counts[col].astype(float)\n",
    "    mean_n_counts = mean_n_counts.rename(columns={col:col + ' ({:.1e})'.format(mean_n_counts[col].mean())})"
   ]
  },
  {
   "cell_type": "code",
   "execution_count": null,
   "metadata": {},
   "outputs": [],
   "source": [
    "sns.clustermap(mean_n_counts, z_score=1, cmap='bwr',square=True,figsize=(12,12))\n",
    "plt.title('Z-score (column) of mean counts for genes in each set in each sample')"
   ]
  },
  {
   "cell_type": "code",
   "execution_count": null,
   "metadata": {},
   "outputs": [],
   "source": [
    "for i,col in enumerate(gene_set_df.columns):\n",
    "    mean_n_counts = mean_n_counts.rename(columns={mean_n_counts.columns[i]:col})"
   ]
  },
  {
   "cell_type": "code",
   "execution_count": null,
   "metadata": {},
   "outputs": [],
   "source": [
    "print('Mean of raw counts of each gene set')\n",
    "print(mean_n_counts.mean().sort_values())"
   ]
  },
  {
   "cell_type": "code",
   "execution_count": null,
   "metadata": {},
   "outputs": [],
   "source": [
    "gene_sets = pd.read_csv('./custom_gene_lists_encode_fixed.gmt',sep='\\t',index_col=0,header=None).index.tolist()\n",
    "adata_slides = load_from_pickle('./data/slides_with_cell_mapping_based_regions.pkl')\n",
    "sample_crop_coord=get_sample_crop_coords()\n",
    "gsea_res = load_from_pickle('./data/spatial_ssgsea_results.pkl')\n",
    "len(gsea_res)"
   ]
  },
  {
   "cell_type": "code",
   "execution_count": null,
   "metadata": {},
   "outputs": [],
   "source": [
    "nes_list = []\n",
    "# Add the ssgsea enrichment scores to slide obs columns\n",
    "for sample in samples:\n",
    "    nes_T = gsea_res[sample].pivot(index='Term', columns='Name', values='NES').T\n",
    "\n",
    "    # Check if all elements in gene_sets are columns in df\n",
    "    missing_cols = set(gene_sets) - set(nes_T.columns)\n",
    "\n",
    "    # Add missing columns to df with np.nan values\n",
    "    for col in missing_cols:\n",
    "        nes_T[col] = np.nan\n",
    "    \n",
    "    nes_T = nes_T[gene_sets].astype(float)\n",
    "    nes_list.append(nes_T)\n",
    "df = pd.concat(nes_list,axis=0)"
   ]
  },
  {
   "cell_type": "code",
   "execution_count": null,
   "metadata": {},
   "outputs": [],
   "source": [
    "sns.set_theme(style='whitegrid')\n",
    "sample = samples[10]\n",
    "df_to_plot = df_tumor[df_tumor['sample_id']==sample][gene_set_df.columns]\n",
    "fig, ax = plt.subplots(figsize=(30,5))\n",
    "sns.violinplot(data=df_to_plot)\n"
   ]
  },
  {
   "cell_type": "code",
   "execution_count": null,
   "metadata": {},
   "outputs": [],
   "source": [
    "gene_sets = pd.read_csv('./custom_gene_lists_encode_fixed.gmt',sep='\\t',index_col=0,header=None).index.tolist()\n",
    "adata_slides = load_from_pickle('./data/slides_with_cell_mapping_based_regions.pkl')\n",
    "sample_crop_coord=get_sample_crop_coords()\n",
    "gsea_res = load_from_pickle('./data/spatial_ssgsea_results.pkl')\n",
    "len(gsea_res)"
   ]
  },
  {
   "cell_type": "code",
   "execution_count": null,
   "metadata": {},
   "outputs": [],
   "source": [
    "nes_list = []\n",
    "# Add the ssgsea enrichment scores to slide obs columns\n",
    "for sample in samples:\n",
    "    nes_T = gsea_res[sample].pivot(index='Term', columns='Name', values='NES').T\n",
    "\n",
    "    # Check if all elements in gene_sets are columns in df\n",
    "    missing_cols = set(gene_sets) - set(nes_T.columns)\n",
    "\n",
    "    # Add missing columns to df with np.nan values\n",
    "    for col in missing_cols:\n",
    "        nes_T[col] = np.nan\n",
    "    \n",
    "    nes_T = nes_T[gene_sets].astype(float)\n",
    "    nes_list.append(nes_T)\n",
    "df = pd.concat(nes_list,axis=0)"
   ]
  }
 ],
 "metadata": {
  "kernelspec": {
   "display_name": "squidpy",
   "language": "python",
   "name": "python3"
  },
  "language_info": {
   "codemirror_mode": {
    "name": "ipython",
    "version": 3
   },
   "file_extension": ".py",
   "mimetype": "text/x-python",
   "name": "python",
   "nbconvert_exporter": "python",
   "pygments_lexer": "ipython3",
   "version": "3.8.15"
  },
  "orig_nbformat": 4
 },
 "nbformat": 4,
 "nbformat_minor": 2
}
